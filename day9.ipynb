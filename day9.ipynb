{
 "cells": [
  {
   "cell_type": "markdown",
   "metadata": {},
   "source": [
    "# Day 8"
   ]
  },
  {
   "cell_type": "markdown",
   "metadata": {},
   "source": [
    "## Imports"
   ]
  },
  {
   "cell_type": "code",
   "execution_count": 1,
   "metadata": {
    "ExecuteTime": {
     "end_time": "2020-12-09T05:00:07.421590Z",
     "start_time": "2020-12-09T05:00:07.248337Z"
    }
   },
   "outputs": [],
   "source": [
    "from aocd.models import Puzzle\n",
    "import copy"
   ]
  },
  {
   "cell_type": "markdown",
   "metadata": {},
   "source": [
    "## Inputs"
   ]
  },
  {
   "cell_type": "code",
   "execution_count": 2,
   "metadata": {
    "ExecuteTime": {
     "end_time": "2020-12-09T05:00:08.489736Z",
     "start_time": "2020-12-09T05:00:08.093559Z"
    }
   },
   "outputs": [
    {
     "data": {
      "text/plain": [
       "<Puzzle(2020, 9) at 0x7f08f9adb190 - Encoding Error>"
      ]
     },
     "execution_count": 2,
     "metadata": {},
     "output_type": "execute_result"
    }
   ],
   "source": [
    "puzzle = Puzzle(year=2020, day=9)\n",
    "puzzle"
   ]
  },
  {
   "cell_type": "code",
   "execution_count": 3,
   "metadata": {
    "ExecuteTime": {
     "end_time": "2020-12-09T05:00:09.003410Z",
     "start_time": "2020-12-09T05:00:08.611918Z"
    }
   },
   "outputs": [
    {
     "data": {
      "text/plain": [
       "'9\\n1\\n39\\n30\\n43\\n2\\n41\\n50\\n36\\n21\\n8\\n37\\n16\\n13\\n18\\n4\\n40\\n33\\n2'"
      ]
     },
     "execution_count": 3,
     "metadata": {},
     "output_type": "execute_result"
    }
   ],
   "source": [
    "idata = puzzle.input_data\n",
    "idata[:50]"
   ]
  },
  {
   "cell_type": "markdown",
   "metadata": {},
   "source": [
    "## Part 1"
   ]
  },
  {
   "cell_type": "code",
   "execution_count": 4,
   "metadata": {
    "ExecuteTime": {
     "end_time": "2020-12-09T05:00:09.771102Z",
     "start_time": "2020-12-09T05:00:09.768351Z"
    }
   },
   "outputs": [],
   "source": [
    "data = idata.split(\"\\n\")"
   ]
  },
  {
   "cell_type": "code",
   "execution_count": 7,
   "metadata": {
    "ExecuteTime": {
     "end_time": "2020-12-09T05:00:49.798800Z",
     "start_time": "2020-12-09T05:00:49.795880Z"
    }
   },
   "outputs": [],
   "source": [
    "idata = [int(i) for i in data]"
   ]
  },
  {
   "cell_type": "code",
   "execution_count": 8,
   "metadata": {
    "ExecuteTime": {
     "end_time": "2020-12-09T05:01:10.727502Z",
     "start_time": "2020-12-09T05:01:10.725306Z"
    }
   },
   "outputs": [
    {
     "data": {
      "text/plain": [
       "1000"
      ]
     },
     "execution_count": 8,
     "metadata": {},
     "output_type": "execute_result"
    }
   ],
   "source": [
    "len(idata)"
   ]
  },
  {
   "cell_type": "code",
   "execution_count": 16,
   "metadata": {
    "ExecuteTime": {
     "end_time": "2020-12-09T05:07:33.813449Z",
     "start_time": "2020-12-09T05:07:33.810576Z"
    }
   },
   "outputs": [],
   "source": [
    "def find_sum(target, options):\n",
    "    outer_found = False\n",
    "    for j in options:\n",
    "        found = False\n",
    "        for k in options:\n",
    "            if j + k == target:\n",
    "                found = True\n",
    "                break\n",
    "        if found:\n",
    "            outer_found = True\n",
    "            break\n",
    "            \n",
    "    return outer_found"
   ]
  },
  {
   "cell_type": "code",
   "execution_count": 17,
   "metadata": {
    "ExecuteTime": {
     "end_time": "2020-12-09T05:07:45.736478Z",
     "start_time": "2020-12-09T05:07:34.433720Z"
    }
   },
   "outputs": [],
   "source": [
    "not_found = []\n",
    "for i in range(25, len(idata)):\n",
    "    target = idata[i]\n",
    "    found = find_sum(target, idata[:i])\n",
    "    if not found:\n",
    "        not_found.append([i, idata[i]])"
   ]
  },
  {
   "cell_type": "code",
   "execution_count": 18,
   "metadata": {
    "ExecuteTime": {
     "end_time": "2020-12-09T05:07:45.740424Z",
     "start_time": "2020-12-09T05:07:45.737561Z"
    }
   },
   "outputs": [
    {
     "data": {
      "text/plain": [
       "[659, 1492208709]"
      ]
     },
     "execution_count": 18,
     "metadata": {},
     "output_type": "execute_result"
    }
   ],
   "source": [
    "not_found[0]"
   ]
  },
  {
   "cell_type": "code",
   "execution_count": 20,
   "metadata": {
    "ExecuteTime": {
     "end_time": "2020-12-09T05:08:03.965937Z",
     "start_time": "2020-12-09T05:08:01.989798Z"
    }
   },
   "outputs": [
    {
     "name": "stdout",
     "output_type": "stream",
     "text": [
      "\u001b[32mThat's the right answer!  You are one gold star closer to saving your vacation. [Continue to Part Two]\u001b[0m\n"
     ]
    }
   ],
   "source": [
    "puzzle.answer_a = not_found[0][1]"
   ]
  },
  {
   "cell_type": "markdown",
   "metadata": {
    "ExecuteTime": {
     "end_time": "2020-12-09T05:08:14.154838Z",
     "start_time": "2020-12-09T05:08:14.152429Z"
    }
   },
   "source": [
    "## Part 2"
   ]
  },
  {
   "cell_type": "code",
   "execution_count": 32,
   "metadata": {
    "ExecuteTime": {
     "end_time": "2020-12-09T05:22:43.505623Z",
     "start_time": "2020-12-09T05:22:43.469464Z"
    }
   },
   "outputs": [],
   "source": [
    "target = not_found[0][1]\n",
    "\n",
    "r2 = []\n",
    "for i in range(1,len(idata)):\n",
    "    acc = 0\n",
    "    for j, val2 in enumerate(idata[i:]):\n",
    "        acc += val2\n",
    "        if acc == target:\n",
    "            r2 = [i, j + i]\n",
    "            break\n",
    "        if acc > target:\n",
    "            break\n",
    "    if r2:\n",
    "        break"
   ]
  },
  {
   "cell_type": "code",
   "execution_count": 33,
   "metadata": {
    "ExecuteTime": {
     "end_time": "2020-12-09T05:22:43.968291Z",
     "start_time": "2020-12-09T05:22:43.965137Z"
    }
   },
   "outputs": [
    {
     "data": {
      "text/plain": [
       "[541, 557]"
      ]
     },
     "execution_count": 33,
     "metadata": {},
     "output_type": "execute_result"
    }
   ],
   "source": [
    "r2"
   ]
  },
  {
   "cell_type": "code",
   "execution_count": 34,
   "metadata": {
    "ExecuteTime": {
     "end_time": "2020-12-09T05:22:44.575392Z",
     "start_time": "2020-12-09T05:22:44.573188Z"
    }
   },
   "outputs": [],
   "source": [
    "res2 = idata[r2[0]:r2[1] + 1]"
   ]
  },
  {
   "cell_type": "code",
   "execution_count": 35,
   "metadata": {
    "ExecuteTime": {
     "end_time": "2020-12-09T05:22:45.399824Z",
     "start_time": "2020-12-09T05:22:45.397577Z"
    }
   },
   "outputs": [
    {
     "data": {
      "text/plain": [
       "True"
      ]
     },
     "execution_count": 35,
     "metadata": {},
     "output_type": "execute_result"
    }
   ],
   "source": [
    "sum(res2) == target"
   ]
  },
  {
   "cell_type": "code",
   "execution_count": 31,
   "metadata": {
    "ExecuteTime": {
     "end_time": "2020-12-09T05:13:53.539124Z",
     "start_time": "2020-12-09T05:13:52.491943Z"
    }
   },
   "outputs": [
    {
     "name": "stdout",
     "output_type": "stream",
     "text": [
      "\u001b[32mThat's the right answer!  You are one gold star closer to saving your vacation.You have completed Day 9! You can [Shareon\n",
      "  Twitter\n",
      "Mastodon] this victory or [Return to Your Advent Calendar].\u001b[0m\n"
     ]
    }
   ],
   "source": [
    "puzzle.answer_b = min(res2) + max(res2)"
   ]
  },
  {
   "cell_type": "code",
   "execution_count": null,
   "metadata": {},
   "outputs": [],
   "source": []
  }
 ],
 "metadata": {
  "kernelspec": {
   "display_name": "Python 3",
   "language": "python",
   "name": "python3"
  },
  "language_info": {
   "codemirror_mode": {
    "name": "ipython",
    "version": 3
   },
   "file_extension": ".py",
   "mimetype": "text/x-python",
   "name": "python",
   "nbconvert_exporter": "python",
   "pygments_lexer": "ipython3",
   "version": "3.8.6"
  }
 },
 "nbformat": 4,
 "nbformat_minor": 4
}

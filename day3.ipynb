{
 "cells": [
  {
   "cell_type": "markdown",
   "metadata": {},
   "source": [
    "# Day 3"
   ]
  },
  {
   "cell_type": "markdown",
   "metadata": {},
   "source": [
    "## Imports"
   ]
  },
  {
   "cell_type": "code",
   "execution_count": 1,
   "metadata": {
    "ExecuteTime": {
     "end_time": "2020-12-03T05:00:13.808007Z",
     "start_time": "2020-12-03T05:00:13.637055Z"
    }
   },
   "outputs": [],
   "source": [
    "import importlib\n",
    "import numpy as np\n",
    "import pandas as pd\n",
    "from statistics import mean, median, mode, variance, stdev\n",
    "from collections import defaultdict, OrderedDict, Counter, deque\n",
    "from math import ceil, floor, sqrt, pi, e, exp, log, log10, factorial, gcd, isnan, isinf, remainder"
   ]
  },
  {
   "cell_type": "code",
   "execution_count": 2,
   "metadata": {
    "ExecuteTime": {
     "end_time": "2020-12-03T05:00:13.998437Z",
     "start_time": "2020-12-03T05:00:13.996094Z"
    }
   },
   "outputs": [],
   "source": [
    "import aoc"
   ]
  },
  {
   "cell_type": "code",
   "execution_count": 3,
   "metadata": {
    "ExecuteTime": {
     "end_time": "2020-12-03T05:00:14.539294Z",
     "start_time": "2020-12-03T05:00:14.339506Z"
    }
   },
   "outputs": [],
   "source": [
    "from aocd.models import Puzzle"
   ]
  },
  {
   "cell_type": "code",
   "execution_count": 4,
   "metadata": {
    "ExecuteTime": {
     "end_time": "2020-12-03T05:00:14.693541Z",
     "start_time": "2020-12-03T05:00:14.691547Z"
    }
   },
   "outputs": [],
   "source": [
    "importlib.reload(aoc)\n",
    "autoparse = aoc.autoparse"
   ]
  },
  {
   "cell_type": "markdown",
   "metadata": {},
   "source": [
    "## Inputs"
   ]
  },
  {
   "cell_type": "code",
   "execution_count": 5,
   "metadata": {
    "ExecuteTime": {
     "end_time": "2020-12-03T05:00:15.860773Z",
     "start_time": "2020-12-03T05:00:15.459582Z"
    }
   },
   "outputs": [
    {
     "data": {
      "text/plain": [
       "<Puzzle(2020, 3) at 0x7fea542f0370 - Toboggan Trajectory>"
      ]
     },
     "execution_count": 5,
     "metadata": {},
     "output_type": "execute_result"
    }
   ],
   "source": [
    "puzzle = Puzzle(year=2020, day=3)\n",
    "puzzle"
   ]
  },
  {
   "cell_type": "code",
   "execution_count": 6,
   "metadata": {
    "ExecuteTime": {
     "end_time": "2020-12-03T05:00:16.240229Z",
     "start_time": "2020-12-03T05:00:15.861849Z"
    }
   },
   "outputs": [
    {
     "data": {
      "text/plain": [
       "'..#.......#..##...#...#..#.#...\\n..##..#..#.....#..'"
      ]
     },
     "execution_count": 6,
     "metadata": {},
     "output_type": "execute_result"
    }
   ],
   "source": [
    "idata = puzzle.input_data\n",
    "idata[:50]"
   ]
  },
  {
   "cell_type": "code",
   "execution_count": 7,
   "metadata": {
    "ExecuteTime": {
     "end_time": "2020-12-03T05:00:16.689530Z",
     "start_time": "2020-12-03T05:00:16.683859Z"
    }
   },
   "outputs": [
    {
     "name": "stderr",
     "output_type": "stream",
     "text": [
      "WARNING:root:Unique: True.\n",
      "WARNING:root:Type: <class 'str'>\n",
      "WARNING:root:Length: 323. Set length: 323\n",
      "WARNING:root:Average length: 31.0\n",
      "WARNING:root:Max length: 31. Min length: 31\n"
     ]
    },
    {
     "data": {
      "text/plain": [
       "['..#.......#..##...#...#..#.#...',\n",
       " '..##..#..#.....#.........#....#',\n",
       " '...#.##..#.#......#.#....#.....',\n",
       " '...#.....#......#...#..........',\n",
       " '.......#.#..#..#....##....##...',\n",
       " '.#......#......#.#..#....#.#...',\n",
       " '.#..........#.....###.##..#.#..',\n",
       " '....#...##...........#.........',\n",
       " '##......#.#...#...#....##.#...#',\n",
       " '.....#.....#.#..#....###...#..#']"
      ]
     },
     "execution_count": 7,
     "metadata": {},
     "output_type": "execute_result"
    }
   ],
   "source": [
    "data = aoc.autoparse(idata)\n",
    "data[:10]"
   ]
  },
  {
   "cell_type": "markdown",
   "metadata": {},
   "source": [
    "## SOLVE"
   ]
  },
  {
   "cell_type": "code",
   "execution_count": 33,
   "metadata": {
    "ExecuteTime": {
     "end_time": "2020-12-03T05:11:48.296190Z",
     "start_time": "2020-12-03T05:11:46.647462Z"
    }
   },
   "outputs": [
    {
     "name": "stdout",
     "output_type": "stream",
     "text": [
      "\u001b[32mThat's the right answer!  You are one gold star closer to saving your vacation. [Continue to Part Two]\u001b[0m\n"
     ]
    }
   ],
   "source": [
    "puzzle.answer_a = c"
   ]
  },
  {
   "cell_type": "code",
   "execution_count": null,
   "metadata": {},
   "outputs": [],
   "source": [
    "# puzzle.answer_b = r2"
   ]
  },
  {
   "cell_type": "markdown",
   "metadata": {},
   "source": [
    "## Part 1"
   ]
  },
  {
   "cell_type": "code",
   "execution_count": 8,
   "metadata": {
    "ExecuteTime": {
     "end_time": "2020-12-03T05:02:55.601343Z",
     "start_time": "2020-12-03T05:02:55.599173Z"
    }
   },
   "outputs": [],
   "source": [
    "grid = [[c for c in row] for row in data]"
   ]
  },
  {
   "cell_type": "code",
   "execution_count": 32,
   "metadata": {
    "ExecuteTime": {
     "end_time": "2020-12-03T05:11:33.704850Z",
     "start_time": "2020-12-03T05:11:33.701837Z"
    }
   },
   "outputs": [
    {
     "data": {
      "text/plain": [
       "286"
      ]
     },
     "execution_count": 32,
     "metadata": {},
     "output_type": "execute_result"
    }
   ],
   "source": [
    "c = 0\n",
    "x = 0\n",
    "for row in grid[1:]:\n",
    "    x += 3\n",
    "    \n",
    "    if row[x % len(row)] == \"#\":\n",
    "        c += 1\n",
    "        \n",
    "c"
   ]
  },
  {
   "cell_type": "markdown",
   "metadata": {},
   "source": [
    "## Part 2"
   ]
  },
  {
   "cell_type": "code",
   "execution_count": 51,
   "metadata": {
    "ExecuteTime": {
     "end_time": "2020-12-03T05:18:30.320578Z",
     "start_time": "2020-12-03T05:18:30.316158Z"
    }
   },
   "outputs": [
    {
     "data": {
      "text/plain": [
       "60"
      ]
     },
     "execution_count": 51,
     "metadata": {},
     "output_type": "execute_result"
    }
   ],
   "source": [
    "c1 = 0\n",
    "x = 0\n",
    "for row in grid[1:]:\n",
    "    x += 1\n",
    "    \n",
    "    if row[x % len(row)] == \"#\":\n",
    "        c1 += 1\n",
    "        \n",
    "c1"
   ]
  },
  {
   "cell_type": "code",
   "execution_count": 52,
   "metadata": {
    "ExecuteTime": {
     "end_time": "2020-12-03T05:18:36.143865Z",
     "start_time": "2020-12-03T05:18:36.140766Z"
    }
   },
   "outputs": [
    {
     "data": {
      "text/plain": [
       "286"
      ]
     },
     "execution_count": 52,
     "metadata": {},
     "output_type": "execute_result"
    }
   ],
   "source": [
    "c2 = 0\n",
    "x = 0\n",
    "for row in grid[1:]:\n",
    "    x += 3\n",
    "    \n",
    "    if row[x % len(row)] == \"#\":\n",
    "        c2 += 1\n",
    "        \n",
    "c2"
   ]
  },
  {
   "cell_type": "code",
   "execution_count": 53,
   "metadata": {
    "ExecuteTime": {
     "end_time": "2020-12-03T05:18:40.968825Z",
     "start_time": "2020-12-03T05:18:40.965970Z"
    }
   },
   "outputs": [
    {
     "data": {
      "text/plain": [
       "76"
      ]
     },
     "execution_count": 53,
     "metadata": {},
     "output_type": "execute_result"
    }
   ],
   "source": [
    "c3 = 0\n",
    "x = 0\n",
    "for row in grid[1:]:\n",
    "    x += 5\n",
    "    \n",
    "    if row[x % len(row)] == \"#\":\n",
    "        c3 += 1\n",
    "        \n",
    "c3"
   ]
  },
  {
   "cell_type": "code",
   "execution_count": 54,
   "metadata": {
    "ExecuteTime": {
     "end_time": "2020-12-03T05:18:46.264826Z",
     "start_time": "2020-12-03T05:18:46.261765Z"
    }
   },
   "outputs": [
    {
     "data": {
      "text/plain": [
       "62"
      ]
     },
     "execution_count": 54,
     "metadata": {},
     "output_type": "execute_result"
    }
   ],
   "source": [
    "c4 = 0\n",
    "x = 0\n",
    "for row in grid[1:]:\n",
    "    x += 7\n",
    "    \n",
    "    if row[x % len(row)] == \"#\":\n",
    "        c4 += 1\n",
    "        \n",
    "c4"
   ]
  },
  {
   "cell_type": "code",
   "execution_count": 55,
   "metadata": {
    "ExecuteTime": {
     "end_time": "2020-12-03T05:18:52.687615Z",
     "start_time": "2020-12-03T05:18:52.683534Z"
    }
   },
   "outputs": [
    {
     "data": {
      "text/plain": [
       "45"
      ]
     },
     "execution_count": 55,
     "metadata": {},
     "output_type": "execute_result"
    }
   ],
   "source": [
    "c5 = 0\n",
    "x = 0\n",
    "y= 0\n",
    "while True:\n",
    "    x += 1\n",
    "    y += 2\n",
    "    \n",
    "    if y > len(grid):\n",
    "        break\n",
    "\n",
    "    \n",
    "    if grid[y][x % len(grid[7])] == \"#\":\n",
    "        c5 += 1\n",
    "        \n",
    "        \n",
    "c5"
   ]
  },
  {
   "cell_type": "code",
   "execution_count": 48,
   "metadata": {
    "ExecuteTime": {
     "end_time": "2020-12-03T05:16:16.049943Z",
     "start_time": "2020-12-03T05:16:16.048245Z"
    }
   },
   "outputs": [],
   "source": [
    "r = c1*c2*c3*c4*c5"
   ]
  },
  {
   "cell_type": "code",
   "execution_count": 49,
   "metadata": {
    "ExecuteTime": {
     "end_time": "2020-12-03T05:16:25.459487Z",
     "start_time": "2020-12-03T05:16:24.441060Z"
    }
   },
   "outputs": [
    {
     "name": "stdout",
     "output_type": "stream",
     "text": [
      "\u001b[32mThat's the right answer!  You are one gold star closer to saving your vacation.You have completed Day 3! You can [Shareon\n",
      "  Twitter\n",
      "Mastodon] this victory or [Return to Your Advent Calendar].\u001b[0m\n"
     ]
    }
   ],
   "source": [
    "puzzle.answer_b = r"
   ]
  },
  {
   "cell_type": "code",
   "execution_count": null,
   "metadata": {},
   "outputs": [],
   "source": []
  }
 ],
 "metadata": {
  "kernelspec": {
   "display_name": "Python 3",
   "language": "python",
   "name": "python3"
  },
  "language_info": {
   "codemirror_mode": {
    "name": "ipython",
    "version": 3
   },
   "file_extension": ".py",
   "mimetype": "text/x-python",
   "name": "python",
   "nbconvert_exporter": "python",
   "pygments_lexer": "ipython3",
   "version": "3.8.6"
  }
 },
 "nbformat": 4,
 "nbformat_minor": 4
}

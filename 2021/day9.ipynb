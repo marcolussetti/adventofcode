{
 "cells": [
  {
   "cell_type": "code",
   "execution_count": 1,
   "id": "sound-insertion",
   "metadata": {
    "ExecuteTime": {
     "end_time": "2021-12-09T06:30:39.707490Z",
     "start_time": "2021-12-09T06:30:39.537707Z"
    }
   },
   "outputs": [],
   "source": [
    "from aocd.models import Puzzle"
   ]
  },
  {
   "cell_type": "code",
   "execution_count": 2,
   "id": "cross-dylan",
   "metadata": {
    "ExecuteTime": {
     "end_time": "2021-12-09T06:30:39.960614Z",
     "start_time": "2021-12-09T06:30:39.958736Z"
    }
   },
   "outputs": [],
   "source": [
    "from operator import mul\n",
    "from functools import reduce"
   ]
  },
  {
   "cell_type": "code",
   "execution_count": 3,
   "id": "decreased-object",
   "metadata": {
    "ExecuteTime": {
     "end_time": "2021-12-09T06:30:40.384494Z",
     "start_time": "2021-12-09T06:30:40.381950Z"
    }
   },
   "outputs": [],
   "source": [
    "puzzle = Puzzle(year=2021, day=9)"
   ]
  },
  {
   "cell_type": "code",
   "execution_count": 4,
   "id": "offensive-queen",
   "metadata": {
    "ExecuteTime": {
     "end_time": "2021-12-09T06:30:40.844983Z",
     "start_time": "2021-12-09T06:30:40.838376Z"
    }
   },
   "outputs": [],
   "source": [
    "raw_data = [[int(i) for i in row] for row in puzzle.input_data.split(\"\\n\")]"
   ]
  },
  {
   "cell_type": "markdown",
   "id": "joined-worship",
   "metadata": {
    "ExecuteTime": {
     "end_time": "2021-12-09T05:01:46.400843Z",
     "start_time": "2021-12-09T05:01:46.398213Z"
    }
   },
   "source": [
    "# Part A"
   ]
  },
  {
   "cell_type": "code",
   "execution_count": 5,
   "id": "fleet-sucking",
   "metadata": {
    "ExecuteTime": {
     "end_time": "2021-12-09T06:30:41.722959Z",
     "start_time": "2021-12-09T06:30:41.702205Z"
    }
   },
   "outputs": [],
   "source": [
    "low_points = []\n",
    "for row in range(len(raw_data)):\n",
    "    for col in range(len(raw_data[row])):\n",
    "        val = raw_data[row][col]\n",
    "        siblings = []\n",
    "        if row > 0:\n",
    "            siblings.append(raw_data[row-1][col])\n",
    "        if row < len(raw_data) -1 :\n",
    "            siblings.append(raw_data[row+1][col])\n",
    "        if col > 0:\n",
    "            siblings.append(raw_data[row][col-1])\n",
    "        if col < len(raw_data[row]) -1:\n",
    "            siblings.append(raw_data[row][col+1])\n",
    "\n",
    "        if len([i for i in siblings if i > val]) == len(siblings):\n",
    "            low_points.append(val+1)"
   ]
  },
  {
   "cell_type": "code",
   "execution_count": 6,
   "id": "waiting-concert",
   "metadata": {
    "ExecuteTime": {
     "end_time": "2021-12-09T06:30:42.155093Z",
     "start_time": "2021-12-09T06:30:42.151442Z"
    }
   },
   "outputs": [],
   "source": [
    "puzzle.answer_a = sum(low_points)"
   ]
  },
  {
   "cell_type": "markdown",
   "id": "brilliant-horse",
   "metadata": {
    "ExecuteTime": {
     "end_time": "2021-12-09T05:07:14.927607Z",
     "start_time": "2021-12-09T05:07:14.925084Z"
    }
   },
   "source": [
    "# Part B"
   ]
  },
  {
   "cell_type": "code",
   "execution_count": 7,
   "id": "wired-surface",
   "metadata": {
    "ExecuteTime": {
     "end_time": "2021-12-09T06:30:43.156562Z",
     "start_time": "2021-12-09T06:30:43.151057Z"
    }
   },
   "outputs": [],
   "source": [
    "def find_lower(x, y, origin, results):\n",
    "    if x >= len(raw_data) or y >= len(raw_data[x]) or x < 0 or y < 0:\n",
    "        return results\n",
    "    new_origin = raw_data[x][y]\n",
    "    \n",
    "    if new_origin < origin or new_origin == 9 or (x, y) in results:\n",
    "        return results\n",
    "    \n",
    "    results.update([(x, y)])\n",
    "    results.update(find_lower(x + 1, y, new_origin, results))\n",
    "    results.update(find_lower(x - 1, y, new_origin, results))\n",
    "    results.update(find_lower(x, y - 1, new_origin, results))\n",
    "    results.update(find_lower(x, y + 1, new_origin, results))\n",
    "\n",
    "    return results"
   ]
  },
  {
   "cell_type": "code",
   "execution_count": 8,
   "id": "searching-annex",
   "metadata": {
    "ExecuteTime": {
     "end_time": "2021-12-09T06:30:43.716368Z",
     "start_time": "2021-12-09T06:30:43.595915Z"
    }
   },
   "outputs": [],
   "source": [
    "basins = []\n",
    "for row in range(len(raw_data)):\n",
    "    for col in range(len(raw_data[row])):\n",
    "        val = raw_data[row][col]\n",
    "        basin = find_lower(row, col, val, set())\n",
    "        basins.append(basin)"
   ]
  },
  {
   "cell_type": "code",
   "execution_count": 9,
   "id": "geological-surrey",
   "metadata": {
    "ExecuteTime": {
     "end_time": "2021-12-09T06:30:44.102902Z",
     "start_time": "2021-12-09T06:30:44.099298Z"
    }
   },
   "outputs": [],
   "source": [
    "puzzle.answer_b = reduce(mul, sorted([len(a) for a in basins])[-3:])"
   ]
  }
 ],
 "metadata": {
  "kernelspec": {
   "display_name": "Python 3",
   "language": "python",
   "name": "python3"
  },
  "language_info": {
   "codemirror_mode": {
    "name": "ipython",
    "version": 3
   },
   "file_extension": ".py",
   "mimetype": "text/x-python",
   "name": "python",
   "nbconvert_exporter": "python",
   "pygments_lexer": "ipython3",
   "version": "3.9.7"
  }
 },
 "nbformat": 4,
 "nbformat_minor": 5
}

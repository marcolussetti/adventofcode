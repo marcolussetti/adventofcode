{
 "cells": [
  {
   "cell_type": "code",
   "execution_count": 1,
   "id": "crucial-browse",
   "metadata": {
    "ExecuteTime": {
     "end_time": "2021-12-13T06:24:40.776879Z",
     "start_time": "2021-12-13T06:24:40.627457Z"
    }
   },
   "outputs": [],
   "source": [
    "from aocd.models import Puzzle"
   ]
  },
  {
   "cell_type": "code",
   "execution_count": 2,
   "id": "daily-socket",
   "metadata": {
    "ExecuteTime": {
     "end_time": "2021-12-13T06:24:40.853148Z",
     "start_time": "2021-12-13T06:24:40.778138Z"
    }
   },
   "outputs": [],
   "source": [
    "import numpy as np"
   ]
  },
  {
   "cell_type": "code",
   "execution_count": 3,
   "id": "pleased-nashville",
   "metadata": {
    "ExecuteTime": {
     "end_time": "2021-12-13T06:24:40.856963Z",
     "start_time": "2021-12-13T06:24:40.854480Z"
    }
   },
   "outputs": [],
   "source": [
    "puzzle = Puzzle(year=2021, day=13)"
   ]
  },
  {
   "cell_type": "code",
   "execution_count": 4,
   "id": "harmful-dakota",
   "metadata": {
    "ExecuteTime": {
     "end_time": "2021-12-13T06:24:40.861463Z",
     "start_time": "2021-12-13T06:24:40.859319Z"
    }
   },
   "outputs": [],
   "source": [
    "data = puzzle.input_data"
   ]
  },
  {
   "cell_type": "code",
   "execution_count": 5,
   "id": "opposite-birmingham",
   "metadata": {
    "ExecuteTime": {
     "end_time": "2021-12-13T06:24:40.865174Z",
     "start_time": "2021-12-13T06:24:40.862457Z"
    }
   },
   "outputs": [],
   "source": [
    "coords = [(int(a.split(\",\")[0]), int(a.split(\",\")[1]))\n",
    "          for a in data.split(\"\\n\") if \",\" in a]"
   ]
  },
  {
   "cell_type": "code",
   "execution_count": 6,
   "id": "reverse-campaign",
   "metadata": {
    "ExecuteTime": {
     "end_time": "2021-12-13T06:24:40.869679Z",
     "start_time": "2021-12-13T06:24:40.866583Z"
    }
   },
   "outputs": [],
   "source": [
    "fold_along = [(row.replace(\"fold along \", \"\").split(\"=\")[0],\n",
    "               int(row.replace(\"fold along \", \"\").split(\"=\")[1]))\n",
    "              for row in data.split(\"\\n\") if \"fold\" in row]"
   ]
  },
  {
   "cell_type": "code",
   "execution_count": 7,
   "id": "laden-saver",
   "metadata": {
    "ExecuteTime": {
     "end_time": "2021-12-13T06:24:40.946675Z",
     "start_time": "2021-12-13T06:24:40.871912Z"
    }
   },
   "outputs": [],
   "source": [
    "grid = [[0] * (max([row[0] for row in coords]) + 1)] * (max([row[1] for row in coords]) + 1)\n",
    "grid = np.array(grid)\n",
    "for x, y in coords:\n",
    "    grid[y][x] = True"
   ]
  },
  {
   "cell_type": "markdown",
   "id": "anonymous-replication",
   "metadata": {},
   "source": [
    "# Part A"
   ]
  },
  {
   "cell_type": "markdown",
   "id": "tired-policy",
   "metadata": {
    "ExecuteTime": {
     "end_time": "2021-12-13T06:06:17.797770Z",
     "start_time": "2021-12-13T06:06:17.794188Z"
    }
   },
   "source": [
    "This is a terrible solution. You really shouldn't do this, and I feel like an idiot for not clueing in. I will blame lack of sleep?"
   ]
  },
  {
   "cell_type": "code",
   "execution_count": 8,
   "id": "multiple-union",
   "metadata": {
    "ExecuteTime": {
     "end_time": "2021-12-13T06:24:41.110740Z",
     "start_time": "2021-12-13T06:24:40.947668Z"
    }
   },
   "outputs": [],
   "source": [
    "grid_a = grid.copy()\n",
    "for fold_dir, fold_val in [fold_along[0]]:\n",
    "    if fold_dir == \"x\":\n",
    "        for row in range(len(grid_a)):\n",
    "            for col in range(fold_val, len(grid_a[0])):\n",
    "                if grid_a[row][col]:\n",
    "                    grid_a[row][fold_val - (col - fold_val)] = 1\n",
    "        grid_a = np.delete(grid_a, range(fold_val, len(grid_a[0])), axis=1)\n",
    "    else:\n",
    "        for row in range(fold_val, len(grid_a)):\n",
    "            for col in range(len(grid_a[0])):\n",
    "                if grid_a[row][col]:\n",
    "                    grid_a[fold_val - (row - fold_val)][col] = 1\n",
    "        grid_a = np.delete(grid_a, range(fold_val, len(grid_a)), axis=0)"
   ]
  },
  {
   "cell_type": "code",
   "execution_count": 9,
   "id": "surface-colleague",
   "metadata": {
    "ExecuteTime": {
     "end_time": "2021-12-13T06:24:41.165753Z",
     "start_time": "2021-12-13T06:24:41.112012Z"
    }
   },
   "outputs": [
    {
     "name": "stdout",
     "output_type": "stream",
     "text": [
      "Part a already solved with same answer: 810\n"
     ]
    }
   ],
   "source": [
    "puzzle.answer_a = sum([sum(row) for row in grid_a])"
   ]
  },
  {
   "cell_type": "markdown",
   "id": "classified-ground",
   "metadata": {},
   "source": [
    "# Part B"
   ]
  },
  {
   "cell_type": "code",
   "execution_count": 10,
   "id": "fifty-stream",
   "metadata": {
    "ExecuteTime": {
     "end_time": "2021-12-13T06:24:41.488840Z",
     "start_time": "2021-12-13T06:24:41.166683Z"
    }
   },
   "outputs": [],
   "source": [
    "grid_b = grid.copy()\n",
    "for fold_dir, fold_val in fold_along:\n",
    "    if fold_dir == \"x\":\n",
    "        for row in range(len(grid_b)):\n",
    "            for col in range(fold_val, len(grid_b[0])):\n",
    "                if grid_b[row][col]:\n",
    "                    rev_fold_val = col - fold_val\n",
    "                    grid_b[row][fold_val - rev_fold_val] = 1\n",
    "        grid_b = np.delete(grid_b, range(fold_val, len(grid_b[0])), axis=1)\n",
    "    else:\n",
    "        for row in range(fold_val, len(grid_b)):\n",
    "            for col in range(len(grid_b[0])):\n",
    "                if grid_b[row][col]:\n",
    "                    rev_fold_val = row - fold_val\n",
    "                    grid_b[fold_val - rev_fold_val][col] = 1\n",
    "        grid_b = np.delete(grid_b, range(fold_val, len(grid_b)), axis=0)"
   ]
  },
  {
   "cell_type": "code",
   "execution_count": 11,
   "id": "killing-night",
   "metadata": {
    "ExecuteTime": {
     "end_time": "2021-12-13T06:24:41.494213Z",
     "start_time": "2021-12-13T06:24:41.490649Z"
    }
   },
   "outputs": [
    {
     "name": "stdout",
     "output_type": "stream",
     "text": [
      "█  █ █    ███  █  █ ███   ██  ████ ███  \n",
      "█  █ █    █  █ █  █ █  █ █  █ █    █  █ \n",
      "████ █    ███  █  █ ███  █    ███  █  █ \n",
      "█  █ █    █  █ █  █ █  █ █ ██ █    ███  \n",
      "█  █ █    █  █ █  █ █  █ █  █ █    █ █  \n",
      "█  █ ████ ███   ██  ███   ███ █    █  █ \n"
     ]
    }
   ],
   "source": [
    "print(\"\\n\".join([\"\".join([\"█\" if i == 1 else \" \" for i in row]) for row in grid_b]))"
   ]
  },
  {
   "cell_type": "code",
   "execution_count": 12,
   "id": "affected-participant",
   "metadata": {
    "ExecuteTime": {
     "end_time": "2021-12-13T06:24:41.498087Z",
     "start_time": "2021-12-13T06:24:41.496000Z"
    }
   },
   "outputs": [],
   "source": [
    "puzzle.answer_b = \"HLBUBGFR\""
   ]
  }
 ],
 "metadata": {
  "kernelspec": {
   "display_name": "Python 3",
   "language": "python",
   "name": "python3"
  },
  "language_info": {
   "codemirror_mode": {
    "name": "ipython",
    "version": 3
   },
   "file_extension": ".py",
   "mimetype": "text/x-python",
   "name": "python",
   "nbconvert_exporter": "python",
   "pygments_lexer": "ipython3",
   "version": "3.9.7"
  }
 },
 "nbformat": 4,
 "nbformat_minor": 5
}

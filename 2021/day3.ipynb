{
 "cells": [
  {
   "cell_type": "code",
   "execution_count": 1,
   "id": "congressional-share",
   "metadata": {
    "ExecuteTime": {
     "end_time": "2021-12-03T06:14:08.489855Z",
     "start_time": "2021-12-03T06:14:08.336190Z"
    }
   },
   "outputs": [],
   "source": [
    "from aocd.models import Puzzle"
   ]
  },
  {
   "cell_type": "code",
   "execution_count": 2,
   "id": "enhanced-minutes",
   "metadata": {
    "ExecuteTime": {
     "end_time": "2021-12-03T06:14:08.710068Z",
     "start_time": "2021-12-03T06:14:08.491019Z"
    }
   },
   "outputs": [],
   "source": [
    "import collections\n",
    "import pandas as pd"
   ]
  },
  {
   "cell_type": "markdown",
   "id": "directed-brake",
   "metadata": {},
   "source": [
    "# Parsing"
   ]
  },
  {
   "cell_type": "code",
   "execution_count": 3,
   "id": "enormous-lounge",
   "metadata": {
    "ExecuteTime": {
     "end_time": "2021-12-03T06:14:08.715465Z",
     "start_time": "2021-12-03T06:14:08.711365Z"
    }
   },
   "outputs": [],
   "source": [
    "puzzle = Puzzle(year=2021, day=3)"
   ]
  },
  {
   "cell_type": "code",
   "execution_count": 4,
   "id": "committed-orchestra",
   "metadata": {
    "ExecuteTime": {
     "end_time": "2021-12-03T06:14:08.721623Z",
     "start_time": "2021-12-03T06:14:08.717653Z"
    }
   },
   "outputs": [],
   "source": [
    "data = [[int(a) for a in row] for row in puzzle.input_data.split(\"\\n\")]"
   ]
  },
  {
   "cell_type": "code",
   "execution_count": 5,
   "id": "formed-stuff",
   "metadata": {
    "ExecuteTime": {
     "end_time": "2021-12-03T06:14:08.731036Z",
     "start_time": "2021-12-03T06:14:08.722552Z"
    }
   },
   "outputs": [
    {
     "data": {
      "text/plain": [
       "[[0, 0, 0, 0, 0, 1, 0, 0, 0, 1, 0, 1],\n",
       " [1, 0, 1, 0, 1, 1, 1, 0, 0, 1, 0, 1],\n",
       " [1, 0, 0, 0, 1, 1, 1, 0, 0, 1, 1, 0],\n",
       " [1, 0, 1, 0, 0, 1, 1, 1, 1, 0, 0, 0],\n",
       " [0, 0, 0, 0, 0, 1, 0, 0, 0, 1, 1, 0],\n",
       " [0, 0, 0, 1, 1, 0, 1, 0, 0, 0, 1, 0],\n",
       " [1, 0, 0, 0, 1, 0, 1, 0, 1, 1, 1, 0],\n",
       " [0, 0, 0, 0, 1, 1, 0, 0, 1, 1, 1, 0],\n",
       " [1, 1, 0, 0, 0, 1, 1, 0, 1, 0, 1, 1],\n",
       " [1, 0, 1, 1, 0, 0, 1, 1, 0, 1, 1, 1]]"
      ]
     },
     "execution_count": 5,
     "metadata": {},
     "output_type": "execute_result"
    }
   ],
   "source": [
    "data[:10]"
   ]
  },
  {
   "cell_type": "code",
   "execution_count": 6,
   "id": "utility-insert",
   "metadata": {
    "ExecuteTime": {
     "end_time": "2021-12-03T06:14:08.737713Z",
     "start_time": "2021-12-03T06:14:08.732365Z"
    }
   },
   "outputs": [],
   "source": [
    "df = pd.DataFrame(data)"
   ]
  },
  {
   "cell_type": "markdown",
   "id": "surface-toyota",
   "metadata": {},
   "source": [
    "# Part A"
   ]
  },
  {
   "cell_type": "code",
   "execution_count": 7,
   "id": "czech-celebrity",
   "metadata": {
    "ExecuteTime": {
     "end_time": "2021-12-03T06:14:08.746144Z",
     "start_time": "2021-12-03T06:14:08.739420Z"
    }
   },
   "outputs": [
    {
     "data": {
      "text/plain": [
       "189"
      ]
     },
     "execution_count": 7,
     "metadata": {},
     "output_type": "execute_result"
    }
   ],
   "source": [
    "gamma = int(\"\".join([str(a) for a in list(df.mode().iloc[0])]), 2)\n",
    "gamma"
   ]
  },
  {
   "cell_type": "code",
   "execution_count": 8,
   "id": "domestic-colors",
   "metadata": {
    "ExecuteTime": {
     "end_time": "2021-12-03T06:14:08.755866Z",
     "start_time": "2021-12-03T06:14:08.747885Z"
    }
   },
   "outputs": [
    {
     "data": {
      "text/plain": [
       "3906"
      ]
     },
     "execution_count": 8,
     "metadata": {},
     "output_type": "execute_result"
    }
   ],
   "source": [
    "epsilon = int(\"\".join([str(df[col].value_counts().index[-1]) for col in df.columns]), 2)\n",
    "epsilon"
   ]
  },
  {
   "cell_type": "code",
   "execution_count": 9,
   "id": "statewide-algorithm",
   "metadata": {
    "ExecuteTime": {
     "end_time": "2021-12-03T06:14:08.758616Z",
     "start_time": "2021-12-03T06:14:08.756903Z"
    }
   },
   "outputs": [],
   "source": [
    "puzzle.answer_a = gamma * epsilon"
   ]
  },
  {
   "cell_type": "markdown",
   "id": "continental-nowhere",
   "metadata": {},
   "source": [
    "# Part B"
   ]
  },
  {
   "cell_type": "code",
   "execution_count": 10,
   "id": "brown-jaguar",
   "metadata": {
    "ExecuteTime": {
     "end_time": "2021-12-03T06:14:08.770867Z",
     "start_time": "2021-12-03T06:14:08.759586Z"
    }
   },
   "outputs": [
    {
     "data": {
      "text/plain": [
       "1071"
      ]
     },
     "execution_count": 10,
     "metadata": {},
     "output_type": "execute_result"
    }
   ],
   "source": [
    "oxy_df = df.copy()\n",
    "for col in df.columns:\n",
    "    if len(oxy_df) == 1:\n",
    "        break\n",
    "    col_counter = collections.Counter(oxy_df[col])\n",
    "    mc = 0 if col_counter[0] > col_counter[1] else 1\n",
    "    oxy_df = oxy_df[oxy_df[col] == mc]\n",
    "\n",
    "oxy_res = int(\"\".join([str(a) for a in oxy_df.iloc[0]]), 2)\n",
    "oxy_res"
   ]
  },
  {
   "cell_type": "code",
   "execution_count": 11,
   "id": "heard-development",
   "metadata": {
    "ExecuteTime": {
     "end_time": "2021-12-03T06:14:08.780479Z",
     "start_time": "2021-12-03T06:14:08.771766Z"
    }
   },
   "outputs": [
    {
     "data": {
      "text/plain": [
       "3706"
      ]
     },
     "execution_count": 11,
     "metadata": {},
     "output_type": "execute_result"
    }
   ],
   "source": [
    "co2_df = df.copy()\n",
    "for col in df.columns:\n",
    "    if len(co2_df) == 1:\n",
    "        break\n",
    "    col_counter = collections.Counter(co2_df[col])\n",
    "    mc = 0 if col_counter[0] > col_counter[1] else 1\n",
    "    co2_df = co2_df[co2_df[col] != mc]\n",
    "\n",
    "co2_res = int(\"\".join([str(a) for a in co2_df.iloc[0]]), 2)\n",
    "co2_res"
   ]
  },
  {
   "cell_type": "code",
   "execution_count": 12,
   "id": "prescribed-sharing",
   "metadata": {
    "ExecuteTime": {
     "end_time": "2021-12-03T06:14:08.784660Z",
     "start_time": "2021-12-03T06:14:08.782174Z"
    }
   },
   "outputs": [],
   "source": [
    "puzzle.answer_b = oxy_res * co2_res"
   ]
  }
 ],
 "metadata": {
  "kernelspec": {
   "display_name": "Python 3",
   "language": "python",
   "name": "python3"
  },
  "language_info": {
   "codemirror_mode": {
    "name": "ipython",
    "version": 3
   },
   "file_extension": ".py",
   "mimetype": "text/x-python",
   "name": "python",
   "nbconvert_exporter": "python",
   "pygments_lexer": "ipython3",
   "version": "3.9.7"
  }
 },
 "nbformat": 4,
 "nbformat_minor": 5
}

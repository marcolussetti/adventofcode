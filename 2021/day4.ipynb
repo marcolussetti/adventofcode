{
 "cells": [
  {
   "cell_type": "code",
   "execution_count": 1,
   "id": "prerequisite-classification",
   "metadata": {
    "ExecuteTime": {
     "end_time": "2021-12-07T01:03:12.809559Z",
     "start_time": "2021-12-07T01:03:12.724436Z"
    }
   },
   "outputs": [],
   "source": [
    "import numpy as np"
   ]
  },
  {
   "cell_type": "code",
   "execution_count": 2,
   "id": "beautiful-attack",
   "metadata": {
    "ExecuteTime": {
     "end_time": "2021-12-07T01:03:13.271918Z",
     "start_time": "2021-12-07T01:03:13.096308Z"
    }
   },
   "outputs": [],
   "source": [
    "from aocd.models import Puzzle"
   ]
  },
  {
   "cell_type": "code",
   "execution_count": 3,
   "id": "vietnamese-commodity",
   "metadata": {
    "ExecuteTime": {
     "end_time": "2021-12-07T01:03:13.490598Z",
     "start_time": "2021-12-07T01:03:13.488005Z"
    }
   },
   "outputs": [],
   "source": [
    "puzzle = Puzzle(year=2021, day=4)"
   ]
  },
  {
   "cell_type": "code",
   "execution_count": 4,
   "id": "painted-sterling",
   "metadata": {
    "ExecuteTime": {
     "end_time": "2021-12-07T01:03:14.059058Z",
     "start_time": "2021-12-07T01:03:14.056858Z"
    }
   },
   "outputs": [],
   "source": [
    "# test_data = \"\"\"7,4,9,5,11,17,23,2,0,14,21,24,10,16,13,6,15,25,12,22,18,20,8,19,3,26,1\n",
    "\n",
    "# 22 13 17 11  0\n",
    "#  8  2 23  4 24\n",
    "# 21  9 14 16  7\n",
    "#  6 10  3 18  5\n",
    "#  1 12 20 15 19\n",
    "\n",
    "#  3 15  0  2 22\n",
    "#  9 18 13 17  5\n",
    "# 19  8  7 25 23\n",
    "# 20 11 10 24  4\n",
    "# 14 21 16 12  6\n",
    "\n",
    "# 14 21 17 24  4\n",
    "# 10 16 15  9 19\n",
    "# 18  8 23 26 20\n",
    "# 22 11 13  6  5\n",
    "#  2  0 12  3  7\n",
    "# \"\"\"\n",
    "# raw_data = test_data"
   ]
  },
  {
   "cell_type": "code",
   "execution_count": 5,
   "id": "extra-uncertainty",
   "metadata": {
    "ExecuteTime": {
     "end_time": "2021-12-07T01:03:14.778244Z",
     "start_time": "2021-12-07T01:03:14.775448Z"
    }
   },
   "outputs": [],
   "source": [
    "raw_data = puzzle.input_data"
   ]
  },
  {
   "cell_type": "code",
   "execution_count": 6,
   "id": "accessible-india",
   "metadata": {
    "ExecuteTime": {
     "end_time": "2021-12-07T01:03:36.542668Z",
     "start_time": "2021-12-07T01:03:36.540282Z"
    }
   },
   "outputs": [],
   "source": [
    "drawn = list(map(int, raw_data.split(\"\\n\")[0].split(\",\")))\n",
    "# drawn"
   ]
  },
  {
   "cell_type": "code",
   "execution_count": 7,
   "id": "approved-jackson",
   "metadata": {
    "ExecuteTime": {
     "end_time": "2021-12-07T01:03:40.680470Z",
     "start_time": "2021-12-07T01:03:40.674452Z"
    }
   },
   "outputs": [],
   "source": [
    "boards = []\n",
    "for row in raw_data.split(\"\\n\")[1:]:\n",
    "    if row == \"\":\n",
    "        boards.append([])\n",
    "    else:\n",
    "        boards[-1].append([int(i) for i in row.split(\" \") if len(i.strip()) > 0])\n",
    "boards = [board for board in boards if board]\n",
    "# boards"
   ]
  },
  {
   "cell_type": "markdown",
   "id": "economic-confidentiality",
   "metadata": {},
   "source": [
    "# Part A"
   ]
  },
  {
   "cell_type": "code",
   "execution_count": 8,
   "id": "stock-mixture",
   "metadata": {
    "ExecuteTime": {
     "end_time": "2021-12-07T01:03:54.838310Z",
     "start_time": "2021-12-07T01:03:54.579707Z"
    }
   },
   "outputs": [],
   "source": [
    "boards_a = [np.array(board) for board in boards]\n",
    "won = None\n",
    "for n in drawn:\n",
    "#     print(n)\n",
    "    \n",
    "    for b in range(len(boards_a)):\n",
    "        for r in range(len(boards_a[b])):\n",
    "            for c in range(len(boards_a[b][r])):\n",
    "                if boards_a[b][r][c] == n:\n",
    "                    boards_a[b][r][c] = -1\n",
    "                    \n",
    "        if sum([np.all(row == -1) for row in boards_a[b]]):\n",
    "            won = boards_a[b]\n",
    "            break\n",
    "        if sum([np.all(col == -1) for col in boards_a[b].T]):\n",
    "            won = boards_a[b]\n",
    "            break\n",
    "    \n",
    "    if won is not None:\n",
    "        break"
   ]
  },
  {
   "cell_type": "code",
   "execution_count": 9,
   "id": "tender-going",
   "metadata": {
    "ExecuteTime": {
     "end_time": "2021-12-07T01:03:59.043708Z",
     "start_time": "2021-12-07T01:03:59.038236Z"
    }
   },
   "outputs": [
    {
     "name": "stdout",
     "output_type": "stream",
     "text": [
      "Part a already solved with same answer: 50008\n"
     ]
    }
   ],
   "source": [
    "puzzle.answer_a = sum([i for i in won.flatten() if i != -1]) * n"
   ]
  },
  {
   "cell_type": "markdown",
   "id": "complimentary-whale",
   "metadata": {},
   "source": [
    "# Part B"
   ]
  },
  {
   "cell_type": "code",
   "execution_count": 10,
   "id": "dutch-christianity",
   "metadata": {
    "ExecuteTime": {
     "end_time": "2021-12-07T01:04:15.722418Z",
     "start_time": "2021-12-07T01:04:15.072696Z"
    }
   },
   "outputs": [],
   "source": [
    "boards_b = [np.array(board) for board in boards]\n",
    "won_b = []\n",
    "for n in drawn:\n",
    "#     print(n)\n",
    "    \n",
    "    for b in range(len(boards_b)):\n",
    "        for r in range(len(boards_b[b])):\n",
    "            for c in range(len(boards_b[b][r])):\n",
    "                if boards_b[b][r][c] == n:\n",
    "                    boards_b[b][r][c] = -1\n",
    "                    \n",
    "        if (sum([np.all(row == -1) for row in boards_b[b]]) or sum([np.all(col == -1) for col in boards_b[b].T])) and b not in won_b:\n",
    "            won_b.append(b)\n",
    "    \n",
    "    if len(won_b) == len(boards_b):\n",
    "        break"
   ]
  },
  {
   "cell_type": "code",
   "execution_count": 11,
   "id": "intellectual-corpus",
   "metadata": {
    "ExecuteTime": {
     "end_time": "2021-12-07T01:04:19.642938Z",
     "start_time": "2021-12-07T01:04:19.639059Z"
    }
   },
   "outputs": [
    {
     "name": "stdout",
     "output_type": "stream",
     "text": [
      "Part b already solved with same answer: 17408\n"
     ]
    }
   ],
   "source": [
    "puzzle.answer_b = sum([i for i in boards_b[won_b[-1]].flatten() if i != -1]) * n"
   ]
  },
  {
   "cell_type": "code",
   "execution_count": null,
   "id": "gothic-filter",
   "metadata": {},
   "outputs": [],
   "source": []
  }
 ],
 "metadata": {
  "kernelspec": {
   "display_name": "Python 3",
   "language": "python",
   "name": "python3"
  },
  "language_info": {
   "codemirror_mode": {
    "name": "ipython",
    "version": 3
   },
   "file_extension": ".py",
   "mimetype": "text/x-python",
   "name": "python",
   "nbconvert_exporter": "python",
   "pygments_lexer": "ipython3",
   "version": "3.9.7"
  }
 },
 "nbformat": 4,
 "nbformat_minor": 5
}

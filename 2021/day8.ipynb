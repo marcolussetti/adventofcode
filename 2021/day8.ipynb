{
 "cells": [
  {
   "cell_type": "code",
   "execution_count": 1,
   "id": "short-recall",
   "metadata": {
    "ExecuteTime": {
     "end_time": "2021-12-08T04:59:16.610141Z",
     "start_time": "2021-12-08T04:59:16.422582Z"
    }
   },
   "outputs": [],
   "source": [
    "from aocd.models import Puzzle"
   ]
  },
  {
   "cell_type": "code",
   "execution_count": 20,
   "id": "constitutional-typing",
   "metadata": {
    "ExecuteTime": {
     "end_time": "2021-12-08T05:05:58.417128Z",
     "start_time": "2021-12-08T05:05:58.414850Z"
    }
   },
   "outputs": [],
   "source": [
    "import itertools\n",
    "import collections"
   ]
  },
  {
   "cell_type": "code",
   "execution_count": 2,
   "id": "extraordinary-laser",
   "metadata": {
    "ExecuteTime": {
     "end_time": "2021-12-08T05:00:03.203150Z",
     "start_time": "2021-12-08T05:00:03.200588Z"
    }
   },
   "outputs": [],
   "source": [
    "puzzle = Puzzle(year=2021, day=8)"
   ]
  },
  {
   "cell_type": "code",
   "execution_count": 38,
   "id": "wound-sociology",
   "metadata": {
    "ExecuteTime": {
     "end_time": "2021-12-08T05:36:04.066328Z",
     "start_time": "2021-12-08T05:36:04.064234Z"
    }
   },
   "outputs": [],
   "source": [
    "test_data = \"acedgfb cdfbe gcdfa fbcad dab cefabd cdfgeb eafb cagedb ab | cdfeb fcadb cdfeb cdbaf\""
   ]
  },
  {
   "cell_type": "code",
   "execution_count": 207,
   "id": "cheap-armstrong",
   "metadata": {
    "ExecuteTime": {
     "end_time": "2021-12-08T06:48:59.721304Z",
     "start_time": "2021-12-08T06:48:59.716920Z"
    }
   },
   "outputs": [],
   "source": [
    "data = [([b for b in a.split(\"|\")[0].split(\" \") if b], [b for b in a.split(\"|\")[1].split(\" \") if b]) for a in puzzle.input_data.split(\"\\n\")]"
   ]
  },
  {
   "cell_type": "markdown",
   "id": "thick-samba",
   "metadata": {},
   "source": [
    "# Part A"
   ]
  },
  {
   "cell_type": "code",
   "execution_count": 254,
   "id": "spare-background",
   "metadata": {
    "ExecuteTime": {
     "end_time": "2021-12-08T07:25:08.458704Z",
     "start_time": "2021-12-08T07:25:08.455566Z"
    }
   },
   "outputs": [],
   "source": [
    "outputs = list(itertools.chain(*[i[1] for i in data]))\n",
    "# outputs"
   ]
  },
  {
   "cell_type": "code",
   "execution_count": 31,
   "id": "absent-jamaica",
   "metadata": {
    "ExecuteTime": {
     "end_time": "2021-12-08T05:14:52.706076Z",
     "start_time": "2021-12-08T05:14:49.305043Z"
    }
   },
   "outputs": [
    {
     "name": "stdout",
     "output_type": "stream",
     "text": [
      "\u001b[32mThat's the right answer!  You are one gold star closer to finding the sleigh keys. [Continue to Part Two]\u001b[0m\n"
     ]
    }
   ],
   "source": [
    "puzzle.answer_a = len([a for a in outputs if len(a) in [2, 4, 3, 7]])"
   ]
  },
  {
   "cell_type": "markdown",
   "id": "appointed-angel",
   "metadata": {},
   "source": [
    "# Part B"
   ]
  },
  {
   "cell_type": "code",
   "execution_count": 210,
   "id": "informed-louisiana",
   "metadata": {
    "ExecuteTime": {
     "end_time": "2021-12-08T06:49:07.384352Z",
     "start_time": "2021-12-08T06:49:07.381712Z"
    }
   },
   "outputs": [],
   "source": [
    "data_b = data.copy()"
   ]
  },
  {
   "cell_type": "code",
   "execution_count": 256,
   "id": "advisory-security",
   "metadata": {
    "ExecuteTime": {
     "end_time": "2021-12-08T07:28:22.946173Z",
     "start_time": "2021-12-08T07:28:22.906499Z"
    }
   },
   "outputs": [],
   "source": [
    "res_b = 0\n",
    "for patterns, display in data_b:\n",
    "    reverse_m = dict()\n",
    "    nm = [[], [], [], [], [], [], [], [], [], []]\n",
    "    \n",
    "    # 8\n",
    "    nm[8] = [p for p in patterns if len(p) == 7][0]\n",
    "    \n",
    "    # 1\n",
    "    nm[1] = [p for p in patterns if len(p) == 2][0]\n",
    "    \n",
    "    # 7\n",
    "    nm[7] = [p for p in patterns if len(p) == 3][0]\n",
    "    reverse_m['a'] = [l for l in nm[7] if l not in nm[1]][0]\n",
    "\n",
    "    # 4\n",
    "    nm[4] = [p for p in patterns if len(p) == 4][0]\n",
    "    for l in nm[4]:\n",
    "        if l not in nm[1]:\n",
    "            m[l] = {'b', 'd'}\n",
    "            \n",
    "    # 3\n",
    "    nm[3] = [p for p in patterns if len(p) == 5 and set(nm[1]).issubset(set(p))][0]\n",
    "    reverse_m['g'] = [l for l in nm[3] if l not in nm[4] and l not in nm[7]][0]\n",
    "    \n",
    "    reverse_m['e'] = [l for l in nm[8] if l not in nm[3] and l not in nm[4]][0]\n",
    "    \n",
    "    # 2\n",
    "    nm[2] = [p for p in patterns if len(p) == 5 and p != nm[3] and reverse_m['e'] in p][0]\n",
    "    reverse_m['d'] = [l for l in nm[2] if l not in nm[7] and l != reverse_m['g'] and l != reverse_m['e']][0]\n",
    "    reverse_m['f'] = [l for l in nm[1] if l not in nm[2]][0]\n",
    "    reverse_m['c'] = [l for l in nm[1] if l in nm[2]][0]\n",
    "    reverse_m['b'] = [l for l in nm[4] if l not in nm[1] and l != reverse_m['d']][0]\n",
    "    \n",
    "    m = {v: k for k, v in reverse_m.items()}\n",
    "    \n",
    "    # 0\n",
    "    nm[0] = [p for p in patterns if set([m[j] for j in p]) == set('abcefg')][0]\n",
    "    \n",
    "    # 5\n",
    "    nm[5] = [p for p in patterns if len(p) == 5 and p not in nm][0]\n",
    "    \n",
    "    # 6\n",
    "    nm[6] = [p for p in patterns if set([m[j] for j in p]) == set('abdefg')][0]\n",
    "    \n",
    "    # 9\n",
    "    nm[9] = [p for p in patterns if p not in nm][0]\n",
    "    \n",
    "    nm = [\"\".join(sorted(set(p))) for p in nm]\n",
    "    \n",
    "    \n",
    "    # NOW WE CAN PROCESS THE OUTPUT\n",
    "    value = []\n",
    "    for d in display:\n",
    "        value.append(str(nm.index(\"\".join(sorted(set(d))))))\n",
    "        \n",
    "    res_b += int(\"\".join(value))"
   ]
  },
  {
   "cell_type": "code",
   "execution_count": 253,
   "id": "enclosed-snowboard",
   "metadata": {
    "ExecuteTime": {
     "end_time": "2021-12-08T07:22:59.654631Z",
     "start_time": "2021-12-08T07:22:58.042835Z"
    }
   },
   "outputs": [
    {
     "name": "stdout",
     "output_type": "stream",
     "text": [
      "\u001b[32mThat's the right answer!  You are one gold star closer to finding the sleigh keys.You have completed Day 8! You can [Shareon\n",
      "  Twitter\n",
      "Mastodon] this victory or [Return to Your Advent Calendar].\u001b[0m\n"
     ]
    }
   ],
   "source": [
    "puzzle.answer_b = res_b"
   ]
  }
 ],
 "metadata": {
  "kernelspec": {
   "display_name": "Python 3",
   "language": "python",
   "name": "python3"
  },
  "language_info": {
   "codemirror_mode": {
    "name": "ipython",
    "version": 3
   },
   "file_extension": ".py",
   "mimetype": "text/x-python",
   "name": "python",
   "nbconvert_exporter": "python",
   "pygments_lexer": "ipython3",
   "version": "3.9.7"
  }
 },
 "nbformat": 4,
 "nbformat_minor": 5
}

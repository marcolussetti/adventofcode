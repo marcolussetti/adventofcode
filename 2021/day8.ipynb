{
 "cells": [
  {
   "cell_type": "code",
   "execution_count": 1,
   "id": "choice-maximum",
   "metadata": {
    "ExecuteTime": {
     "end_time": "2021-12-08T07:42:26.154907Z",
     "start_time": "2021-12-08T07:42:25.994019Z"
    }
   },
   "outputs": [],
   "source": [
    "from aocd.models import Puzzle"
   ]
  },
  {
   "cell_type": "code",
   "execution_count": 2,
   "id": "magnetic-cleveland",
   "metadata": {
    "ExecuteTime": {
     "end_time": "2021-12-08T07:42:26.158699Z",
     "start_time": "2021-12-08T07:42:26.156309Z"
    }
   },
   "outputs": [],
   "source": [
    "import itertools"
   ]
  },
  {
   "cell_type": "code",
   "execution_count": 3,
   "id": "entertaining-condition",
   "metadata": {
    "ExecuteTime": {
     "end_time": "2021-12-08T07:42:26.164427Z",
     "start_time": "2021-12-08T07:42:26.160562Z"
    }
   },
   "outputs": [],
   "source": [
    "puzzle = Puzzle(year=2021, day=8)"
   ]
  },
  {
   "cell_type": "code",
   "execution_count": 4,
   "id": "revolutionary-mayor",
   "metadata": {
    "ExecuteTime": {
     "end_time": "2021-12-08T07:42:26.169533Z",
     "start_time": "2021-12-08T07:42:26.165921Z"
    }
   },
   "outputs": [],
   "source": [
    "data = [([b for b in a.split(\"|\")[0].split(\" \")\n",
    "          if b], [b for b in a.split(\"|\")[1].split(\" \") if b])\n",
    "        for a in puzzle.input_data.split(\"\\n\")]"
   ]
  },
  {
   "cell_type": "markdown",
   "id": "robust-impression",
   "metadata": {},
   "source": [
    "# Part A"
   ]
  },
  {
   "cell_type": "code",
   "execution_count": 5,
   "id": "objective-turtle",
   "metadata": {
    "ExecuteTime": {
     "end_time": "2021-12-08T07:42:26.172815Z",
     "start_time": "2021-12-08T07:42:26.170558Z"
    }
   },
   "outputs": [],
   "source": [
    "outputs = list(itertools.chain(*[i[1] for i in data]))\n",
    "# outputs"
   ]
  },
  {
   "cell_type": "code",
   "execution_count": 6,
   "id": "american-search",
   "metadata": {
    "ExecuteTime": {
     "end_time": "2021-12-08T07:42:26.176079Z",
     "start_time": "2021-12-08T07:42:26.173981Z"
    }
   },
   "outputs": [],
   "source": [
    "puzzle.answer_a = len([a for a in outputs if len(a) in [2, 4, 3, 7]])"
   ]
  },
  {
   "cell_type": "markdown",
   "id": "amino-nicholas",
   "metadata": {},
   "source": [
    "# Part B"
   ]
  },
  {
   "cell_type": "code",
   "execution_count": 7,
   "id": "flush-dictionary",
   "metadata": {
    "ExecuteTime": {
     "end_time": "2021-12-08T07:42:26.178912Z",
     "start_time": "2021-12-08T07:42:26.177309Z"
    }
   },
   "outputs": [],
   "source": [
    "data_b = data.copy()"
   ]
  },
  {
   "cell_type": "code",
   "execution_count": 8,
   "id": "sound-communication",
   "metadata": {
    "ExecuteTime": {
     "end_time": "2021-12-08T07:42:26.198489Z",
     "start_time": "2021-12-08T07:42:26.179761Z"
    }
   },
   "outputs": [],
   "source": [
    "res_b = 0\n",
    "for patterns, display in data_b:\n",
    "    segments_to_codes = dict()\n",
    "    number_codes = [[]] * 10\n",
    "    \n",
    "    # Extract each number that can be extracted base on length\n",
    "    # Extract letters as soon as possible\n",
    "    # Extract 3, 2 and we're done\n",
    "    \n",
    "    # 8\n",
    "    number_codes[8] = [p for p in patterns if len(p) == 7][0]\n",
    "    \n",
    "    # 1\n",
    "    number_codes[1] = [p for p in patterns if len(p) == 2][0]\n",
    "    \n",
    "    # 7\n",
    "    number_codes[7] = [p for p in patterns if len(p) == 3][0]\n",
    "    segments_to_codes['a'] = [l for l in number_codes[7] if l not in number_codes[1]][0]\n",
    "\n",
    "    # 4\n",
    "    number_codes[4] = [p for p in patterns if len(p) == 4][0]\n",
    "            \n",
    "    # 3\n",
    "    number_codes[3] = [p for p in patterns if len(p) == 5 and set(p).issuperset(number_codes[1])][0]\n",
    "    segments_to_codes['g'] = [l for l in number_codes[3] if l not in [*number_codes[4],\n",
    "                                                                      *number_codes[7]]][0]\n",
    "    \n",
    "    segments_to_codes['e'] = [l for l in number_codes[8] if l not in [*number_codes[3],\n",
    "                                                                      *number_codes[4]]][0]\n",
    "    \n",
    "    # 2\n",
    "    number_codes[2] = [p for p in patterns if len(p) == 5 and segments_to_codes['e'] in p][0]\n",
    "    segments_to_codes['d'] = [l for l in number_codes[2] if l not in [*number_codes[7],\n",
    "                                                                      segments_to_codes['g'],\n",
    "                                                                      segments_to_codes['e']]][0]\n",
    "    segments_to_codes['f'] = [l for l in number_codes[1] if l not in number_codes[2]][0]\n",
    "    segments_to_codes['c'] = [l for l in number_codes[1] if l in number_codes[2]][0]\n",
    "    segments_to_codes['b'] = [l for l in number_codes[4] if l not in [*number_codes[1],\n",
    "                                                                      segments_to_codes['d']]][0]\n",
    "    \n",
    "    # Invert for easy lookups\n",
    "    codes_to_segments = {v: k for k, v in segments_to_codes.items()}\n",
    "    \n",
    "    # 0\n",
    "    number_codes[0] = [p for p in patterns if set([codes_to_segments[j] for j in p]) == set('abcefg')][0]\n",
    "    \n",
    "    # 5\n",
    "    number_codes[5] = [p for p in patterns if len(p) == 5 and p not in number_codes][0]\n",
    "    \n",
    "    # 6\n",
    "    number_codes[6] = [p for p in patterns if set([codes_to_segments[j] for j in p]) == set('abdefg')][0]\n",
    "    \n",
    "    # 9\n",
    "    number_codes[9] = [p for p in patterns if p not in number_codes][0]\n",
    "    \n",
    "    # Sort to deal with alternative orders\n",
    "    number_codes = [\"\".join(sorted(set(p))) for p in number_codes]\n",
    "    \n",
    "    \n",
    "    # NOW WE CAN PROCESS THE OUTPUT\n",
    "    value = []\n",
    "    for digit in display:\n",
    "        value.append(str(number_codes.index(\"\".join(sorted(set(digit))))))\n",
    "        \n",
    "    res_b += int(\"\".join(value))"
   ]
  },
  {
   "cell_type": "code",
   "execution_count": 9,
   "id": "infrared-cathedral",
   "metadata": {
    "ExecuteTime": {
     "end_time": "2021-12-08T07:42:26.201496Z",
     "start_time": "2021-12-08T07:42:26.199495Z"
    }
   },
   "outputs": [],
   "source": [
    "puzzle.answer_b = res_b"
   ]
  }
 ],
 "metadata": {
  "kernelspec": {
   "display_name": "Python 3",
   "language": "python",
   "name": "python3"
  },
  "language_info": {
   "codemirror_mode": {
    "name": "ipython",
    "version": 3
   },
   "file_extension": ".py",
   "mimetype": "text/x-python",
   "name": "python",
   "nbconvert_exporter": "python",
   "pygments_lexer": "ipython3",
   "version": "3.9.7"
  }
 },
 "nbformat": 4,
 "nbformat_minor": 5
}

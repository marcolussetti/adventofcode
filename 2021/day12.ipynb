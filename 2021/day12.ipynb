{
 "cells": [
  {
   "cell_type": "code",
   "execution_count": 1,
   "id": "magnetic-eligibility",
   "metadata": {
    "ExecuteTime": {
     "end_time": "2021-12-12T05:53:31.316364Z",
     "start_time": "2021-12-12T05:53:31.164555Z"
    }
   },
   "outputs": [],
   "source": [
    "from aocd.models import Puzzle"
   ]
  },
  {
   "cell_type": "code",
   "execution_count": 2,
   "id": "amber-caution",
   "metadata": {
    "ExecuteTime": {
     "end_time": "2021-12-12T05:53:31.319191Z",
     "start_time": "2021-12-12T05:53:31.317606Z"
    }
   },
   "outputs": [],
   "source": [
    "from collections import defaultdict"
   ]
  },
  {
   "cell_type": "code",
   "execution_count": 3,
   "id": "whole-intent",
   "metadata": {
    "ExecuteTime": {
     "end_time": "2021-12-12T05:53:31.322294Z",
     "start_time": "2021-12-12T05:53:31.320237Z"
    }
   },
   "outputs": [],
   "source": [
    "puzzle = Puzzle(year=2021, day=12)"
   ]
  },
  {
   "cell_type": "code",
   "execution_count": 4,
   "id": "gothic-piece",
   "metadata": {
    "ExecuteTime": {
     "end_time": "2021-12-12T05:53:31.326117Z",
     "start_time": "2021-12-12T05:53:31.324021Z"
    }
   },
   "outputs": [],
   "source": [
    "raw_data = puzzle.input_data.split(\"\\n\")"
   ]
  },
  {
   "cell_type": "code",
   "execution_count": 5,
   "id": "lonely-vancouver",
   "metadata": {
    "ExecuteTime": {
     "end_time": "2021-12-12T05:53:31.330475Z",
     "start_time": "2021-12-12T05:53:31.327643Z"
    }
   },
   "outputs": [],
   "source": [
    "m = defaultdict(set)\n",
    "for row in raw_data:\n",
    "    a, b = row.split(\"-\")\n",
    "    m[a].add(b)\n",
    "    m[b].add(a)"
   ]
  },
  {
   "cell_type": "markdown",
   "id": "industrial-lyric",
   "metadata": {
    "ExecuteTime": {
     "end_time": "2021-12-12T05:44:48.096340Z",
     "start_time": "2021-12-12T05:44:48.094042Z"
    }
   },
   "source": [
    "# Part A"
   ]
  },
  {
   "cell_type": "code",
   "execution_count": 6,
   "id": "apparent-oxide",
   "metadata": {
    "ExecuteTime": {
     "end_time": "2021-12-12T05:53:31.334622Z",
     "start_time": "2021-12-12T05:53:31.331931Z"
    }
   },
   "outputs": [],
   "source": [
    "def path_explore(cell, acc):\n",
    "#     print(cell, acc)\n",
    "    if cell != 'end':\n",
    "        paths = []\n",
    "        next_steps = [i for i in m[cell] if i.upper() == i or i not in acc]\n",
    "        for step in next_steps:\n",
    "            paths.extend(path_explore(step, [*acc, cell]))\n",
    "        return paths\n",
    "    else:\n",
    "        return [[*acc, 'end']]"
   ]
  },
  {
   "cell_type": "code",
   "execution_count": 7,
   "id": "revised-february",
   "metadata": {
    "ExecuteTime": {
     "end_time": "2021-12-12T05:53:31.359754Z",
     "start_time": "2021-12-12T05:53:31.335896Z"
    }
   },
   "outputs": [],
   "source": [
    "possible_paths = path_explore('start', [])"
   ]
  },
  {
   "cell_type": "code",
   "execution_count": 12,
   "id": "normal-phone",
   "metadata": {
    "ExecuteTime": {
     "end_time": "2021-12-12T05:56:43.262175Z",
     "start_time": "2021-12-12T05:56:43.259945Z"
    }
   },
   "outputs": [],
   "source": [
    "puzzle.answer_a = len(possible_paths)"
   ]
  },
  {
   "cell_type": "markdown",
   "id": "third-grave",
   "metadata": {
    "ExecuteTime": {
     "end_time": "2021-12-12T05:19:18.695522Z",
     "start_time": "2021-12-12T05:19:18.693559Z"
    }
   },
   "source": [
    "# Part B"
   ]
  },
  {
   "cell_type": "code",
   "execution_count": 9,
   "id": "greater-definition",
   "metadata": {
    "ExecuteTime": {
     "end_time": "2021-12-12T05:53:31.370893Z",
     "start_time": "2021-12-12T05:53:31.366768Z"
    }
   },
   "outputs": [],
   "source": [
    "def path_explore_b(cell, acc):\n",
    "    if cell != 'end':\n",
    "        paths = []\n",
    "        next_steps = [s for s in m[cell] if s not in acc or s.upper() == s or (s != 'start' and len([c for c in [*acc, cell] if c.upper() != c]) <  len(set([c for c in [*acc, cell] if c.upper() != c])) + 1)]\n",
    "        for step in next_steps:\n",
    "            paths.extend(path_explore_b(step, [*acc, cell]))\n",
    "        return paths\n",
    "    else:\n",
    "        return [[*acc, 'end']]"
   ]
  },
  {
   "cell_type": "code",
   "execution_count": 10,
   "id": "noticed-display",
   "metadata": {
    "ExecuteTime": {
     "end_time": "2021-12-12T05:53:34.896122Z",
     "start_time": "2021-12-12T05:53:31.372057Z"
    }
   },
   "outputs": [],
   "source": [
    "possible_paths_b = path_explore_b('start', [])"
   ]
  },
  {
   "cell_type": "code",
   "execution_count": 11,
   "id": "genuine-offer",
   "metadata": {
    "ExecuteTime": {
     "end_time": "2021-12-12T05:53:34.900306Z",
     "start_time": "2021-12-12T05:53:34.897509Z"
    }
   },
   "outputs": [],
   "source": [
    "puzzle.answer_b = len(possible_paths_b)"
   ]
  }
 ],
 "metadata": {
  "kernelspec": {
   "display_name": "Python 3",
   "language": "python",
   "name": "python3"
  },
  "language_info": {
   "codemirror_mode": {
    "name": "ipython",
    "version": 3
   },
   "file_extension": ".py",
   "mimetype": "text/x-python",
   "name": "python",
   "nbconvert_exporter": "python",
   "pygments_lexer": "ipython3",
   "version": "3.9.7"
  }
 },
 "nbformat": 4,
 "nbformat_minor": 5
}

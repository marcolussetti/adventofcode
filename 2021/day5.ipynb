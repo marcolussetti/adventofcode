{
 "cells": [
  {
   "cell_type": "code",
   "execution_count": 18,
   "id": "legislative-imaging",
   "metadata": {
    "ExecuteTime": {
     "end_time": "2021-12-07T00:57:36.906210Z",
     "start_time": "2021-12-07T00:57:36.903142Z"
    }
   },
   "outputs": [],
   "source": [
    "from aocd.models import Puzzle\n",
    "import itertools\n",
    "import numpy as np\n",
    "np.set_printoptions(threshold=np.inf)"
   ]
  },
  {
   "cell_type": "code",
   "execution_count": 19,
   "id": "accepting-ensemble",
   "metadata": {
    "ExecuteTime": {
     "end_time": "2021-12-07T00:57:37.455470Z",
     "start_time": "2021-12-07T00:57:37.453400Z"
    }
   },
   "outputs": [],
   "source": [
    "puzzle = Puzzle(year=2021, day=5)"
   ]
  },
  {
   "cell_type": "code",
   "execution_count": 20,
   "id": "reflected-weekend",
   "metadata": {
    "ExecuteTime": {
     "end_time": "2021-12-07T00:57:37.913069Z",
     "start_time": "2021-12-07T00:57:37.909713Z"
    }
   },
   "outputs": [],
   "source": [
    "data = [[[int(i) for i in subrow.split(\",\")] for subrow in row.split(\" -> \")]\n",
    "        for row in puzzle.input_data.split(\"\\n\")]"
   ]
  },
  {
   "cell_type": "code",
   "execution_count": 21,
   "id": "occupational-basement",
   "metadata": {
    "ExecuteTime": {
     "end_time": "2021-12-07T00:57:38.377948Z",
     "start_time": "2021-12-07T00:57:38.374904Z"
    }
   },
   "outputs": [
    {
     "data": {
      "text/plain": [
       "500"
      ]
     },
     "execution_count": 21,
     "metadata": {},
     "output_type": "execute_result"
    }
   ],
   "source": [
    "len(data)"
   ]
  },
  {
   "cell_type": "markdown",
   "id": "english-heater",
   "metadata": {},
   "source": [
    "# Part A"
   ]
  },
  {
   "cell_type": "code",
   "execution_count": 38,
   "id": "economic-possible",
   "metadata": {
    "ExecuteTime": {
     "end_time": "2021-12-07T00:59:19.482733Z",
     "start_time": "2021-12-07T00:59:19.479427Z"
    }
   },
   "outputs": [],
   "source": [
    "data_a = [row for row in data if row[0][0] == row[1][0] or row[0][1] == row[1][1]]"
   ]
  },
  {
   "cell_type": "code",
   "execution_count": 39,
   "id": "rental-transparency",
   "metadata": {
    "ExecuteTime": {
     "end_time": "2021-12-07T00:59:19.779136Z",
     "start_time": "2021-12-07T00:59:19.775698Z"
    }
   },
   "outputs": [
    {
     "data": {
      "text/plain": [
       "329"
      ]
     },
     "execution_count": 39,
     "metadata": {},
     "output_type": "execute_result"
    }
   ],
   "source": [
    "len(data_a)"
   ]
  },
  {
   "cell_type": "code",
   "execution_count": 40,
   "id": "friendly-practitioner",
   "metadata": {
    "ExecuteTime": {
     "end_time": "2021-12-07T00:59:20.211114Z",
     "start_time": "2021-12-07T00:59:20.207200Z"
    }
   },
   "outputs": [],
   "source": [
    "max_ax = max([*[row[1][0] for row in data_a], *[row[0][0] for row in data_a]])\n",
    "max_ay = max([*[row[1][1] for row in data_a], *[row[0][1] for row in data_a]])"
   ]
  },
  {
   "cell_type": "code",
   "execution_count": 41,
   "id": "announced-welsh",
   "metadata": {
    "ExecuteTime": {
     "end_time": "2021-12-07T00:59:20.630246Z",
     "start_time": "2021-12-07T00:59:20.543592Z"
    }
   },
   "outputs": [],
   "source": [
    "grid_a = [[0 for j in range(max_ay + 1)] for i in range(max_ax + 1)]\n",
    "\n",
    "for row in data_a:\n",
    "    x_range = range(row[0][0],\n",
    "                    row[1][0] + (-1 if row[0][0] > row[1][0] else 1),\n",
    "                    -1 if row[0][0] > row[1][0] else 1)\n",
    "    y_range = range(row[0][1],\n",
    "                    row[1][1] + (-1 if row[0][1] > row[1][1] else 1),\n",
    "                    -1 if row[0][1] > row[1][1] else 1)\n",
    "\n",
    "    if len(x_range) < len(y_range):\n",
    "        x_range = itertools.cycle(x_range)\n",
    "    elif len(x_range) > len(y_range):\n",
    "        y_range = itertools.cycle(y_range)\n",
    "\n",
    "    for x, y in zip(x_range, y_range):\n",
    "        grid_a[x][y] += 1"
   ]
  },
  {
   "cell_type": "code",
   "execution_count": 42,
   "id": "after-insight",
   "metadata": {
    "ExecuteTime": {
     "end_time": "2021-12-07T00:59:21.076272Z",
     "start_time": "2021-12-07T00:59:20.937531Z"
    }
   },
   "outputs": [],
   "source": [
    "res_a = []\n",
    "for x in range(len(grid_a)):\n",
    "    for y in range(len(grid_a[0])):\n",
    "        if grid_a[x][y] >= 2:\n",
    "            res_a.append([x, y])"
   ]
  },
  {
   "cell_type": "code",
   "execution_count": 43,
   "id": "appreciated-publication",
   "metadata": {
    "ExecuteTime": {
     "end_time": "2021-12-07T00:59:21.337366Z",
     "start_time": "2021-12-07T00:59:21.334967Z"
    }
   },
   "outputs": [],
   "source": [
    "puzzle.answer_a = len(res_a)"
   ]
  },
  {
   "cell_type": "markdown",
   "id": "fabulous-croatia",
   "metadata": {},
   "source": [
    "## Part B"
   ]
  },
  {
   "cell_type": "code",
   "execution_count": 44,
   "id": "stylish-crawford",
   "metadata": {
    "ExecuteTime": {
     "end_time": "2021-12-07T01:01:00.271301Z",
     "start_time": "2021-12-07T01:01:00.267437Z"
    }
   },
   "outputs": [],
   "source": [
    "max_bx = max([*[row[1][0] for row in data], *[row[0][0] for row in data]])\n",
    "max_by = max([*[row[1][1] for row in data], *[row[0][1] for row in data]])"
   ]
  },
  {
   "cell_type": "code",
   "execution_count": 45,
   "id": "collectible-paragraph",
   "metadata": {
    "ExecuteTime": {
     "end_time": "2021-12-07T01:01:00.848169Z",
     "start_time": "2021-12-07T01:01:00.748884Z"
    }
   },
   "outputs": [],
   "source": [
    "grid_b = [[0 for j in range(max_by + 1)] for i in range(max_bx + 1)]\n",
    "\n",
    "for row in data:\n",
    "    x_range = range(row[0][0],\n",
    "                    row[1][0] + (-1 if row[0][0] > row[1][0] else 1),\n",
    "                    -1 if row[0][0] > row[1][0] else 1)\n",
    "    y_range = range(row[0][1],\n",
    "                    row[1][1] + (-1 if row[0][1] > row[1][1] else 1),\n",
    "                    -1 if row[0][1] > row[1][1] else 1)\n",
    "\n",
    "    if len(x_range) < len(y_range):\n",
    "        x_range = itertools.cycle(x_range)\n",
    "    elif len(x_range) > len(y_range):\n",
    "        y_range = itertools.cycle(y_range)\n",
    "\n",
    "    for x, y in zip(x_range, y_range):\n",
    "        grid_b[x][y] += 1"
   ]
  },
  {
   "cell_type": "code",
   "execution_count": 49,
   "id": "expressed-crisis",
   "metadata": {
    "ExecuteTime": {
     "end_time": "2021-12-07T01:01:13.473399Z",
     "start_time": "2021-12-07T01:01:13.326752Z"
    }
   },
   "outputs": [],
   "source": [
    "res_b = []\n",
    "for x in range(len(grid_b)):\n",
    "    for y in range(len(grid_b[0])):\n",
    "        if grid_b[x][y] >= 2:\n",
    "            res_b.append([x, y])"
   ]
  },
  {
   "cell_type": "code",
   "execution_count": 50,
   "id": "piano-permission",
   "metadata": {
    "ExecuteTime": {
     "end_time": "2021-12-07T01:01:13.666910Z",
     "start_time": "2021-12-07T01:01:13.662850Z"
    }
   },
   "outputs": [
    {
     "data": {
      "text/plain": [
       "22037"
      ]
     },
     "execution_count": 50,
     "metadata": {},
     "output_type": "execute_result"
    }
   ],
   "source": [
    "len(res_b)"
   ]
  },
  {
   "cell_type": "code",
   "execution_count": 51,
   "id": "breathing-slovenia",
   "metadata": {
    "ExecuteTime": {
     "end_time": "2021-12-07T01:01:14.809003Z",
     "start_time": "2021-12-07T01:01:14.806610Z"
    }
   },
   "outputs": [],
   "source": [
    "puzzle.answer_b = len(res_b)"
   ]
  }
 ],
 "metadata": {
  "kernelspec": {
   "display_name": "Python 3",
   "language": "python",
   "name": "python3"
  },
  "language_info": {
   "codemirror_mode": {
    "name": "ipython",
    "version": 3
   },
   "file_extension": ".py",
   "mimetype": "text/x-python",
   "name": "python",
   "nbconvert_exporter": "python",
   "pygments_lexer": "ipython3",
   "version": "3.9.7"
  }
 },
 "nbformat": 4,
 "nbformat_minor": 5
}

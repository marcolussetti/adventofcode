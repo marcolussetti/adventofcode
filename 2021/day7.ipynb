{
 "cells": [
  {
   "cell_type": "code",
   "execution_count": 1,
   "id": "advised-nursing",
   "metadata": {
    "ExecuteTime": {
     "end_time": "2021-12-07T05:23:08.571935Z",
     "start_time": "2021-12-07T05:23:08.402382Z"
    }
   },
   "outputs": [],
   "source": [
    "from aocd.models import Puzzle"
   ]
  },
  {
   "cell_type": "code",
   "execution_count": 2,
   "id": "veterinary-gathering",
   "metadata": {
    "ExecuteTime": {
     "end_time": "2021-12-07T05:23:08.577034Z",
     "start_time": "2021-12-07T05:23:08.573765Z"
    }
   },
   "outputs": [],
   "source": [
    "puzzle = Puzzle(year=2021, day=7)"
   ]
  },
  {
   "cell_type": "code",
   "execution_count": 3,
   "id": "processed-rendering",
   "metadata": {
    "ExecuteTime": {
     "end_time": "2021-12-07T05:23:08.581662Z",
     "start_time": "2021-12-07T05:23:08.579358Z"
    }
   },
   "outputs": [],
   "source": [
    "data = [int(i) for i in puzzle.input_data.split(\",\")]"
   ]
  },
  {
   "cell_type": "markdown",
   "id": "banned-kitty",
   "metadata": {},
   "source": [
    "# Part A"
   ]
  },
  {
   "cell_type": "code",
   "execution_count": 4,
   "id": "sunset-measurement",
   "metadata": {
    "ExecuteTime": {
     "end_time": "2021-12-07T05:23:08.726098Z",
     "start_time": "2021-12-07T05:23:08.582620Z"
    }
   },
   "outputs": [],
   "source": [
    "puzzle.answer_a = min([sum([abs(val-i) for val in data]) for i in range(min(data), max(data))])"
   ]
  },
  {
   "cell_type": "markdown",
   "id": "suburban-director",
   "metadata": {
    "ExecuteTime": {
     "end_time": "2021-12-07T05:04:38.563431Z",
     "start_time": "2021-12-07T05:04:38.561126Z"
    }
   },
   "source": [
    "# Part B"
   ]
  },
  {
   "cell_type": "code",
   "execution_count": 5,
   "id": "random-situation",
   "metadata": {
    "ExecuteTime": {
     "end_time": "2021-12-07T05:23:59.828246Z",
     "start_time": "2021-12-07T05:23:08.727543Z"
    }
   },
   "outputs": [],
   "source": [
    "puzzle.answer_b = min([sum([sum([j+1 for j in range(abs(val-i))]) for val in data]) for i in range(min(data), max(data))])"
   ]
  }
 ],
 "metadata": {
  "kernelspec": {
   "display_name": "Python 3",
   "language": "python",
   "name": "python3"
  },
  "language_info": {
   "codemirror_mode": {
    "name": "ipython",
    "version": 3
   },
   "file_extension": ".py",
   "mimetype": "text/x-python",
   "name": "python",
   "nbconvert_exporter": "python",
   "pygments_lexer": "ipython3",
   "version": "3.9.7"
  }
 },
 "nbformat": 4,
 "nbformat_minor": 5
}

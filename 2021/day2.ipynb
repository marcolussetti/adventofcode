{
 "cells": [
  {
   "cell_type": "code",
   "execution_count": 1,
   "id": "suburban-remove",
   "metadata": {
    "ExecuteTime": {
     "end_time": "2021-12-02T05:11:27.018881Z",
     "start_time": "2021-12-02T05:11:26.861644Z"
    }
   },
   "outputs": [],
   "source": [
    "from aocd.models import Puzzle"
   ]
  },
  {
   "cell_type": "markdown",
   "id": "digital-limitation",
   "metadata": {},
   "source": [
    "# Part A"
   ]
  },
  {
   "cell_type": "code",
   "execution_count": 2,
   "id": "unable-progressive",
   "metadata": {
    "ExecuteTime": {
     "end_time": "2021-12-02T05:11:27.022016Z",
     "start_time": "2021-12-02T05:11:27.020015Z"
    }
   },
   "outputs": [],
   "source": [
    "puzzle = Puzzle(year=2021, day=2)"
   ]
  },
  {
   "cell_type": "code",
   "execution_count": 3,
   "id": "attractive-cameroon",
   "metadata": {
    "ExecuteTime": {
     "end_time": "2021-12-02T05:11:27.027766Z",
     "start_time": "2021-12-02T05:11:27.024471Z"
    }
   },
   "outputs": [],
   "source": [
    "data = puzzle.input_data"
   ]
  },
  {
   "cell_type": "code",
   "execution_count": 4,
   "id": "designed-smooth",
   "metadata": {
    "ExecuteTime": {
     "end_time": "2021-12-02T05:11:27.032091Z",
     "start_time": "2021-12-02T05:11:27.029607Z"
    }
   },
   "outputs": [],
   "source": [
    "data = [(row.split(\" \")[0], int(row.split(\" \")[1])) for row in data.split(\"\\n\")]"
   ]
  },
  {
   "cell_type": "code",
   "execution_count": 5,
   "id": "substantial-ministry",
   "metadata": {
    "ExecuteTime": {
     "end_time": "2021-12-02T05:11:27.034785Z",
     "start_time": "2021-12-02T05:11:27.033031Z"
    }
   },
   "outputs": [],
   "source": [
    "a = [0, 0]"
   ]
  },
  {
   "cell_type": "code",
   "execution_count": 6,
   "id": "armed-toolbox",
   "metadata": {
    "ExecuteTime": {
     "end_time": "2021-12-02T05:11:27.038096Z",
     "start_time": "2021-12-02T05:11:27.035638Z"
    }
   },
   "outputs": [],
   "source": [
    "for instr, i in data:\n",
    "    if instr == \"forward\":\n",
    "        a[0] += i\n",
    "    elif instr == \"down\":\n",
    "        a[1] += i\n",
    "    elif instr == \"up\":\n",
    "        a[1] -= i"
   ]
  },
  {
   "cell_type": "code",
   "execution_count": 7,
   "id": "horizontal-nation",
   "metadata": {
    "ExecuteTime": {
     "end_time": "2021-12-02T05:11:27.041871Z",
     "start_time": "2021-12-02T05:11:27.039634Z"
    }
   },
   "outputs": [],
   "source": [
    "puzzle.answer_a = a[0] * a[1]"
   ]
  },
  {
   "cell_type": "markdown",
   "id": "likely-lesson",
   "metadata": {
    "ExecuteTime": {
     "end_time": "2021-12-02T05:03:22.625711Z",
     "start_time": "2021-12-02T05:03:22.622803Z"
    }
   },
   "source": [
    "# Part B"
   ]
  },
  {
   "cell_type": "code",
   "execution_count": 8,
   "id": "weekly-match",
   "metadata": {
    "ExecuteTime": {
     "end_time": "2021-12-02T05:11:27.045383Z",
     "start_time": "2021-12-02T05:11:27.043342Z"
    }
   },
   "outputs": [],
   "source": [
    "b = [0, 0, 0]"
   ]
  },
  {
   "cell_type": "code",
   "execution_count": 9,
   "id": "academic-healing",
   "metadata": {
    "ExecuteTime": {
     "end_time": "2021-12-02T05:11:27.049654Z",
     "start_time": "2021-12-02T05:11:27.046959Z"
    }
   },
   "outputs": [],
   "source": [
    "for instr, i in data:\n",
    "    if instr == \"forward\":\n",
    "        b[0] += i\n",
    "        b[1] += b[2] * i\n",
    "    elif instr == \"down\":\n",
    "        b[2] += i\n",
    "    elif instr == \"up\":\n",
    "        b[2] -= i"
   ]
  },
  {
   "cell_type": "code",
   "execution_count": 10,
   "id": "southwest-peninsula",
   "metadata": {
    "ExecuteTime": {
     "end_time": "2021-12-02T05:11:27.052465Z",
     "start_time": "2021-12-02T05:11:27.050647Z"
    }
   },
   "outputs": [],
   "source": [
    "puzzle.answer_b = b[0] * b[1]"
   ]
  }
 ],
 "metadata": {
  "kernelspec": {
   "display_name": "Python 3",
   "language": "python",
   "name": "python3"
  },
  "language_info": {
   "codemirror_mode": {
    "name": "ipython",
    "version": 3
   },
   "file_extension": ".py",
   "mimetype": "text/x-python",
   "name": "python",
   "nbconvert_exporter": "python",
   "pygments_lexer": "ipython3",
   "version": "3.9.7"
  }
 },
 "nbformat": 4,
 "nbformat_minor": 5
}

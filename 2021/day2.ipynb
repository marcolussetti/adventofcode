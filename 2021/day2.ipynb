{
 "cells": [
  {
   "cell_type": "code",
   "execution_count": 1,
   "id": "second-shape",
   "metadata": {
    "ExecuteTime": {
     "end_time": "2021-12-02T04:57:24.371214Z",
     "start_time": "2021-12-02T04:57:24.364661Z"
    }
   },
   "outputs": [],
   "source": [
    "import aoc"
   ]
  },
  {
   "cell_type": "code",
   "execution_count": 2,
   "id": "cultural-bidder",
   "metadata": {
    "ExecuteTime": {
     "end_time": "2021-12-02T04:57:28.646448Z",
     "start_time": "2021-12-02T04:57:28.453794Z"
    }
   },
   "outputs": [],
   "source": [
    "from aocd.models import Puzzle"
   ]
  },
  {
   "cell_type": "markdown",
   "id": "residential-opera",
   "metadata": {},
   "source": [
    "# Part A"
   ]
  },
  {
   "cell_type": "code",
   "execution_count": 4,
   "id": "established-dryer",
   "metadata": {
    "ExecuteTime": {
     "end_time": "2021-12-02T05:00:01.307270Z",
     "start_time": "2021-12-02T05:00:01.304001Z"
    }
   },
   "outputs": [],
   "source": [
    "puzzle = Puzzle(year=2021, day=2)"
   ]
  },
  {
   "cell_type": "code",
   "execution_count": 10,
   "id": "permanent-western",
   "metadata": {
    "ExecuteTime": {
     "end_time": "2021-12-02T05:00:35.933121Z",
     "start_time": "2021-12-02T05:00:35.931001Z"
    }
   },
   "outputs": [],
   "source": [
    "data = puzzle.input_data"
   ]
  },
  {
   "cell_type": "code",
   "execution_count": 11,
   "id": "handmade-representation",
   "metadata": {
    "ExecuteTime": {
     "end_time": "2021-12-02T05:00:41.238046Z",
     "start_time": "2021-12-02T05:00:41.235957Z"
    }
   },
   "outputs": [],
   "source": [
    "data = data.split(\"\\n\")"
   ]
  },
  {
   "cell_type": "code",
   "execution_count": 25,
   "id": "architectural-award",
   "metadata": {
    "ExecuteTime": {
     "end_time": "2021-12-02T05:06:33.314448Z",
     "start_time": "2021-12-02T05:06:33.311822Z"
    }
   },
   "outputs": [],
   "source": [
    "# data"
   ]
  },
  {
   "cell_type": "code",
   "execution_count": 16,
   "id": "continued-orbit",
   "metadata": {
    "ExecuteTime": {
     "end_time": "2021-12-02T05:02:52.446146Z",
     "start_time": "2021-12-02T05:02:52.443913Z"
    }
   },
   "outputs": [],
   "source": [
    "tracker = [0, 0]"
   ]
  },
  {
   "cell_type": "code",
   "execution_count": 17,
   "id": "institutional-provision",
   "metadata": {
    "ExecuteTime": {
     "end_time": "2021-12-02T05:02:52.792911Z",
     "start_time": "2021-12-02T05:02:52.787034Z"
    }
   },
   "outputs": [],
   "source": [
    "for i in data:\n",
    "    instr, c = i.split(\" \")\n",
    "    if instr == \"forward\":\n",
    "        tracker[0] += int(c)\n",
    "    elif instr == \"down\":\n",
    "        tracker[1] += int(c)\n",
    "    elif instr == \"up\":\n",
    "        tracker[1] -= int(c)\n",
    "    elif inst == \"back\":\n",
    "        tracker[0] -= int(c)"
   ]
  },
  {
   "cell_type": "code",
   "execution_count": 18,
   "id": "informal-independence",
   "metadata": {
    "ExecuteTime": {
     "end_time": "2021-12-02T05:03:12.416562Z",
     "start_time": "2021-12-02T05:03:09.478901Z"
    }
   },
   "outputs": [
    {
     "name": "stdout",
     "output_type": "stream",
     "text": [
      "\u001b[32mThat's the right answer!  You are one gold star closer to finding the sleigh keys. [Continue to Part Two]\u001b[0m\n"
     ]
    }
   ],
   "source": [
    "puzzle.answer_a = tracker[0] * tracker[1]"
   ]
  },
  {
   "cell_type": "code",
   "execution_count": 19,
   "id": "joint-reputation",
   "metadata": {
    "ExecuteTime": {
     "end_time": "2021-12-02T05:03:22.625711Z",
     "start_time": "2021-12-02T05:03:22.622803Z"
    }
   },
   "outputs": [],
   "source": [
    "#"
   ]
  },
  {
   "cell_type": "code",
   "execution_count": 22,
   "id": "native-portrait",
   "metadata": {
    "ExecuteTime": {
     "end_time": "2021-12-02T05:04:34.535127Z",
     "start_time": "2021-12-02T05:04:34.533447Z"
    }
   },
   "outputs": [],
   "source": [
    "tracker = [0, 0, 0]"
   ]
  },
  {
   "cell_type": "code",
   "execution_count": 23,
   "id": "social-working",
   "metadata": {
    "ExecuteTime": {
     "end_time": "2021-12-02T05:04:34.904656Z",
     "start_time": "2021-12-02T05:04:34.901335Z"
    }
   },
   "outputs": [],
   "source": [
    "for i in data:\n",
    "    instr, c = i.split(\" \")\n",
    "    if instr == \"forward\":\n",
    "        tracker[0] += int(c)\n",
    "        tracker[2] += tracker[1] * int(c)\n",
    "    elif instr == \"down\":\n",
    "        tracker[1] += int(c)\n",
    "    elif instr == \"up\":\n",
    "        tracker[1] -= int(c)\n",
    "    elif inst == \"back\":\n",
    "        tracker[0] -= int(c)"
   ]
  },
  {
   "cell_type": "code",
   "execution_count": 24,
   "id": "technological-thing",
   "metadata": {
    "ExecuteTime": {
     "end_time": "2021-12-02T05:04:52.427648Z",
     "start_time": "2021-12-02T05:04:51.052077Z"
    }
   },
   "outputs": [
    {
     "name": "stdout",
     "output_type": "stream",
     "text": [
      "\u001b[32mThat's the right answer!  You are one gold star closer to finding the sleigh keys. You got rank 791 on this star's leaderboard.You have completed Day 2! You can [Shareon\n",
      "  Twitter\n",
      "Mastodon] this victory or [Return to Your Advent Calendar].\u001b[0m\n"
     ]
    }
   ],
   "source": [
    "puzzle.answer_b = tracker[0] * tracker[2]"
   ]
  },
  {
   "cell_type": "code",
   "execution_count": null,
   "id": "subject-fellowship",
   "metadata": {},
   "outputs": [],
   "source": []
  }
 ],
 "metadata": {
  "kernelspec": {
   "display_name": "Python 3",
   "language": "python",
   "name": "python3"
  },
  "language_info": {
   "codemirror_mode": {
    "name": "ipython",
    "version": 3
   },
   "file_extension": ".py",
   "mimetype": "text/x-python",
   "name": "python",
   "nbconvert_exporter": "python",
   "pygments_lexer": "ipython3",
   "version": "3.9.7"
  }
 },
 "nbformat": 4,
 "nbformat_minor": 5
}

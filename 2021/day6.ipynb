{
 "cells": [
  {
   "cell_type": "code",
   "execution_count": 1,
   "id": "accomplished-enclosure",
   "metadata": {
    "ExecuteTime": {
     "end_time": "2021-12-06T23:07:54.432244Z",
     "start_time": "2021-12-06T23:07:54.229337Z"
    }
   },
   "outputs": [],
   "source": [
    "from aocd.models import Puzzle"
   ]
  },
  {
   "cell_type": "code",
   "execution_count": 2,
   "id": "chubby-minnesota",
   "metadata": {
    "ExecuteTime": {
     "end_time": "2021-12-06T23:07:54.500985Z",
     "start_time": "2021-12-06T23:07:54.498682Z"
    }
   },
   "outputs": [],
   "source": [
    "puzzle = Puzzle(year=2021, day=6)"
   ]
  },
  {
   "cell_type": "code",
   "execution_count": 3,
   "id": "preceding-sheffield",
   "metadata": {
    "ExecuteTime": {
     "end_time": "2021-12-06T23:07:54.900367Z",
     "start_time": "2021-12-06T23:07:54.897964Z"
    }
   },
   "outputs": [],
   "source": [
    "data = [int(i) for i in puzzle.input_data.split(\",\")]"
   ]
  },
  {
   "cell_type": "code",
   "execution_count": 9,
   "id": "ecological-lighting",
   "metadata": {
    "ExecuteTime": {
     "end_time": "2021-12-06T23:15:19.199692Z",
     "start_time": "2021-12-06T23:15:19.197710Z"
    }
   },
   "outputs": [],
   "source": [
    "with open(\"day6.txt\", \"w\") as f:\n",
    "    f.write(puzzle.input_data)"
   ]
  },
  {
   "cell_type": "markdown",
   "id": "going-rhythm",
   "metadata": {},
   "source": [
    "# Part A"
   ]
  },
  {
   "cell_type": "code",
   "execution_count": 6,
   "id": "documented-qualification",
   "metadata": {
    "ExecuteTime": {
     "end_time": "2021-12-06T23:10:56.171931Z",
     "start_time": "2021-12-06T23:10:56.169822Z"
    }
   },
   "outputs": [],
   "source": [
    "test = [3,4,3,1,2]"
   ]
  },
  {
   "cell_type": "code",
   "execution_count": 52,
   "id": "aerial-movie",
   "metadata": {
    "ExecuteTime": {
     "end_time": "2021-12-06T21:48:57.072584Z",
     "start_time": "2021-12-06T21:48:56.396428Z"
    }
   },
   "outputs": [],
   "source": [
    "data_a = data.copy()\n",
    "for day in range(0, 80):\n",
    "    for i in range(len(data_a)):\n",
    "        if data_a[i] == 0:\n",
    "            data_a[i] = 6\n",
    "            data_a.append(8)\n",
    "        else:\n",
    "            data_a[i] -= 1"
   ]
  },
  {
   "cell_type": "code",
   "execution_count": 53,
   "id": "indirect-netherlands",
   "metadata": {
    "ExecuteTime": {
     "end_time": "2021-12-06T21:48:57.576098Z",
     "start_time": "2021-12-06T21:48:57.572821Z"
    }
   },
   "outputs": [
    {
     "data": {
      "text/plain": [
       "389726"
      ]
     },
     "execution_count": 53,
     "metadata": {},
     "output_type": "execute_result"
    }
   ],
   "source": [
    "len(data_a)"
   ]
  },
  {
   "cell_type": "code",
   "execution_count": 54,
   "id": "conditional-journal",
   "metadata": {
    "ExecuteTime": {
     "end_time": "2021-12-06T21:49:01.320567Z",
     "start_time": "2021-12-06T21:48:58.293308Z"
    }
   },
   "outputs": [
    {
     "name": "stdout",
     "output_type": "stream",
     "text": [
      "\u001b[32mThat's the right answer!  You are one gold star closer to finding the sleigh keys. [Continue to Part Two]\u001b[0m\n"
     ]
    }
   ],
   "source": [
    "puzzle.answer_a = len(data_a)"
   ]
  },
  {
   "cell_type": "markdown",
   "id": "durable-extreme",
   "metadata": {},
   "source": [
    "## Part B"
   ]
  },
  {
   "cell_type": "code",
   "execution_count": 55,
   "id": "spectacular-masters",
   "metadata": {
    "ExecuteTime": {
     "end_time": "2021-12-06T23:07:28.663924Z",
     "start_time": "2021-12-06T21:49:34.402531Z"
    }
   },
   "outputs": [
    {
     "ename": "KeyboardInterrupt",
     "evalue": "",
     "output_type": "error",
     "traceback": [
      "\u001b[0;31m---------------------------------------------------------------------------\u001b[0m",
      "\u001b[0;31mKeyboardInterrupt\u001b[0m                         Traceback (most recent call last)",
      "\u001b[0;32m<ipython-input-55-ca54d0a1fd79>\u001b[0m in \u001b[0;36m<module>\u001b[0;34m\u001b[0m\n\u001b[1;32m      6\u001b[0m             \u001b[0mdata_b\u001b[0m\u001b[0;34m.\u001b[0m\u001b[0mappend\u001b[0m\u001b[0;34m(\u001b[0m\u001b[0;36m8\u001b[0m\u001b[0;34m)\u001b[0m\u001b[0;34m\u001b[0m\u001b[0;34m\u001b[0m\u001b[0m\n\u001b[1;32m      7\u001b[0m         \u001b[0;32melse\u001b[0m\u001b[0;34m:\u001b[0m\u001b[0;34m\u001b[0m\u001b[0;34m\u001b[0m\u001b[0m\n\u001b[0;32m----> 8\u001b[0;31m             \u001b[0mdata_b\u001b[0m\u001b[0;34m[\u001b[0m\u001b[0mi\u001b[0m\u001b[0;34m]\u001b[0m \u001b[0;34m-=\u001b[0m \u001b[0;36m1\u001b[0m\u001b[0;34m\u001b[0m\u001b[0;34m\u001b[0m\u001b[0m\n\u001b[0m",
      "\u001b[0;31mKeyboardInterrupt\u001b[0m: "
     ]
    }
   ],
   "source": [
    "# data_b = data.copy()\n",
    "# for day in range(0, 256):\n",
    "#     for i in range(len(data_b)):\n",
    "#         if data_b[i] == 0:\n",
    "#             data_b[i] = 6\n",
    "#             data_b.append(8)\n",
    "#         else:\n",
    "#             data_b[i] -= 1"
   ]
  },
  {
   "cell_type": "code",
   "execution_count": null,
   "id": "turned-performance",
   "metadata": {},
   "outputs": [],
   "source": [
    "# Replaced w/ golang at day6.go"
   ]
  }
 ],
 "metadata": {
  "kernelspec": {
   "display_name": "Python 3",
   "language": "python",
   "name": "python3"
  },
  "language_info": {
   "codemirror_mode": {
    "name": "ipython",
    "version": 3
   },
   "file_extension": ".py",
   "mimetype": "text/x-python",
   "name": "python",
   "nbconvert_exporter": "python",
   "pygments_lexer": "ipython3",
   "version": "3.9.7"
  }
 },
 "nbformat": 4,
 "nbformat_minor": 5
}

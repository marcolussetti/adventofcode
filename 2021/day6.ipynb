{
 "cells": [
  {
   "cell_type": "code",
   "execution_count": 2,
   "id": "accomplished-enclosure",
   "metadata": {
    "ExecuteTime": {
     "end_time": "2021-12-07T01:14:32.806359Z",
     "start_time": "2021-12-07T01:14:32.640172Z"
    }
   },
   "outputs": [],
   "source": [
    "from aocd.models import Puzzle"
   ]
  },
  {
   "cell_type": "code",
   "execution_count": 3,
   "id": "chubby-minnesota",
   "metadata": {
    "ExecuteTime": {
     "end_time": "2021-12-07T01:14:32.993440Z",
     "start_time": "2021-12-07T01:14:32.990790Z"
    }
   },
   "outputs": [],
   "source": [
    "puzzle = Puzzle(year=2021, day=6)"
   ]
  },
  {
   "cell_type": "code",
   "execution_count": 4,
   "id": "preceding-sheffield",
   "metadata": {
    "ExecuteTime": {
     "end_time": "2021-12-07T01:14:33.370316Z",
     "start_time": "2021-12-07T01:14:33.367053Z"
    }
   },
   "outputs": [],
   "source": [
    "data = [int(i) for i in puzzle.input_data.split(\",\")]"
   ]
  },
  {
   "cell_type": "markdown",
   "id": "going-rhythm",
   "metadata": {},
   "source": [
    "# Part A"
   ]
  },
  {
   "cell_type": "code",
   "execution_count": 18,
   "id": "documented-qualification",
   "metadata": {
    "ExecuteTime": {
     "end_time": "2021-12-07T01:36:08.912107Z",
     "start_time": "2021-12-07T01:36:08.909137Z"
    }
   },
   "outputs": [],
   "source": [
    "test = [3,4,3,1,2]"
   ]
  },
  {
   "cell_type": "code",
   "execution_count": 7,
   "id": "aerial-movie",
   "metadata": {
    "ExecuteTime": {
     "end_time": "2021-12-07T01:14:35.571764Z",
     "start_time": "2021-12-07T01:14:34.934828Z"
    }
   },
   "outputs": [],
   "source": [
    "data_a = data.copy()\n",
    "for day in range(0, 80):\n",
    "    for i in range(len(data_a)):\n",
    "        if data_a[i] == 0:\n",
    "            data_a[i] = 6\n",
    "            data_a.append(8)\n",
    "        else:\n",
    "            data_a[i] -= 1"
   ]
  },
  {
   "cell_type": "code",
   "execution_count": 8,
   "id": "indirect-netherlands",
   "metadata": {
    "ExecuteTime": {
     "end_time": "2021-12-07T01:14:35.579419Z",
     "start_time": "2021-12-07T01:14:35.572810Z"
    }
   },
   "outputs": [
    {
     "data": {
      "text/plain": [
       "389726"
      ]
     },
     "execution_count": 8,
     "metadata": {},
     "output_type": "execute_result"
    }
   ],
   "source": [
    "len(data_a)"
   ]
  },
  {
   "cell_type": "code",
   "execution_count": 9,
   "id": "conditional-journal",
   "metadata": {
    "ExecuteTime": {
     "end_time": "2021-12-07T01:14:36.201826Z",
     "start_time": "2021-12-07T01:14:36.199010Z"
    }
   },
   "outputs": [],
   "source": [
    "puzzle.answer_a = len(data_a)"
   ]
  },
  {
   "cell_type": "markdown",
   "id": "durable-extreme",
   "metadata": {},
   "source": [
    "## Part B\n",
    "This was originally solved in golang at day6.go"
   ]
  },
  {
   "cell_type": "code",
   "execution_count": 19,
   "id": "turned-performance",
   "metadata": {
    "ExecuteTime": {
     "end_time": "2021-12-07T01:36:20.091954Z",
     "start_time": "2021-12-07T01:36:20.089087Z"
    }
   },
   "outputs": [],
   "source": [
    "data_b = data.copy()"
   ]
  },
  {
   "cell_type": "code",
   "execution_count": 23,
   "id": "sweet-vulnerability",
   "metadata": {
    "ExecuteTime": {
     "end_time": "2021-12-07T01:36:25.536987Z",
     "start_time": "2021-12-07T01:36:25.534796Z"
    }
   },
   "outputs": [],
   "source": [
    "DAYS = 256"
   ]
  },
  {
   "cell_type": "code",
   "execution_count": 24,
   "id": "utility-ecuador",
   "metadata": {
    "ExecuteTime": {
     "end_time": "2021-12-07T01:36:25.977403Z",
     "start_time": "2021-12-07T01:36:25.971202Z"
    }
   },
   "outputs": [],
   "source": [
    "fishes = [0] * DAYS\n",
    "for fish in data_b:\n",
    "    for day in range(fish, DAYS, 7):\n",
    "        fishes[day] += 1\n",
    "        \n",
    "for day in range(DAYS):\n",
    "    for future_day in range(day + 9, DAYS, 7):\n",
    "        fishes[future_day] += fishes[day]"
   ]
  },
  {
   "cell_type": "code",
   "execution_count": 25,
   "id": "quantitative-helicopter",
   "metadata": {
    "ExecuteTime": {
     "end_time": "2021-12-07T01:36:26.686212Z",
     "start_time": "2021-12-07T01:36:26.682717Z"
    }
   },
   "outputs": [
    {
     "data": {
      "text/plain": [
       "1743335992042"
      ]
     },
     "execution_count": 25,
     "metadata": {},
     "output_type": "execute_result"
    }
   ],
   "source": [
    "res_b = len(data_b) + sum(fishes)\n",
    "res_b"
   ]
  },
  {
   "cell_type": "code",
   "execution_count": 27,
   "id": "southern-evanescence",
   "metadata": {
    "ExecuteTime": {
     "end_time": "2021-12-07T01:36:36.889086Z",
     "start_time": "2021-12-07T01:36:36.886597Z"
    }
   },
   "outputs": [],
   "source": [
    "puzzle.answer_b = res_b"
   ]
  }
 ],
 "metadata": {
  "kernelspec": {
   "display_name": "Python 3",
   "language": "python",
   "name": "python3"
  },
  "language_info": {
   "codemirror_mode": {
    "name": "ipython",
    "version": 3
   },
   "file_extension": ".py",
   "mimetype": "text/x-python",
   "name": "python",
   "nbconvert_exporter": "python",
   "pygments_lexer": "ipython3",
   "version": "3.9.7"
  }
 },
 "nbformat": 4,
 "nbformat_minor": 5
}

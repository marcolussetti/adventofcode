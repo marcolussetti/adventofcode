{
 "cells": [
  {
   "cell_type": "code",
   "execution_count": 1,
   "id": "wireless-seventh",
   "metadata": {
    "ExecuteTime": {
     "end_time": "2021-12-10T05:29:33.411351Z",
     "start_time": "2021-12-10T05:29:33.258633Z"
    }
   },
   "outputs": [],
   "source": [
    "from aocd.models import Puzzle"
   ]
  },
  {
   "cell_type": "code",
   "execution_count": 2,
   "id": "mature-absolute",
   "metadata": {
    "ExecuteTime": {
     "end_time": "2021-12-10T05:29:33.414808Z",
     "start_time": "2021-12-10T05:29:33.412811Z"
    }
   },
   "outputs": [],
   "source": [
    "puzzle = Puzzle(year=2021, day=10)"
   ]
  },
  {
   "cell_type": "code",
   "execution_count": 3,
   "id": "resistant-crawford",
   "metadata": {
    "ExecuteTime": {
     "end_time": "2021-12-10T05:29:33.417886Z",
     "start_time": "2021-12-10T05:29:33.415919Z"
    }
   },
   "outputs": [],
   "source": [
    "raw_data = puzzle.input_data.split(\"\\n\")"
   ]
  },
  {
   "cell_type": "markdown",
   "id": "indie-success",
   "metadata": {
    "ExecuteTime": {
     "end_time": "2021-12-10T05:00:58.879772Z",
     "start_time": "2021-12-10T05:00:58.877350Z"
    }
   },
   "source": [
    "# Part A"
   ]
  },
  {
   "cell_type": "code",
   "execution_count": 4,
   "id": "parental-queens",
   "metadata": {
    "ExecuteTime": {
     "end_time": "2021-12-10T05:29:33.428227Z",
     "start_time": "2021-12-10T05:29:33.418810Z"
    }
   },
   "outputs": [],
   "source": [
    "paren = [[\"[\", \"]\"], [\"<\", \">\"], [\"{\", \"}\"], [\"(\", \")\"]]\n",
    "valid_lines = []\n",
    "incomplete_lines = []\n",
    "illegal_lines = []\n",
    "illegal_chars = []\n",
    "for line in raw_data:\n",
    "    stack = []\n",
    "    skip_line = False\n",
    "    for char in line:\n",
    "        if char in [p[0] for p in paren]:\n",
    "            stack.append(char)\n",
    "        else:\n",
    "            matching = [p[0] for p in paren if p[1] == char][0]\n",
    "            if matching == stack[-1]:\n",
    "                del stack[-1]\n",
    "            else:\n",
    "                illegal_chars.append(char)\n",
    "                skip_line = True\n",
    "                break\n",
    "    if skip_line:\n",
    "        illegal_lines.append(line)\n",
    "    elif len(stack) > 0:\n",
    "        incomplete_lines.append(line)\n",
    "    else:\n",
    "        valid_lines.append(line)"
   ]
  },
  {
   "cell_type": "code",
   "execution_count": 5,
   "id": "contrary-discovery",
   "metadata": {
    "ExecuteTime": {
     "end_time": "2021-12-10T05:29:33.431641Z",
     "start_time": "2021-12-10T05:29:33.429371Z"
    }
   },
   "outputs": [],
   "source": [
    "def score_char(c):\n",
    "    if c == ')':\n",
    "        return 3\n",
    "    elif c == ']':\n",
    "        return 57\n",
    "    elif c == '}':\n",
    "        return 1197\n",
    "    elif c == '>':\n",
    "        return 25137"
   ]
  },
  {
   "cell_type": "code",
   "execution_count": 6,
   "id": "fewer-competition",
   "metadata": {
    "ExecuteTime": {
     "end_time": "2021-12-10T05:29:33.434627Z",
     "start_time": "2021-12-10T05:29:33.432557Z"
    }
   },
   "outputs": [],
   "source": [
    "puzzle.answer_a = sum([score_char(c) for c in illegal_chars])"
   ]
  },
  {
   "cell_type": "markdown",
   "id": "hawaiian-visit",
   "metadata": {
    "ExecuteTime": {
     "end_time": "2021-12-10T05:13:56.519322Z",
     "start_time": "2021-12-10T05:13:56.515939Z"
    }
   },
   "source": [
    "# Part B"
   ]
  },
  {
   "cell_type": "code",
   "execution_count": 7,
   "id": "later-joining",
   "metadata": {
    "ExecuteTime": {
     "end_time": "2021-12-10T05:29:33.437758Z",
     "start_time": "2021-12-10T05:29:33.435796Z"
    }
   },
   "outputs": [],
   "source": [
    "def b_score_char(c):\n",
    "    if c == \")\":\n",
    "        return 1\n",
    "    if c ==  \"]\":\n",
    "        return 2\n",
    "    if c ==  \"}\":\n",
    "        return 3\n",
    "    if c ==  \">\":\n",
    "        return 4"
   ]
  },
  {
   "cell_type": "code",
   "execution_count": 8,
   "id": "duplicate-february",
   "metadata": {
    "ExecuteTime": {
     "end_time": "2021-12-10T05:29:33.447763Z",
     "start_time": "2021-12-10T05:29:33.438816Z"
    }
   },
   "outputs": [],
   "source": [
    "paren = [[\"[\", \"]\"], [\"<\", \">\"], [\"{\", \"}\"], [\"(\", \")\"]]\n",
    "b_scores = []\n",
    "for line in incomplete_lines:\n",
    "    stack = []\n",
    "    skip_line = False\n",
    "    incomplete_line = False\n",
    "    for char in line:\n",
    "        if char in [p[0] for p in paren]:\n",
    "            stack.append(char)\n",
    "        else:\n",
    "            matching = [p[0] for p in paren if p[1] == char][0]\n",
    "            if len(stack) == 0:\n",
    "                incomplete_line = True\n",
    "                break\n",
    "            elif matching == stack[-1]:\n",
    "                del stack[-1]\n",
    "            else:\n",
    "                illegal_chars.append(char)\n",
    "                skip_line = True\n",
    "                break\n",
    "    if len(stack) > 0:\n",
    "        missing = []\n",
    "        b_score = 0\n",
    "        for char in reversed(stack):\n",
    "            matching = [p[1] for p in paren if p[0] == char][0]\n",
    "            b_score *= 5\n",
    "            b_score += b_score_char(matching)\n",
    "        b_scores.append(b_score)"
   ]
  },
  {
   "cell_type": "code",
   "execution_count": 9,
   "id": "satisfied-onion",
   "metadata": {
    "ExecuteTime": {
     "end_time": "2021-12-10T05:29:33.450703Z",
     "start_time": "2021-12-10T05:29:33.448804Z"
    }
   },
   "outputs": [],
   "source": [
    "puzzle.answer_b = sorted(b_scores)[int((len(b_scores)-1)/2)]"
   ]
  }
 ],
 "metadata": {
  "kernelspec": {
   "display_name": "Python 3",
   "language": "python",
   "name": "python3"
  },
  "language_info": {
   "codemirror_mode": {
    "name": "ipython",
    "version": 3
   },
   "file_extension": ".py",
   "mimetype": "text/x-python",
   "name": "python",
   "nbconvert_exporter": "python",
   "pygments_lexer": "ipython3",
   "version": "3.9.7"
  }
 },
 "nbformat": 4,
 "nbformat_minor": 5
}

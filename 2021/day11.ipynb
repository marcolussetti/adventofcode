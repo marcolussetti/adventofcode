{
 "cells": [
  {
   "cell_type": "code",
   "execution_count": 1,
   "id": "recognized-people",
   "metadata": {
    "ExecuteTime": {
     "end_time": "2021-12-11T04:58:30.496579Z",
     "start_time": "2021-12-11T04:58:30.299762Z"
    }
   },
   "outputs": [],
   "source": [
    "from aocd.models import Puzzle"
   ]
  },
  {
   "cell_type": "code",
   "execution_count": 2,
   "id": "continuing-prior",
   "metadata": {
    "ExecuteTime": {
     "end_time": "2021-12-11T05:00:00.888711Z",
     "start_time": "2021-12-11T05:00:00.886103Z"
    }
   },
   "outputs": [],
   "source": [
    "puzzle = Puzzle(year=2021, day=11)"
   ]
  },
  {
   "cell_type": "code",
   "execution_count": 70,
   "id": "possible-uniform",
   "metadata": {
    "ExecuteTime": {
     "end_time": "2021-12-11T05:25:23.823722Z",
     "start_time": "2021-12-11T05:25:23.821666Z"
    }
   },
   "outputs": [],
   "source": [
    "raw_data = [[int(i) for i in row] for row in puzzle.input_data.split(\"\\n\")]"
   ]
  },
  {
   "cell_type": "code",
   "execution_count": 23,
   "id": "outer-gasoline",
   "metadata": {
    "ExecuteTime": {
     "end_time": "2021-12-11T05:15:10.454672Z",
     "start_time": "2021-12-11T05:15:10.450574Z"
    }
   },
   "outputs": [
    {
     "data": {
      "text/plain": [
       "[[5, 4, 8, 3, 1, 4, 3, 2, 2, 3],\n",
       " [2, 7, 4, 5, 8, 5, 4, 7, 1, 1],\n",
       " [5, 2, 6, 4, 5, 5, 6, 1, 7, 3],\n",
       " [6, 1, 4, 1, 3, 3, 6, 1, 4, 6],\n",
       " [6, 3, 5, 7, 3, 8, 5, 4, 7, 8],\n",
       " [4, 1, 6, 7, 5, 2, 4, 6, 4, 5],\n",
       " [2, 1, 7, 6, 8, 4, 1, 7, 2, 1],\n",
       " [6, 8, 8, 2, 8, 8, 1, 1, 3, 4],\n",
       " [4, 8, 4, 6, 8, 4, 8, 5, 5, 4],\n",
       " [5, 2, 8, 3, 7, 5, 1, 5, 2, 6]]"
      ]
     },
     "execution_count": 23,
     "metadata": {},
     "output_type": "execute_result"
    }
   ],
   "source": [
    "raw_data"
   ]
  },
  {
   "cell_type": "markdown",
   "id": "abstract-coverage",
   "metadata": {},
   "source": [
    "# Part A"
   ]
  },
  {
   "cell_type": "code",
   "execution_count": 98,
   "id": "focused-noise",
   "metadata": {
    "ExecuteTime": {
     "end_time": "2021-12-11T05:35:42.128195Z",
     "start_time": "2021-12-11T05:35:42.122087Z"
    }
   },
   "outputs": [],
   "source": [
    "def flash(row, col):\n",
    "    if (row, col) not in flashed:\n",
    "        flashes.append((row, col))\n",
    "        flashed.update([(row, col)])\n",
    "        \n",
    "        possibles = [(row-1, col-1), (row-1, col), (row-1, col+1),\n",
    "                     (row, col-1), (row, col+1),\n",
    "                     (row+1, col-1), (row+1, col), (row+1, col+1)]\n",
    "        \n",
    "        for nrow, ncol in possibles:\n",
    "            if nrow >= 0 and nrow < len(data_a) and ncol >= 0 and ncol < len(data_a[0]):\n",
    "                data_a[nrow][ncol] += 1\n",
    "                if data_a[nrow][ncol] > 9 and data_a[nrow][ncol] not in flashed:\n",
    "                    flash(nrow, ncol)"
   ]
  },
  {
   "cell_type": "code",
   "execution_count": 99,
   "id": "generic-people",
   "metadata": {
    "ExecuteTime": {
     "end_time": "2021-12-11T05:35:44.200632Z",
     "start_time": "2021-12-11T05:35:44.185415Z"
    }
   },
   "outputs": [],
   "source": [
    "data_a = [row.copy() for row in raw_data]\n",
    "flashes = []\n",
    "flashed = set([])\n",
    "for i in range(100):\n",
    "    flashed = set([])\n",
    "    # 1. increase\n",
    "    for row in range(len(data_a)):\n",
    "        for col in range(len(data_a[row])):\n",
    "            data_a[row][col] += 1\n",
    "            \n",
    "    # 2. flashes\n",
    "    for row in range(len(data_a)):\n",
    "        for col in range(len(data_a[row])):\n",
    "            if data_a[row][col] > 9 and (row, col) not in flashed:\n",
    "                flash(row, col)\n",
    "\n",
    "    # 3. reset\n",
    "    for row, col in flashed:\n",
    "        data_a[row][col] = 0\n",
    "        \n",
    "    if len(flashed) == len(raw_data) * len(raw_data[0]):\n",
    "        break"
   ]
  },
  {
   "cell_type": "code",
   "execution_count": 100,
   "id": "acute-treatment",
   "metadata": {
    "ExecuteTime": {
     "end_time": "2021-12-11T05:35:44.662203Z",
     "start_time": "2021-12-11T05:35:44.659675Z"
    }
   },
   "outputs": [],
   "source": [
    "puzzle.answer_a = len(flashes)"
   ]
  },
  {
   "cell_type": "markdown",
   "id": "timely-reception",
   "metadata": {},
   "source": [
    "# Part B"
   ]
  },
  {
   "cell_type": "code",
   "execution_count": 101,
   "id": "lesser-islam",
   "metadata": {
    "ExecuteTime": {
     "end_time": "2021-12-11T05:35:45.480106Z",
     "start_time": "2021-12-11T05:35:45.441666Z"
    }
   },
   "outputs": [],
   "source": [
    "data_b = [row.copy() for row in raw_data]\n",
    "flashes = []\n",
    "flashed = set([])\n",
    "res_b = 0\n",
    "for i in range(1000):\n",
    "    flashed = set([])\n",
    "    # 1. increase\n",
    "    for row in range(len(data_b)):\n",
    "        for col in range(len(data_b[row])):\n",
    "            data_a[row][col] += 1\n",
    "            \n",
    "    # 2. flashes\n",
    "    for row in range(len(data_b)):\n",
    "        for col in range(len(data_b[row])):\n",
    "            if data_b[row][col] > 9 and (row, col) not in flashed:\n",
    "                flash(row, col)\n",
    "\n",
    "    # 3. reset\n",
    "    for row, col in flashed:\n",
    "        data_b[row][col] = 0\n",
    "        \n",
    "    if len(flashed) == len(raw_data) * len(raw_data[0]):\n",
    "        res_b = i\n",
    "        break"
   ]
  },
  {
   "cell_type": "code",
   "execution_count": 102,
   "id": "apart-franchise",
   "metadata": {
    "ExecuteTime": {
     "end_time": "2021-12-11T05:35:47.845199Z",
     "start_time": "2021-12-11T05:35:47.842660Z"
    }
   },
   "outputs": [
    {
     "name": "stdout",
     "output_type": "stream",
     "text": [
      "\u001b[31mPart b already solved with different answer: 303\u001b[0m\n"
     ]
    }
   ],
   "source": [
    "puzzle.answer_b = res_b + 1"
   ]
  },
  {
   "cell_type": "code",
   "execution_count": 103,
   "id": "laughing-villa",
   "metadata": {
    "ExecuteTime": {
     "end_time": "2021-12-11T05:35:48.723885Z",
     "start_time": "2021-12-11T05:35:48.720674Z"
    }
   },
   "outputs": [
    {
     "data": {
      "text/plain": [
       "0"
      ]
     },
     "execution_count": 103,
     "metadata": {},
     "output_type": "execute_result"
    }
   ],
   "source": [
    "res_b"
   ]
  },
  {
   "cell_type": "code",
   "execution_count": null,
   "id": "working-basics",
   "metadata": {},
   "outputs": [],
   "source": []
  }
 ],
 "metadata": {
  "kernelspec": {
   "display_name": "Python 3",
   "language": "python",
   "name": "python3"
  },
  "language_info": {
   "codemirror_mode": {
    "name": "ipython",
    "version": 3
   },
   "file_extension": ".py",
   "mimetype": "text/x-python",
   "name": "python",
   "nbconvert_exporter": "python",
   "pygments_lexer": "ipython3",
   "version": "3.9.7"
  }
 },
 "nbformat": 4,
 "nbformat_minor": 5
}

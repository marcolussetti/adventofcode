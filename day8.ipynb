{
 "cells": [
  {
   "cell_type": "markdown",
   "metadata": {},
   "source": [
    "# Day 8"
   ]
  },
  {
   "cell_type": "markdown",
   "metadata": {},
   "source": [
    "## Imports"
   ]
  },
  {
   "cell_type": "code",
   "execution_count": 119,
   "metadata": {
    "ExecuteTime": {
     "end_time": "2020-12-08T05:38:27.027263Z",
     "start_time": "2020-12-08T05:38:27.024830Z"
    }
   },
   "outputs": [],
   "source": [
    "from aocd.models import Puzzle\n",
    "import copy"
   ]
  },
  {
   "cell_type": "markdown",
   "metadata": {},
   "source": [
    "## Inputs"
   ]
  },
  {
   "cell_type": "code",
   "execution_count": 3,
   "metadata": {
    "ExecuteTime": {
     "end_time": "2020-12-08T05:00:03.765090Z",
     "start_time": "2020-12-08T05:00:03.360654Z"
    }
   },
   "outputs": [
    {
     "data": {
      "text/plain": [
       "<Puzzle(2020, 8) at 0x7f795228b820 - Handheld Halting>"
      ]
     },
     "execution_count": 3,
     "metadata": {},
     "output_type": "execute_result"
    }
   ],
   "source": [
    "puzzle = Puzzle(year=2020, day=8)\n",
    "puzzle"
   ]
  },
  {
   "cell_type": "code",
   "execution_count": 120,
   "metadata": {
    "ExecuteTime": {
     "end_time": "2020-12-08T05:38:29.484903Z",
     "start_time": "2020-12-08T05:38:29.480645Z"
    }
   },
   "outputs": [
    {
     "data": {
      "text/plain": [
       "'jmp +323\\nacc +0\\nacc -1\\nacc +18\\njmp +601\\nnop +531\\na'"
      ]
     },
     "execution_count": 120,
     "metadata": {},
     "output_type": "execute_result"
    }
   ],
   "source": [
    "idata = puzzle.input_data\n",
    "idata[:50]"
   ]
  },
  {
   "cell_type": "markdown",
   "metadata": {},
   "source": [
    "## Part 1"
   ]
  },
  {
   "cell_type": "code",
   "execution_count": 142,
   "metadata": {
    "ExecuteTime": {
     "end_time": "2020-12-08T05:59:04.408617Z",
     "start_time": "2020-12-08T05:59:04.405411Z"
    }
   },
   "outputs": [],
   "source": [
    "data = idata.split(\"\\n\")"
   ]
  },
  {
   "cell_type": "code",
   "execution_count": 157,
   "metadata": {
    "ExecuteTime": {
     "end_time": "2020-12-08T06:11:40.945739Z",
     "start_time": "2020-12-08T06:11:40.942409Z"
    }
   },
   "outputs": [],
   "source": [
    "instructions = [[row.split(\" \")[0], int(row.split(\" \")[1])] for row in data]"
   ]
  },
  {
   "cell_type": "code",
   "execution_count": 158,
   "metadata": {
    "ExecuteTime": {
     "end_time": "2020-12-08T06:11:41.389803Z",
     "start_time": "2020-12-08T06:11:41.383860Z"
    }
   },
   "outputs": [],
   "source": [
    "execution_log = []\n",
    "accumulator = 0\n",
    "pointer = 0\n",
    "while True:\n",
    "    entry = instructions[pointer]\n",
    "    if pointer in execution_log:\n",
    "        break\n",
    "    \n",
    "    execution_log.append(pointer)\n",
    "    \n",
    "    if entry[0] == \"nop\":\n",
    "        pointer += 1\n",
    "    elif entry[0] == \"jmp\":\n",
    "        pointer += entry[1]\n",
    "    elif entry[0] == \"acc\":\n",
    "        accumulator += entry[1]\n",
    "        pointer += 1\n",
    "        "
   ]
  },
  {
   "cell_type": "code",
   "execution_count": 159,
   "metadata": {
    "ExecuteTime": {
     "end_time": "2020-12-08T06:11:42.630763Z",
     "start_time": "2020-12-08T06:11:42.626955Z"
    }
   },
   "outputs": [
    {
     "data": {
      "text/plain": [
       "1818"
      ]
     },
     "execution_count": 159,
     "metadata": {},
     "output_type": "execute_result"
    }
   ],
   "source": [
    "accumulator"
   ]
  },
  {
   "cell_type": "code",
   "execution_count": 160,
   "metadata": {
    "ExecuteTime": {
     "end_time": "2020-12-08T06:11:43.175122Z",
     "start_time": "2020-12-08T06:11:43.172578Z"
    }
   },
   "outputs": [],
   "source": [
    "puzzle.answer_a = accumulator"
   ]
  },
  {
   "cell_type": "markdown",
   "metadata": {},
   "source": [
    "## Part 2"
   ]
  },
  {
   "cell_type": "code",
   "execution_count": 155,
   "metadata": {
    "ExecuteTime": {
     "end_time": "2020-12-08T06:11:05.895623Z",
     "start_time": "2020-12-08T06:11:05.888927Z"
    }
   },
   "outputs": [],
   "source": [
    "def process_procedure(procedure):\n",
    "    lines_log = []\n",
    "    accumulator = 0\n",
    "    pointer = 0\n",
    "    status = \"Started\"\n",
    "    while True:\n",
    "        if pointer >= len(procedure):\n",
    "            status = \"Completed\"\n",
    "            break\n",
    "        entry = procedure[pointer]\n",
    "\n",
    "        if pointer in lines_log:\n",
    "            status = \"Infinite loop\"\n",
    "            break\n",
    "\n",
    "        lines_log.append(pointer)\n",
    "\n",
    "        if entry[0] == \"nop\":\n",
    "            pointer += 1\n",
    "        elif entry[0] == \"jmp\":\n",
    "            pointer += entry[1]\n",
    "        elif entry[0] == \"acc\":\n",
    "            accumulator += entry[1]\n",
    "            pointer += 1\n",
    "\n",
    "    return (status, pointer, accumulator)"
   ]
  },
  {
   "cell_type": "code",
   "execution_count": 165,
   "metadata": {
    "ExecuteTime": {
     "end_time": "2020-12-08T06:21:12.912412Z",
     "start_time": "2020-12-08T06:21:12.666983Z"
    }
   },
   "outputs": [
    {
     "name": "stdout",
     "output_type": "stream",
     "text": [
      "Status: Completed. Pointer: 636. Accumulator: 631.\n"
     ]
    }
   ],
   "source": [
    "for line in range(len(instructions)):\n",
    "    if instructions[line][0] == \"acc\":\n",
    "        continue\n",
    "        \n",
    "    instructions_copy = copy.deepcopy(instructions)\n",
    "    if instructions_copy[line][0] == \"jmp\":\n",
    "        instructions_copy[line][0] = \"nop\"\n",
    "    else:\n",
    "        instructions_copy[line][0] = \"jmp\"\n",
    "        \n",
    "    r = process_procedure(instructions_copy)\n",
    "    \n",
    "#     print(f\"Status: {r[0]}. Pointer: {r[1]}. Accumulator: {r[2]}.\")\n",
    "    \n",
    "    if r[0] == \"Completed\":\n",
    "        print(f\"Status: {r[0]}. Pointer: {r[1]}. Accumulator: {r[2]}.\")\n",
    "        break"
   ]
  },
  {
   "cell_type": "code",
   "execution_count": 166,
   "metadata": {
    "ExecuteTime": {
     "end_time": "2020-12-08T06:21:22.455306Z",
     "start_time": "2020-12-08T06:21:22.453072Z"
    }
   },
   "outputs": [],
   "source": [
    "puzzle.answer_b = r[2]"
   ]
  }
 ],
 "metadata": {
  "kernelspec": {
   "display_name": "Python 3",
   "language": "python",
   "name": "python3"
  },
  "language_info": {
   "codemirror_mode": {
    "name": "ipython",
    "version": 3
   },
   "file_extension": ".py",
   "mimetype": "text/x-python",
   "name": "python",
   "nbconvert_exporter": "python",
   "pygments_lexer": "ipython3",
   "version": "3.8.6"
  }
 },
 "nbformat": 4,
 "nbformat_minor": 4
}

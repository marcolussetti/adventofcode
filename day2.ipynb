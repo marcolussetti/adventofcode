{
 "cells": [
  {
   "cell_type": "markdown",
   "metadata": {},
   "source": [
    "# Day 2"
   ]
  },
  {
   "cell_type": "markdown",
   "metadata": {},
   "source": [
    "## Imports"
   ]
  },
  {
   "cell_type": "code",
   "execution_count": 1,
   "metadata": {
    "ExecuteTime": {
     "end_time": "2020-12-02T05:00:08.186632Z",
     "start_time": "2020-12-02T05:00:07.982184Z"
    }
   },
   "outputs": [],
   "source": [
    "import importlib\n",
    "import numpy as np\n",
    "import pandas as pd\n",
    "from statistics import mean, median, mode, variance, stdev\n",
    "from collections import defaultdict, OrderedDict, Counter, deque\n",
    "from math import ceil, floor, sqrt, pi, e, exp, log, log10, factorial, gcd, isnan, isinf, remainder"
   ]
  },
  {
   "cell_type": "code",
   "execution_count": 2,
   "metadata": {
    "ExecuteTime": {
     "end_time": "2020-12-02T05:00:08.599228Z",
     "start_time": "2020-12-02T05:00:08.595786Z"
    }
   },
   "outputs": [],
   "source": [
    "import aoc"
   ]
  },
  {
   "cell_type": "code",
   "execution_count": 3,
   "metadata": {
    "ExecuteTime": {
     "end_time": "2020-12-02T05:00:09.113836Z",
     "start_time": "2020-12-02T05:00:08.932757Z"
    }
   },
   "outputs": [],
   "source": [
    "from aocd.models import Puzzle"
   ]
  },
  {
   "cell_type": "code",
   "execution_count": 4,
   "metadata": {
    "ExecuteTime": {
     "end_time": "2020-12-02T05:00:09.341838Z",
     "start_time": "2020-12-02T05:00:09.339999Z"
    }
   },
   "outputs": [],
   "source": [
    "importlib.reload(aoc)\n",
    "autoparse = aoc.autoparse"
   ]
  },
  {
   "cell_type": "markdown",
   "metadata": {},
   "source": [
    "## Inputs"
   ]
  },
  {
   "cell_type": "code",
   "execution_count": 5,
   "metadata": {
    "ExecuteTime": {
     "end_time": "2020-12-02T05:00:10.967104Z",
     "start_time": "2020-12-02T05:00:10.484196Z"
    }
   },
   "outputs": [
    {
     "data": {
      "text/plain": [
       "<Puzzle(2020, 2) at 0x7f1c383ad2b0 - Password Philosophy>"
      ]
     },
     "execution_count": 5,
     "metadata": {},
     "output_type": "execute_result"
    }
   ],
   "source": [
    "puzzle = Puzzle(year=2020, day=2)\n",
    "puzzle"
   ]
  },
  {
   "cell_type": "code",
   "execution_count": 6,
   "metadata": {
    "ExecuteTime": {
     "end_time": "2020-12-02T05:00:11.911166Z",
     "start_time": "2020-12-02T05:00:11.500642Z"
    }
   },
   "outputs": [
    {
     "data": {
      "text/plain": [
       "'1-2 x: xpxc\\n1-5 b: bwlbbbbcq\\n3-5 v: qvjjdhvl\\n9-12 '"
      ]
     },
     "execution_count": 6,
     "metadata": {},
     "output_type": "execute_result"
    }
   ],
   "source": [
    "idata = puzzle.input_data\n",
    "idata[:50]"
   ]
  },
  {
   "cell_type": "code",
   "execution_count": 7,
   "metadata": {
    "ExecuteTime": {
     "end_time": "2020-12-02T05:00:12.659300Z",
     "start_time": "2020-12-02T05:00:12.652501Z"
    }
   },
   "outputs": [
    {
     "name": "stderr",
     "output_type": "stream",
     "text": [
      "WARNING:root:Unique: True.\n",
      "WARNING:root:Type: <class 'str'>\n",
      "WARNING:root:Length: 1000. Set length: 1000\n",
      "WARNING:root:Average length: 19.578\n",
      "WARNING:root:Max length: 29. Min length: 11\n"
     ]
    },
    {
     "data": {
      "text/plain": [
       "['1-2 x: xpxc',\n",
       " '1-5 b: bwlbbbbcq',\n",
       " '3-5 v: qvjjdhvl',\n",
       " '9-12 t: ttfjvvtgxtctrntnhtt',\n",
       " '3-4 r: rqjw',\n",
       " '3-7 p: ppfpppppp',\n",
       " '5-6 q: qqqqgq',\n",
       " '7-10 v: gpvgmqkvxgbvs',\n",
       " '4-12 b: kkdnrhwzbbbb',\n",
       " '3-7 r: rrkwrshls']"
      ]
     },
     "execution_count": 7,
     "metadata": {},
     "output_type": "execute_result"
    }
   ],
   "source": [
    "data = aoc.autoparse(idata)\n",
    "data[:10]"
   ]
  },
  {
   "cell_type": "markdown",
   "metadata": {},
   "source": [
    "## SOLVE"
   ]
  },
  {
   "cell_type": "code",
   "execution_count": 12,
   "metadata": {
    "ExecuteTime": {
     "end_time": "2020-12-02T05:02:16.482631Z",
     "start_time": "2020-12-02T05:02:15.643582Z"
    }
   },
   "outputs": [
    {
     "name": "stderr",
     "output_type": "stream",
     "text": [
      "WARNING:aocd.models:wrong answer: 336\n"
     ]
    },
    {
     "name": "stdout",
     "output_type": "stream",
     "text": [
      "\u001b[31mThat's not the right answer.  If you're stuck, make sure you're using the full input data; there are also some general tips on the about page, or you can ask for hints on the subreddit.  Please wait one minute before trying again. (You guessed 336.) [Return to Day 2]\u001b[0m\n"
     ]
    }
   ],
   "source": [
    "puzzle.answer_a = r1_c"
   ]
  },
  {
   "cell_type": "code",
   "execution_count": null,
   "metadata": {},
   "outputs": [],
   "source": [
    "# puzzle.answer_b = r2"
   ]
  },
  {
   "cell_type": "markdown",
   "metadata": {},
   "source": [
    "## Part 1"
   ]
  },
  {
   "cell_type": "code",
   "execution_count": 111,
   "metadata": {
    "ExecuteTime": {
     "end_time": "2020-12-02T05:42:18.652761Z",
     "start_time": "2020-12-02T05:42:18.645102Z"
    }
   },
   "outputs": [
    {
     "data": {
      "text/plain": [
       "556"
      ]
     },
     "execution_count": 111,
     "metadata": {},
     "output_type": "execute_result"
    }
   ],
   "source": [
    "r1 = 0\n",
    "for row in data:\n",
    "    row = row.replace(\"-\", \" \")\n",
    "    row = row.replace(\": \", \" \")\n",
    "    row = row.split(\" \")\n",
    "    first, second, letter, string = row\n",
    "    \n",
    "    matches = [c for c in string.strip() if c == letter]\n",
    "    \n",
    "    if len(matches) >= int(first) and len(matches) <= int(second):\n",
    "        r1 += 1\n",
    "        \n",
    "r1"
   ]
  },
  {
   "cell_type": "code",
   "execution_count": 112,
   "metadata": {
    "ExecuteTime": {
     "end_time": "2020-12-02T05:42:20.343404Z",
     "start_time": "2020-12-02T05:42:20.341587Z"
    }
   },
   "outputs": [],
   "source": [
    "puzzle.answer_a = r1"
   ]
  },
  {
   "cell_type": "markdown",
   "metadata": {},
   "source": [
    "## Part 2"
   ]
  },
  {
   "cell_type": "code",
   "execution_count": 116,
   "metadata": {
    "ExecuteTime": {
     "end_time": "2020-12-02T05:44:57.563673Z",
     "start_time": "2020-12-02T05:44:57.554250Z"
    }
   },
   "outputs": [
    {
     "data": {
      "text/plain": [
       "605"
      ]
     },
     "execution_count": 116,
     "metadata": {},
     "output_type": "execute_result"
    }
   ],
   "source": [
    "r2 = 0\n",
    "for row in data:\n",
    "    row = row.replace(\"-\", \" \")\n",
    "    row = row.replace(\": \", \" \")\n",
    "    row = row.split(\" \")\n",
    "    first, second, letter, string = row\n",
    "\n",
    "    matches = [c == letter for c in string.strip()]\n",
    "\n",
    "    if (matches[int(first) - 1] ^ matches[int(second) - 1]):\n",
    "        r2 += 1\n",
    "\n",
    "r2"
   ]
  },
  {
   "cell_type": "code",
   "execution_count": 118,
   "metadata": {
    "ExecuteTime": {
     "end_time": "2020-12-02T05:45:08.821332Z",
     "start_time": "2020-12-02T05:45:08.818533Z"
    }
   },
   "outputs": [],
   "source": [
    "puzzle.answer_b = r2"
   ]
  }
 ],
 "metadata": {
  "kernelspec": {
   "display_name": "Python 3",
   "language": "python",
   "name": "python3"
  },
  "language_info": {
   "codemirror_mode": {
    "name": "ipython",
    "version": 3
   },
   "file_extension": ".py",
   "mimetype": "text/x-python",
   "name": "python",
   "nbconvert_exporter": "python",
   "pygments_lexer": "ipython3",
   "version": "3.8.6"
  }
 },
 "nbformat": 4,
 "nbformat_minor": 4
}

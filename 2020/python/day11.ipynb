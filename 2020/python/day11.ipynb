{
 "cells": [
  {
   "cell_type": "markdown",
   "metadata": {},
   "source": [
    "# Day 11"
   ]
  },
  {
   "cell_type": "markdown",
   "metadata": {},
   "source": [
    "## Imports"
   ]
  },
  {
   "cell_type": "code",
   "execution_count": 36,
   "metadata": {
    "ExecuteTime": {
     "end_time": "2020-12-11T05:26:45.163552Z",
     "start_time": "2020-12-11T05:26:45.046556Z"
    }
   },
   "outputs": [],
   "source": [
    "from aocd.models import Puzzle\n",
    "import copy\n",
    "import math\n",
    "from collections import Counter, defaultdict\n",
    "import itertools\n",
    "import aoc\n",
    "import numpy as np"
   ]
  },
  {
   "cell_type": "markdown",
   "metadata": {},
   "source": [
    "## Inputs"
   ]
  },
  {
   "cell_type": "code",
   "execution_count": 2,
   "metadata": {
    "ExecuteTime": {
     "end_time": "2020-12-11T05:00:14.666518Z",
     "start_time": "2020-12-11T05:00:14.237655Z"
    }
   },
   "outputs": [
    {
     "data": {
      "text/plain": [
       "<Puzzle(2020, 11) at 0x7f43f165a6a0 - Seating System>"
      ]
     },
     "execution_count": 2,
     "metadata": {},
     "output_type": "execute_result"
    }
   ],
   "source": [
    "puzzle = Puzzle(year=2020, day=11)\n",
    "puzzle"
   ]
  },
  {
   "cell_type": "code",
   "execution_count": 3,
   "metadata": {
    "ExecuteTime": {
     "end_time": "2020-12-11T05:00:15.065786Z",
     "start_time": "2020-12-11T05:00:14.667936Z"
    }
   },
   "outputs": [
    {
     "data": {
      "text/plain": [
       "'LLLLL.LLL.LLLLLLLLLLLLLLL.LLLLLLLLL.LLLLLLLLLLLLL.'"
      ]
     },
     "execution_count": 3,
     "metadata": {},
     "output_type": "execute_result"
    }
   ],
   "source": [
    "idata = puzzle.input_data\n",
    "idata[:50]"
   ]
  },
  {
   "cell_type": "code",
   "execution_count": 4,
   "metadata": {
    "ExecuteTime": {
     "end_time": "2020-12-11T05:00:15.075277Z",
     "start_time": "2020-12-11T05:00:15.067918Z"
    }
   },
   "outputs": [
    {
     "name": "stderr",
     "output_type": "stream",
     "text": [
      "WARNING:root:Unique: True.\n",
      "WARNING:root:Type: <class 'str'>\n",
      "WARNING:root:Length: 92. Set length: 92\n",
      "WARNING:root:Average length: 97.0\n",
      "WARNING:root:Max length: 97. Min length: 97\n"
     ]
    }
   ],
   "source": [
    "adata = aoc.autoparse(idata)"
   ]
  },
  {
   "cell_type": "markdown",
   "metadata": {},
   "source": [
    "## Part 1"
   ]
  },
  {
   "cell_type": "code",
   "execution_count": 214,
   "metadata": {
    "ExecuteTime": {
     "end_time": "2020-12-11T06:19:02.816598Z",
     "start_time": "2020-12-11T06:19:02.813280Z"
    }
   },
   "outputs": [],
   "source": [
    "grid = [[c for c in row] for row in adata]"
   ]
  },
  {
   "cell_type": "code",
   "execution_count": 98,
   "metadata": {
    "ExecuteTime": {
     "end_time": "2020-12-11T05:51:44.601797Z",
     "start_time": "2020-12-11T05:51:44.597397Z"
    }
   },
   "outputs": [],
   "source": [
    "def find_adjacents(i, j):\n",
    "    adjacents = []\n",
    "    for ii in range(i-1, i+2):\n",
    "        for jj in range(j-1, j+2):\n",
    "            if ii == i and jj == j:\n",
    "                continue\n",
    "            if ii < 0 or ii >= len(p1_grid) or jj < 0 or jj >= len(p1_grid[0]):\n",
    "                continue\n",
    "            adjacents.append((ii, jj))\n",
    "    return adjacents"
   ]
  },
  {
   "cell_type": "code",
   "execution_count": 99,
   "metadata": {
    "ExecuteTime": {
     "end_time": "2020-12-11T05:51:48.739510Z",
     "start_time": "2020-12-11T05:51:45.478406Z"
    }
   },
   "outputs": [],
   "source": [
    "p1_grid = copy.deepcopy(grid)\n",
    "changed = True\n",
    "runs = 0\n",
    "while True:\n",
    "    runs += 1\n",
    "    if not changed:\n",
    "        break\n",
    "    changed = False\n",
    "    new_grid = copy.deepcopy(p1_grid)\n",
    "    \n",
    "    for y in range(len(p1_grid)):\n",
    "        for x in range(len(p1_grid[0])):\n",
    "            if p1_grid[y][x] == \".\":\n",
    "                continue\n",
    "            elif p1_grid[y][x] == \"L\":\n",
    "                adjacent_cells = find_adjacents(y, x)\n",
    "                if all([p1_grid[inner_y][inner_x] != \"#\" for inner_y, inner_x in adjacent_cells]):\n",
    "                    changed = True\n",
    "                    new_grid[y][x] = \"#\"\n",
    "            elif p1_grid[y][x] == \"#\":\n",
    "                adjacent_cells = find_adjacents(y, x)\n",
    "                if len([p1_grid[inner_y][inner_x] for inner_y, inner_x in adjacent_cells if p1_grid[inner_y][inner_x] == \"#\"]) >= 4:\n",
    "                    changed = True\n",
    "                    new_grid[y][x] = \"L\"\n",
    "    p1_grid = new_grid"
   ]
  },
  {
   "cell_type": "code",
   "execution_count": 100,
   "metadata": {
    "ExecuteTime": {
     "end_time": "2020-12-11T05:51:50.260238Z",
     "start_time": "2020-12-11T05:51:50.257922Z"
    }
   },
   "outputs": [],
   "source": [
    "r1 = len([item for row in p1_grid for item in row if item == \"#\"])"
   ]
  },
  {
   "cell_type": "code",
   "execution_count": 101,
   "metadata": {
    "ExecuteTime": {
     "end_time": "2020-12-11T05:51:50.674213Z",
     "start_time": "2020-12-11T05:51:50.672062Z"
    }
   },
   "outputs": [],
   "source": [
    "puzzle.answer_a = r1"
   ]
  },
  {
   "cell_type": "code",
   "execution_count": 102,
   "metadata": {
    "ExecuteTime": {
     "end_time": "2020-12-11T05:51:51.076373Z",
     "start_time": "2020-12-11T05:51:51.072321Z"
    }
   },
   "outputs": [
    {
     "data": {
      "text/plain": [
       "99"
      ]
     },
     "execution_count": 102,
     "metadata": {},
     "output_type": "execute_result"
    }
   ],
   "source": [
    "runs"
   ]
  },
  {
   "cell_type": "markdown",
   "metadata": {},
   "source": [
    "## Part 2"
   ]
  },
  {
   "cell_type": "code",
   "execution_count": 283,
   "metadata": {
    "ExecuteTime": {
     "end_time": "2020-12-11T06:49:11.964464Z",
     "start_time": "2020-12-11T06:49:11.952448Z"
    }
   },
   "outputs": [],
   "source": [
    "def find_first_seats(i, j):\n",
    "    first_seats = []\n",
    "    for ii in range(i, len(p2_grid)):\n",
    "        if ii != i and p2_grid[ii][j] != \".\":\n",
    "            first_seats.append((ii, j))\n",
    "            break\n",
    "    for ii in range(i, -1, -1):\n",
    "        if ii != i and p2_grid[ii][j] != \".\":\n",
    "            first_seats.append((ii, j))\n",
    "            break\n",
    "            \n",
    "    for jj in range(j, len(p2_grid[0])):\n",
    "        if jj != j and p2_grid[i][jj] != \".\":\n",
    "            first_seats.append((i, jj)) \n",
    "            break\n",
    "    for jj in range(j, -1, -1):\n",
    "        if jj != j and p2_grid[i][jj] != \".\":\n",
    "            first_seats.append((i, jj))\n",
    "            break\n",
    "            \n",
    "    for ii, jj in zip(range(i, len(p2_grid)), range(j, len(p2_grid[0]))):\n",
    "        if jj != j and ii != i and p2_grid[ii][jj] != \".\":\n",
    "            first_seats.append((ii, jj))\n",
    "            break\n",
    "    for ii, jj in zip(range(i, -1, -1), range(j, -1, -1)):\n",
    "        if jj != j and ii != i and p2_grid[ii][jj] != \".\":\n",
    "            first_seats.append((ii, jj))\n",
    "            break\n",
    "            \n",
    "    for ii, jj in zip(range(i, -1, -1), range(j, len(p2_grid[0]))):\n",
    "        if jj != j and ii != i and p2_grid[ii][jj] != \".\":\n",
    "            first_seats.append((ii, jj))\n",
    "            break\n",
    "    for ii, jj in zip(range(i, len(p2_grid)), range(j, -1, -1)):\n",
    "        if jj != j and ii != i and p2_grid[ii][jj] != \".\":\n",
    "            first_seats.append((ii, jj))\n",
    "            break\n",
    "            \n",
    "    return first_seats"
   ]
  },
  {
   "cell_type": "code",
   "execution_count": 332,
   "metadata": {
    "ExecuteTime": {
     "end_time": "2020-12-11T07:03:43.022785Z",
     "start_time": "2020-12-11T07:03:43.010840Z"
    }
   },
   "outputs": [],
   "source": [
    "def find_first_seats(i, j, gr):\n",
    "    first_seats = []\n",
    "    \n",
    "    for ii in range(i, len(gr)):\n",
    "        if ii != i and gr[ii][j] != \".\":\n",
    "            first_seats.append(gr[ii][j])\n",
    "            break\n",
    "    for ii in range(i, -1, -1):\n",
    "        if ii != i and gr[ii][j] != \".\":\n",
    "            first_seats.append(gr[ii][j])\n",
    "            break\n",
    "            \n",
    "    for jj in range(j, len(gr[0])):\n",
    "        if jj != j and gr[i][jj] != \".\":\n",
    "            first_seats.append(gr[i][jj])\n",
    "            break\n",
    "    for jj in range(j, -1, -1):\n",
    "        if jj != j and gr[i][jj] != \".\":\n",
    "            first_seats.append(gr[i][jj])\n",
    "            break\n",
    "            \n",
    "    for ii, jj in zip(range(i, len(gr)), range(j, len(gr[0]))):\n",
    "        if jj != j and ii != i and gr[ii][jj] != \".\":\n",
    "            first_seats.append(gr[ii][jj])\n",
    "            break\n",
    "    for ii, jj in zip(range(i, -1, -1), range(j, -1, -1)):\n",
    "        if jj != j and ii != i and gr[ii][jj] != \".\":\n",
    "            first_seats.append(gr[ii][jj])\n",
    "            break\n",
    "            \n",
    "    for ii, jj in zip(range(i, -1, -1), range(j, len(gr[0]))):\n",
    "        if jj != j and ii != i and gr[ii][jj] != \".\":\n",
    "            first_seats.append(gr[ii][jj])\n",
    "            break\n",
    "    for ii, jj in zip(range(i, len(gr)), range(j, -1, -1)):\n",
    "        if jj != j and ii != i and gr[ii][jj] != \".\":\n",
    "            first_seats.append(gr[ii][jj])\n",
    "            break\n",
    "            \n",
    "    return first_seats"
   ]
  },
  {
   "cell_type": "code",
   "execution_count": 338,
   "metadata": {
    "ExecuteTime": {
     "end_time": "2020-12-11T07:04:26.328913Z",
     "start_time": "2020-12-11T07:04:20.662924Z"
    }
   },
   "outputs": [],
   "source": [
    "p2_grid = copy.deepcopy(grid)\n",
    "changed = True\n",
    "runs = 0\n",
    "while changed:\n",
    "    runs += 1\n",
    "    changed = False\n",
    "    new_grid = copy.deepcopy(p2_grid)\n",
    "    \n",
    "    for y in range(len(p2_grid)):\n",
    "        for x in range(len(p2_grid[0])):\n",
    "            visible_seats = Counter(find_first_seats(y, x, p2_grid))\n",
    "            \n",
    "            if p2_grid[y][x] == \"L\":\n",
    "                if visible_seats[\"#\"] == 0:\n",
    "                    new_grid[y][x] = \"#\"\n",
    "                    changed = True\n",
    "                    \n",
    "            if p2_grid[y][x] == \"#\":\n",
    "                if visible_seats[\"#\"] >= 5:\n",
    "                    new_grid[y][x] = \"L\"\n",
    "                    changed = True\n",
    "    p2_grid = new_grid"
   ]
  },
  {
   "cell_type": "code",
   "execution_count": 339,
   "metadata": {
    "ExecuteTime": {
     "end_time": "2020-12-11T07:04:26.333541Z",
     "start_time": "2020-12-11T07:04:26.330125Z"
    }
   },
   "outputs": [
    {
     "data": {
      "text/plain": [
       "2100"
      ]
     },
     "execution_count": 339,
     "metadata": {},
     "output_type": "execute_result"
    }
   ],
   "source": [
    "r2 = len([item for row in p2_grid for item in row if item == \"#\"])\n",
    "r2"
   ]
  },
  {
   "cell_type": "code",
   "execution_count": 340,
   "metadata": {
    "ExecuteTime": {
     "end_time": "2020-12-11T07:04:26.337426Z",
     "start_time": "2020-12-11T07:04:26.334871Z"
    }
   },
   "outputs": [
    {
     "data": {
      "text/plain": [
       "86"
      ]
     },
     "execution_count": 340,
     "metadata": {},
     "output_type": "execute_result"
    }
   ],
   "source": [
    "runs"
   ]
  },
  {
   "cell_type": "code",
   "execution_count": 342,
   "metadata": {
    "ExecuteTime": {
     "end_time": "2020-12-11T07:05:56.777380Z",
     "start_time": "2020-12-11T07:05:56.387304Z"
    }
   },
   "outputs": [],
   "source": [
    "puzzle.answer_b = r2"
   ]
  }
 ],
 "metadata": {
  "kernelspec": {
   "display_name": "Python 3",
   "language": "python",
   "name": "python3"
  },
  "language_info": {
   "codemirror_mode": {
    "name": "ipython",
    "version": 3
   },
   "file_extension": ".py",
   "mimetype": "text/x-python",
   "name": "python",
   "nbconvert_exporter": "python",
   "pygments_lexer": "ipython3",
   "version": "3.8.6"
  }
 },
 "nbformat": 4,
 "nbformat_minor": 4
}

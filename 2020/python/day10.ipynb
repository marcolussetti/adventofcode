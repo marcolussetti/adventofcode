{
 "cells": [
  {
   "cell_type": "markdown",
   "metadata": {},
   "source": [
    "# Day 10"
   ]
  },
  {
   "cell_type": "markdown",
   "metadata": {},
   "source": [
    "## Imports"
   ]
  },
  {
   "cell_type": "code",
   "execution_count": 78,
   "metadata": {
    "ExecuteTime": {
     "end_time": "2020-12-11T02:27:05.304252Z",
     "start_time": "2020-12-11T02:27:05.301448Z"
    }
   },
   "outputs": [],
   "source": [
    "from aocd.models import Puzzle\n",
    "import copy\n",
    "import math\n",
    "from collections import Counter, defaultdict\n",
    "import aoc"
   ]
  },
  {
   "cell_type": "markdown",
   "metadata": {},
   "source": [
    "## Inputs"
   ]
  },
  {
   "cell_type": "code",
   "execution_count": 3,
   "metadata": {
    "ExecuteTime": {
     "end_time": "2020-12-10T06:17:27.287589Z",
     "start_time": "2020-12-10T06:17:27.275712Z"
    }
   },
   "outputs": [
    {
     "data": {
      "text/plain": [
       "<Puzzle(2020, 10) at 0x7f5e28d8ca00 - Adapter Array>"
      ]
     },
     "execution_count": 3,
     "metadata": {},
     "output_type": "execute_result"
    }
   ],
   "source": [
    "puzzle = Puzzle(year=2020, day=10)\n",
    "puzzle"
   ]
  },
  {
   "cell_type": "code",
   "execution_count": 4,
   "metadata": {
    "ExecuteTime": {
     "end_time": "2020-12-10T06:17:27.776908Z",
     "start_time": "2020-12-10T06:17:27.771879Z"
    }
   },
   "outputs": [
    {
     "data": {
      "text/plain": [
       "'35\\n111\\n135\\n32\\n150\\n5\\n106\\n154\\n41\\n7\\n27\\n117\\n109\\n63\\n64\\n'"
      ]
     },
     "execution_count": 4,
     "metadata": {},
     "output_type": "execute_result"
    }
   ],
   "source": [
    "idata = puzzle.input_data\n",
    "idata[:50]"
   ]
  },
  {
   "cell_type": "code",
   "execution_count": 5,
   "metadata": {
    "ExecuteTime": {
     "end_time": "2020-12-10T06:17:28.955832Z",
     "start_time": "2020-12-10T06:17:28.947747Z"
    }
   },
   "outputs": [
    {
     "name": "stderr",
     "output_type": "stream",
     "text": [
      "WARNING:root:Unique: True.\n",
      "WARNING:root:Type: <class 'int'>\n",
      "WARNING:root:Length: 98. Set length: 98\n",
      "WARNING:root:Average length: 2.2857142857142856\n",
      "WARNING:root:Max length: 3. Min length: 1\n",
      "WARNING:root:Avg: 77.4795918367347. Median: 77.5.\n",
      "WARNING:root:Max: 154. Min: 1.\n"
     ]
    }
   ],
   "source": [
    "adata = aoc.autoparse(idata)"
   ]
  },
  {
   "cell_type": "markdown",
   "metadata": {},
   "source": [
    "## Part 1"
   ]
  },
  {
   "cell_type": "code",
   "execution_count": 6,
   "metadata": {
    "ExecuteTime": {
     "end_time": "2020-12-10T06:17:32.496155Z",
     "start_time": "2020-12-10T06:17:32.493288Z"
    }
   },
   "outputs": [],
   "source": [
    "data = adata.copy()\n",
    "data.append(0)\n",
    "data.append(max(data) + 3)"
   ]
  },
  {
   "cell_type": "code",
   "execution_count": 20,
   "metadata": {
    "ExecuteTime": {
     "end_time": "2020-12-10T05:06:10.245831Z",
     "start_time": "2020-12-10T05:06:10.242699Z"
    }
   },
   "outputs": [],
   "source": [
    "sdata = sorted(data)\n",
    "diff = []\n",
    "for i1, i2 in zip(sdata[0:], sdata[1:]):\n",
    "    diff.append(i2-i1)"
   ]
  },
  {
   "cell_type": "code",
   "execution_count": 26,
   "metadata": {
    "ExecuteTime": {
     "end_time": "2020-12-10T05:07:34.971588Z",
     "start_time": "2020-12-10T05:07:34.969354Z"
    }
   },
   "outputs": [
    {
     "data": {
      "text/plain": [
       "Counter({1: 70, 3: 29})"
      ]
     },
     "execution_count": 26,
     "metadata": {},
     "output_type": "execute_result"
    }
   ],
   "source": [
    "r1 = Counter(diff)\n",
    "r1"
   ]
  },
  {
   "cell_type": "code",
   "execution_count": 27,
   "metadata": {
    "ExecuteTime": {
     "end_time": "2020-12-10T05:07:42.375570Z",
     "start_time": "2020-12-10T05:07:41.971166Z"
    }
   },
   "outputs": [],
   "source": [
    "puzzle.answer_a = r1[1] * r1[3]"
   ]
  },
  {
   "cell_type": "markdown",
   "metadata": {},
   "source": [
    "## Part 2"
   ]
  },
  {
   "cell_type": "code",
   "execution_count": 76,
   "metadata": {
    "ExecuteTime": {
     "end_time": "2020-12-11T02:24:51.571084Z",
     "start_time": "2020-12-11T02:24:51.566766Z"
    }
   },
   "outputs": [],
   "source": [
    "possibilities = {i: set([j for j in sorted(data) if j <= i + 3 and j >= i -3 and i != j]) for i in sorted(data)}"
   ]
  },
  {
   "cell_type": "code",
   "execution_count": 83,
   "metadata": {
    "ExecuteTime": {
     "end_time": "2020-12-11T02:29:34.677488Z",
     "start_time": "2020-12-11T02:29:34.675155Z"
    }
   },
   "outputs": [],
   "source": [
    "paths_counts = defaultdict(lambda: 0)\n",
    "paths_counts[0] = 1"
   ]
  },
  {
   "cell_type": "code",
   "execution_count": 84,
   "metadata": {
    "ExecuteTime": {
     "end_time": "2020-12-11T02:29:35.199000Z",
     "start_time": "2020-12-11T02:29:35.196386Z"
    }
   },
   "outputs": [],
   "source": [
    "# Closed solution, needed a lot of helping to get this from the recursive one honestly\n",
    "for i, paths in possibilities.items():\n",
    "    for path in paths:\n",
    "        if path > i:\n",
    "            paths_counts[path] += paths_counts[i]"
   ]
  },
  {
   "cell_type": "code",
   "execution_count": 88,
   "metadata": {
    "ExecuteTime": {
     "end_time": "2020-12-11T02:30:43.208874Z",
     "start_time": "2020-12-11T02:30:43.205236Z"
    }
   },
   "outputs": [
    {
     "data": {
      "text/plain": [
       "42313823813632"
      ]
     },
     "execution_count": 88,
     "metadata": {},
     "output_type": "execute_result"
    }
   ],
   "source": [
    "r2 = paths_counts[max(data)]\n",
    "r2"
   ]
  },
  {
   "cell_type": "code",
   "execution_count": 86,
   "metadata": {
    "ExecuteTime": {
     "end_time": "2020-12-11T02:29:54.950187Z",
     "start_time": "2020-12-11T02:29:52.582602Z"
    }
   },
   "outputs": [
    {
     "name": "stdout",
     "output_type": "stream",
     "text": [
      "\u001b[32mThat's the right answer!  You are one gold star closer to saving your vacation.You have completed Day 10! You can [Shareon\n",
      "  Twitter\n",
      "Mastodon] this victory or [Return to Your Advent Calendar].\u001b[0m\n"
     ]
    }
   ],
   "source": [
    "puzzle.answer_b = r2"
   ]
  }
 ],
 "metadata": {
  "kernelspec": {
   "display_name": "Python 3",
   "language": "python",
   "name": "python3"
  },
  "language_info": {
   "codemirror_mode": {
    "name": "ipython",
    "version": 3
   },
   "file_extension": ".py",
   "mimetype": "text/x-python",
   "name": "python",
   "nbconvert_exporter": "python",
   "pygments_lexer": "ipython3",
   "version": "3.8.6"
  }
 },
 "nbformat": 4,
 "nbformat_minor": 4
}

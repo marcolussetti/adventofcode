{
 "cells": [
  {
   "cell_type": "markdown",
   "metadata": {},
   "source": [
    "# Day 7"
   ]
  },
  {
   "cell_type": "markdown",
   "metadata": {},
   "source": [
    "## Imports"
   ]
  },
  {
   "cell_type": "code",
   "execution_count": 24,
   "metadata": {
    "ExecuteTime": {
     "end_time": "2020-12-08T07:13:58.814302Z",
     "start_time": "2020-12-08T07:13:58.811901Z"
    }
   },
   "outputs": [],
   "source": [
    "from aocd.models import Puzzle\n",
    "import copy"
   ]
  },
  {
   "cell_type": "markdown",
   "metadata": {},
   "source": [
    "## Inputs"
   ]
  },
  {
   "cell_type": "code",
   "execution_count": 2,
   "metadata": {
    "ExecuteTime": {
     "end_time": "2020-12-08T06:22:54.084677Z",
     "start_time": "2020-12-08T06:22:54.075785Z"
    }
   },
   "outputs": [
    {
     "data": {
      "text/plain": [
       "<Puzzle(2020, 7) at 0x7fc404daadc0 - Handy Haversacks>"
      ]
     },
     "execution_count": 2,
     "metadata": {},
     "output_type": "execute_result"
    }
   ],
   "source": [
    "puzzle = Puzzle(year=2020, day=7)\n",
    "puzzle"
   ]
  },
  {
   "cell_type": "code",
   "execution_count": 3,
   "metadata": {
    "ExecuteTime": {
     "end_time": "2020-12-08T06:22:54.662617Z",
     "start_time": "2020-12-08T06:22:54.657095Z"
    }
   },
   "outputs": [
    {
     "data": {
      "text/plain": [
       "'dark maroon bags contain 2 striped silver bags, 4 '"
      ]
     },
     "execution_count": 3,
     "metadata": {},
     "output_type": "execute_result"
    }
   ],
   "source": [
    "idata = puzzle.input_data\n",
    "idata[:50]"
   ]
  },
  {
   "cell_type": "markdown",
   "metadata": {},
   "source": [
    "## Part 1"
   ]
  },
  {
   "cell_type": "code",
   "execution_count": 4,
   "metadata": {
    "ExecuteTime": {
     "end_time": "2020-12-08T06:22:55.887905Z",
     "start_time": "2020-12-08T06:22:55.882836Z"
    }
   },
   "outputs": [],
   "source": [
    "data = idata.split(\"\\n\")"
   ]
  },
  {
   "cell_type": "code",
   "execution_count": 19,
   "metadata": {
    "ExecuteTime": {
     "end_time": "2020-12-08T06:48:40.022511Z",
     "start_time": "2020-12-08T06:48:40.018352Z"
    }
   },
   "outputs": [],
   "source": [
    "def parse_row(row):\n",
    "    key, contents = row.split(\" bags contain \")\n",
    "    #     key = key.replace(\" \", \"_\")\n",
    "\n",
    "    contents_split = contents.split(\", \")\n",
    "    contents_dict = {\n",
    "        \" \".join(content.split(\" \")[1:]).replace(\" bags\", \"\").replace(\" bag\", \"\").replace(\".\", \"\"): \n",
    "        content.split(\" \")[0]\n",
    "        for content in contents_split\n",
    "    }\n",
    "    \n",
    "    return (key, contents_dict)"
   ]
  },
  {
   "cell_type": "code",
   "execution_count": 58,
   "metadata": {
    "ExecuteTime": {
     "end_time": "2020-12-09T02:56:33.093656Z",
     "start_time": "2020-12-09T02:56:33.084473Z"
    }
   },
   "outputs": [],
   "source": [
    "pdata = {parse_row(row)[0]: parse_row(row)[1] for row in data if parse_row(row)[1] != {'other': 'no'}}"
   ]
  },
  {
   "cell_type": "code",
   "execution_count": 36,
   "metadata": {
    "ExecuteTime": {
     "end_time": "2020-12-09T01:44:34.498884Z",
     "start_time": "2020-12-09T01:44:34.495979Z"
    }
   },
   "outputs": [],
   "source": [
    "pdata_inverted = {}\n",
    "for key, value in pdata.items():\n",
    "    for subkey, subcount in value.items():\n",
    "        if subkey in pdata_inverted:\n",
    "            pdata_inverted[subkey][key] = subcount\n",
    "        else:\n",
    "            pdata_inverted[subkey] = {key: subcount}"
   ]
  },
  {
   "cell_type": "code",
   "execution_count": 38,
   "metadata": {
    "ExecuteTime": {
     "end_time": "2020-12-09T01:48:02.448550Z",
     "start_time": "2020-12-09T01:48:02.444450Z"
    }
   },
   "outputs": [
    {
     "data": {
      "text/plain": [
       "{'dark maroon': '5', 'drab gray': '2', 'faded aqua': '4', 'bright maroon': '5'}"
      ]
     },
     "execution_count": 38,
     "metadata": {},
     "output_type": "execute_result"
    }
   ],
   "source": [
    "pdata_inverted[\"shiny gold\"]"
   ]
  },
  {
   "cell_type": "code",
   "execution_count": 42,
   "metadata": {
    "ExecuteTime": {
     "end_time": "2020-12-09T02:29:06.849030Z",
     "start_time": "2020-12-09T02:29:06.845190Z"
    }
   },
   "outputs": [],
   "source": [
    "def follow_up_chain(entry, chain):\n",
    "    if entry not in pdata_inverted:\n",
    "        chain.append(entry)\n",
    "        return chain\n",
    "    else:\n",
    "        results = chain.copy()\n",
    "        for subentry in pdata_inverted[entry]:\n",
    "            results.append(subentry)\n",
    "            results.extend(follow_up_chain(subentry, []))\n",
    "            \n",
    "        return results"
   ]
  },
  {
   "cell_type": "code",
   "execution_count": 60,
   "metadata": {
    "ExecuteTime": {
     "end_time": "2020-12-09T02:56:39.209172Z",
     "start_time": "2020-12-09T02:56:39.206370Z"
    }
   },
   "outputs": [],
   "source": [
    "r = follow_up_chain(\"shiny gold\", [])"
   ]
  },
  {
   "cell_type": "code",
   "execution_count": 46,
   "metadata": {
    "ExecuteTime": {
     "end_time": "2020-12-09T02:34:46.530509Z",
     "start_time": "2020-12-09T02:34:44.329260Z"
    }
   },
   "outputs": [
    {
     "name": "stdout",
     "output_type": "stream",
     "text": [
      "\u001b[32mThat's the right answer!  You are one gold star closer to saving your vacation. [Continue to Part Two]\u001b[0m\n"
     ]
    }
   ],
   "source": [
    "puzzle.answer_a = len(set(r))"
   ]
  },
  {
   "cell_type": "markdown",
   "metadata": {},
   "source": [
    "## Part 2"
   ]
  },
  {
   "cell_type": "code",
   "execution_count": 77,
   "metadata": {
    "ExecuteTime": {
     "end_time": "2020-12-09T04:49:32.250403Z",
     "start_time": "2020-12-09T04:49:32.246992Z"
    }
   },
   "outputs": [],
   "source": [
    "def follow_down_chain(entry):\n",
    "    if entry not in pdata:\n",
    "        return 0\n",
    "    else:\n",
    "        return sum([(follow_down_chain(subentry) + 1) * int(count) for subentry, count in pdata[entry].items()])"
   ]
  },
  {
   "cell_type": "code",
   "execution_count": 78,
   "metadata": {
    "ExecuteTime": {
     "end_time": "2020-12-09T04:49:32.615246Z",
     "start_time": "2020-12-09T04:49:32.612970Z"
    }
   },
   "outputs": [],
   "source": [
    "r2 = follow_down_chain(\"shiny gold\")"
   ]
  },
  {
   "cell_type": "code",
   "execution_count": 76,
   "metadata": {
    "ExecuteTime": {
     "end_time": "2020-12-09T04:49:22.477349Z",
     "start_time": "2020-12-09T04:49:21.366916Z"
    }
   },
   "outputs": [
    {
     "name": "stdout",
     "output_type": "stream",
     "text": [
      "\u001b[32mThat's the right answer!  You are one gold star closer to saving your vacation.You have completed Day 7! You can [Shareon\n",
      "  Twitter\n",
      "Mastodon] this victory or [Return to Your Advent Calendar].\u001b[0m\n"
     ]
    }
   ],
   "source": [
    "puzzle.answer_b = r2"
   ]
  }
 ],
 "metadata": {
  "kernelspec": {
   "display_name": "Python 3",
   "language": "python",
   "name": "python3"
  },
  "language_info": {
   "codemirror_mode": {
    "name": "ipython",
    "version": 3
   },
   "file_extension": ".py",
   "mimetype": "text/x-python",
   "name": "python",
   "nbconvert_exporter": "python",
   "pygments_lexer": "ipython3",
   "version": "3.8.6"
  }
 },
 "nbformat": 4,
 "nbformat_minor": 4
}

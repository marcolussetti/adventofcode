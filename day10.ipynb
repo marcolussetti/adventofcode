{
 "cells": [
  {
   "cell_type": "markdown",
   "metadata": {},
   "source": [
    "# Day 10"
   ]
  },
  {
   "cell_type": "markdown",
   "metadata": {},
   "source": [
    "## Imports"
   ]
  },
  {
   "cell_type": "code",
   "execution_count": 2,
   "metadata": {
    "ExecuteTime": {
     "end_time": "2020-12-10T06:17:26.575669Z",
     "start_time": "2020-12-10T06:17:26.394933Z"
    }
   },
   "outputs": [],
   "source": [
    "from aocd.models import Puzzle\n",
    "import copy\n",
    "import math\n",
    "from collections import Counter\n",
    "import aoc"
   ]
  },
  {
   "cell_type": "markdown",
   "metadata": {},
   "source": [
    "## Inputs"
   ]
  },
  {
   "cell_type": "code",
   "execution_count": 3,
   "metadata": {
    "ExecuteTime": {
     "end_time": "2020-12-10T06:17:27.287589Z",
     "start_time": "2020-12-10T06:17:27.275712Z"
    }
   },
   "outputs": [
    {
     "data": {
      "text/plain": [
       "<Puzzle(2020, 10) at 0x7f5e28d8ca00 - Adapter Array>"
      ]
     },
     "execution_count": 3,
     "metadata": {},
     "output_type": "execute_result"
    }
   ],
   "source": [
    "puzzle = Puzzle(year=2020, day=10)\n",
    "puzzle"
   ]
  },
  {
   "cell_type": "code",
   "execution_count": 4,
   "metadata": {
    "ExecuteTime": {
     "end_time": "2020-12-10T06:17:27.776908Z",
     "start_time": "2020-12-10T06:17:27.771879Z"
    }
   },
   "outputs": [
    {
     "data": {
      "text/plain": [
       "'35\\n111\\n135\\n32\\n150\\n5\\n106\\n154\\n41\\n7\\n27\\n117\\n109\\n63\\n64\\n'"
      ]
     },
     "execution_count": 4,
     "metadata": {},
     "output_type": "execute_result"
    }
   ],
   "source": [
    "idata = puzzle.input_data\n",
    "idata[:50]"
   ]
  },
  {
   "cell_type": "code",
   "execution_count": 5,
   "metadata": {
    "ExecuteTime": {
     "end_time": "2020-12-10T06:17:28.955832Z",
     "start_time": "2020-12-10T06:17:28.947747Z"
    }
   },
   "outputs": [
    {
     "name": "stderr",
     "output_type": "stream",
     "text": [
      "WARNING:root:Unique: True.\n",
      "WARNING:root:Type: <class 'int'>\n",
      "WARNING:root:Length: 98. Set length: 98\n",
      "WARNING:root:Average length: 2.2857142857142856\n",
      "WARNING:root:Max length: 3. Min length: 1\n",
      "WARNING:root:Avg: 77.4795918367347. Median: 77.5.\n",
      "WARNING:root:Max: 154. Min: 1.\n"
     ]
    }
   ],
   "source": [
    "adata = aoc.autoparse(idata)"
   ]
  },
  {
   "cell_type": "markdown",
   "metadata": {},
   "source": [
    "## Part 1"
   ]
  },
  {
   "cell_type": "code",
   "execution_count": 6,
   "metadata": {
    "ExecuteTime": {
     "end_time": "2020-12-10T06:17:32.496155Z",
     "start_time": "2020-12-10T06:17:32.493288Z"
    }
   },
   "outputs": [],
   "source": [
    "data = adata.copy()\n",
    "data.append(0)\n",
    "data.append(max(data) + 3)"
   ]
  },
  {
   "cell_type": "code",
   "execution_count": 20,
   "metadata": {
    "ExecuteTime": {
     "end_time": "2020-12-10T05:06:10.245831Z",
     "start_time": "2020-12-10T05:06:10.242699Z"
    }
   },
   "outputs": [],
   "source": [
    "sdata = sorted(data)\n",
    "diff = []\n",
    "for i1, i2 in zip(sdata[0:], sdata[1:]):\n",
    "    diff.append(i2-i1)"
   ]
  },
  {
   "cell_type": "code",
   "execution_count": 26,
   "metadata": {
    "ExecuteTime": {
     "end_time": "2020-12-10T05:07:34.971588Z",
     "start_time": "2020-12-10T05:07:34.969354Z"
    }
   },
   "outputs": [
    {
     "data": {
      "text/plain": [
       "Counter({1: 70, 3: 29})"
      ]
     },
     "execution_count": 26,
     "metadata": {},
     "output_type": "execute_result"
    }
   ],
   "source": [
    "r1 = Counter(diff)\n",
    "r1"
   ]
  },
  {
   "cell_type": "code",
   "execution_count": 27,
   "metadata": {
    "ExecuteTime": {
     "end_time": "2020-12-10T05:07:42.375570Z",
     "start_time": "2020-12-10T05:07:41.971166Z"
    }
   },
   "outputs": [],
   "source": [
    "puzzle.answer_a = r1[1] * r1[3]"
   ]
  },
  {
   "cell_type": "markdown",
   "metadata": {},
   "source": [
    "## Part 2"
   ]
  },
  {
   "cell_type": "code",
   "execution_count": 57,
   "metadata": {
    "ExecuteTime": {
     "end_time": "2020-12-10T06:27:38.874386Z",
     "start_time": "2020-12-10T06:27:38.869504Z"
    }
   },
   "outputs": [],
   "source": [
    "possibilities = {i: set([j for j in sorted(data) if j <= i + 3 and j >= i -3 and i != j]) for i in sorted(data)}"
   ]
  },
  {
   "cell_type": "code",
   "execution_count": 59,
   "metadata": {
    "ExecuteTime": {
     "end_time": "2020-12-10T06:27:51.461063Z",
     "start_time": "2020-12-10T06:27:51.458570Z"
    }
   },
   "outputs": [
    {
     "data": {
      "text/plain": [
       "100"
      ]
     },
     "execution_count": 59,
     "metadata": {},
     "output_type": "execute_result"
    }
   ],
   "source": [
    "len(possibilities)"
   ]
  },
  {
   "cell_type": "code",
   "execution_count": 62,
   "metadata": {
    "ExecuteTime": {
     "end_time": "2020-12-10T06:31:10.130068Z",
     "start_time": "2020-12-10T06:31:10.126494Z"
    }
   },
   "outputs": [
    {
     "data": {
      "text/plain": [
       "157"
      ]
     },
     "execution_count": 62,
     "metadata": {},
     "output_type": "execute_result"
    }
   ],
   "source": [
    "sorted(data)[-1]"
   ]
  },
  {
   "cell_type": "code",
   "execution_count": 65,
   "metadata": {
    "ExecuteTime": {
     "end_time": "2020-12-10T06:32:10.148809Z",
     "start_time": "2020-12-10T06:32:10.145390Z"
    }
   },
   "outputs": [],
   "source": [
    "def build_tree(num, used):\n",
    "    iused = used.copy()\n",
    "    iused.add(num)\n",
    "    eligible_steps = set(n for n in possibilities[num] if n not in used)\n",
    "    \n",
    "    if len(eligible_steps) == 0 or num == 157:\n",
    "        return used\n",
    "    \n",
    "    for n in eligible_steps:\n",
    "        res = build_tree(n, iused)\n",
    "        if res and 157 in res:\n",
    "            attempts.append(tuple(res))\n"
   ]
  },
  {
   "cell_type": "code",
   "execution_count": null,
   "metadata": {
    "ExecuteTime": {
     "start_time": "2020-12-10T06:32:10.725Z"
    }
   },
   "outputs": [],
   "source": [
    "attempts = []\n",
    "r2 = build_tree(0, set())\n",
    "r2"
   ]
  },
  {
   "cell_type": "code",
   "execution_count": null,
   "metadata": {
    "ExecuteTime": {
     "end_time": "2020-12-10T06:26:06.064036Z",
     "start_time": "2020-12-10T06:26:06.057472Z"
    }
   },
   "outputs": [],
   "source": [
    "attempts"
   ]
  },
  {
   "cell_type": "code",
   "execution_count": null,
   "metadata": {},
   "outputs": [],
   "source": []
  }
 ],
 "metadata": {
  "kernelspec": {
   "display_name": "Python 3",
   "language": "python",
   "name": "python3"
  },
  "language_info": {
   "codemirror_mode": {
    "name": "ipython",
    "version": 3
   },
   "file_extension": ".py",
   "mimetype": "text/x-python",
   "name": "python",
   "nbconvert_exporter": "python",
   "pygments_lexer": "ipython3",
   "version": "3.8.6"
  }
 },
 "nbformat": 4,
 "nbformat_minor": 4
}

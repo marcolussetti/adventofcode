{
 "cells": [
  {
   "cell_type": "markdown",
   "metadata": {},
   "source": [
    "# Day 12"
   ]
  },
  {
   "cell_type": "markdown",
   "metadata": {},
   "source": [
    "## Imports"
   ]
  },
  {
   "cell_type": "code",
   "execution_count": 35,
   "metadata": {
    "ExecuteTime": {
     "end_time": "2020-12-12T05:13:31.098174Z",
     "start_time": "2020-12-12T05:13:31.095228Z"
    }
   },
   "outputs": [],
   "source": [
    "from aocd.models import Puzzle\n",
    "import copy\n",
    "import math\n",
    "from collections import Counter, defaultdict\n",
    "import itertools\n",
    "import aoc\n",
    "import numpy as np\n",
    "from scipy.spatial import distance"
   ]
  },
  {
   "cell_type": "markdown",
   "metadata": {},
   "source": [
    "## Inputs"
   ]
  },
  {
   "cell_type": "code",
   "execution_count": 4,
   "metadata": {
    "ExecuteTime": {
     "end_time": "2020-12-12T05:00:08.284459Z",
     "start_time": "2020-12-12T05:00:07.868438Z"
    }
   },
   "outputs": [
    {
     "data": {
      "text/plain": [
       "<Puzzle(2020, 12) at 0x7f69f8403a30 - Rain Risk>"
      ]
     },
     "execution_count": 4,
     "metadata": {},
     "output_type": "execute_result"
    }
   ],
   "source": [
    "puzzle = Puzzle(year=2020, day=12)\n",
    "puzzle"
   ]
  },
  {
   "cell_type": "code",
   "execution_count": 5,
   "metadata": {
    "ExecuteTime": {
     "end_time": "2020-12-12T05:00:08.700429Z",
     "start_time": "2020-12-12T05:00:08.324046Z"
    }
   },
   "outputs": [
    {
     "data": {
      "text/plain": [
       "'F8\\nN2\\nF32\\nF17\\nE4\\nN4\\nR90\\nS2\\nR90\\nE3\\nL90\\nN5\\nE2\\nN2\\nW5\\n'"
      ]
     },
     "execution_count": 5,
     "metadata": {},
     "output_type": "execute_result"
    }
   ],
   "source": [
    "idata = puzzle.input_data\n",
    "idata[:50]"
   ]
  },
  {
   "cell_type": "code",
   "execution_count": 6,
   "metadata": {
    "ExecuteTime": {
     "end_time": "2020-12-12T05:00:08.769294Z",
     "start_time": "2020-12-12T05:00:08.763901Z"
    }
   },
   "outputs": [
    {
     "name": "stderr",
     "output_type": "stream",
     "text": [
      "WARNING:root:Unique: False.\n",
      "WARNING:root:Type: <class 'str'>\n",
      "WARNING:root:Length: 771. Set length: 117\n",
      "WARNING:root:Average length: 2.557717250324254\n",
      "WARNING:root:Max length: 4. Min length: 2\n"
     ]
    }
   ],
   "source": [
    "adata = aoc.autoparse(idata)"
   ]
  },
  {
   "cell_type": "markdown",
   "metadata": {},
   "source": [
    "## Part 1"
   ]
  },
  {
   "cell_type": "code",
   "execution_count": 39,
   "metadata": {
    "ExecuteTime": {
     "end_time": "2020-12-12T05:14:40.228042Z",
     "start_time": "2020-12-12T05:14:40.225628Z"
    }
   },
   "outputs": [],
   "source": [
    "current_direction = \"E\"\n",
    "coords = [0,0]\n",
    "waypoint = [10, -1]"
   ]
  },
  {
   "cell_type": "code",
   "execution_count": 40,
   "metadata": {
    "ExecuteTime": {
     "end_time": "2020-12-12T05:14:40.490430Z",
     "start_time": "2020-12-12T05:14:40.488645Z"
    }
   },
   "outputs": [],
   "source": [
    "directions = [\"N\", \"E\", \"S\", \"W\"]"
   ]
  },
  {
   "cell_type": "code",
   "execution_count": 41,
   "metadata": {
    "ExecuteTime": {
     "end_time": "2020-12-12T05:14:40.941480Z",
     "start_time": "2020-12-12T05:14:40.936199Z"
    }
   },
   "outputs": [],
   "source": [
    "for item in adata:\n",
    "    direction = item[0]\n",
    "    change = int(item[1:])\n",
    "    \n",
    "    if direction == \"F\":\n",
    "        direction = current_direction\n",
    "    elif direction == \"B\":\n",
    "        direction = current_direction\n",
    "        change = -change\n",
    "    \n",
    "    if direction == \"N\":\n",
    "        coords[1] += change\n",
    "    elif direction == \"S\":\n",
    "        coords[1] -= change\n",
    "    elif direction == \"E\":\n",
    "        coords[0] += change\n",
    "    elif direction == \"W\":\n",
    "        coords[0] -= change\n",
    "    elif direction == \"L\":\n",
    "        direction = directions[(directions.index(current_direction) - int(change/90)) % len(directions)]\n",
    "        current_direction = direction\n",
    "    elif direction == \"R\":\n",
    "        direction = directions[(directions.index(current_direction) + int(change/90)) % len(directions)]\n",
    "        current_direction = direction\n",
    "        "
   ]
  },
  {
   "cell_type": "code",
   "execution_count": 42,
   "metadata": {
    "ExecuteTime": {
     "end_time": "2020-12-12T05:14:41.305813Z",
     "start_time": "2020-12-12T05:14:41.303314Z"
    }
   },
   "outputs": [
    {
     "data": {
      "text/plain": [
       "[-127, -752]"
      ]
     },
     "execution_count": 42,
     "metadata": {},
     "output_type": "execute_result"
    }
   ],
   "source": [
    "coords"
   ]
  },
  {
   "cell_type": "code",
   "execution_count": 43,
   "metadata": {
    "ExecuteTime": {
     "end_time": "2020-12-12T05:14:41.899658Z",
     "start_time": "2020-12-12T05:14:41.897192Z"
    }
   },
   "outputs": [
    {
     "data": {
      "text/plain": [
       "879"
      ]
     },
     "execution_count": 43,
     "metadata": {},
     "output_type": "execute_result"
    }
   ],
   "source": [
    "r1 = distance.cityblock([0,0], coords)\n",
    "r1"
   ]
  },
  {
   "cell_type": "code",
   "execution_count": 44,
   "metadata": {
    "ExecuteTime": {
     "end_time": "2020-12-12T05:14:44.610731Z",
     "start_time": "2020-12-12T05:14:42.711671Z"
    }
   },
   "outputs": [
    {
     "name": "stdout",
     "output_type": "stream",
     "text": [
      "\u001b[32mThat's the right answer!  You are one gold star closer to saving your vacation. [Continue to Part Two]\u001b[0m\n"
     ]
    }
   ],
   "source": [
    "puzzle.answer_a = r1"
   ]
  },
  {
   "cell_type": "markdown",
   "metadata": {},
   "source": [
    "## Part 2"
   ]
  },
  {
   "cell_type": "code",
   "execution_count": null,
   "metadata": {},
   "outputs": [],
   "source": []
  }
 ],
 "metadata": {
  "kernelspec": {
   "display_name": "Python 3",
   "language": "python",
   "name": "python3"
  },
  "language_info": {
   "codemirror_mode": {
    "name": "ipython",
    "version": 3
   },
   "file_extension": ".py",
   "mimetype": "text/x-python",
   "name": "python",
   "nbconvert_exporter": "python",
   "pygments_lexer": "ipython3",
   "version": "3.8.6"
  }
 },
 "nbformat": 4,
 "nbformat_minor": 4
}

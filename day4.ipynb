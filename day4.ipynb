{
 "cells": [
  {
   "cell_type": "markdown",
   "metadata": {},
   "source": [
    "# Day 4"
   ]
  },
  {
   "cell_type": "markdown",
   "metadata": {},
   "source": [
    "## Imports"
   ]
  },
  {
   "cell_type": "code",
   "execution_count": 110,
   "metadata": {
    "ExecuteTime": {
     "end_time": "2020-12-04T07:36:24.992445Z",
     "start_time": "2020-12-04T07:36:24.989751Z"
    }
   },
   "outputs": [],
   "source": [
    "import importlib\n",
    "import itertools\n",
    "import numpy as np\n",
    "import pandas as pd\n",
    "import operator\n",
    "from statistics import mean, median, mode, variance, stdev\n",
    "from collections import defaultdict, OrderedDict, Counter, deque\n",
    "from math import ceil, floor, sqrt, pi, e, exp, log, log10, factorial, gcd, isnan, isinf, remainder, prod\n",
    "from functools import reduce"
   ]
  },
  {
   "cell_type": "code",
   "execution_count": 111,
   "metadata": {
    "ExecuteTime": {
     "end_time": "2020-12-04T07:36:27.166556Z",
     "start_time": "2020-12-04T07:36:27.165047Z"
    }
   },
   "outputs": [],
   "source": [
    "import aoc"
   ]
  },
  {
   "cell_type": "code",
   "execution_count": 112,
   "metadata": {
    "ExecuteTime": {
     "end_time": "2020-12-04T07:36:27.455039Z",
     "start_time": "2020-12-04T07:36:27.453430Z"
    }
   },
   "outputs": [],
   "source": [
    "from aocd.models import Puzzle"
   ]
  },
  {
   "cell_type": "code",
   "execution_count": 113,
   "metadata": {
    "ExecuteTime": {
     "end_time": "2020-12-04T07:36:27.751453Z",
     "start_time": "2020-12-04T07:36:27.749219Z"
    }
   },
   "outputs": [],
   "source": [
    "importlib.reload(aoc)\n",
    "autoparse = aoc.autoparse"
   ]
  },
  {
   "cell_type": "markdown",
   "metadata": {},
   "source": [
    "## Inputs"
   ]
  },
  {
   "cell_type": "code",
   "execution_count": 114,
   "metadata": {
    "ExecuteTime": {
     "end_time": "2020-12-04T07:36:30.361277Z",
     "start_time": "2020-12-04T07:36:30.358664Z"
    }
   },
   "outputs": [
    {
     "data": {
      "text/plain": [
       "<Puzzle(2020, 4) at 0x7f5897894850 - Passport Processing>"
      ]
     },
     "execution_count": 114,
     "metadata": {},
     "output_type": "execute_result"
    }
   ],
   "source": [
    "puzzle = Puzzle(year=2020, day=4)\n",
    "puzzle"
   ]
  },
  {
   "cell_type": "code",
   "execution_count": 115,
   "metadata": {
    "ExecuteTime": {
     "end_time": "2020-12-04T07:36:31.080189Z",
     "start_time": "2020-12-04T07:36:31.077614Z"
    }
   },
   "outputs": [
    {
     "data": {
      "text/plain": [
       "'ecl:#eef340 eyr:2023 hcl:#c0946f pid:244684338 iyr'"
      ]
     },
     "execution_count": 115,
     "metadata": {},
     "output_type": "execute_result"
    }
   ],
   "source": [
    "idata = puzzle.input_data\n",
    "idata[:50]"
   ]
  },
  {
   "cell_type": "markdown",
   "metadata": {},
   "source": [
    "## Part 1"
   ]
  },
  {
   "cell_type": "code",
   "execution_count": 116,
   "metadata": {
    "ExecuteTime": {
     "end_time": "2020-12-04T07:36:34.007887Z",
     "start_time": "2020-12-04T07:36:34.006129Z"
    }
   },
   "outputs": [],
   "source": [
    "ddata = idata.split(\"\\n\")"
   ]
  },
  {
   "cell_type": "code",
   "execution_count": 117,
   "metadata": {
    "ExecuteTime": {
     "end_time": "2020-12-04T07:36:37.456270Z",
     "start_time": "2020-12-04T07:36:37.454798Z"
    }
   },
   "outputs": [],
   "source": [
    "# ddata"
   ]
  },
  {
   "cell_type": "code",
   "execution_count": 118,
   "metadata": {
    "ExecuteTime": {
     "end_time": "2020-12-04T07:36:37.826153Z",
     "start_time": "2020-12-04T07:36:37.822269Z"
    }
   },
   "outputs": [],
   "source": [
    "passports = []\n",
    "\n",
    "passport = {}\n",
    "for row in ddata:\n",
    "    if len(row)>1:\n",
    "        row_el = row.split(\" \")\n",
    "        passport.update({kv.split(\":\")[0]:kv.split(\":\")[1] for kv in row_el})\n",
    "        \n",
    "    else:\n",
    "        passports.append(passport)\n",
    "        passport = {}\n",
    "        \n",
    "passports.append(passport)"
   ]
  },
  {
   "cell_type": "code",
   "execution_count": 119,
   "metadata": {
    "ExecuteTime": {
     "end_time": "2020-12-04T07:36:39.656628Z",
     "start_time": "2020-12-04T07:36:39.654665Z"
    }
   },
   "outputs": [],
   "source": [
    "def valid_passport(passport):\n",
    "    valid =  set([\"byr\", \"iyr\", \"eyr\", \"hgt\", \"hcl\", \"ecl\", \"pid\"]).issubset(set(passport.keys()))\n",
    "    return valid"
   ]
  },
  {
   "cell_type": "code",
   "execution_count": 120,
   "metadata": {
    "ExecuteTime": {
     "end_time": "2020-12-04T07:36:39.921784Z",
     "start_time": "2020-12-04T07:36:39.918763Z"
    }
   },
   "outputs": [
    {
     "data": {
      "text/plain": [
       "206"
      ]
     },
     "execution_count": 120,
     "metadata": {},
     "output_type": "execute_result"
    }
   ],
   "source": [
    "r1 = len([passport for passport in passports if valid_passport(passport)])\n",
    "r1"
   ]
  },
  {
   "cell_type": "code",
   "execution_count": 121,
   "metadata": {
    "ExecuteTime": {
     "end_time": "2020-12-04T07:36:40.320517Z",
     "start_time": "2020-12-04T07:36:40.318670Z"
    }
   },
   "outputs": [],
   "source": [
    "puzzle.answer_a = r1"
   ]
  },
  {
   "cell_type": "markdown",
   "metadata": {},
   "source": [
    "## Part 2"
   ]
  },
  {
   "cell_type": "code",
   "execution_count": 122,
   "metadata": {
    "ExecuteTime": {
     "end_time": "2020-12-04T07:36:42.227577Z",
     "start_time": "2020-12-04T07:36:42.222882Z"
    }
   },
   "outputs": [],
   "source": [
    "def valid_passport2(passport):\n",
    "    valid =  set([\"byr\", \"iyr\", \"eyr\", \"hgt\", \"hcl\", \"ecl\", \"pid\"]).issubset(set(passport.keys()))\n",
    "    valid = valid and int(passport[\"byr\"]) >= 1920 and int(passport[\"byr\"]) <= 2002\n",
    "    valid = valid and int(passport[\"iyr\"]) >= 2010 and int(passport[\"iyr\"]) <= 2020\n",
    "    valid = valid and int(passport[\"eyr\"]) >= 2020 and int(passport[\"eyr\"]) <= 2030\n",
    "    valid = valid and ( (\n",
    "        passport[\"hgt\"].endswith(\"in\") and int(passport[\"hgt\"][:-2]) >= 59 and int(passport[\"hgt\"][:-2]) <= 76\n",
    "    ) or (\n",
    "        passport[\"hgt\"].endswith(\"cm\") and int(passport[\"hgt\"][:-2]) >= 150 and int(passport[\"hgt\"][:-2]) <= 193\n",
    "    ) ) \n",
    "    valid = valid and passport[\"hcl\"].startswith(\"#\") and len(passport[\"hcl\"]) == 7 and (passport[\"hcl\"][1:].isalnum())\n",
    "    valid = valid and passport[\"ecl\"] in \"amb blu brn gry grn hzl oth\".split(\" \")\n",
    "    valid = valid and passport[\"pid\"].isdigit() and len(passport[\"pid\"]) == 9\n",
    "    return valid"
   ]
  },
  {
   "cell_type": "code",
   "execution_count": 123,
   "metadata": {
    "ExecuteTime": {
     "end_time": "2020-12-04T07:36:42.546002Z",
     "start_time": "2020-12-04T07:36:42.542731Z"
    }
   },
   "outputs": [
    {
     "data": {
      "text/plain": [
       "123"
      ]
     },
     "execution_count": 123,
     "metadata": {},
     "output_type": "execute_result"
    }
   ],
   "source": [
    "r2 = len([passport for passport in passports if valid_passport2(passport)])\n",
    "r2"
   ]
  },
  {
   "cell_type": "code",
   "execution_count": 124,
   "metadata": {
    "ExecuteTime": {
     "end_time": "2020-12-04T07:36:42.928658Z",
     "start_time": "2020-12-04T07:36:42.926781Z"
    }
   },
   "outputs": [],
   "source": [
    "puzzle.answer_b = r2"
   ]
  }
 ],
 "metadata": {
  "kernelspec": {
   "display_name": "Python 3",
   "language": "python",
   "name": "python3"
  },
  "language_info": {
   "codemirror_mode": {
    "name": "ipython",
    "version": 3
   },
   "file_extension": ".py",
   "mimetype": "text/x-python",
   "name": "python",
   "nbconvert_exporter": "python",
   "pygments_lexer": "ipython3",
   "version": "3.8.6"
  }
 },
 "nbformat": 4,
 "nbformat_minor": 4
}

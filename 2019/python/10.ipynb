{
 "cells": [
  {
   "cell_type": "code",
   "execution_count": 1,
   "metadata": {
    "ExecuteTime": {
     "end_time": "2019-12-10T06:57:39.551329Z",
     "start_time": "2019-12-10T06:57:39.548328Z"
    }
   },
   "outputs": [],
   "source": [
    "import math\n",
    "from collections import Counter"
   ]
  },
  {
   "cell_type": "code",
   "execution_count": 2,
   "metadata": {
    "ExecuteTime": {
     "end_time": "2019-12-10T06:57:39.990328Z",
     "start_time": "2019-12-10T06:57:39.987329Z"
    }
   },
   "outputs": [],
   "source": [
    "with open('../inputs/10', 'r') as f:\n",
    "    file_lines = f.readlines()"
   ]
  },
  {
   "cell_type": "code",
   "execution_count": 8,
   "metadata": {
    "ExecuteTime": {
     "end_time": "2019-12-10T06:57:53.299327Z",
     "start_time": "2019-12-10T06:57:53.296328Z"
    }
   },
   "outputs": [],
   "source": [
    "def grid_coords(grid):\n",
    "    return [[(i,j) for i, col in enumerate(row)] for j, row in enumerate(grid)]"
   ]
  },
  {
   "cell_type": "code",
   "execution_count": 11,
   "metadata": {
    "ExecuteTime": {
     "end_time": "2019-12-10T06:57:54.424327Z",
     "start_time": "2019-12-10T06:57:54.421328Z"
    }
   },
   "outputs": [],
   "source": [
    "def visualize_counts(grid, visibles):\n",
    "    return [[(visibles[(i,j)] if  (i,j) in visibles else \".\") for j, col in enumerate(row)] for i, row in enumerate(grid)]"
   ]
  },
  {
   "cell_type": "code",
   "execution_count": 12,
   "metadata": {
    "ExecuteTime": {
     "end_time": "2019-12-10T06:57:54.780333Z",
     "start_time": "2019-12-10T06:57:54.777329Z"
    }
   },
   "outputs": [],
   "source": [
    "def calculate_visible(point, other_coords):\n",
    "    return len(other_coords) - calculated_blocked(point, other_coords)"
   ]
  },
  {
   "cell_type": "markdown",
   "metadata": {},
   "source": [
    "## Part 1"
   ]
  },
  {
   "cell_type": "code",
   "execution_count": 7,
   "metadata": {
    "ExecuteTime": {
     "end_time": "2019-12-10T06:57:53.028330Z",
     "start_time": "2019-12-10T06:57:53.026327Z"
    }
   },
   "outputs": [],
   "source": [
    "def extract_grid(grid_string_array):\n",
    "    return [[int(char == \"#\") for char in line.strip()] for line in grid_string_array if len(line)>0]"
   ]
  },
  {
   "cell_type": "code",
   "execution_count": 9,
   "metadata": {
    "ExecuteTime": {
     "end_time": "2019-12-10T06:57:53.624329Z",
     "start_time": "2019-12-10T06:57:53.621329Z"
    }
   },
   "outputs": [],
   "source": [
    "def asteroid_coords(grid):\n",
    "    return [(i,j) for j, row in enumerate(grid) for i, value in enumerate(row) if value]"
   ]
  },
  {
   "cell_type": "code",
   "execution_count": 10,
   "metadata": {
    "ExecuteTime": {
     "end_time": "2019-12-10T06:57:53.915327Z",
     "start_time": "2019-12-10T06:57:53.909328Z"
    }
   },
   "outputs": [],
   "source": [
    "def calculate_points(station, asteroids):\n",
    "    x, y = station\n",
    "    angles = [math.atan2(point_y-asteroid_y, point_x-asteroid_x) for asteroid_x, asteroid_y in asteroids]\n",
    "    distance = [math.sqrt( (point_y-asteroid_y)**2 + (point_x-asteroid_x)**2 ) for asteroid_x, asteroid_y in asteroids]\n",
    "#     other_asteroids = sorted(zip(asteroids,distance,angles), key=lambda item: item[1])\n",
    "    \n",
    "    return len(Counter(angles))"
   ]
  },
  {
   "cell_type": "code",
   "execution_count": 13,
   "metadata": {
    "ExecuteTime": {
     "end_time": "2019-12-10T06:57:55.185328Z",
     "start_time": "2019-12-10T06:57:55.182327Z"
    }
   },
   "outputs": [],
   "source": [
    "def extract_best_point(grid_string):\n",
    "    grid = extract_grid(grid_string)\n",
    "    asteroids = asteroid_coords(grid)\n",
    "    counts = {asteroid: calculate_points(asteroid, asteroids) for asteroid in asteroids}\n",
    "    return [(k,v) for k, v in counts.items() if v == max(counts.values())][0]"
   ]
  },
  {
   "cell_type": "code",
   "execution_count": 3,
   "metadata": {
    "ExecuteTime": {
     "end_time": "2019-12-10T06:57:42.584329Z",
     "start_time": "2019-12-10T06:57:42.580328Z"
    }
   },
   "outputs": [],
   "source": [
    "example = \"\"\"\n",
    ".#..##.###...#######\n",
    "##.############..##.\n",
    ".#.######.########.#\n",
    ".###.#######.####.#.\n",
    "#####.##.#.##.###.##\n",
    "..#####..#.#########\n",
    "####################\n",
    "#.####....###.#.#.##\n",
    "##.#################\n",
    "#####.##.###..####..\n",
    "..######..##.#######\n",
    "####.##.####...##..#\n",
    ".#####..#.######.###\n",
    "##...#.##########...\n",
    "#.##########.#######\n",
    ".####.#.###.###.#.##\n",
    "....##.##.###..#####\n",
    ".#.#.###########.###\n",
    "#.#.#.#####.####.###\n",
    "###.##.####.##.#..##\n",
    "\"\"\".split(\"\\n\")"
   ]
  },
  {
   "cell_type": "code",
   "execution_count": 152,
   "metadata": {
    "ExecuteTime": {
     "end_time": "2019-12-10T06:57:21.273328Z",
     "start_time": "2019-12-10T06:57:21.123330Z"
    }
   },
   "outputs": [
    {
     "data": {
      "text/plain": [
       "((11, 13), 210)"
      ]
     },
     "execution_count": 152,
     "metadata": {},
     "output_type": "execute_result"
    }
   ],
   "source": [
    "extract_best_point(example)"
   ]
  },
  {
   "cell_type": "code",
   "execution_count": 153,
   "metadata": {
    "ExecuteTime": {
     "end_time": "2019-12-10T06:57:21.531327Z",
     "start_time": "2019-12-10T06:57:21.275327Z"
    }
   },
   "outputs": [
    {
     "data": {
      "text/plain": [
       "((17, 23), 296)"
      ]
     },
     "execution_count": 153,
     "metadata": {},
     "output_type": "execute_result"
    }
   ],
   "source": [
    "extract_best_point(file_lines)"
   ]
  },
  {
   "cell_type": "code",
   "execution_count": 41,
   "metadata": {
    "ExecuteTime": {
     "end_time": "2019-12-10T07:08:15.637639Z",
     "start_time": "2019-12-10T07:08:15.403641Z"
    }
   },
   "outputs": [
    {
     "data": {
      "text/plain": [
       "296"
      ]
     },
     "execution_count": 41,
     "metadata": {},
     "output_type": "execute_result"
    }
   ],
   "source": [
    "# Result 1\n",
    "extract_best_point(file_lines)[-1]"
   ]
  },
  {
   "cell_type": "markdown",
   "metadata": {
    "ExecuteTime": {
     "end_time": "2019-12-10T06:57:21.534328Z",
     "start_time": "2019-12-10T06:57:21.532327Z"
    }
   },
   "source": [
    "## Part 2"
   ]
  },
  {
   "cell_type": "code",
   "execution_count": 6,
   "metadata": {
    "ExecuteTime": {
     "end_time": "2019-12-10T06:57:50.056332Z",
     "start_time": "2019-12-10T06:57:50.052329Z"
    }
   },
   "outputs": [],
   "source": [
    "def asteroid_details(point, other_coords):\n",
    "    point_x, point_y = point\n",
    "    angles = [math.atan2(point_y-asteroid_y, point_x-asteroid_x) for asteroid_x, asteroid_y in other_coords]\n",
    "    distance = [math.sqrt( (point_y-asteroid_y)**2 + (point_x-asteroid_x)**2 ) for asteroid_x, asteroid_y in other_coords]\n",
    "    other_asteroids = sorted(zip(other_coords,distance,angles), key=lambda item: item[1])\n",
    "    \n",
    "    return other_asteroids"
   ]
  },
  {
   "cell_type": "code",
   "execution_count": 24,
   "metadata": {
    "ExecuteTime": {
     "end_time": "2019-12-10T07:00:13.354901Z",
     "start_time": "2019-12-10T07:00:13.347901Z"
    }
   },
   "outputs": [],
   "source": [
    "def vaporize_asteroids(grid_string):\n",
    "    # Same as p1\n",
    "    grid = extract_grid(grid_string)\n",
    "    asteroids = asteroid_coords(grid)\n",
    "    counts = {asteroid: calculate_points(asteroid, asteroids) for asteroid in asteroids}\n",
    "    station = [(k,v) for k, v in counts.items() if v == max(counts.values())][0][0]\n",
    "#     print(station)\n",
    "    \n",
    "    # Get some other details for sorting\n",
    "    asteroids_list = asteroid_details(station, [asteroid for asteroid in asteroids if asteroid[0] != station])\n",
    "    \n",
    "    sorted_asteroids_list = sorted(asteroids_list, key=lambda item: (item[2], item[1]))\n",
    "    # Start at 90 degrees\n",
    "    ordered_list = [item for item in sorted_asteroids_list if item[2] - 1.5707963267948966 >= 0]\n",
    "    ordered_list.extend([item for item in sorted_asteroids_list if item[2] - 1.5707963267948966 < 0])\n",
    "    \n",
    "    # Pop items!\n",
    "    prior_angle = -999\n",
    "    popped_items = []\n",
    "    popping_list = ordered_list.copy()\n",
    "    i = 0\n",
    "    while len(popping_list) > 0:\n",
    "        if i >= len(popping_list):\n",
    "            i = 0\n",
    "            prior_angle = -999\n",
    "        if popping_list[0][2] == prior_angle:\n",
    "            popping_list.append(popping_list.pop(0))\n",
    "        else:\n",
    "            popped_items.append(popping_list.pop(0))\n",
    "            prior_angle = popped_items[-1][2]\n",
    "        i += 1\n",
    "    \n",
    "    return popped_items"
   ]
  },
  {
   "cell_type": "code",
   "execution_count": 39,
   "metadata": {
    "ExecuteTime": {
     "end_time": "2019-12-10T07:01:48.120173Z",
     "start_time": "2019-12-10T07:01:47.884172Z"
    }
   },
   "outputs": [
    {
     "data": {
      "text/plain": [
       "(2, 4)"
      ]
     },
     "execution_count": 39,
     "metadata": {},
     "output_type": "execute_result"
    }
   ],
   "source": [
    "# Result 2\n",
    "vaporize_asteroids(file_lines)[200-1][0]"
   ]
  },
  {
   "cell_type": "code",
   "execution_count": 19,
   "metadata": {
    "ExecuteTime": {
     "end_time": "2019-12-10T06:58:40.456401Z",
     "start_time": "2019-12-10T06:58:40.322401Z"
    }
   },
   "outputs": [
    {
     "name": "stdout",
     "output_type": "stream",
     "text": [
      "(11, 13)\n"
     ]
    },
    {
     "data": {
      "text/plain": [
       "((11, 12), 1.0, 1.5707963267948966)"
      ]
     },
     "execution_count": 19,
     "metadata": {},
     "output_type": "execute_result"
    }
   ],
   "source": [
    "vaporize_asteroids(example)[0]"
   ]
  },
  {
   "cell_type": "code",
   "execution_count": 21,
   "metadata": {
    "ExecuteTime": {
     "end_time": "2019-12-10T06:59:02.238402Z",
     "start_time": "2019-12-10T06:59:02.005402Z"
    }
   },
   "outputs": [
    {
     "name": "stdout",
     "output_type": "stream",
     "text": [
      "(17, 23)\n"
     ]
    },
    {
     "data": {
      "text/plain": [
       "((2, 4), 24.20743687382041, 0.9025069079643125)"
      ]
     },
     "execution_count": 21,
     "metadata": {},
     "output_type": "execute_result"
    }
   ],
   "source": [
    "vaporize_asteroids(file_lines)[199]"
   ]
  },
  {
   "cell_type": "code",
   "execution_count": 22,
   "metadata": {
    "ExecuteTime": {
     "end_time": "2019-12-10T06:59:10.948403Z",
     "start_time": "2019-12-10T06:59:10.943400Z"
    }
   },
   "outputs": [
    {
     "data": {
      "text/plain": [
       "24"
      ]
     },
     "execution_count": 22,
     "metadata": {},
     "output_type": "execute_result"
    }
   ],
   "source": [
    "2*10+4"
   ]
  },
  {
   "cell_type": "code",
   "execution_count": 36,
   "metadata": {
    "ExecuteTime": {
     "end_time": "2019-12-10T07:01:22.450136Z",
     "start_time": "2019-12-10T07:01:22.321137Z"
    }
   },
   "outputs": [
    {
     "data": {
      "text/plain": [
       "(11, 1)"
      ]
     },
     "execution_count": 36,
     "metadata": {},
     "output_type": "execute_result"
    }
   ],
   "source": [
    "vaporize_asteroids(example)[299-1][0]"
   ]
  },
  {
   "cell_type": "code",
   "execution_count": 40,
   "metadata": {
    "ExecuteTime": {
     "end_time": "2019-12-10T07:01:57.208176Z",
     "start_time": "2019-12-10T07:01:57.205174Z"
    }
   },
   "outputs": [
    {
     "data": {
      "text/plain": [
       "204"
      ]
     },
     "execution_count": 40,
     "metadata": {},
     "output_type": "execute_result"
    }
   ],
   "source": [
    "2*100+4"
   ]
  },
  {
   "cell_type": "code",
   "execution_count": null,
   "metadata": {},
   "outputs": [],
   "source": []
  }
 ],
 "metadata": {
  "kernelspec": {
   "display_name": "Python 3",
   "language": "python",
   "name": "python3"
  },
  "language_info": {
   "codemirror_mode": {
    "name": "ipython",
    "version": 3
   },
   "file_extension": ".py",
   "mimetype": "text/x-python",
   "name": "python",
   "nbconvert_exporter": "python",
   "pygments_lexer": "ipython3",
   "version": "3.7.0"
  },
  "toc": {
   "base_numbering": 1,
   "nav_menu": {},
   "number_sections": true,
   "sideBar": true,
   "skip_h1_title": true,
   "title_cell": "Table of Contents",
   "title_sidebar": "Contents",
   "toc_cell": false,
   "toc_position": {},
   "toc_section_display": true,
   "toc_window_display": false
  }
 },
 "nbformat": 4,
 "nbformat_minor": 2
}

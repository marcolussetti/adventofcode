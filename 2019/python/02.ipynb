{
 "cells": [
  {
   "cell_type": "code",
   "execution_count": 1,
   "metadata": {
    "ExecuteTime": {
     "end_time": "2019-12-02T05:31:00.940148Z",
     "start_time": "2019-12-02T05:31:00.937148Z"
    }
   },
   "outputs": [],
   "source": [
    "import itertools"
   ]
  },
  {
   "cell_type": "code",
   "execution_count": 2,
   "metadata": {
    "ExecuteTime": {
     "end_time": "2019-12-02T05:31:00.947146Z",
     "start_time": "2019-12-02T05:31:00.941147Z"
    }
   },
   "outputs": [],
   "source": [
    "with open('../inputs/02', 'r') as f:\n",
    "    file_lines = f.readlines()\n",
    "input_lines = [int(line.strip()) for line in file_lines[0].split(\",\")]"
   ]
  },
  {
   "cell_type": "markdown",
   "metadata": {},
   "source": [
    "## Part 1"
   ]
  },
  {
   "cell_type": "code",
   "execution_count": 3,
   "metadata": {
    "ExecuteTime": {
     "end_time": "2019-12-02T05:31:00.952148Z",
     "start_time": "2019-12-02T05:31:00.948147Z"
    }
   },
   "outputs": [],
   "source": [
    "def run_program(values):\n",
    "    lines = values.copy()\n",
    "    current_op = 0\n",
    "    while lines[current_op] != 99:\n",
    "        op = lines[current_op]\n",
    "        first = lines[current_op+1]\n",
    "        second = lines[current_op+2]\n",
    "        third = lines[current_op+3]\n",
    "        first_val = lines[first]\n",
    "        second_val = lines[second]\n",
    "\n",
    "        if op == 99:\n",
    "            break\n",
    "        elif op == 1:\n",
    "            lines[third] = first_val + second_val\n",
    "        elif op == 2:\n",
    "            lines[third] = first_val * second_val\n",
    "        current_op = current_op + 4\n",
    "\n",
    "    return lines"
   ]
  },
  {
   "cell_type": "code",
   "execution_count": 4,
   "metadata": {
    "ExecuteTime": {
     "end_time": "2019-12-02T05:31:00.962147Z",
     "start_time": "2019-12-02T05:31:00.953147Z"
    }
   },
   "outputs": [
    {
     "data": {
      "text/plain": [
       "[2, 4, 4, 5, 99, 9801]"
      ]
     },
     "execution_count": 4,
     "metadata": {},
     "output_type": "execute_result"
    }
   ],
   "source": [
    "# Sample value(s)\n",
    "run_program([2, 4, 4, 5, 99, 0])"
   ]
  },
  {
   "cell_type": "code",
   "execution_count": 5,
   "metadata": {
    "ExecuteTime": {
     "end_time": "2019-12-02T05:31:00.968147Z",
     "start_time": "2019-12-02T05:31:00.963150Z"
    }
   },
   "outputs": [
    {
     "data": {
      "text/plain": [
       "4690667"
      ]
     },
     "execution_count": 5,
     "metadata": {},
     "output_type": "execute_result"
    }
   ],
   "source": [
    "# Solve for Part 1\n",
    "modified_input = input_lines.copy()\n",
    "modified_input[1] = 12\n",
    "modified_input[2] = 2\n",
    "\n",
    "result_1 = run_program(modified_input)\n",
    "result_1[0]"
   ]
  },
  {
   "cell_type": "markdown",
   "metadata": {},
   "source": [
    "## Part 2"
   ]
  },
  {
   "cell_type": "code",
   "execution_count": 6,
   "metadata": {
    "ExecuteTime": {
     "end_time": "2019-12-02T05:31:00.973149Z",
     "start_time": "2019-12-02T05:31:00.969148Z"
    }
   },
   "outputs": [],
   "source": [
    "def generate_lines(input_values, noun, verb):\n",
    "    new_values = input_values.copy()\n",
    "    new_values[1] = noun\n",
    "    new_values[2] = verb\n",
    "\n",
    "    return new_values"
   ]
  },
  {
   "cell_type": "code",
   "execution_count": 7,
   "metadata": {
    "ExecuteTime": {
     "end_time": "2019-12-02T05:31:01.038148Z",
     "start_time": "2019-12-02T05:31:00.974148Z"
    }
   },
   "outputs": [],
   "source": [
    "nouns = list(range(1, 1000))\n",
    "verbs = list(range(1, 1000))\n",
    "combos = list(itertools.product(*[nouns, verbs]))\n",
    "# combos"
   ]
  },
  {
   "cell_type": "code",
   "execution_count": 8,
   "metadata": {
    "ExecuteTime": {
     "end_time": "2019-12-02T05:31:01.303147Z",
     "start_time": "2019-12-02T05:31:01.039149Z"
    }
   },
   "outputs": [
    {
     "name": "stdout",
     "output_type": "stream",
     "text": [
      "Noun: 62. Verb: 55\n"
     ]
    }
   ],
   "source": [
    "for noun, verb in combos:\n",
    "    generated_lines = generate_lines(input_lines, noun, verb)\n",
    "    try:\n",
    "        result = run_program(generated_lines)\n",
    "        result_value = result[0]\n",
    "    except:\n",
    "        continue\n",
    "\n",
    "    if result_value == 19690720:\n",
    "        print(\"Noun: {}. Verb: {}\".format(noun, verb))\n",
    "        break"
   ]
  },
  {
   "cell_type": "code",
   "execution_count": 9,
   "metadata": {
    "ExecuteTime": {
     "end_time": "2019-12-02T05:31:01.309148Z",
     "start_time": "2019-12-02T05:31:01.305152Z"
    }
   },
   "outputs": [
    {
     "data": {
      "text/plain": [
       "6255"
      ]
     },
     "execution_count": 9,
     "metadata": {},
     "output_type": "execute_result"
    }
   ],
   "source": [
    "100 * noun + verb"
   ]
  }
 ],
 "metadata": {
  "kernelspec": {
   "display_name": "Python 3",
   "language": "python",
   "name": "python3"
  },
  "language_info": {
   "codemirror_mode": {
    "name": "ipython",
    "version": 3
   },
   "file_extension": ".py",
   "mimetype": "text/x-python",
   "name": "python",
   "nbconvert_exporter": "python",
   "pygments_lexer": "ipython3",
   "version": "3.7.0"
  },
  "toc": {
   "base_numbering": 1,
   "nav_menu": {},
   "number_sections": true,
   "sideBar": true,
   "skip_h1_title": true,
   "title_cell": "Table of Contents",
   "title_sidebar": "Contents",
   "toc_cell": false,
   "toc_position": {},
   "toc_section_display": true,
   "toc_window_display": false
  }
 },
 "nbformat": 4,
 "nbformat_minor": 2
}

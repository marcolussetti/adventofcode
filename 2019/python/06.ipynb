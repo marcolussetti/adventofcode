{
 "cells": [
  {
   "cell_type": "code",
   "execution_count": 1,
   "metadata": {
    "ExecuteTime": {
     "end_time": "2019-12-06T06:12:30.712716Z",
     "start_time": "2019-12-06T06:12:30.708707Z"
    }
   },
   "outputs": [],
   "source": [
    "with open('../inputs/06', 'r') as f:\n",
    "    file_lines = f.readlines()\n",
    "input_lines = [line.strip().split(')') for line in file_lines]"
   ]
  },
  {
   "cell_type": "markdown",
   "metadata": {},
   "source": [
    "## Part 1"
   ]
  },
  {
   "cell_type": "code",
   "execution_count": 2,
   "metadata": {
    "ExecuteTime": {
     "end_time": "2019-12-06T06:12:30.719712Z",
     "start_time": "2019-12-06T06:12:30.714713Z"
    }
   },
   "outputs": [],
   "source": [
    "def find_in_input(item):\n",
    "    return [inner for inner, outer in input_lines if outer == item]"
   ]
  },
  {
   "cell_type": "code",
   "execution_count": 3,
   "metadata": {
    "ExecuteTime": {
     "end_time": "2019-12-06T06:12:30.727708Z",
     "start_time": "2019-12-06T06:12:30.721715Z"
    }
   },
   "outputs": [],
   "source": [
    "def extract_chain(input_i):\n",
    "    queue = list(set(find_in_input(input_i)))\n",
    "    total = list(set(queue))\n",
    "    while len(queue) > 0:\n",
    "        for item in queue:\n",
    "            inner_items = set(find_in_input(item))\n",
    "            total = set(total) | inner_items\n",
    "            queue = set(queue) | inner_items\n",
    "            queue.remove(item)\n",
    "    return total"
   ]
  },
  {
   "cell_type": "code",
   "execution_count": 4,
   "metadata": {
    "ExecuteTime": {
     "end_time": "2019-12-06T06:12:30.735709Z",
     "start_time": "2019-12-06T06:12:30.728707Z"
    }
   },
   "outputs": [],
   "source": [
    "keys = set([outer for inner, outer in input_lines])"
   ]
  },
  {
   "cell_type": "code",
   "execution_count": 5,
   "metadata": {
    "ExecuteTime": {
     "end_time": "2019-12-06T06:12:36.714706Z",
     "start_time": "2019-12-06T06:12:30.737710Z"
    }
   },
   "outputs": [
    {
     "data": {
      "text/plain": [
       "162439"
      ]
     },
     "execution_count": 5,
     "metadata": {},
     "output_type": "execute_result"
    }
   ],
   "source": [
    "mappings = {key: extract_chain(key) for key in keys}\n",
    "sum([len(item) for key, item in mappings.items()])"
   ]
  },
  {
   "cell_type": "markdown",
   "metadata": {},
   "source": [
    "## Part 2"
   ]
  },
  {
   "cell_type": "code",
   "execution_count": 6,
   "metadata": {
    "ExecuteTime": {
     "end_time": "2019-12-06T06:12:36.717711Z",
     "start_time": "2019-12-06T06:12:36.715708Z"
    }
   },
   "outputs": [],
   "source": [
    "def find_paths(current):\n",
    "    inner = find_in_input(current[-1])\n",
    "    if len(inner) > 0:\n",
    "        current.append(inner[0])\n",
    "        current = find_paths(current)\n",
    "\n",
    "    return current"
   ]
  },
  {
   "cell_type": "code",
   "execution_count": 7,
   "metadata": {
    "ExecuteTime": {
     "end_time": "2019-12-06T06:12:36.745706Z",
     "start_time": "2019-12-06T06:12:36.718708Z"
    }
   },
   "outputs": [],
   "source": [
    "path_from_you = find_paths(['YOU'])\n",
    "path_from_san = find_paths(['SAN'])"
   ]
  },
  {
   "cell_type": "code",
   "execution_count": 8,
   "metadata": {
    "ExecuteTime": {
     "end_time": "2019-12-06T06:12:36.752708Z",
     "start_time": "2019-12-06T06:12:36.746707Z"
    }
   },
   "outputs": [],
   "source": [
    "intersections = {element: (path_from_san.index(element) - 1) + (i - 1)\n",
    "                 for i, element in enumerate(path_from_you) if element in path_from_san}"
   ]
  },
  {
   "cell_type": "code",
   "execution_count": 9,
   "metadata": {
    "ExecuteTime": {
     "end_time": "2019-12-06T06:12:36.758708Z",
     "start_time": "2019-12-06T06:12:36.753708Z"
    }
   },
   "outputs": [
    {
     "data": {
      "text/plain": [
       "367"
      ]
     },
     "execution_count": 9,
     "metadata": {},
     "output_type": "execute_result"
    }
   ],
   "source": [
    "min([val for key, val in intersections.items()])"
   ]
  }
 ],
 "metadata": {
  "_draft": {
   "nbviewer_url": "https://gist.github.com/4cfff89bd18c34ad6c0f2fd6af06ec1c"
  },
  "gist": {
   "data": {
    "description": "6th day of Advent of Code",
    "public": false
   },
   "id": "4cfff89bd18c34ad6c0f2fd6af06ec1c"
  },
  "kernelspec": {
   "display_name": "Python 3",
   "language": "python",
   "name": "python3"
  },
  "language_info": {
   "codemirror_mode": {
    "name": "ipython",
    "version": 3
   },
   "file_extension": ".py",
   "mimetype": "text/x-python",
   "name": "python",
   "nbconvert_exporter": "python",
   "pygments_lexer": "ipython3",
   "version": "3.7.0"
  },
  "toc": {
   "base_numbering": 1,
   "nav_menu": {},
   "number_sections": true,
   "sideBar": true,
   "skip_h1_title": true,
   "title_cell": "Table of Contents",
   "title_sidebar": "Contents",
   "toc_cell": false,
   "toc_position": {},
   "toc_section_display": true,
   "toc_window_display": false
  }
 },
 "nbformat": 4,
 "nbformat_minor": 2
}

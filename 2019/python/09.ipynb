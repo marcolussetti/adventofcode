{
 "cells": [
  {
   "cell_type": "code",
   "execution_count": 1,
   "metadata": {
    "ExecuteTime": {
     "end_time": "2019-12-09T07:03:19.598732Z",
     "start_time": "2019-12-09T07:03:19.595732Z"
    }
   },
   "outputs": [],
   "source": [
    "import itertools"
   ]
  },
  {
   "cell_type": "code",
   "execution_count": 2,
   "metadata": {
    "ExecuteTime": {
     "end_time": "2019-12-09T07:03:19.607731Z",
     "start_time": "2019-12-09T07:03:19.599731Z"
    }
   },
   "outputs": [],
   "source": [
    "with open('../inputs/09', 'r') as f:\n",
    "    file_lines = f.readlines()\n",
    "input_lines = [int(line.strip()) for line in file_lines[0].split(\",\")]"
   ]
  },
  {
   "cell_type": "markdown",
   "metadata": {},
   "source": [
    "## Part 1"
   ]
  },
  {
   "cell_type": "code",
   "execution_count": 3,
   "metadata": {
    "ExecuteTime": {
     "end_time": "2019-12-09T07:03:19.620730Z",
     "start_time": "2019-12-09T07:03:19.608731Z"
    }
   },
   "outputs": [],
   "source": [
    "def execute_program(program, inputs):\n",
    "    p = program.copy()\n",
    "    p.extend([0]*10000)\n",
    "    i = 0\n",
    "    relative_base = 0\n",
    "    while p[i] != 99:\n",
    "        # Extract operation\n",
    "        op = int(str(p[i])[-2:])\n",
    "        # Extract modes after zero filling it & inverting\n",
    "        modes = [int(char) for char in str(p[i])[:-2].zfill(3)][::-1]\n",
    "\n",
    "        # Map variables/locations based on operation\n",
    "        if op in [1, 2, 7, 8]:\n",
    "            # Two parameters, 1 target\n",
    "            variables = [\n",
    "                p[i+1] if modes[0] == 1 else p[p[i+1]+relative_base] if modes[0] == 2 else p[p[i+1]],\n",
    "                p[i+2] if modes[1] == 1 else p[p[i+2]+relative_base] if modes[1] == 2 else p[p[i+2]],\n",
    "                i+3 if modes[2] == 1 else p[i+3]+relative_base if modes[2] == 2 else p[i+3]\n",
    "            ]\n",
    "        elif op in [5, 6]:\n",
    "            # Two parameters\n",
    "            variables = [\n",
    "                p[i+1] if modes[0] == 1 else p[p[i+1]] if modes[0] == 0 else p[p[i+1]+relative_base],\n",
    "                p[i+2] if modes[1] == 1 else p[p[i+2]] if modes[1] == 0 else p[p[i+2]+relative_base],\n",
    "            ]\n",
    "        elif op in [3, 4]:\n",
    "            # One location?\n",
    "            variables = [\n",
    "                i+1 if modes[0] == 1 else p[i+1] + relative_base if modes[0] == 2 else p[i+1]\n",
    "            ]\n",
    "        elif op in [9]:\n",
    "            # One parameter\n",
    "            variables = [\n",
    "                p[i+1] if modes[0] == 1 else p[p[i+1]] if modes[0] == 0 else p[p[i+1]+relative_base],\n",
    "            ]\n",
    "\n",
    "        # Perform operation\n",
    "        if op == 1:  # Sum\n",
    "            p[variables[2]] = variables[0] + variables[1]\n",
    "            i += 4\n",
    "        elif op == 2:  # Multiplication\n",
    "            p[variables[2]] = variables[0] * variables[1]\n",
    "            i += 4\n",
    "        elif op == 3:  # Input\n",
    "            p[variables[0]] = inputs.pop(0) #  if len(inputs) > 0 else inputs[0]\n",
    "            i += 2\n",
    "        elif op == 4:  # Output\n",
    "            print(p[variables[0]])\n",
    "            i += 2\n",
    "        elif op == 5:  # Jump-if-true\n",
    "            i = variables[1] if variables[0] else i + 3\n",
    "        elif op == 6:  # Jump-if-false\n",
    "            i = i + 3 if variables[0] else variables[1]\n",
    "        elif op == 7:  # Less-than\n",
    "            p[variables[2]] = int(variables[0] < variables[1])\n",
    "            i += 4\n",
    "        elif op == 8:  # Equals\n",
    "            p[variables[2]] = int(variables[0] == variables[1])\n",
    "            i += 4\n",
    "        elif op == 9:  # Relative base adjustment\n",
    "            relative_base += variables[0]\n",
    "            i += 2\n",
    "        else:  # ERROR!!\n",
    "            print(\"Oops...\")\n",
    "\n",
    "    return p"
   ]
  },
  {
   "cell_type": "code",
   "execution_count": 4,
   "metadata": {
    "ExecuteTime": {
     "end_time": "2019-12-09T07:03:19.624732Z",
     "start_time": "2019-12-09T07:03:19.621731Z"
    }
   },
   "outputs": [
    {
     "name": "stdout",
     "output_type": "stream",
     "text": [
      "109\n",
      "1\n",
      "204\n",
      "-1\n",
      "1001\n",
      "100\n",
      "1\n",
      "100\n",
      "1008\n",
      "100\n",
      "16\n",
      "101\n",
      "1006\n",
      "101\n",
      "0\n",
      "99\n"
     ]
    }
   ],
   "source": [
    "a = execute_program([109,1,204,-1,1001,100,1,100,1008,100,16,101,1006,101,0,99],[])"
   ]
  },
  {
   "cell_type": "code",
   "execution_count": 5,
   "metadata": {
    "ExecuteTime": {
     "end_time": "2019-12-09T07:03:19.631731Z",
     "start_time": "2019-12-09T07:03:19.626731Z"
    }
   },
   "outputs": [
    {
     "name": "stdout",
     "output_type": "stream",
     "text": [
      "1219070632396864\n"
     ]
    }
   ],
   "source": [
    "a = execute_program([1102,34915192,34915192,7,4,7,99,0],[])"
   ]
  },
  {
   "cell_type": "code",
   "execution_count": 6,
   "metadata": {
    "ExecuteTime": {
     "end_time": "2019-12-09T07:03:19.636732Z",
     "start_time": "2019-12-09T07:03:19.632732Z"
    }
   },
   "outputs": [
    {
     "name": "stdout",
     "output_type": "stream",
     "text": [
      "1125899906842624\n"
     ]
    }
   ],
   "source": [
    "a = execute_program([104,1125899906842624,99],[])"
   ]
  },
  {
   "cell_type": "code",
   "execution_count": 7,
   "metadata": {
    "ExecuteTime": {
     "end_time": "2019-12-09T07:03:19.642735Z",
     "start_time": "2019-12-09T07:03:19.637731Z"
    }
   },
   "outputs": [
    {
     "name": "stdout",
     "output_type": "stream",
     "text": [
      "2457252183\n"
     ]
    }
   ],
   "source": [
    "# part 1 result\n",
    "result_1 = execute_program(input_lines,[1])"
   ]
  },
  {
   "cell_type": "markdown",
   "metadata": {},
   "source": [
    "## Part 2"
   ]
  },
  {
   "cell_type": "code",
   "execution_count": 8,
   "metadata": {
    "ExecuteTime": {
     "end_time": "2019-12-09T07:03:20.604731Z",
     "start_time": "2019-12-09T07:03:19.643732Z"
    }
   },
   "outputs": [
    {
     "name": "stdout",
     "output_type": "stream",
     "text": [
      "70634\n"
     ]
    }
   ],
   "source": [
    "# part 2 result\n",
    "result_2 = execute_program(input_lines,[2])"
   ]
  }
 ],
 "metadata": {
  "kernelspec": {
   "display_name": "Python 3",
   "language": "python",
   "name": "python3"
  },
  "language_info": {
   "codemirror_mode": {
    "name": "ipython",
    "version": 3
   },
   "file_extension": ".py",
   "mimetype": "text/x-python",
   "name": "python",
   "nbconvert_exporter": "python",
   "pygments_lexer": "ipython3",
   "version": "3.7.0"
  },
  "toc": {
   "base_numbering": 1,
   "nav_menu": {},
   "number_sections": true,
   "sideBar": true,
   "skip_h1_title": true,
   "title_cell": "Table of Contents",
   "title_sidebar": "Contents",
   "toc_cell": false,
   "toc_position": {},
   "toc_section_display": true,
   "toc_window_display": false
  }
 },
 "nbformat": 4,
 "nbformat_minor": 2
}

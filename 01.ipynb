{
 "cells": [
  {
   "cell_type": "code",
   "execution_count": 14,
   "metadata": {
    "ExecuteTime": {
     "end_time": "2019-12-02T03:10:13.570862Z",
     "start_time": "2019-12-02T03:10:13.568862Z"
    }
   },
   "outputs": [],
   "source": [
    "import pandas as pd\n",
    "import numpy as np\n",
    "import math\n",
    "import statistics\n",
    "from functools import reduce"
   ]
  },
  {
   "cell_type": "code",
   "execution_count": 7,
   "metadata": {
    "ExecuteTime": {
     "end_time": "2019-12-02T03:08:05.735382Z",
     "start_time": "2019-12-02T03:08:05.733384Z"
    }
   },
   "outputs": [],
   "source": [
    "with open('inputs/01', 'r') as f:\n",
    "    lines = f.readlines()\n",
    "lines = [int(line.strip()) for line in lines]"
   ]
  },
  {
   "cell_type": "code",
   "execution_count": 8,
   "metadata": {
    "ExecuteTime": {
     "end_time": "2019-12-02T03:08:55.723761Z",
     "start_time": "2019-12-02T03:08:55.721762Z"
    }
   },
   "outputs": [],
   "source": [
    "def calc_fuel(line):\n",
    "    val = math.floor(line/3.0) - 2\n",
    "    return val if val > 0 else 0"
   ]
  },
  {
   "cell_type": "code",
   "execution_count": 12,
   "metadata": {
    "ExecuteTime": {
     "end_time": "2019-12-02T03:09:40.561589Z",
     "start_time": "2019-12-02T03:09:40.558590Z"
    }
   },
   "outputs": [],
   "source": [
    "fuels = list(map(calc_fuel, lines))"
   ]
  },
  {
   "cell_type": "code",
   "execution_count": 16,
   "metadata": {
    "ExecuteTime": {
     "end_time": "2019-12-02T03:10:27.517844Z",
     "start_time": "2019-12-02T03:10:27.513840Z"
    }
   },
   "outputs": [
    {
     "data": {
      "text/plain": [
       "3337604"
      ]
     },
     "execution_count": 16,
     "metadata": {},
     "output_type": "execute_result"
    }
   ],
   "source": [
    "result_part_1 = reduce(lambda acc, val: acc + val, fuels)\n",
    "result_part_1"
   ]
  },
  {
   "cell_type": "code",
   "execution_count": 19,
   "metadata": {
    "ExecuteTime": {
     "end_time": "2019-12-02T03:16:19.865043Z",
     "start_time": "2019-12-02T03:16:19.862042Z"
    }
   },
   "outputs": [],
   "source": [
    "def calc_fuel_with_fuel(line):\n",
    "    module_fuel = calc_fuel(line)\n",
    "    total_fuel = module_fuel\n",
    "    residual_fuel = module_fuel\n",
    "    while residual_fuel > 0:\n",
    "        residual_fuel = calc_fuel(residual_fuel)\n",
    "        total_fuel += residual_fuel\n",
    "    return total_fuel"
   ]
  },
  {
   "cell_type": "code",
   "execution_count": 21,
   "metadata": {
    "ExecuteTime": {
     "end_time": "2019-12-02T03:16:44.220786Z",
     "start_time": "2019-12-02T03:16:44.216784Z"
    }
   },
   "outputs": [
    {
     "data": {
      "text/plain": [
       "5003530"
      ]
     },
     "execution_count": 21,
     "metadata": {},
     "output_type": "execute_result"
    }
   ],
   "source": [
    "fuels_two = list(map(calc_fuel_with_fuel, lines))\n",
    "result_part_2 = reduce(lambda acc, val: acc + val, fuels_two)\n",
    "result_part_2"
   ]
  }
 ],
 "metadata": {
  "kernelspec": {
   "display_name": "Python 3",
   "language": "python",
   "name": "python3"
  },
  "language_info": {
   "codemirror_mode": {
    "name": "ipython",
    "version": 3
   },
   "file_extension": ".py",
   "mimetype": "text/x-python",
   "name": "python",
   "nbconvert_exporter": "python",
   "pygments_lexer": "ipython3",
   "version": "3.7.0"
  },
  "toc": {
   "base_numbering": 1,
   "nav_menu": {},
   "number_sections": true,
   "sideBar": true,
   "skip_h1_title": true,
   "title_cell": "Table of Contents",
   "title_sidebar": "Contents",
   "toc_cell": false,
   "toc_position": {},
   "toc_section_display": true,
   "toc_window_display": false
  }
 },
 "nbformat": 4,
 "nbformat_minor": 2
}

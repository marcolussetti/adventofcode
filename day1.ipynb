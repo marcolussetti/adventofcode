{
 "cells": [
  {
   "cell_type": "code",
   "execution_count": 2,
   "id": "ONPsVaMSRNGK",
   "metadata": {
    "ExecuteTime": {
     "end_time": "2021-12-01T05:30:29.038550Z",
     "start_time": "2021-12-01T05:30:29.036238Z"
    },
    "id": "ONPsVaMSRNGK"
   },
   "outputs": [],
   "source": [
    "# !pip install advent-of-code-data"
   ]
  },
  {
   "cell_type": "code",
   "execution_count": 9,
   "id": "wlEvl2wvTU7N",
   "metadata": {
    "ExecuteTime": {
     "end_time": "2021-12-01T05:36:57.193031Z",
     "start_time": "2021-12-01T05:36:57.190701Z"
    },
    "id": "wlEvl2wvTU7N"
   },
   "outputs": [],
   "source": [
    "from aocd.models import Puzzle"
   ]
  },
  {
   "cell_type": "markdown",
   "id": "NaQmDRrLSzbt",
   "metadata": {
    "id": "NaQmDRrLSzbt"
   },
   "source": [
    "# Part A"
   ]
  },
  {
   "cell_type": "code",
   "execution_count": 11,
   "id": "dWADitxfS0eX",
   "metadata": {
    "ExecuteTime": {
     "end_time": "2021-12-01T05:37:19.556681Z",
     "start_time": "2021-12-01T05:37:19.554034Z"
    },
    "id": "dWADitxfS0eX"
   },
   "outputs": [],
   "source": [
    "puzzle = Puzzle(year=2021, day=1)\n",
    "data = puzzle.input_data.splitlines()"
   ]
  },
  {
   "cell_type": "code",
   "execution_count": 12,
   "id": "UHnE5cNgXUQ_",
   "metadata": {
    "ExecuteTime": {
     "end_time": "2021-12-01T05:37:20.038218Z",
     "start_time": "2021-12-01T05:37:20.035978Z"
    },
    "id": "UHnE5cNgXUQ_"
   },
   "outputs": [],
   "source": [
    "data = [int(a) for a in data]"
   ]
  },
  {
   "cell_type": "code",
   "execution_count": 13,
   "id": "1mPxkMIZXZFj",
   "metadata": {
    "ExecuteTime": {
     "end_time": "2021-12-01T05:37:20.508462Z",
     "start_time": "2021-12-01T05:37:20.505335Z"
    },
    "id": "1mPxkMIZXZFj"
   },
   "outputs": [],
   "source": [
    "out = [a for a, b in zip(data, data[1:]) if b > a]"
   ]
  },
  {
   "cell_type": "code",
   "execution_count": 14,
   "id": "CWM_D4b9XqEy",
   "metadata": {
    "ExecuteTime": {
     "end_time": "2021-12-01T05:37:21.001653Z",
     "start_time": "2021-12-01T05:37:20.993060Z"
    },
    "colab": {
     "base_uri": "https://localhost:8080/"
    },
    "id": "CWM_D4b9XqEy",
    "outputId": "8383e748-9ffa-4d9c-d74f-e9aa3c4ec6aa"
   },
   "outputs": [
    {
     "data": {
      "text/plain": [
       "1154"
      ]
     },
     "execution_count": 14,
     "metadata": {},
     "output_type": "execute_result"
    }
   ],
   "source": [
    "len(out)"
   ]
  },
  {
   "cell_type": "code",
   "execution_count": 15,
   "id": "starting-compensation",
   "metadata": {
    "ExecuteTime": {
     "end_time": "2021-12-01T05:37:23.040204Z",
     "start_time": "2021-12-01T05:37:22.583048Z"
    }
   },
   "outputs": [],
   "source": [
    "puzzle.answer_a = len(out)"
   ]
  },
  {
   "cell_type": "markdown",
   "id": "4sLhwJGPas4g",
   "metadata": {
    "id": "4sLhwJGPas4g"
   },
   "source": [
    "# Part B"
   ]
  },
  {
   "cell_type": "code",
   "execution_count": 16,
   "id": "F8grE9umXwD1",
   "metadata": {
    "ExecuteTime": {
     "end_time": "2021-12-01T05:37:54.092860Z",
     "start_time": "2021-12-01T05:37:54.086825Z"
    },
    "id": "F8grE9umXwD1"
   },
   "outputs": [],
   "source": [
    "c = 0\n",
    "last = -50\n",
    "for i in range(len(data)):\n",
    "    end = min(i+3, len(data)-1)\n",
    "    # print(len(input[i:end]))\n",
    "    current = sum(data[i:end])\n",
    "    if current > last:\n",
    "        c += 1\n",
    "    last = current"
   ]
  },
  {
   "cell_type": "code",
   "execution_count": 17,
   "id": "idPSSGRUYZ3b",
   "metadata": {
    "ExecuteTime": {
     "end_time": "2021-12-01T05:37:54.658017Z",
     "start_time": "2021-12-01T05:37:54.654541Z"
    },
    "colab": {
     "base_uri": "https://localhost:8080/"
    },
    "id": "idPSSGRUYZ3b",
    "outputId": "ebd464a7-f8d2-41dc-ad80-c0fec0698267"
   },
   "outputs": [
    {
     "data": {
      "text/plain": [
       "1127"
      ]
     },
     "execution_count": 17,
     "metadata": {},
     "output_type": "execute_result"
    }
   ],
   "source": [
    "c"
   ]
  },
  {
   "cell_type": "code",
   "execution_count": 18,
   "id": "virgin-delivery",
   "metadata": {
    "ExecuteTime": {
     "end_time": "2021-12-01T05:37:55.144450Z",
     "start_time": "2021-12-01T05:37:55.141716Z"
    }
   },
   "outputs": [],
   "source": [
    "puzzle.answer_b = c"
   ]
  }
 ],
 "metadata": {
  "colab": {
   "collapsed_sections": [],
   "name": "Copy of 1.ipynb",
   "provenance": []
  },
  "kernelspec": {
   "display_name": "Python 3",
   "language": "python",
   "name": "python3"
  },
  "language_info": {
   "codemirror_mode": {
    "name": "ipython",
    "version": 3
   },
   "file_extension": ".py",
   "mimetype": "text/x-python",
   "name": "python",
   "nbconvert_exporter": "python",
   "pygments_lexer": "ipython3",
   "version": "3.9.7"
  }
 },
 "nbformat": 4,
 "nbformat_minor": 5
}

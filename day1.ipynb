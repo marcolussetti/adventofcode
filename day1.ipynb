{
  "nbformat": 4,
  "nbformat_minor": 5,
  "metadata": {
    "kernelspec": {
      "display_name": "Python 3 (ipykernel)",
      "language": "python",
      "name": "python3"
    },
    "language_info": {
      "codemirror_mode": {
        "name": "ipython",
        "version": 3
      },
      "file_extension": ".py",
      "mimetype": "text/x-python",
      "name": "python",
      "nbconvert_exporter": "python",
      "pygments_lexer": "ipython3",
      "version": "3.9.7"
    },
    "colab": {
      "name": "Copy of 1.ipynb",
      "provenance": [],
      "collapsed_sections": []
    }
  },
  "cells": [
    {
      "cell_type": "code",
      "metadata": {
        "id": "ONPsVaMSRNGK"
      },
      "source": [
        "# !pip install advent-of-code-data"
      ],
      "id": "ONPsVaMSRNGK",
      "execution_count": 64,
      "outputs": []
    },
    {
      "cell_type": "code",
      "metadata": {
        "id": "wlEvl2wvTU7N"
      },
      "source": [
        "from aocd.models import Puzzle"
      ],
      "id": "wlEvl2wvTU7N",
      "execution_count": 11,
      "outputs": []
    },
    {
      "cell_type": "markdown",
      "metadata": {
        "id": "NaQmDRrLSzbt"
      },
      "source": [
        "# Part A"
      ],
      "id": "NaQmDRrLSzbt"
    },
    {
      "cell_type": "code",
      "metadata": {
        "id": "dWADitxfS0eX"
      },
      "source": [
        "puzzle = Puzzle(year=2021, day=1)\n",
        "input = puzzle.input_data.splitlines()"
      ],
      "id": "dWADitxfS0eX",
      "execution_count": 14,
      "outputs": []
    },
    {
      "cell_type": "code",
      "metadata": {
        "id": "UHnE5cNgXUQ_"
      },
      "source": [
        "input = [int(a) for a in input]"
      ],
      "id": "UHnE5cNgXUQ_",
      "execution_count": 17,
      "outputs": []
    },
    {
      "cell_type": "code",
      "metadata": {
        "id": "1mPxkMIZXZFj"
      },
      "source": [
        "out = [a for a, b in zip(input, input[1:]) if b > a]"
      ],
      "id": "1mPxkMIZXZFj",
      "execution_count": 21,
      "outputs": []
    },
    {
      "cell_type": "code",
      "metadata": {
        "colab": {
          "base_uri": "https://localhost:8080/"
        },
        "id": "CWM_D4b9XqEy",
        "outputId": "8383e748-9ffa-4d9c-d74f-e9aa3c4ec6aa"
      },
      "source": [
        "len(out)"
      ],
      "id": "CWM_D4b9XqEy",
      "execution_count": 23,
      "outputs": [
        {
          "output_type": "execute_result",
          "data": {
            "text/plain": [
              "1154"
            ]
          },
          "metadata": {},
          "execution_count": 23
        }
      ]
    },
    {
      "cell_type": "markdown",
      "metadata": {
        "id": "4sLhwJGPas4g"
      },
      "source": [
        "# Part B"
      ],
      "id": "4sLhwJGPas4g"
    },
    {
      "cell_type": "code",
      "metadata": {
        "id": "6trU8BZsZb5o"
      },
      "source": [
        "inputb = input"
      ],
      "id": "6trU8BZsZb5o",
      "execution_count": 49,
      "outputs": []
    },
    {
      "cell_type": "code",
      "metadata": {
        "id": "FF6UHbLaZeZQ"
      },
      "source": [
        "# input = [199, 200, 208, 210, 200, 207,240, 269, 260, 263]\n",
        "input = inputb"
      ],
      "id": "FF6UHbLaZeZQ",
      "execution_count": 60,
      "outputs": []
    },
    {
      "cell_type": "code",
      "metadata": {
        "id": "F8grE9umXwD1"
      },
      "source": [
        "c = 0\n",
        "last = -50\n",
        "for i in range(len(input)):\n",
        "    end = min(i+3, len(input)-1)\n",
        "    # print(len(input[i:end]))\n",
        "    current = sum(input[i:end])\n",
        "    if current > last:\n",
        "        c += 1\n",
        "    last = current"
      ],
      "id": "F8grE9umXwD1",
      "execution_count": 63,
      "outputs": []
    },
    {
      "cell_type": "code",
      "metadata": {
        "colab": {
          "base_uri": "https://localhost:8080/"
        },
        "id": "idPSSGRUYZ3b",
        "outputId": "ebd464a7-f8d2-41dc-ad80-c0fec0698267"
      },
      "source": [
        "c"
      ],
      "id": "idPSSGRUYZ3b",
      "execution_count": 62,
      "outputs": [
        {
          "output_type": "execute_result",
          "data": {
            "text/plain": [
              "1127"
            ]
          },
          "metadata": {},
          "execution_count": 62
        }
      ]
    }
  ]
}
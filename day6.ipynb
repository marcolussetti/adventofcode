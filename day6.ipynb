{
 "cells": [
  {
   "cell_type": "markdown",
   "metadata": {},
   "source": [
    "# Day 6"
   ]
  },
  {
   "cell_type": "markdown",
   "metadata": {},
   "source": [
    "## Imports"
   ]
  },
  {
   "cell_type": "code",
   "execution_count": 1,
   "metadata": {
    "ExecuteTime": {
     "end_time": "2020-12-06T05:18:10.001026Z",
     "start_time": "2020-12-06T05:18:09.874030Z"
    }
   },
   "outputs": [],
   "source": [
    "from aocd.models import Puzzle"
   ]
  },
  {
   "cell_type": "markdown",
   "metadata": {},
   "source": [
    "## Inputs"
   ]
  },
  {
   "cell_type": "code",
   "execution_count": 2,
   "metadata": {
    "ExecuteTime": {
     "end_time": "2020-12-06T05:18:10.832424Z",
     "start_time": "2020-12-06T05:18:10.825481Z"
    }
   },
   "outputs": [
    {
     "data": {
      "text/plain": [
       "<Puzzle(2020, 6) at 0x7f78d136e2e0 - Custom Customs>"
      ]
     },
     "execution_count": 2,
     "metadata": {},
     "output_type": "execute_result"
    }
   ],
   "source": [
    "puzzle = Puzzle(year=2020, day=6)\n",
    "puzzle"
   ]
  },
  {
   "cell_type": "code",
   "execution_count": 3,
   "metadata": {
    "ExecuteTime": {
     "end_time": "2020-12-06T05:18:11.253936Z",
     "start_time": "2020-12-06T05:18:11.249363Z"
    }
   },
   "outputs": [
    {
     "data": {
      "text/plain": [
       "'syz\\ncywjs\\njptzy\\npjkyr\\nnhdbvyoqlxm\\n\\nsljgqfuvrkpzhba'"
      ]
     },
     "execution_count": 3,
     "metadata": {},
     "output_type": "execute_result"
    }
   ],
   "source": [
    "idata = puzzle.input_data\n",
    "idata[:50]"
   ]
  },
  {
   "cell_type": "markdown",
   "metadata": {},
   "source": [
    "## Part 1"
   ]
  },
  {
   "cell_type": "code",
   "execution_count": 4,
   "metadata": {
    "ExecuteTime": {
     "end_time": "2020-12-06T05:18:12.123576Z",
     "start_time": "2020-12-06T05:18:12.120936Z"
    }
   },
   "outputs": [],
   "source": [
    "data = idata.split(\"\\n\")"
   ]
  },
  {
   "cell_type": "code",
   "execution_count": 5,
   "metadata": {
    "ExecuteTime": {
     "end_time": "2020-12-06T05:18:12.446300Z",
     "start_time": "2020-12-06T05:18:12.441653Z"
    }
   },
   "outputs": [],
   "source": [
    "groups = []\n",
    "group = []\n",
    "for row in data:\n",
    "    if len(row) > 0:\n",
    "        group.append(row)\n",
    "    else:\n",
    "        groups.append(group)\n",
    "        group = []\n",
    "        \n",
    "groups.append(group)"
   ]
  },
  {
   "cell_type": "code",
   "execution_count": 6,
   "metadata": {
    "ExecuteTime": {
     "end_time": "2020-12-06T05:18:12.725824Z",
     "start_time": "2020-12-06T05:18:12.721248Z"
    }
   },
   "outputs": [
    {
     "data": {
      "text/plain": [
       "[['syz', 'cywjs', 'jptzy', 'pjkyr', 'nhdbvyoqlxm'],\n",
       " ['sljgqfuvrkpzhbax', 'balxvkgjquhzpsrf', 'jghpasuerbfvlkxiz'],\n",
       " ['e', 'phue', 'eid', 'ez'],\n",
       " ['igndfazbomyjkevwr', 'bejkdvzmgnofirway', 'afredowmyzgbnivjk'],\n",
       " ['jotunfx', 'futnzbw', 'etufn', 'utznf', 'fntu']]"
      ]
     },
     "execution_count": 6,
     "metadata": {},
     "output_type": "execute_result"
    }
   ],
   "source": [
    "groups[:5]"
   ]
  },
  {
   "cell_type": "code",
   "execution_count": 7,
   "metadata": {
    "ExecuteTime": {
     "end_time": "2020-12-06T05:18:13.032926Z",
     "start_time": "2020-12-06T05:18:13.026521Z"
    }
   },
   "outputs": [],
   "source": [
    "any_answered = [set([a for a in \"\".join(group)]) for group in groups]"
   ]
  },
  {
   "cell_type": "code",
   "execution_count": 8,
   "metadata": {
    "ExecuteTime": {
     "end_time": "2020-12-06T05:18:13.413222Z",
     "start_time": "2020-12-06T05:18:13.409315Z"
    }
   },
   "outputs": [
    {
     "data": {
      "text/plain": [
       "6748"
      ]
     },
     "execution_count": 8,
     "metadata": {},
     "output_type": "execute_result"
    }
   ],
   "source": [
    "r1 = sum([len(a) for a in any_answered])\n",
    "r1"
   ]
  },
  {
   "cell_type": "code",
   "execution_count": 9,
   "metadata": {
    "ExecuteTime": {
     "end_time": "2020-12-06T05:18:13.779718Z",
     "start_time": "2020-12-06T05:18:13.777191Z"
    }
   },
   "outputs": [],
   "source": [
    "puzzle.answer_a = r1"
   ]
  },
  {
   "cell_type": "markdown",
   "metadata": {},
   "source": [
    "## Part 2"
   ]
  },
  {
   "cell_type": "code",
   "execution_count": 10,
   "metadata": {
    "ExecuteTime": {
     "end_time": "2020-12-06T05:18:14.743498Z",
     "start_time": "2020-12-06T05:18:14.737300Z"
    }
   },
   "outputs": [],
   "source": [
    "groups_set = [[set([i for i in p]) for p in group] for group in groups]"
   ]
  },
  {
   "cell_type": "code",
   "execution_count": 11,
   "metadata": {
    "ExecuteTime": {
     "end_time": "2020-12-06T05:18:15.108914Z",
     "start_time": "2020-12-06T05:18:15.104613Z"
    }
   },
   "outputs": [],
   "source": [
    "all_answered = []\n",
    "for group in groups_set:\n",
    "    all_answered.append(group[0].intersection(*group[1:]))"
   ]
  },
  {
   "cell_type": "code",
   "execution_count": 13,
   "metadata": {
    "ExecuteTime": {
     "end_time": "2020-12-06T05:18:23.990917Z",
     "start_time": "2020-12-06T05:18:23.987450Z"
    }
   },
   "outputs": [
    {
     "data": {
      "text/plain": [
       "3445"
      ]
     },
     "execution_count": 13,
     "metadata": {},
     "output_type": "execute_result"
    }
   ],
   "source": [
    "r2 = sum([len(a) for a in all_answered])\n",
    "r2"
   ]
  },
  {
   "cell_type": "code",
   "execution_count": 14,
   "metadata": {
    "ExecuteTime": {
     "end_time": "2020-12-06T05:18:24.573578Z",
     "start_time": "2020-12-06T05:18:24.570634Z"
    }
   },
   "outputs": [],
   "source": [
    "puzzle.answer_b = r2"
   ]
  }
 ],
 "metadata": {
  "kernelspec": {
   "display_name": "Python 3",
   "language": "python",
   "name": "python3"
  },
  "language_info": {
   "codemirror_mode": {
    "name": "ipython",
    "version": 3
   },
   "file_extension": ".py",
   "mimetype": "text/x-python",
   "name": "python",
   "nbconvert_exporter": "python",
   "pygments_lexer": "ipython3",
   "version": "3.8.6"
  }
 },
 "nbformat": 4,
 "nbformat_minor": 4
}

{
 "cells": [
  {
   "cell_type": "code",
   "execution_count": 1,
   "metadata": {
    "ExecuteTime": {
     "end_time": "2019-12-06T06:51:23.898601Z",
     "start_time": "2019-12-06T06:51:23.894598Z"
    }
   },
   "outputs": [],
   "source": [
    "import itertools"
   ]
  },
  {
   "cell_type": "code",
   "execution_count": 2,
   "metadata": {
    "ExecuteTime": {
     "end_time": "2019-12-06T06:51:23.906596Z",
     "start_time": "2019-12-06T06:51:23.900599Z"
    }
   },
   "outputs": [],
   "source": [
    "with open('../inputs/05', 'r') as f:\n",
    "    file_lines = f.readlines()\n",
    "input_lines = [int(line.strip()) for line in file_lines[0].split(\",\")]"
   ]
  },
  {
   "cell_type": "markdown",
   "metadata": {},
   "source": [
    "## Part 1"
   ]
  },
  {
   "cell_type": "code",
   "execution_count": 3,
   "metadata": {
    "ExecuteTime": {
     "end_time": "2019-12-06T06:51:23.913598Z",
     "start_time": "2019-12-06T06:51:23.908600Z"
    }
   },
   "outputs": [],
   "source": [
    "def execute_program(program, input_value):\n",
    "    c = program.copy()\n",
    "    current_op = 0\n",
    "    while c[current_op] != 99:\n",
    "        op = int(str(c[current_op])[-2:])\n",
    "        modes = [int(char) for char in str(c[current_op])[:-2].zfill(3)][::-1]\n",
    "\n",
    "        if op == 1 or op == 2:  # Compute variables\n",
    "            variables = [\n",
    "                c[current_op+1] if modes[0] else c[c[current_op+1]],\n",
    "                c[current_op+2] if modes[1] else c[c[current_op+2]]\n",
    "            ]\n",
    "\n",
    "        if op == 1:  # Sum\n",
    "            c[c[current_op+3]] = variables[0] + variables[1]\n",
    "            current_op = current_op + 4\n",
    "        elif op == 2:  # Multiplication\n",
    "            c[c[current_op+3]] = variables[0] * variables[1]\n",
    "            current_op = current_op + 4\n",
    "        elif op == 3:  # Input\n",
    "            c[c[current_op+1]] = input_value\n",
    "            current_op = current_op + 2\n",
    "        elif op == 4:  # Output\n",
    "            print(c[c[current_op+1]])\n",
    "            current_op = current_op + 2\n",
    "\n",
    "    return c"
   ]
  },
  {
   "cell_type": "code",
   "execution_count": 4,
   "metadata": {
    "ExecuteTime": {
     "end_time": "2019-12-06T06:51:23.921599Z",
     "start_time": "2019-12-06T06:51:23.915600Z"
    }
   },
   "outputs": [],
   "source": [
    "# Sample value(s)\n",
    "test = execute_program([1002, 4, 3, 4, 33], 1)"
   ]
  },
  {
   "cell_type": "code",
   "execution_count": 5,
   "metadata": {
    "ExecuteTime": {
     "end_time": "2019-12-06T06:51:23.926598Z",
     "start_time": "2019-12-06T06:51:23.922600Z"
    }
   },
   "outputs": [],
   "source": [
    "# Sample value(s)\n",
    "test = execute_program([1101, 100, -1, 4, 0], 1)"
   ]
  },
  {
   "cell_type": "code",
   "execution_count": 6,
   "metadata": {
    "ExecuteTime": {
     "end_time": "2019-12-06T06:51:23.933598Z",
     "start_time": "2019-12-06T06:51:23.927599Z"
    }
   },
   "outputs": [
    {
     "name": "stdout",
     "output_type": "stream",
     "text": [
      "3\n",
      "0\n",
      "0\n",
      "0\n",
      "0\n",
      "0\n",
      "0\n",
      "0\n",
      "0\n",
      "15386262\n"
     ]
    }
   ],
   "source": [
    "# Solve for Part 1\n",
    "result_1 = execute_program(input_lines, 1)"
   ]
  },
  {
   "cell_type": "markdown",
   "metadata": {},
   "source": [
    "## Part 2"
   ]
  },
  {
   "cell_type": "code",
   "execution_count": 7,
   "metadata": {
    "ExecuteTime": {
     "end_time": "2019-12-06T06:51:23.943598Z",
     "start_time": "2019-12-06T06:51:23.935613Z"
    }
   },
   "outputs": [],
   "source": [
    "def execute_program_two(program, input_value):\n",
    "    c = program.copy()\n",
    "    current_op = 0\n",
    "    while c[current_op] != 99:\n",
    "        op = int(str(c[current_op])[-2:])\n",
    "        modes = [int(char) for char in str(c[current_op])[:-2].zfill(3)][::-1]\n",
    "\n",
    "        if op != 3 and op != 4:  # Compute variables\n",
    "            variables = [\n",
    "                c[current_op+1] if modes[0] else c[c[current_op+1]],\n",
    "                c[current_op+2] if modes[1] else c[c[current_op+2]]\n",
    "            ]\n",
    "\n",
    "        if op == 1:  # Sum\n",
    "            c[c[current_op+3]] = variables[0] + variables[1]\n",
    "            current_op = current_op + 4\n",
    "        elif op == 2:  # Multiplication\n",
    "            c[c[current_op+3]] = variables[0] * variables[1]\n",
    "            current_op = current_op + 4\n",
    "        elif op == 3:  # Input\n",
    "            c[c[current_op+1]] = input_value\n",
    "            current_op = current_op + 2\n",
    "        elif op == 4:  # Output\n",
    "            print(c[c[current_op+1]])\n",
    "            current_op = current_op + 2\n",
    "        elif op == 5:\n",
    "            current_op = variables[1] if variables[0] else current_op + 3\n",
    "        elif op == 6:\n",
    "            current_op = current_op + 3 if variables[0] else variables[1]\n",
    "        elif op == 7:\n",
    "            c[c[current_op+3]] = int(variables[0] < variables[1])\n",
    "            current_op = current_op + 4\n",
    "        elif op == 8:\n",
    "            c[c[current_op+3]] = int(variables[0] == variables[1])\n",
    "            current_op = current_op + 4\n",
    "\n",
    "    return c"
   ]
  },
  {
   "cell_type": "code",
   "execution_count": 8,
   "metadata": {
    "ExecuteTime": {
     "end_time": "2019-12-06T06:51:23.952597Z",
     "start_time": "2019-12-06T06:51:23.945599Z"
    }
   },
   "outputs": [
    {
     "name": "stdout",
     "output_type": "stream",
     "text": [
      "0\n"
     ]
    }
   ],
   "source": [
    "test = execute_program_two([3,9,8,9,10,9,4,9,99,-1,8], 5)"
   ]
  },
  {
   "cell_type": "code",
   "execution_count": 9,
   "metadata": {
    "ExecuteTime": {
     "end_time": "2019-12-06T06:51:23.958597Z",
     "start_time": "2019-12-06T06:51:23.954598Z"
    }
   },
   "outputs": [
    {
     "name": "stdout",
     "output_type": "stream",
     "text": [
      "0\n"
     ]
    }
   ],
   "source": [
    "test = execute_program_two([3,9,7,9,10,9,4,9,99,-1,8], 9)"
   ]
  },
  {
   "cell_type": "code",
   "execution_count": 10,
   "metadata": {
    "ExecuteTime": {
     "end_time": "2019-12-06T06:51:23.966614Z",
     "start_time": "2019-12-06T06:51:23.960599Z"
    }
   },
   "outputs": [
    {
     "name": "stdout",
     "output_type": "stream",
     "text": [
      "1\n"
     ]
    }
   ],
   "source": [
    "test = execute_program_two([3,3,1108,-1,8,3,4,3,99], 8)"
   ]
  },
  {
   "cell_type": "code",
   "execution_count": 11,
   "metadata": {
    "ExecuteTime": {
     "end_time": "2019-12-06T06:51:23.972598Z",
     "start_time": "2019-12-06T06:51:23.968599Z"
    }
   },
   "outputs": [
    {
     "name": "stdout",
     "output_type": "stream",
     "text": [
      "0\n"
     ]
    }
   ],
   "source": [
    "test = execute_program_two([3,3,1107,-1,8,3,4,3,99], 8)"
   ]
  },
  {
   "cell_type": "code",
   "execution_count": 12,
   "metadata": {
    "ExecuteTime": {
     "end_time": "2019-12-06T06:51:23.981599Z",
     "start_time": "2019-12-06T06:51:23.974600Z"
    }
   },
   "outputs": [
    {
     "name": "stdout",
     "output_type": "stream",
     "text": [
      "1000\n"
     ]
    }
   ],
   "source": [
    "test = execute_program_two([3, 21, 1008, 21, 8, 20, 1005, 20, 22, 107, 8, 21, 20, 1006, 20, 31, 1106, 0, 36, 98, 0, 0, 1002,\n",
    "               21, 125, 20, 4, 20, 1105, 1, 46, 104, 999, 1105, 1, 46, 1101, 1000, 1, 20, 4, 20, 1105, 1, 46, 98, 99], 8)"
   ]
  },
  {
   "cell_type": "code",
   "execution_count": 13,
   "metadata": {
    "ExecuteTime": {
     "end_time": "2019-12-06T06:51:23.986601Z",
     "start_time": "2019-12-06T06:51:23.983597Z"
    }
   },
   "outputs": [
    {
     "name": "stdout",
     "output_type": "stream",
     "text": [
      "10376124\n"
     ]
    }
   ],
   "source": [
    "# Solve for Part 2\n",
    "result_2 = execute_program_two(input_lines, 5)"
   ]
  }
 ],
 "metadata": {
  "kernelspec": {
   "display_name": "Python 3",
   "language": "python",
   "name": "python3"
  },
  "language_info": {
   "codemirror_mode": {
    "name": "ipython",
    "version": 3
   },
   "file_extension": ".py",
   "mimetype": "text/x-python",
   "name": "python",
   "nbconvert_exporter": "python",
   "pygments_lexer": "ipython3",
   "version": "3.7.0"
  },
  "toc": {
   "base_numbering": 1,
   "nav_menu": {},
   "number_sections": true,
   "sideBar": true,
   "skip_h1_title": true,
   "title_cell": "Table of Contents",
   "title_sidebar": "Contents",
   "toc_cell": false,
   "toc_position": {},
   "toc_section_display": true,
   "toc_window_display": false
  }
 },
 "nbformat": 4,
 "nbformat_minor": 2
}

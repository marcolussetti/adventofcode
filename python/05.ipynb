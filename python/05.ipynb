{
 "cells": [
  {
   "cell_type": "code",
   "execution_count": 1,
   "metadata": {
    "ExecuteTime": {
     "end_time": "2019-12-05T05:43:09.956735Z",
     "start_time": "2019-12-05T05:43:09.952736Z"
    }
   },
   "outputs": [],
   "source": [
    "import itertools"
   ]
  },
  {
   "cell_type": "code",
   "execution_count": 10,
   "metadata": {
    "ExecuteTime": {
     "end_time": "2019-12-05T05:53:20.734640Z",
     "start_time": "2019-12-05T05:53:20.730642Z"
    }
   },
   "outputs": [],
   "source": [
    "with open('../inputs/05', 'r') as f:\n",
    "    file_lines = f.readlines()\n",
    "input_lines = [int(line.strip()) for line in file_lines[0].split(\",\")]"
   ]
  },
  {
   "cell_type": "markdown",
   "metadata": {
    "heading_collapsed": true
   },
   "source": [
    "## Part 1"
   ]
  },
  {
   "cell_type": "code",
   "execution_count": 3,
   "metadata": {
    "ExecuteTime": {
     "end_time": "2019-12-05T05:43:10.677737Z",
     "start_time": "2019-12-05T05:43:10.669734Z"
    },
    "hidden": true
   },
   "outputs": [],
   "source": [
    "def run_program(values):\n",
    "    lines = values.copy()\n",
    "    current_op = 0\n",
    "    while lines[current_op] != 99:\n",
    "        op = int(str(lines[current_op])[-2:])\n",
    "        modes = str(lines[current_op])[:-2]\n",
    "        \n",
    "        if len(modes) == 1:\n",
    "            mode_1 = int(modes[-1])\n",
    "            mode_2 = 0\n",
    "            mode_3 = 0\n",
    "        elif len(modes) == 2:\n",
    "            mode_1 = int(modes[-1])\n",
    "            mode_2 = int(modes[-2])\n",
    "            mode_3 = 0\n",
    "        elif len(modes) == 3:\n",
    "            mode_1 = int(modes[-1])\n",
    "            mode_2 = int(modes[-2])\n",
    "            mode_3 = int(modes[-3])\n",
    "        elif len(modes) == 0:\n",
    "            mode_1 = 0\n",
    "            mode_2 = 0\n",
    "            mode_3 = 0\n",
    "        else:\n",
    "            print(\"WTF\")\n",
    "            print(lines[current_op])\n",
    "        \n",
    "        if op == 99:\n",
    "            break\n",
    "        elif op == 1:\n",
    "            first_val = lines[lines[current_op+1]] if mode_1 == 0 else lines[current_op+1]\n",
    "            second_val = lines[lines[current_op+2]] if mode_2 == 0 else lines[current_op+2]\n",
    "            lines[lines[current_op+3]] = first_val + second_val\n",
    "            current_op = current_op + 4\n",
    "        elif op == 2:\n",
    "            first_val = lines[lines[current_op+1]] if mode_1 == 0 else lines[current_op+1]\n",
    "            second_val = lines[lines[current_op+2]] if mode_2 == 0 else lines[current_op+2]\n",
    "            lines[lines[current_op+3]] = first_val * second_val\n",
    "            current_op = current_op + 4\n",
    "        elif op == 3:\n",
    "            lines[lines[current_op+1]] = 1\n",
    "            current_op = current_op + 2\n",
    "        elif op == 4:\n",
    "            print(\"HIT A 4\")\n",
    "            print(lines[lines[current_op+1]])\n",
    "            current_op = current_op + 2\n",
    "\n",
    "    return lines\n"
   ]
  },
  {
   "cell_type": "code",
   "execution_count": 4,
   "metadata": {
    "ExecuteTime": {
     "end_time": "2019-12-05T05:43:10.870736Z",
     "start_time": "2019-12-05T05:43:10.861739Z"
    },
    "hidden": true
   },
   "outputs": [
    {
     "data": {
      "text/plain": [
       "[1002, 4, 3, 4, 99]"
      ]
     },
     "execution_count": 4,
     "metadata": {},
     "output_type": "execute_result"
    }
   ],
   "source": [
    "# Sample value(s)\n",
    "run_program([1002,4,3,4,33])"
   ]
  },
  {
   "cell_type": "code",
   "execution_count": 5,
   "metadata": {
    "ExecuteTime": {
     "end_time": "2019-12-05T05:43:11.101734Z",
     "start_time": "2019-12-05T05:43:11.096735Z"
    },
    "hidden": true
   },
   "outputs": [
    {
     "data": {
      "text/plain": [
       "[1101, 100, -1, 4, 99]"
      ]
     },
     "execution_count": 5,
     "metadata": {},
     "output_type": "execute_result"
    }
   ],
   "source": [
    "# Sample value(s)\n",
    "run_program([1101,100,-1,4,0])"
   ]
  },
  {
   "cell_type": "code",
   "execution_count": 6,
   "metadata": {
    "ExecuteTime": {
     "end_time": "2019-12-05T05:43:11.555736Z",
     "start_time": "2019-12-05T05:43:11.550736Z"
    },
    "hidden": true
   },
   "outputs": [
    {
     "name": "stdout",
     "output_type": "stream",
     "text": [
      "HIT A 4\n",
      "3\n",
      "HIT A 4\n",
      "0\n",
      "HIT A 4\n",
      "0\n",
      "HIT A 4\n",
      "0\n",
      "HIT A 4\n",
      "0\n",
      "HIT A 4\n",
      "0\n",
      "HIT A 4\n",
      "0\n",
      "HIT A 4\n",
      "0\n",
      "HIT A 4\n",
      "0\n",
      "HIT A 4\n",
      "15386262\n"
     ]
    }
   ],
   "source": [
    "# Solve for Part 1\n",
    "modified_input = input_lines.copy()\n",
    "# modified_input[1] = 12\n",
    "# modified_input[2] = 2\n",
    "\n",
    "result_1 = run_program(modified_input)"
   ]
  },
  {
   "cell_type": "markdown",
   "metadata": {},
   "source": [
    "## Part 2"
   ]
  },
  {
   "cell_type": "code",
   "execution_count": 7,
   "metadata": {
    "ExecuteTime": {
     "end_time": "2019-12-05T05:51:50.205535Z",
     "start_time": "2019-12-05T05:51:50.194535Z"
    }
   },
   "outputs": [],
   "source": [
    "def run_program_2(values):\n",
    "    lines = values.copy()\n",
    "    current_op = 0\n",
    "    while lines[current_op] != 99:\n",
    "        op = int(str(lines[current_op])[-2:])\n",
    "        modes = str(lines[current_op])[:-2]\n",
    "        \n",
    "        if len(modes) == 1:\n",
    "            mode_1 = int(modes[-1])\n",
    "            mode_2 = 0\n",
    "            mode_3 = 0\n",
    "        elif len(modes) == 2:\n",
    "            mode_1 = int(modes[-1])\n",
    "            mode_2 = int(modes[-2])\n",
    "            mode_3 = 0\n",
    "        elif len(modes) == 3:\n",
    "            mode_1 = int(modes[-1])\n",
    "            mode_2 = int(modes[-2])\n",
    "            mode_3 = int(modes[-3])\n",
    "        elif len(modes) == 0:\n",
    "            mode_1 = 0\n",
    "            mode_2 = 0\n",
    "            mode_3 = 0\n",
    "        else:\n",
    "            print(\"WTF\")\n",
    "            print(lines[current_op])\n",
    "        \n",
    "        if op == 99:\n",
    "            break\n",
    "        elif op == 1:\n",
    "            first_val = lines[lines[current_op+1]] if mode_1 == 0 else lines[current_op+1]\n",
    "            second_val = lines[lines[current_op+2]] if mode_2 == 0 else lines[current_op+2]\n",
    "            lines[lines[current_op+3]] = first_val + second_val\n",
    "            print(f\"DEBUG: {op} - {first_val} {second_val} {lines[current_op+3]}\")\n",
    "            current_op = current_op + 4\n",
    "        elif op == 2:\n",
    "            first_val = lines[lines[current_op+1]] if mode_1 == 0 else lines[current_op+1]\n",
    "            second_val = lines[lines[current_op+2]] if mode_2 == 0 else lines[current_op+2]\n",
    "            lines[lines[current_op+3]] = first_val * second_val\n",
    "            print(f\"DEBUG: {op} - {first_val} {second_val} {lines[current_op+3]}\")\n",
    "            current_op = current_op + 4\n",
    "        elif op == 3:\n",
    "            # INPUT\n",
    "            lines[lines[current_op+1]] = 5\n",
    "            print(f\"DEBUG: {op} - {lines[lines[current_op+1]]}\")\n",
    "            current_op = current_op + 2\n",
    "        elif op == 4:\n",
    "#             print(\"HIT A 4\")\n",
    "            print(\"Output: \")\n",
    "            print(lines[lines[current_op+1]])\n",
    "            current_op = current_op + 2\n",
    "        elif op == 5:\n",
    "            first_val = lines[lines[current_op+1]] if mode_1 == 0 else lines[current_op+1]\n",
    "            second_val = lines[lines[current_op+2]] if mode_2 == 0 else lines[current_op+2]\n",
    "            print(f\"DEBUG: {op} - {first_val} {second_val}\")\n",
    "            if first_val != 0:\n",
    "                current_op = second_val\n",
    "            else:\n",
    "                current_op = current_op + 3\n",
    "        elif op == 6:\n",
    "            first_val = lines[lines[current_op+1]] if mode_1 == 0 else lines[current_op+1]\n",
    "            second_val = lines[lines[current_op+2]] if mode_2 == 0 else lines[current_op+2]\n",
    "            print(f\"DEBUG: {op} - {first_val} {second_val}\")\n",
    "            if first_val == 0:\n",
    "                current_op = second_val\n",
    "            else:\n",
    "                current_op = current_op + 3\n",
    "        elif op == 7:\n",
    "            first_val = lines[lines[current_op+1]] if mode_1 == 0 else lines[current_op+1]\n",
    "            second_val = lines[lines[current_op+2]] if mode_2 == 0 else lines[current_op+2]\n",
    "            print(f\"DEBUG: {op} - {first_val} {second_val} {lines[current_op+3]}\")\n",
    "            if first_val < second_val:\n",
    "                lines[lines[current_op+3]] = 1\n",
    "            else:\n",
    "                lines[lines[current_op+3]] = 0\n",
    "            current_op = current_op + 4\n",
    "        elif op == 8:\n",
    "            first_val = lines[lines[current_op+1]] if mode_1 == 0 else lines[current_op+1]\n",
    "            second_val = lines[lines[current_op+2]] if mode_2 == 0 else lines[current_op+2]\n",
    "            print(f\"DEBUG: {op} - {first_val} {second_val} {lines[current_op+3]}\")\n",
    "            if first_val == second_val:\n",
    "                lines[lines[current_op+3]] = 1\n",
    "            else:\n",
    "                lines[lines[current_op+3]] = 0\n",
    "            current_op = current_op + 4\n",
    "            \n",
    "\n",
    "    return lines\n"
   ]
  },
  {
   "cell_type": "code",
   "execution_count": 3,
   "metadata": {
    "ExecuteTime": {
     "end_time": "2019-12-05T05:51:43.352533Z",
     "start_time": "2019-12-05T05:51:43.344532Z"
    }
   },
   "outputs": [
    {
     "name": "stdout",
     "output_type": "stream",
     "text": [
      "DEBUG: 3 - 7\n",
      "DEBUG: 8 - 7 8 9\n",
      "Output: \n",
      "0\n"
     ]
    },
    {
     "data": {
      "text/plain": [
       "[3, 9, 8, 9, 10, 9, 4, 9, 99, 0, 8]"
      ]
     },
     "execution_count": 3,
     "metadata": {},
     "output_type": "execute_result"
    }
   ],
   "source": [
    "run_program_2([3,9,8,9,10,9,4,9,99,-1,8])"
   ]
  },
  {
   "cell_type": "code",
   "execution_count": 4,
   "metadata": {
    "ExecuteTime": {
     "end_time": "2019-12-05T05:51:43.758536Z",
     "start_time": "2019-12-05T05:51:43.753532Z"
    }
   },
   "outputs": [
    {
     "name": "stdout",
     "output_type": "stream",
     "text": [
      "DEBUG: 3 - 7\n",
      "DEBUG: 7 - 7 8 9\n",
      "Output: \n",
      "1\n"
     ]
    },
    {
     "data": {
      "text/plain": [
       "[3, 9, 7, 9, 10, 9, 4, 9, 99, 1, 8]"
      ]
     },
     "execution_count": 4,
     "metadata": {},
     "output_type": "execute_result"
    }
   ],
   "source": [
    "run_program_2([3,9,7,9,10,9,4,9,99,-1,8])"
   ]
  },
  {
   "cell_type": "code",
   "execution_count": 5,
   "metadata": {
    "ExecuteTime": {
     "end_time": "2019-12-05T05:51:44.253531Z",
     "start_time": "2019-12-05T05:51:44.248533Z"
    }
   },
   "outputs": [
    {
     "name": "stdout",
     "output_type": "stream",
     "text": [
      "DEBUG: 3 - 7\n",
      "DEBUG: 8 - 7 8 3\n",
      "Output: \n",
      "0\n"
     ]
    },
    {
     "data": {
      "text/plain": [
       "[3, 3, 1108, 0, 8, 3, 4, 3, 99]"
      ]
     },
     "execution_count": 5,
     "metadata": {},
     "output_type": "execute_result"
    }
   ],
   "source": [
    "run_program_2([3,3,1108,-1,8,3,4,3,99])"
   ]
  },
  {
   "cell_type": "code",
   "execution_count": 6,
   "metadata": {
    "ExecuteTime": {
     "end_time": "2019-12-05T05:51:44.757532Z",
     "start_time": "2019-12-05T05:51:44.752531Z"
    }
   },
   "outputs": [
    {
     "name": "stdout",
     "output_type": "stream",
     "text": [
      "DEBUG: 3 - 7\n",
      "DEBUG: 7 - 7 8 3\n",
      "Output: \n",
      "1\n"
     ]
    },
    {
     "data": {
      "text/plain": [
       "[3, 3, 1107, 1, 8, 3, 4, 3, 99]"
      ]
     },
     "execution_count": 6,
     "metadata": {},
     "output_type": "execute_result"
    }
   ],
   "source": [
    "run_program_2([3,3,1107,-1,8,3,4,3,99])"
   ]
  },
  {
   "cell_type": "code",
   "execution_count": 12,
   "metadata": {
    "ExecuteTime": {
     "end_time": "2019-12-05T05:53:46.960826Z",
     "start_time": "2019-12-05T05:53:46.950824Z"
    }
   },
   "outputs": [
    {
     "name": "stdout",
     "output_type": "stream",
     "text": [
      "DEBUG: 3 - 5\n",
      "DEBUG: 8 - 5 8 20\n",
      "DEBUG: 5 - 0 22\n",
      "DEBUG: 7 - 8 5 20\n",
      "DEBUG: 6 - 0 31\n",
      "Output: \n"
     ]
    },
    {
     "ename": "IndexError",
     "evalue": "list index out of range",
     "output_type": "error",
     "traceback": [
      "\u001b[1;31m---------------------------------------------------------------------------\u001b[0m",
      "\u001b[1;31mIndexError\u001b[0m                                Traceback (most recent call last)",
      "\u001b[1;32m<ipython-input-12-1967a5104a03>\u001b[0m in \u001b[0;36m<module>\u001b[1;34m()\u001b[0m\n\u001b[0;32m      1\u001b[0m run_program_2([3, 21, 1008, 21, 8, 20, 1005, 20, 22, 107, 8, 21, 20, 1006, 20, 31, 1106, 0, 36, 98, 0, 0, 1002,\n\u001b[1;32m----> 2\u001b[1;33m                21, 125, 20, 4, 20, 1105, 1, 46, 104, 999, 1105, 1, 46, 1101, 1000, 1, 20, 4, 20, 1105, 1, 46, 98, 99])\n\u001b[0m",
      "\u001b[1;32m<ipython-input-7-094954d2a5cf>\u001b[0m in \u001b[0;36mrun_program_2\u001b[1;34m(values)\u001b[0m\n\u001b[0;32m     48\u001b[0m \u001b[1;31m#             print(\"HIT A 4\")\u001b[0m\u001b[1;33m\u001b[0m\u001b[1;33m\u001b[0m\u001b[0m\n\u001b[0;32m     49\u001b[0m             \u001b[0mprint\u001b[0m\u001b[1;33m(\u001b[0m\u001b[1;34m\"Output: \"\u001b[0m\u001b[1;33m)\u001b[0m\u001b[1;33m\u001b[0m\u001b[0m\n\u001b[1;32m---> 50\u001b[1;33m             \u001b[0mprint\u001b[0m\u001b[1;33m(\u001b[0m\u001b[0mlines\u001b[0m\u001b[1;33m[\u001b[0m\u001b[0mlines\u001b[0m\u001b[1;33m[\u001b[0m\u001b[0mcurrent_op\u001b[0m\u001b[1;33m+\u001b[0m\u001b[1;36m1\u001b[0m\u001b[1;33m]\u001b[0m\u001b[1;33m]\u001b[0m\u001b[1;33m)\u001b[0m\u001b[1;33m\u001b[0m\u001b[0m\n\u001b[0m\u001b[0;32m     51\u001b[0m             \u001b[0mcurrent_op\u001b[0m \u001b[1;33m=\u001b[0m \u001b[0mcurrent_op\u001b[0m \u001b[1;33m+\u001b[0m \u001b[1;36m2\u001b[0m\u001b[1;33m\u001b[0m\u001b[0m\n\u001b[0;32m     52\u001b[0m         \u001b[1;32melif\u001b[0m \u001b[0mop\u001b[0m \u001b[1;33m==\u001b[0m \u001b[1;36m5\u001b[0m\u001b[1;33m:\u001b[0m\u001b[1;33m\u001b[0m\u001b[0m\n",
      "\u001b[1;31mIndexError\u001b[0m: list index out of range"
     ]
    }
   ],
   "source": [
    "run_program_2([3, 21, 1008, 21, 8, 20, 1005, 20, 22, 107, 8, 21, 20, 1006, 20, 31, 1106, 0, 36, 98, 0, 0, 1002,\n",
    "               21, 125, 20, 4, 20, 1105, 1, 46, 104, 999, 1105, 1, 46, 1101, 1000, 1, 20, 4, 20, 1105, 1, 46, 98, 99])"
   ]
  },
  {
   "cell_type": "code",
   "execution_count": 11,
   "metadata": {
    "ExecuteTime": {
     "end_time": "2019-12-05T05:53:24.528645Z",
     "start_time": "2019-12-05T05:53:24.523644Z"
    }
   },
   "outputs": [
    {
     "name": "stdout",
     "output_type": "stream",
     "text": [
      "DEBUG: 3 - 5\n",
      "DEBUG: 1 - 5 1100 6\n",
      "DEBUG: 5 - 1 238\n",
      "DEBUG: 5 - 0 99999\n",
      "DEBUG: 5 - 227 247\n",
      "DEBUG: 5 - 0 99999\n",
      "DEBUG: 5 - 3 256\n",
      "DEBUG: 6 - 227 99999\n",
      "DEBUG: 6 - 0 265\n",
      "DEBUG: 6 - 3 99999\n",
      "DEBUG: 6 - 0 274\n",
      "DEBUG: 5 - 1 280\n",
      "DEBUG: 1 - 5 5 225\n",
      "DEBUG: 1 - 294 0 0\n",
      "DEBUG: 5 - 1 294\n",
      "DEBUG: 6 - 0 300\n",
      "DEBUG: 1 - 10 10 225\n",
      "DEBUG: 1 - 314 0 0\n",
      "DEBUG: 6 - 0 314\n",
      "DEBUG: 8 - 226 677 224\n",
      "DEBUG: 2 - 2 0 223\n",
      "DEBUG: 5 - 0 329\n",
      "DEBUG: 1 - 1 0 223\n",
      "DEBUG: 7 - 226 677 224\n",
      "DEBUG: 2 - 1 2 223\n",
      "DEBUG: 5 - 1 344\n",
      "DEBUG: 8 - 677 226 224\n",
      "DEBUG: 2 - 2 2 223\n",
      "DEBUG: 6 - 0 359\n",
      "DEBUG: 8 - 677 226 224\n",
      "DEBUG: 2 - 4 2 223\n",
      "DEBUG: 5 - 0 374\n",
      "DEBUG: 1 - 8 1 223\n",
      "DEBUG: 8 - 226 677 224\n",
      "DEBUG: 2 - 9 2 223\n",
      "DEBUG: 5 - 0 389\n",
      "DEBUG: 1 - 1 18 223\n",
      "DEBUG: 7 - 226 677 224\n",
      "DEBUG: 2 - 19 2 223\n",
      "DEBUG: 6 - 1 404\n",
      "DEBUG: 1 - 38 1 223\n",
      "DEBUG: 8 - 677 677 224\n",
      "DEBUG: 2 - 2 39 223\n",
      "DEBUG: 6 - 1 419\n",
      "DEBUG: 1 - 78 1 223\n",
      "DEBUG: 8 - 677 677 224\n",
      "DEBUG: 2 - 2 79 223\n",
      "DEBUG: 5 - 1 434\n",
      "DEBUG: 7 - 677 226 224\n",
      "DEBUG: 2 - 2 158 223\n",
      "DEBUG: 6 - 0 449\n",
      "DEBUG: 7 - 677 677 224\n",
      "DEBUG: 2 - 2 316 223\n",
      "DEBUG: 5 - 0 464\n",
      "DEBUG: 1 - 1 632 223\n",
      "DEBUG: 7 - 226 677 224\n",
      "DEBUG: 2 - 2 633 223\n",
      "DEBUG: 5 - 1 479\n",
      "DEBUG: 7 - 677 226 224\n",
      "DEBUG: 2 - 2 1266 223\n",
      "DEBUG: 5 - 0 494\n",
      "DEBUG: 1 - 1 2532 223\n",
      "DEBUG: 7 - 226 226 224\n",
      "DEBUG: 2 - 2 2533 223\n",
      "DEBUG: 6 - 0 509\n",
      "DEBUG: 8 - 226 677 224\n",
      "DEBUG: 2 - 5066 2 223\n",
      "DEBUG: 6 - 0 524\n",
      "DEBUG: 8 - 226 226 224\n",
      "DEBUG: 2 - 10132 2 223\n",
      "DEBUG: 6 - 1 539\n",
      "DEBUG: 1 - 1 20264 223\n",
      "DEBUG: 8 - 677 677 224\n",
      "DEBUG: 2 - 2 20265 223\n",
      "DEBUG: 6 - 1 554\n",
      "DEBUG: 1 - 1 40530 223\n",
      "DEBUG: 8 - 226 677 224\n",
      "DEBUG: 2 - 2 40531 223\n",
      "DEBUG: 5 - 0 569\n",
      "DEBUG: 1 - 81062 1 223\n",
      "DEBUG: 8 - 677 226 224\n",
      "DEBUG: 2 - 81063 2 223\n",
      "DEBUG: 6 - 0 584\n",
      "DEBUG: 7 - 677 226 224\n",
      "DEBUG: 2 - 162126 2 223\n",
      "DEBUG: 5 - 0 599\n",
      "DEBUG: 1 - 1 324252 223\n",
      "DEBUG: 7 - 226 677 224\n",
      "DEBUG: 2 - 2 324253 223\n",
      "DEBUG: 6 - 1 614\n",
      "DEBUG: 1 - 648506 1 223\n",
      "DEBUG: 7 - 677 226 224\n",
      "DEBUG: 2 - 2 648507 223\n",
      "DEBUG: 5 - 0 629\n",
      "DEBUG: 1 - 1297014 1 223\n",
      "DEBUG: 7 - 677 677 224\n",
      "DEBUG: 2 - 1297015 2 223\n",
      "DEBUG: 5 - 0 644\n",
      "DEBUG: 1 - 2594030 1 223\n",
      "DEBUG: 7 - 677 677 224\n",
      "DEBUG: 2 - 2 2594031 223\n",
      "DEBUG: 6 - 0 659\n",
      "DEBUG: 8 - 677 226 224\n",
      "DEBUG: 2 - 5188062 2 223\n",
      "DEBUG: 6 - 0 674\n",
      "Output: \n",
      "10376124\n"
     ]
    }
   ],
   "source": [
    "# Solve for Part 1\n",
    "modified_input = input_lines.copy()\n",
    "# modified_input[1] = 12\n",
    "# modified_input[2] = 2\n",
    "\n",
    "result_2 = run_program_2(modified_input)"
   ]
  },
  {
   "cell_type": "code",
   "execution_count": null,
   "metadata": {},
   "outputs": [],
   "source": []
  }
 ],
 "metadata": {
  "kernelspec": {
   "display_name": "Python 3",
   "language": "python",
   "name": "python3"
  },
  "language_info": {
   "codemirror_mode": {
    "name": "ipython",
    "version": 3
   },
   "file_extension": ".py",
   "mimetype": "text/x-python",
   "name": "python",
   "nbconvert_exporter": "python",
   "pygments_lexer": "ipython3",
   "version": "3.7.0"
  },
  "toc": {
   "base_numbering": 1,
   "nav_menu": {},
   "number_sections": true,
   "sideBar": true,
   "skip_h1_title": true,
   "title_cell": "Table of Contents",
   "title_sidebar": "Contents",
   "toc_cell": false,
   "toc_position": {},
   "toc_section_display": true,
   "toc_window_display": false
  }
 },
 "nbformat": 4,
 "nbformat_minor": 2
}

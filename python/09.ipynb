{
 "cells": [
  {
   "cell_type": "code",
   "execution_count": 1,
   "metadata": {
    "ExecuteTime": {
     "end_time": "2019-12-09T05:47:50.083868Z",
     "start_time": "2019-12-09T05:47:50.081866Z"
    }
   },
   "outputs": [],
   "source": [
    "import itertools"
   ]
  },
  {
   "cell_type": "code",
   "execution_count": 2,
   "metadata": {
    "ExecuteTime": {
     "end_time": "2019-12-09T05:47:50.091866Z",
     "start_time": "2019-12-09T05:47:50.085868Z"
    }
   },
   "outputs": [],
   "source": [
    "with open('../inputs/09', 'r') as f:\n",
    "    file_lines = f.readlines()\n",
    "input_lines = [int(line.strip()) for line in file_lines[0].split(\",\")]"
   ]
  },
  {
   "cell_type": "code",
   "execution_count": 117,
   "metadata": {
    "ExecuteTime": {
     "end_time": "2019-12-09T06:47:34.472896Z",
     "start_time": "2019-12-09T06:47:34.460895Z"
    }
   },
   "outputs": [],
   "source": [
    "def execute_program(program, inputs):\n",
    "    p = program.copy()\n",
    "    p.extend([0]*10000)\n",
    "    i = 0\n",
    "    relative_base = 0\n",
    "    while p[i] != 99:\n",
    "        op = int(str(p[i])[-2:])\n",
    "        modes = [int(char) for char in str(p[i])[:-2].zfill(3)][::-1]\n",
    "\n",
    "        if op in [1, 2, 7, 8]:\n",
    "            \n",
    "            variables = [\n",
    "                p[i+1] if modes[0] == 1 else p[p[i+1]+relative_base] if modes[0] == 2 else p[p[i+1]],\n",
    "                p[i+2] if modes[1] == 1 else p[p[i+2]+relative_base] if modes[1] == 2 else p[p[i+2]],\n",
    "                None if modes[2] == 1 else p[i+3]+relative_base if modes[2] == 2 else p[i+3]\n",
    "            ]\n",
    "        elif op in [5, 6]:\n",
    "            variables = [\n",
    "                p[i+1] if modes[0] == 1 else p[p[i+1]] if modes[0] == 0 else p[p[i+1]+relative_base],\n",
    "                p[i+2] if modes[1] == 1 else p[p[i+2]] if modes[1] == 0 else p[p[i+2]+relative_base],\n",
    "            ]\n",
    "        elif op in [3, 4]:\n",
    "            variables = [\n",
    "                None if modes[0] == 1 else p[i+1] + relative_base if modes[0] == 2 else p[i+1]\n",
    "            ]\n",
    "        elif op in [9]:\n",
    "            variables = [\n",
    "                p[i+1] if modes[0] == 1 else p[p[i+1]] if modes[0] == 0 else p[p[i+1]+relative_base],\n",
    "            ]\n",
    "        \n",
    "            \n",
    "\n",
    "        if op == 1:  # Sum\n",
    "            p[variables[2]] = variables[0] + variables[1]\n",
    "            i += 4\n",
    "        elif op == 2:  # Multiplication\n",
    "            p[variables[2]] = variables[0] * variables[1]\n",
    "            i += 4\n",
    "        elif op == 3:  # Input\n",
    "            p[variables[0]] = inputs.pop(0) #  if len(inputs) > 0 else inputs[0]\n",
    "            i += 2\n",
    "        elif op == 4:  # Output\n",
    "            print(p[variables[0]])\n",
    "            i += 2\n",
    "        elif op == 5:\n",
    "            i = variables[1] if variables[0] else i + 3\n",
    "        elif op == 6:\n",
    "            i = i + 3 if variables[0] else variables[1]\n",
    "        elif op == 7:\n",
    "            p[variables[2]] = int(variables[0] < variables[1])\n",
    "            i += 4\n",
    "        elif op == 8:\n",
    "            p[variables[2]] = int(variables[0] == variables[1])\n",
    "            i += 4\n",
    "        elif op == 9:\n",
    "            relative_base += variables[0]\n",
    "            i += 2\n",
    "        else:\n",
    "            print(\"WTF\")\n",
    "\n",
    "    return p"
   ]
  },
  {
   "cell_type": "code",
   "execution_count": 118,
   "metadata": {
    "ExecuteTime": {
     "end_time": "2019-12-09T06:47:35.129895Z",
     "start_time": "2019-12-09T06:47:35.125895Z"
    }
   },
   "outputs": [
    {
     "name": "stdout",
     "output_type": "stream",
     "text": [
      "109\n",
      "1\n",
      "204\n",
      "-1\n",
      "1001\n",
      "100\n",
      "1\n",
      "100\n",
      "1008\n",
      "100\n",
      "16\n",
      "101\n",
      "1006\n",
      "101\n",
      "0\n",
      "99\n"
     ]
    }
   ],
   "source": [
    "a = execute_program([109,1,204,-1,1001,100,1,100,1008,100,16,101,1006,101,0,99],[])"
   ]
  },
  {
   "cell_type": "code",
   "execution_count": 119,
   "metadata": {
    "ExecuteTime": {
     "end_time": "2019-12-09T06:47:36.736895Z",
     "start_time": "2019-12-09T06:47:36.732895Z"
    }
   },
   "outputs": [
    {
     "name": "stdout",
     "output_type": "stream",
     "text": [
      "1219070632396864\n"
     ]
    }
   ],
   "source": [
    "a = execute_program([1102,34915192,34915192,7,4,7,99,0],[])"
   ]
  },
  {
   "cell_type": "code",
   "execution_count": 120,
   "metadata": {
    "ExecuteTime": {
     "end_time": "2019-12-09T06:47:37.732896Z",
     "start_time": "2019-12-09T06:47:37.725894Z"
    }
   },
   "outputs": [
    {
     "ename": "TypeError",
     "evalue": "list indices must be integers or slices, not NoneType",
     "output_type": "error",
     "traceback": [
      "\u001b[1;31m---------------------------------------------------------------------------\u001b[0m",
      "\u001b[1;31mTypeError\u001b[0m                                 Traceback (most recent call last)",
      "\u001b[1;32m<ipython-input-120-b720b74ad07f>\u001b[0m in \u001b[0;36m<module>\u001b[1;34m()\u001b[0m\n\u001b[1;32m----> 1\u001b[1;33m \u001b[0ma\u001b[0m \u001b[1;33m=\u001b[0m \u001b[0mexecute_program\u001b[0m\u001b[1;33m(\u001b[0m\u001b[1;33m[\u001b[0m\u001b[1;36m104\u001b[0m\u001b[1;33m,\u001b[0m\u001b[1;36m1125899906842624\u001b[0m\u001b[1;33m,\u001b[0m\u001b[1;36m99\u001b[0m\u001b[1;33m]\u001b[0m\u001b[1;33m,\u001b[0m\u001b[1;33m[\u001b[0m\u001b[1;33m]\u001b[0m\u001b[1;33m)\u001b[0m\u001b[1;33m\u001b[0m\u001b[0m\n\u001b[0m",
      "\u001b[1;32m<ipython-input-117-aa4fe4a7d9b3>\u001b[0m in \u001b[0;36mexecute_program\u001b[1;34m(program, inputs)\u001b[0m\n\u001b[0;32m     41\u001b[0m             \u001b[0mi\u001b[0m \u001b[1;33m+=\u001b[0m \u001b[1;36m2\u001b[0m\u001b[1;33m\u001b[0m\u001b[0m\n\u001b[0;32m     42\u001b[0m         \u001b[1;32melif\u001b[0m \u001b[0mop\u001b[0m \u001b[1;33m==\u001b[0m \u001b[1;36m4\u001b[0m\u001b[1;33m:\u001b[0m  \u001b[1;31m# Output\u001b[0m\u001b[1;33m\u001b[0m\u001b[0m\n\u001b[1;32m---> 43\u001b[1;33m             \u001b[0mprint\u001b[0m\u001b[1;33m(\u001b[0m\u001b[0mp\u001b[0m\u001b[1;33m[\u001b[0m\u001b[0mvariables\u001b[0m\u001b[1;33m[\u001b[0m\u001b[1;36m0\u001b[0m\u001b[1;33m]\u001b[0m\u001b[1;33m]\u001b[0m\u001b[1;33m)\u001b[0m\u001b[1;33m\u001b[0m\u001b[0m\n\u001b[0m\u001b[0;32m     44\u001b[0m             \u001b[0mi\u001b[0m \u001b[1;33m+=\u001b[0m \u001b[1;36m2\u001b[0m\u001b[1;33m\u001b[0m\u001b[0m\n\u001b[0;32m     45\u001b[0m         \u001b[1;32melif\u001b[0m \u001b[0mop\u001b[0m \u001b[1;33m==\u001b[0m \u001b[1;36m5\u001b[0m\u001b[1;33m:\u001b[0m\u001b[1;33m\u001b[0m\u001b[0m\n",
      "\u001b[1;31mTypeError\u001b[0m: list indices must be integers or slices, not NoneType"
     ]
    }
   ],
   "source": [
    "a = execute_program([104,1125899906842624,99],[])"
   ]
  },
  {
   "cell_type": "code",
   "execution_count": 124,
   "metadata": {
    "ExecuteTime": {
     "end_time": "2019-12-09T06:53:07.899250Z",
     "start_time": "2019-12-09T06:53:07.895253Z"
    }
   },
   "outputs": [
    {
     "name": "stdout",
     "output_type": "stream",
     "text": [
      "2457252183\n"
     ]
    }
   ],
   "source": [
    "# part 1 result\n",
    "a = execute_program(input_lines,[1])"
   ]
  },
  {
   "cell_type": "code",
   "execution_count": 125,
   "metadata": {
    "ExecuteTime": {
     "end_time": "2019-12-09T06:53:13.964249Z",
     "start_time": "2019-12-09T06:53:13.030251Z"
    }
   },
   "outputs": [
    {
     "name": "stdout",
     "output_type": "stream",
     "text": [
      "70634\n"
     ]
    }
   ],
   "source": [
    "# part 2 result\n",
    "a = execute_program(input_lines,[2])"
   ]
  },
  {
   "cell_type": "code",
   "execution_count": null,
   "metadata": {},
   "outputs": [],
   "source": []
  }
 ],
 "metadata": {
  "kernelspec": {
   "display_name": "Python 3",
   "language": "python",
   "name": "python3"
  },
  "language_info": {
   "codemirror_mode": {
    "name": "ipython",
    "version": 3
   },
   "file_extension": ".py",
   "mimetype": "text/x-python",
   "name": "python",
   "nbconvert_exporter": "python",
   "pygments_lexer": "ipython3",
   "version": "3.7.0"
  },
  "toc": {
   "base_numbering": 1,
   "nav_menu": {},
   "number_sections": true,
   "sideBar": true,
   "skip_h1_title": true,
   "title_cell": "Table of Contents",
   "title_sidebar": "Contents",
   "toc_cell": false,
   "toc_position": {},
   "toc_section_display": true,
   "toc_window_display": false
  }
 },
 "nbformat": 4,
 "nbformat_minor": 2
}

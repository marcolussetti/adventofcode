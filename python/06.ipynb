{
 "cells": [
  {
   "cell_type": "code",
   "execution_count": 89,
   "metadata": {
    "ExecuteTime": {
     "end_time": "2019-12-06T05:30:04.204537Z",
     "start_time": "2019-12-06T05:30:04.199536Z"
    }
   },
   "outputs": [],
   "source": [
    "with open('../inputs/06', 'r') as f:\n",
    "    file_lines = f.readlines()\n",
    "input_lines = [line.strip().split(')') for line in file_lines]"
   ]
  },
  {
   "cell_type": "code",
   "execution_count": 25,
   "metadata": {
    "ExecuteTime": {
     "end_time": "2019-12-06T05:10:35.335874Z",
     "start_time": "2019-12-06T05:10:35.332872Z"
    }
   },
   "outputs": [],
   "source": [
    "def find_in_input(item):\n",
    "    return [inner for inner, outer in input_lines if outer == item]"
   ]
  },
  {
   "cell_type": "code",
   "execution_count": 40,
   "metadata": {
    "ExecuteTime": {
     "end_time": "2019-12-06T05:15:09.820223Z",
     "start_time": "2019-12-06T05:15:09.816222Z"
    }
   },
   "outputs": [],
   "source": [
    "def extract_chain(input_i):\n",
    "    queue = list(set(find_in_input(input_i)))\n",
    "    total = list(set(queue))\n",
    "    while len(queue) > 0:\n",
    "        for item in queue:\n",
    "            inner_items = set(find_in_input(item))\n",
    "            total = set(total) | inner_items\n",
    "            queue = set(queue) | inner_items\n",
    "            queue.remove(item)\n",
    "    return total"
   ]
  },
  {
   "cell_type": "code",
   "execution_count": 41,
   "metadata": {
    "ExecuteTime": {
     "end_time": "2019-12-06T05:15:10.683223Z",
     "start_time": "2019-12-06T05:15:10.680221Z"
    }
   },
   "outputs": [],
   "source": [
    "keys = set([outer for inner, outer in input_lines])\n",
    "stuff = {key: set() for key in keys}"
   ]
  },
  {
   "cell_type": "code",
   "execution_count": 43,
   "metadata": {
    "ExecuteTime": {
     "end_time": "2019-12-06T05:15:30.860379Z",
     "start_time": "2019-12-06T05:15:25.083263Z"
    }
   },
   "outputs": [],
   "source": [
    "mappings = {key: extract_chain(key) for key in keys}"
   ]
  },
  {
   "cell_type": "code",
   "execution_count": 47,
   "metadata": {
    "ExecuteTime": {
     "end_time": "2019-12-06T05:16:00.665412Z",
     "start_time": "2019-12-06T05:16:00.660412Z"
    }
   },
   "outputs": [
    {
     "data": {
      "text/plain": [
       "162439"
      ]
     },
     "execution_count": 47,
     "metadata": {},
     "output_type": "execute_result"
    }
   ],
   "source": [
    "sum([len(item) for key, item in mappings.items()])"
   ]
  },
  {
   "cell_type": "code",
   "execution_count": 48,
   "metadata": {
    "ExecuteTime": {
     "end_time": "2019-12-06T05:16:16.464827Z",
     "start_time": "2019-12-06T05:16:16.461822Z"
    }
   },
   "outputs": [],
   "source": [
    "## PART 2"
   ]
  },
  {
   "cell_type": "code",
   "execution_count": null,
   "metadata": {},
   "outputs": [],
   "source": [
    "def map_paths(current_path):\n",
    "    current_item = current_path[-1]\n",
    "    inner_items = find_in_input(current)\n",
    "    if len(inner_items) > 0:\n",
    "    return find_in_input(current) if"
   ]
  },
  {
   "cell_type": "code",
   "execution_count": 156,
   "metadata": {
    "ExecuteTime": {
     "end_time": "2019-12-06T05:42:07.308462Z",
     "start_time": "2019-12-06T05:42:07.305460Z"
    }
   },
   "outputs": [],
   "source": [
    "def find_paths(current):\n",
    "    inner = find_in_input(current[-1])\n",
    "    if len(inner) > 0:\n",
    "        current.append(inner[0])\n",
    "        current = find_paths(current)\n",
    "\n",
    "    return current"
   ]
  },
  {
   "cell_type": "code",
   "execution_count": 91,
   "metadata": {
    "ExecuteTime": {
     "end_time": "2019-12-06T05:30:15.808552Z",
     "start_time": "2019-12-06T05:30:15.770559Z"
    }
   },
   "outputs": [],
   "source": [
    "input_dict = {val: find_in_input(val) for key, val in input_lines}"
   ]
  },
  {
   "cell_type": "code",
   "execution_count": 158,
   "metadata": {
    "ExecuteTime": {
     "end_time": "2019-12-06T05:42:09.004459Z",
     "start_time": "2019-12-06T05:42:08.985461Z"
    }
   },
   "outputs": [],
   "source": [
    "a = find_paths(['YOU'])\n",
    "b = find_paths(['SAN'])"
   ]
  },
  {
   "cell_type": "code",
   "execution_count": 170,
   "metadata": {
    "ExecuteTime": {
     "end_time": "2019-12-06T05:52:00.656051Z",
     "start_time": "2019-12-06T05:52:00.652052Z"
    }
   },
   "outputs": [],
   "source": [
    "c = {element: (b.index(element) - 1) + (i - 1)\n",
    "     for i, element in enumerate(a) if element in b}"
   ]
  },
  {
   "cell_type": "code",
   "execution_count": 171,
   "metadata": {
    "ExecuteTime": {
     "end_time": "2019-12-06T05:52:01.135061Z",
     "start_time": "2019-12-06T05:52:01.132059Z"
    }
   },
   "outputs": [
    {
     "data": {
      "text/plain": [
       "367"
      ]
     },
     "execution_count": 171,
     "metadata": {},
     "output_type": "execute_result"
    }
   ],
   "source": [
    "min([val for key, val in c.items()])"
   ]
  }
 ],
 "metadata": {
  "_draft": {
   "nbviewer_url": "https://gist.github.com/4cfff89bd18c34ad6c0f2fd6af06ec1c"
  },
  "gist": {
   "data": {
    "description": "6th day of Advent of Code",
    "public": false
   },
   "id": "4cfff89bd18c34ad6c0f2fd6af06ec1c"
  },
  "kernelspec": {
   "display_name": "Python 3",
   "language": "python",
   "name": "python3"
  },
  "language_info": {
   "codemirror_mode": {
    "name": "ipython",
    "version": 3
   },
   "file_extension": ".py",
   "mimetype": "text/x-python",
   "name": "python",
   "nbconvert_exporter": "python",
   "pygments_lexer": "ipython3",
   "version": "3.7.0"
  },
  "toc": {
   "base_numbering": 1,
   "nav_menu": {},
   "number_sections": true,
   "sideBar": true,
   "skip_h1_title": true,
   "title_cell": "Table of Contents",
   "title_sidebar": "Contents",
   "toc_cell": false,
   "toc_position": {},
   "toc_section_display": true,
   "toc_window_display": false
  }
 },
 "nbformat": 4,
 "nbformat_minor": 2
}

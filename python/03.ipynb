{
 "cells": [
  {
   "cell_type": "markdown",
   "metadata": {},
   "source": [
    "## Part 1"
   ]
  },
  {
   "cell_type": "code",
   "execution_count": 1,
   "metadata": {
    "ExecuteTime": {
     "end_time": "2019-12-03T05:52:47.753289Z",
     "start_time": "2019-12-03T05:52:47.750288Z"
    }
   },
   "outputs": [],
   "source": [
    "with open('../inputs/03', 'r') as f:\n",
    "    file_lines = f.readlines()\n",
    "input_lines = [[item.strip() for item in line.split(\",\")]\n",
    "               for line in file_lines]"
   ]
  },
  {
   "cell_type": "code",
   "execution_count": 2,
   "metadata": {
    "ExecuteTime": {
     "end_time": "2019-12-03T05:52:47.759292Z",
     "start_time": "2019-12-03T05:52:47.754291Z"
    }
   },
   "outputs": [],
   "source": [
    "# input_lines"
   ]
  },
  {
   "cell_type": "code",
   "execution_count": 3,
   "metadata": {
    "ExecuteTime": {
     "end_time": "2019-12-03T05:52:47.764288Z",
     "start_time": "2019-12-03T05:52:47.760293Z"
    }
   },
   "outputs": [],
   "source": [
    "test_inputs_1 = [\n",
    "    \"R75,D30,R83,U83,L12,D49,R71,U7,L72\".split(\",\"),\n",
    "    \"U62,R66,U55,R34,D71,R55,D58,R83\".split(\",\")\n",
    "]\n",
    "test_inputs_2 = [\n",
    "    \"R98,U47,R26,D63,R33,U87,L62,D20,R33,U53,R51\".split(\",\"),\n",
    "    \"U98,R91,D20,R16,D67,R40,U7,R15,U6,R7\".split(\",\")\n",
    "]"
   ]
  },
  {
   "cell_type": "code",
   "execution_count": 4,
   "metadata": {
    "ExecuteTime": {
     "end_time": "2019-12-03T05:52:47.771287Z",
     "start_time": "2019-12-03T05:52:47.765294Z"
    }
   },
   "outputs": [],
   "source": [
    "def generate_points(instructions):\n",
    "    current_point = [0, 0]\n",
    "    points = []\n",
    "    for instruction in instructions:\n",
    "        direction = instruction[0]\n",
    "        value = int(instruction[1:])\n",
    "        for i in range(0, value):\n",
    "            if direction == \"R\":\n",
    "                current_point[1] += 1\n",
    "            elif direction == \"L\":\n",
    "                current_point[1] -= 1\n",
    "            elif direction == \"U\":\n",
    "                current_point[0] += 1\n",
    "            elif direction == \"D\":\n",
    "                current_point[0] -= 1\n",
    "            points.append(tuple(current_point.copy()))\n",
    "    return points"
   ]
  },
  {
   "cell_type": "code",
   "execution_count": 5,
   "metadata": {
    "ExecuteTime": {
     "end_time": "2019-12-03T05:52:47.780287Z",
     "start_time": "2019-12-03T05:52:47.772287Z"
    }
   },
   "outputs": [],
   "source": [
    "def manhattan_distance(a, b):\n",
    "    return sum([abs(x1 - x2) for x1, x2 in zip(a, b)])"
   ]
  },
  {
   "cell_type": "code",
   "execution_count": 6,
   "metadata": {
    "ExecuteTime": {
     "end_time": "2019-12-03T05:52:47.786292Z",
     "start_time": "2019-12-03T05:52:47.781287Z"
    }
   },
   "outputs": [],
   "source": [
    "def common_elements(a, b):\n",
    "    return set(a) & set(b)"
   ]
  },
  {
   "cell_type": "code",
   "execution_count": 7,
   "metadata": {
    "ExecuteTime": {
     "end_time": "2019-12-03T05:52:47.795291Z",
     "start_time": "2019-12-03T05:52:47.787288Z"
    }
   },
   "outputs": [],
   "source": [
    "def compute_min_manhattan_distance(a, b):\n",
    "    points_a = generate_points(a)\n",
    "    points_b = generate_points(b)\n",
    "    common_points = common_elements(points_a, points_b)\n",
    "    distances = [manhattan_distance(point, [0, 0]) for point in common_points]\n",
    "\n",
    "    return min(distances)"
   ]
  },
  {
   "cell_type": "code",
   "execution_count": 8,
   "metadata": {
    "ExecuteTime": {
     "end_time": "2019-12-03T05:52:47.805290Z",
     "start_time": "2019-12-03T05:52:47.796290Z"
    }
   },
   "outputs": [
    {
     "data": {
      "text/plain": [
       "159"
      ]
     },
     "execution_count": 8,
     "metadata": {},
     "output_type": "execute_result"
    }
   ],
   "source": [
    "compute_min_manhattan_distance(*test_inputs_1)"
   ]
  },
  {
   "cell_type": "code",
   "execution_count": 9,
   "metadata": {
    "ExecuteTime": {
     "end_time": "2019-12-03T05:52:47.811290Z",
     "start_time": "2019-12-03T05:52:47.806289Z"
    }
   },
   "outputs": [
    {
     "data": {
      "text/plain": [
       "135"
      ]
     },
     "execution_count": 9,
     "metadata": {},
     "output_type": "execute_result"
    }
   ],
   "source": [
    "compute_min_manhattan_distance(*test_inputs_2)"
   ]
  },
  {
   "cell_type": "code",
   "execution_count": 10,
   "metadata": {
    "ExecuteTime": {
     "end_time": "2019-12-03T05:52:47.971289Z",
     "start_time": "2019-12-03T05:52:47.812291Z"
    }
   },
   "outputs": [
    {
     "data": {
      "text/plain": [
       "308"
      ]
     },
     "execution_count": 10,
     "metadata": {},
     "output_type": "execute_result"
    }
   ],
   "source": [
    "# Result 1\n",
    "compute_min_manhattan_distance(*input_lines)"
   ]
  },
  {
   "cell_type": "markdown",
   "metadata": {},
   "source": [
    "## Part 2"
   ]
  },
  {
   "cell_type": "code",
   "execution_count": 11,
   "metadata": {
    "ExecuteTime": {
     "end_time": "2019-12-03T05:52:47.975288Z",
     "start_time": "2019-12-03T05:52:47.972287Z"
    }
   },
   "outputs": [],
   "source": [
    "def step_distance(point, a, b):\n",
    "    step_counter = 0\n",
    "    for step in a:\n",
    "        step_counter += 1\n",
    "        if step == point:\n",
    "            break\n",
    "    for step in b:\n",
    "        step_counter += 1\n",
    "        if step == point:\n",
    "            break\n",
    "    return step_counter"
   ]
  },
  {
   "cell_type": "code",
   "execution_count": 12,
   "metadata": {
    "ExecuteTime": {
     "end_time": "2019-12-03T05:52:48.006295Z",
     "start_time": "2019-12-03T05:52:47.976289Z"
    }
   },
   "outputs": [],
   "source": [
    "def compute_min_step_distance(a, b):\n",
    "    points_a = generate_points(a)\n",
    "    points_b = generate_points(b)\n",
    "    common_points = common_elements(points_a, points_b)\n",
    "    distances = [step_distance(point, points_a, points_b)\n",
    "                 for point in common_points]\n",
    "\n",
    "    return min(distances)"
   ]
  },
  {
   "cell_type": "code",
   "execution_count": 13,
   "metadata": {
    "ExecuteTime": {
     "end_time": "2019-12-03T05:52:48.017287Z",
     "start_time": "2019-12-03T05:52:48.008292Z"
    }
   },
   "outputs": [
    {
     "data": {
      "text/plain": [
       "610"
      ]
     },
     "execution_count": 13,
     "metadata": {},
     "output_type": "execute_result"
    }
   ],
   "source": [
    "compute_min_step_distance(*test_inputs_1)"
   ]
  },
  {
   "cell_type": "code",
   "execution_count": 14,
   "metadata": {
    "ExecuteTime": {
     "end_time": "2019-12-03T05:52:48.025288Z",
     "start_time": "2019-12-03T05:52:48.018290Z"
    }
   },
   "outputs": [
    {
     "data": {
      "text/plain": [
       "410"
      ]
     },
     "execution_count": 14,
     "metadata": {},
     "output_type": "execute_result"
    }
   ],
   "source": [
    "compute_min_step_distance(*test_inputs_2)"
   ]
  },
  {
   "cell_type": "code",
   "execution_count": 15,
   "metadata": {
    "ExecuteTime": {
     "end_time": "2019-12-03T05:52:48.781288Z",
     "start_time": "2019-12-03T05:52:48.026287Z"
    }
   },
   "outputs": [
    {
     "data": {
      "text/plain": [
       "12934"
      ]
     },
     "execution_count": 15,
     "metadata": {},
     "output_type": "execute_result"
    }
   ],
   "source": [
    "# Result 2\n",
    "compute_min_step_distance(*input_lines)"
   ]
  }
 ],
 "metadata": {
  "kernelspec": {
   "display_name": "Python 3",
   "language": "python",
   "name": "python3"
  },
  "language_info": {
   "codemirror_mode": {
    "name": "ipython",
    "version": 3
   },
   "file_extension": ".py",
   "mimetype": "text/x-python",
   "name": "python",
   "nbconvert_exporter": "python",
   "pygments_lexer": "ipython3",
   "version": "3.7.0"
  },
  "toc": {
   "base_numbering": 1,
   "nav_menu": {},
   "number_sections": true,
   "sideBar": true,
   "skip_h1_title": true,
   "title_cell": "Table of Contents",
   "title_sidebar": "Contents",
   "toc_cell": false,
   "toc_position": {},
   "toc_section_display": true,
   "toc_window_display": false
  }
 },
 "nbformat": 4,
 "nbformat_minor": 2
}

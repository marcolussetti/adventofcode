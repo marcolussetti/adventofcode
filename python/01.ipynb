{
 "cells": [
  {
   "cell_type": "code",
   "execution_count": 3,
   "metadata": {
    "ExecuteTime": {
     "end_time": "2019-12-04T06:17:12.725981Z",
     "start_time": "2019-12-04T06:17:12.723980Z"
    }
   },
   "outputs": [],
   "source": [
    "import math\n",
    "from functools import reduce"
   ]
  },
  {
   "cell_type": "code",
   "execution_count": 4,
   "metadata": {
    "ExecuteTime": {
     "end_time": "2019-12-04T06:17:13.183983Z",
     "start_time": "2019-12-04T06:17:13.180980Z"
    }
   },
   "outputs": [],
   "source": [
    "with open('../inputs/01', 'r') as f:\n",
    "    lines = f.readlines()\n",
    "lines = [int(line.strip()) for line in lines]"
   ]
  },
  {
   "cell_type": "markdown",
   "metadata": {},
   "source": [
    "## Part One"
   ]
  },
  {
   "cell_type": "code",
   "execution_count": 5,
   "metadata": {
    "ExecuteTime": {
     "end_time": "2019-12-04T06:17:14.109980Z",
     "start_time": "2019-12-04T06:17:14.107980Z"
    }
   },
   "outputs": [],
   "source": [
    "def calc_fuel(line):\n",
    "    val = math.floor(line/3.0) - 2\n",
    "    return val if val > 0 else 0"
   ]
  },
  {
   "cell_type": "code",
   "execution_count": 6,
   "metadata": {
    "ExecuteTime": {
     "end_time": "2019-12-04T06:17:14.822978Z",
     "start_time": "2019-12-04T06:17:14.819980Z"
    }
   },
   "outputs": [],
   "source": [
    "fuels = list(map(calc_fuel, lines))"
   ]
  },
  {
   "cell_type": "code",
   "execution_count": 5,
   "metadata": {
    "ExecuteTime": {
     "end_time": "2019-12-02T03:54:21.550577Z",
     "start_time": "2019-12-02T03:54:21.541581Z"
    }
   },
   "outputs": [
    {
     "data": {
      "text/plain": [
       "3337604"
      ]
     },
     "execution_count": 5,
     "metadata": {},
     "output_type": "execute_result"
    }
   ],
   "source": [
    "result_part_1 = reduce(lambda acc, val: acc + val, fuels)\n",
    "result_part_1"
   ]
  },
  {
   "cell_type": "markdown",
   "metadata": {},
   "source": [
    "## Part Two"
   ]
  },
  {
   "cell_type": "code",
   "execution_count": 6,
   "metadata": {
    "ExecuteTime": {
     "end_time": "2019-12-02T03:54:21.556581Z",
     "start_time": "2019-12-02T03:54:21.551577Z"
    }
   },
   "outputs": [],
   "source": [
    "def calc_fuel_with_fuel(line):\n",
    "    module_fuel = calc_fuel(line)\n",
    "    total_fuel = module_fuel\n",
    "    residual_fuel = module_fuel\n",
    "    while residual_fuel > 0:\n",
    "        residual_fuel = calc_fuel(residual_fuel)\n",
    "        total_fuel += residual_fuel\n",
    "    return total_fuel"
   ]
  },
  {
   "cell_type": "code",
   "execution_count": 7,
   "metadata": {
    "ExecuteTime": {
     "end_time": "2019-12-02T03:54:21.563579Z",
     "start_time": "2019-12-02T03:54:21.558579Z"
    }
   },
   "outputs": [
    {
     "data": {
      "text/plain": [
       "5003530"
      ]
     },
     "execution_count": 7,
     "metadata": {},
     "output_type": "execute_result"
    }
   ],
   "source": [
    "fuels_two = list(map(calc_fuel_with_fuel, lines))\n",
    "result_part_2 = reduce(lambda acc, val: acc + val, fuels_two)\n",
    "result_part_2"
   ]
  }
 ],
 "metadata": {
  "kernelspec": {
   "display_name": "Python 3",
   "language": "python",
   "name": "python3"
  },
  "language_info": {
   "codemirror_mode": {
    "name": "ipython",
    "version": 3
   },
   "file_extension": ".py",
   "mimetype": "text/x-python",
   "name": "python",
   "nbconvert_exporter": "python",
   "pygments_lexer": "ipython3",
   "version": "3.7.0"
  },
  "toc": {
   "base_numbering": 1,
   "nav_menu": {},
   "number_sections": true,
   "sideBar": true,
   "skip_h1_title": true,
   "title_cell": "Table of Contents",
   "title_sidebar": "Contents",
   "toc_cell": false,
   "toc_position": {},
   "toc_section_display": true,
   "toc_window_display": false
  }
 },
 "nbformat": 4,
 "nbformat_minor": 2
}

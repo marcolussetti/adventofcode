{
 "cells": [
  {
   "cell_type": "code",
   "execution_count": 1,
   "metadata": {
    "ExecuteTime": {
     "end_time": "2019-12-07T05:59:06.324605Z",
     "start_time": "2019-12-07T05:59:06.322604Z"
    }
   },
   "outputs": [],
   "source": [
    "import itertools"
   ]
  },
  {
   "cell_type": "code",
   "execution_count": 2,
   "metadata": {
    "ExecuteTime": {
     "end_time": "2019-12-07T05:59:06.331605Z",
     "start_time": "2019-12-07T05:59:06.325603Z"
    }
   },
   "outputs": [],
   "source": [
    "with open('../inputs/07', 'r') as f:\n",
    "    file_lines = f.readlines()\n",
    "input_lines = [int(line.strip()) for line in file_lines[0].split(\",\")]"
   ]
  },
  {
   "cell_type": "markdown",
   "metadata": {},
   "source": [
    "## Part 1"
   ]
  },
  {
   "cell_type": "code",
   "execution_count": 3,
   "metadata": {
    "ExecuteTime": {
     "end_time": "2019-12-07T05:59:06.338604Z",
     "start_time": "2019-12-07T05:59:06.332603Z"
    }
   },
   "outputs": [],
   "source": [
    "def execute_program(program, inputs):\n",
    "    p = program.copy()\n",
    "    i = 0\n",
    "    while p[i] != 99:\n",
    "        op = int(str(p[i])[-2:])\n",
    "        modes = [int(char) for char in str(p[i])[:-2].zfill(3)][::-1]\n",
    "\n",
    "        if op != 3 and op != 4:  # Compute variables\n",
    "            variables = [\n",
    "                p[i+1] if modes[0] else p[p[i+1]],\n",
    "                p[i+2] if modes[1] else p[p[i+2]]\n",
    "            ]\n",
    "\n",
    "        if op == 1:  # Sum\n",
    "            p[p[i+3]] = variables[0] + variables[1]\n",
    "            i += 4\n",
    "        elif op == 2:  # Multiplication\n",
    "            p[p[i+3]] = variables[0] * variables[1]\n",
    "            i += 4\n",
    "        elif op == 3:  # Input\n",
    "            p[p[i+1]] = inputs.pop(0) if len(inputs) > 0 else inputs[0]\n",
    "            i += 2\n",
    "        elif op == 4:  # Output\n",
    "            return(p[p[i+1]])\n",
    "            i += 2\n",
    "        elif op == 5:\n",
    "            i = variables[1] if variables[0] else i + 3\n",
    "        elif op == 6:\n",
    "            i = i + 3 if variables[0] else variables[1]\n",
    "        elif op == 7:\n",
    "            p[p[i+3]] = int(variables[0] < variables[1])\n",
    "            i += 4\n",
    "        elif op == 8:\n",
    "            p[p[i+3]] = int(variables[0] == variables[1])\n",
    "            i += 4\n",
    "\n",
    "    return p"
   ]
  },
  {
   "cell_type": "code",
   "execution_count": 4,
   "metadata": {
    "ExecuteTime": {
     "end_time": "2019-12-07T05:59:06.352602Z",
     "start_time": "2019-12-07T05:59:06.339603Z"
    }
   },
   "outputs": [
    {
     "data": {
      "text/plain": [
       "4"
      ]
     },
     "execution_count": 4,
     "metadata": {},
     "output_type": "execute_result"
    }
   ],
   "source": [
    "execute_program([3,15,3,16,1002,16,10,16,1,16,15,15,4,15,99,0,0], [4,0])"
   ]
  },
  {
   "cell_type": "code",
   "execution_count": 5,
   "metadata": {
    "ExecuteTime": {
     "end_time": "2019-12-07T05:59:06.357605Z",
     "start_time": "2019-12-07T05:59:06.353603Z"
    }
   },
   "outputs": [],
   "source": [
    "def chain_programs(program, phases):\n",
    "    output = 0\n",
    "    for i, phase in enumerate(phases):\n",
    "        output = execute_program(program, [phase, output])\n",
    "        \n",
    "    return output"
   ]
  },
  {
   "cell_type": "code",
   "execution_count": 6,
   "metadata": {
    "ExecuteTime": {
     "end_time": "2019-12-07T05:59:06.363609Z",
     "start_time": "2019-12-07T05:59:06.358603Z"
    }
   },
   "outputs": [
    {
     "data": {
      "text/plain": [
       "129"
      ]
     },
     "execution_count": 6,
     "metadata": {},
     "output_type": "execute_result"
    }
   ],
   "source": [
    "chain_programs([3,26,1001,26,-4,26,3,27,1002,27,2,27,1,27,26,27,4,27,1001,28,-1,28,1005,28,6,99,0,0,5], [9,8,7,6,5])"
   ]
  },
  {
   "cell_type": "code",
   "execution_count": 7,
   "metadata": {
    "ExecuteTime": {
     "end_time": "2019-12-07T05:59:06.370608Z",
     "start_time": "2019-12-07T05:59:06.365606Z"
    }
   },
   "outputs": [],
   "source": [
    "phases_permutations = list(itertools.permutations([0,1,2,3,4], 5))"
   ]
  },
  {
   "cell_type": "code",
   "execution_count": 8,
   "metadata": {
    "ExecuteTime": {
     "end_time": "2019-12-07T05:59:06.388602Z",
     "start_time": "2019-12-07T05:59:06.372604Z"
    }
   },
   "outputs": [],
   "source": [
    "phases_permutations_results = {permutation: chain_programs(input_lines, permutation)\n",
    "                               for permutation in phases_permutations}"
   ]
  },
  {
   "cell_type": "code",
   "execution_count": 9,
   "metadata": {
    "ExecuteTime": {
     "end_time": "2019-12-07T05:59:06.396603Z",
     "start_time": "2019-12-07T05:59:06.389602Z"
    }
   },
   "outputs": [
    {
     "data": {
      "text/plain": [
       "[((0, 3, 2, 4, 1), 38500)]"
      ]
     },
     "execution_count": 9,
     "metadata": {},
     "output_type": "execute_result"
    }
   ],
   "source": [
    "[(k, v) for k, v in phases_permutations_results.items()\n",
    " if v == max(phases_permutations_results.values())]"
   ]
  },
  {
   "cell_type": "markdown",
   "metadata": {},
   "source": [
    "## Part 2"
   ]
  },
  {
   "cell_type": "code",
   "execution_count": 10,
   "metadata": {
    "ExecuteTime": {
     "end_time": "2019-12-07T05:59:06.407602Z",
     "start_time": "2019-12-07T05:59:06.397604Z"
    }
   },
   "outputs": [],
   "source": [
    "def execute_program_two(program, inputs, i=0):\n",
    "    p = program.copy()\n",
    "    while p[i] != 99:\n",
    "        op = int(str(p[i])[-2:])\n",
    "        modes = [int(char) for char in str(p[i])[:-2].zfill(3)][::-1]\n",
    "\n",
    "        if op != 3 and op != 4:  # Compute variables\n",
    "            variables = [\n",
    "                p[i+1] if modes[0] else p[p[i+1]],\n",
    "                p[i+2] if modes[1] else p[p[i+2]]\n",
    "            ]\n",
    "\n",
    "        if op == 1:  # Sum\n",
    "            p[p[i+3]] = variables[0] + variables[1]\n",
    "            i += 4\n",
    "        elif op == 2:  # Multiplication\n",
    "            p[p[i+3]] = variables[0] * variables[1]\n",
    "            i += 4\n",
    "        elif op == 3:  # Input\n",
    "            p[p[i+1]] = inputs.pop(0) if len(inputs) > 0 else inputs[0]\n",
    "            i += 2\n",
    "        elif op == 4:  # Output\n",
    "            return [i + 2, p.copy(), p[p[i+1]]]\n",
    "        elif op == 5:\n",
    "            i = variables[1] if variables[0] else i + 3\n",
    "        elif op == 6:\n",
    "            i = i + 3 if variables[0] else variables[1]\n",
    "        elif op == 7:\n",
    "            p[p[i+3]] = int(variables[0] < variables[1])\n",
    "            i += 4\n",
    "        elif op == 8:\n",
    "            p[p[i+3]] = int(variables[0] == variables[1])\n",
    "            i += 4\n",
    "\n",
    "    return [-1, None, None]"
   ]
  },
  {
   "cell_type": "code",
   "execution_count": 11,
   "metadata": {
    "ExecuteTime": {
     "end_time": "2019-12-07T05:59:06.415606Z",
     "start_time": "2019-12-07T05:59:06.408602Z"
    }
   },
   "outputs": [],
   "source": [
    "def chain_programs_loop(program, phases):\n",
    "    amps = [program.copy(), program.copy(), program.copy(),\n",
    "            program.copy(), program.copy()]\n",
    "    amps_i = [0, 0, 0, 0, 0]\n",
    "    amps_active = list(range(0, 5))\n",
    "    output = 0\n",
    "    result = None\n",
    "    while len(amps_active) > 0:\n",
    "        for amp in amps_active:\n",
    "            program = amps[amp].copy()\n",
    "            i = amps_i[amp]\n",
    "            phase = phases[amp]\n",
    "            program_input = [phase, output] if i == 0 else [output]\n",
    "            amp_i, amp_p, output = execute_program_two(\n",
    "                program, program_input, i)\n",
    "#             print(output)\n",
    "            if output is not None:\n",
    "                result = output\n",
    "            if amp_i == -1:\n",
    "                amps_active.remove(amp)\n",
    "            else:\n",
    "                amps[amp] = amp_p.copy()\n",
    "                amps_i[amp] = amp_i\n",
    "\n",
    "    return result"
   ]
  },
  {
   "cell_type": "code",
   "execution_count": 12,
   "metadata": {
    "ExecuteTime": {
     "end_time": "2019-12-07T05:59:06.423603Z",
     "start_time": "2019-12-07T05:59:06.416603Z"
    }
   },
   "outputs": [
    {
     "data": {
      "text/plain": [
       "139629729"
      ]
     },
     "execution_count": 12,
     "metadata": {},
     "output_type": "execute_result"
    }
   ],
   "source": [
    "chain_programs_loop([3, 26, 1001, 26, -4, 26, 3, 27, 1002, 27, 2, 27, 1, 27, 26,\n",
    "                     27, 4, 27, 1001, 28, -1, 28, 1005, 28, 6, 99, 0, 0, 5], [9, 8, 7, 6, 5])"
   ]
  },
  {
   "cell_type": "code",
   "execution_count": 13,
   "metadata": {
    "ExecuteTime": {
     "end_time": "2019-12-07T05:59:06.429602Z",
     "start_time": "2019-12-07T05:59:06.424601Z"
    }
   },
   "outputs": [],
   "source": [
    "phases_permutations_two = list(itertools.permutations([9,8,7,6,5], 5))"
   ]
  },
  {
   "cell_type": "code",
   "execution_count": 14,
   "metadata": {
    "ExecuteTime": {
     "end_time": "2019-12-07T05:59:06.522602Z",
     "start_time": "2019-12-07T05:59:06.431603Z"
    }
   },
   "outputs": [],
   "source": [
    "phases_permutations_results_two = {permutation: chain_programs_loop(input_lines, permutation)\n",
    "                                   for permutation in phases_permutations_two}"
   ]
  },
  {
   "cell_type": "code",
   "execution_count": 15,
   "metadata": {
    "ExecuteTime": {
     "end_time": "2019-12-07T05:59:06.527602Z",
     "start_time": "2019-12-07T05:59:06.523603Z"
    }
   },
   "outputs": [
    {
     "data": {
      "text/plain": [
       "[((7, 5, 9, 6, 8), 33660560)]"
      ]
     },
     "execution_count": 15,
     "metadata": {},
     "output_type": "execute_result"
    }
   ],
   "source": [
    "[(k, v) for k, v in phases_permutations_results_two.items()\n",
    " if v == max(phases_permutations_results_two.values())]"
   ]
  }
 ],
 "metadata": {
  "kernelspec": {
   "display_name": "Python 3",
   "language": "python",
   "name": "python3"
  },
  "language_info": {
   "codemirror_mode": {
    "name": "ipython",
    "version": 3
   },
   "file_extension": ".py",
   "mimetype": "text/x-python",
   "name": "python",
   "nbconvert_exporter": "python",
   "pygments_lexer": "ipython3",
   "version": "3.7.0"
  },
  "toc": {
   "base_numbering": 1,
   "nav_menu": {},
   "number_sections": true,
   "sideBar": true,
   "skip_h1_title": true,
   "title_cell": "Table of Contents",
   "title_sidebar": "Contents",
   "toc_cell": false,
   "toc_position": {},
   "toc_section_display": true,
   "toc_window_display": false
  }
 },
 "nbformat": 4,
 "nbformat_minor": 2
}

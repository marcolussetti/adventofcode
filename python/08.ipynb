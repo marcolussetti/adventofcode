{
 "cells": [
  {
   "cell_type": "code",
   "execution_count": 6,
   "metadata": {
    "ExecuteTime": {
     "end_time": "2019-12-08T05:02:15.472589Z",
     "start_time": "2019-12-08T05:02:15.469589Z"
    }
   },
   "outputs": [],
   "source": [
    "with open('../inputs/08', 'r') as f:\n",
    "    input_string = f.readlines()[0].strip()\n"
   ]
  },
  {
   "cell_type": "markdown",
   "metadata": {},
   "source": [
    "## Part 1"
   ]
  },
  {
   "cell_type": "code",
   "execution_count": 131,
   "metadata": {
    "ExecuteTime": {
     "end_time": "2019-12-08T05:52:53.207829Z",
     "start_time": "2019-12-08T05:52:53.203831Z"
    }
   },
   "outputs": [],
   "source": [
    "layers = []\n",
    "i = 0\n",
    "while i < len(input_string):\n",
    "    layers.append(input_string[i:i+25*6])\n",
    "    i += 25*6"
   ]
  },
  {
   "cell_type": "code",
   "execution_count": 132,
   "metadata": {
    "ExecuteTime": {
     "end_time": "2019-12-08T05:53:21.939822Z",
     "start_time": "2019-12-08T05:53:21.934820Z"
    }
   },
   "outputs": [],
   "source": [
    "layers_int = [[int(char) for char in layer] for layer in layers]"
   ]
  },
  {
   "cell_type": "code",
   "execution_count": 136,
   "metadata": {
    "ExecuteTime": {
     "end_time": "2019-12-08T05:56:25.148865Z",
     "start_time": "2019-12-08T05:56:25.143863Z"
    }
   },
   "outputs": [
    {
     "name": "stdout",
     "output_type": "stream",
     "text": [
      "Layer 5: 8\n"
     ]
    }
   ],
   "source": [
    "layers_count_zeros = [sum([1 for char in layer if char == 0]) for layer in layers_digits]\n",
    "layer_less_zeros = [i for i, zeros in enumerate(layers_count_zeros) if zeros == min(layers_count_zeros)][0]\n",
    "print(f\"Layer {layer_less_zeros}: {layers_count_zeros[layer_less_zeros]}\")"
   ]
  },
  {
   "cell_type": "code",
   "execution_count": 137,
   "metadata": {
    "ExecuteTime": {
     "end_time": "2019-12-08T05:56:44.007868Z",
     "start_time": "2019-12-08T05:56:44.003863Z"
    }
   },
   "outputs": [
    {
     "data": {
      "text/plain": [
       "1072"
      ]
     },
     "execution_count": 137,
     "metadata": {},
     "output_type": "execute_result"
    }
   ],
   "source": [
    "sum([1 for char in layers_digits[layer_less_zeros] if char == 1]) * \\\n",
    "    sum([1 for char in layers_digits[layer_less_zeros] if char == 2])"
   ]
  },
  {
   "cell_type": "markdown",
   "metadata": {
    "ExecuteTime": {
     "end_time": "2019-12-08T05:06:30.986113Z",
     "start_time": "2019-12-08T05:06:30.983112Z"
    }
   },
   "source": [
    "## Part 2"
   ]
  },
  {
   "cell_type": "code",
   "execution_count": 139,
   "metadata": {
    "ExecuteTime": {
     "end_time": "2019-12-08T05:57:28.698020Z",
     "start_time": "2019-12-08T05:57:28.695020Z"
    }
   },
   "outputs": [],
   "source": [
    "def find_topmost_pixel(pixel_array):\n",
    "    for item in pixel_array:\n",
    "        if item == 0 or item == 1:\n",
    "            return item\n",
    "#     return 9"
   ]
  },
  {
   "cell_type": "code",
   "execution_count": 140,
   "metadata": {
    "ExecuteTime": {
     "end_time": "2019-12-08T05:57:29.521020Z",
     "start_time": "2019-12-08T05:57:29.518021Z"
    }
   },
   "outputs": [],
   "source": [
    "layers_test = [[0,2,2,2], [1,1,2,2], [2,2,1,2], [0,0,0,0]]"
   ]
  },
  {
   "cell_type": "code",
   "execution_count": 152,
   "metadata": {
    "ExecuteTime": {
     "end_time": "2019-12-08T06:02:15.015392Z",
     "start_time": "2019-12-08T06:02:15.012390Z"
    }
   },
   "outputs": [],
   "source": [
    "def image_from_layers(layers):\n",
    "    pixel_groups = list(zip(*layers))\n",
    "    image_array = [find_topmost_pixel(pixel_group) for pixel_group in pixel_groups]\n",
    "    \n",
    "    return image_array"
   ]
  },
  {
   "cell_type": "code",
   "execution_count": 154,
   "metadata": {
    "ExecuteTime": {
     "end_time": "2019-12-08T06:02:18.887423Z",
     "start_time": "2019-12-08T06:02:18.883419Z"
    }
   },
   "outputs": [
    {
     "data": {
      "text/plain": [
       "'0110'"
      ]
     },
     "execution_count": 154,
     "metadata": {},
     "output_type": "execute_result"
    }
   ],
   "source": [
    "\"\".join([str(item) for item in image_from_layers(layers_test)])"
   ]
  },
  {
   "cell_type": "code",
   "execution_count": 164,
   "metadata": {
    "ExecuteTime": {
     "end_time": "2019-12-08T06:07:03.013996Z",
     "start_time": "2019-12-08T06:07:03.007994Z"
    }
   },
   "outputs": [
    {
     "data": {
      "text/plain": [
       "'100011000011110111000011010001100001000010010000100101010000111001001000010001001000010000111000001000100100001000010000100100010011110100001000001100'"
      ]
     },
     "execution_count": 164,
     "metadata": {},
     "output_type": "execute_result"
    }
   ],
   "source": [
    "# Result\n",
    "image_as_numbers = image_from_layers(layers_int)\n",
    "\"\".join([str(item) for item in image_from_layers(layers_int)])"
   ]
  },
  {
   "cell_type": "code",
   "execution_count": 167,
   "metadata": {
    "ExecuteTime": {
     "end_time": "2019-12-08T06:07:21.940055Z",
     "start_time": "2019-12-08T06:07:21.937054Z"
    }
   },
   "outputs": [],
   "source": [
    "def print_image(image_array, width, ascii=False):\n",
    "    ascii_map = [\"█\", \"░\"]\n",
    "    for i, item in enumerate(image_array):\n",
    "        if i > 0 and i % width == 0:\n",
    "            print()\n",
    "        print(f\"{str(item) if not ascii else ascii_map[item]}\", end = '')"
   ]
  },
  {
   "cell_type": "code",
   "execution_count": 168,
   "metadata": {
    "ExecuteTime": {
     "end_time": "2019-12-08T06:07:22.222059Z",
     "start_time": "2019-12-08T06:07:22.217055Z"
    }
   },
   "outputs": [
    {
     "name": "stdout",
     "output_type": "stream",
     "text": [
      "1000110000111101110000110\n",
      "1000110000100001001000010\n",
      "0101010000111001001000010\n",
      "0010010000100001110000010\n",
      "0010010000100001000010010\n",
      "0010011110100001000001100"
     ]
    }
   ],
   "source": [
    "print_image(image_as_numbers,25)"
   ]
  },
  {
   "cell_type": "code",
   "execution_count": 169,
   "metadata": {
    "ExecuteTime": {
     "end_time": "2019-12-08T06:07:32.288087Z",
     "start_time": "2019-12-08T06:07:32.283088Z"
    }
   },
   "outputs": [
    {
     "name": "stdout",
     "output_type": "stream",
     "text": [
      "░███░░████░░░░█░░░████░░█\n",
      "░███░░████░████░██░████░█\n",
      "█░█░█░████░░░██░██░████░█\n",
      "██░██░████░████░░░█████░█\n",
      "██░██░████░████░████░██░█\n",
      "██░██░░░░█░████░█████░░██"
     ]
    }
   ],
   "source": [
    "print_image(image_as_numbers,25,ascii=True)"
   ]
  }
 ],
 "metadata": {
  "kernelspec": {
   "display_name": "Python 3",
   "language": "python",
   "name": "python3"
  },
  "language_info": {
   "codemirror_mode": {
    "name": "ipython",
    "version": 3
   },
   "file_extension": ".py",
   "mimetype": "text/x-python",
   "name": "python",
   "nbconvert_exporter": "python",
   "pygments_lexer": "ipython3",
   "version": "3.7.0"
  },
  "toc": {
   "base_numbering": 1,
   "nav_menu": {},
   "number_sections": true,
   "sideBar": true,
   "skip_h1_title": true,
   "title_cell": "Table of Contents",
   "title_sidebar": "Contents",
   "toc_cell": false,
   "toc_position": {},
   "toc_section_display": true,
   "toc_window_display": false
  }
 },
 "nbformat": 4,
 "nbformat_minor": 2
}

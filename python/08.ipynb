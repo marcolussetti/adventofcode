{
 "cells": [
  {
   "cell_type": "code",
   "execution_count": 6,
   "metadata": {
    "ExecuteTime": {
     "end_time": "2019-12-08T05:02:15.472589Z",
     "start_time": "2019-12-08T05:02:15.469589Z"
    }
   },
   "outputs": [],
   "source": [
    "with open('../inputs/08', 'r') as f:\n",
    "    input_string = f.readlines()[0].strip()\n"
   ]
  },
  {
   "cell_type": "code",
   "execution_count": 8,
   "metadata": {
    "ExecuteTime": {
     "end_time": "2019-12-08T05:03:33.073276Z",
     "start_time": "2019-12-08T05:03:33.069274Z"
    }
   },
   "outputs": [],
   "source": [
    "layers = []\n",
    "i = 0\n",
    "while i < len(input_string):\n",
    "    layers.append(input_string[i:i+25*6])\n",
    "    i += 25*6"
   ]
  },
  {
   "cell_type": "code",
   "execution_count": 11,
   "metadata": {
    "ExecuteTime": {
     "end_time": "2019-12-08T05:04:19.830902Z",
     "start_time": "2019-12-08T05:04:19.826900Z"
    }
   },
   "outputs": [],
   "source": [
    "layers_digits = [[int(char) for char in layer] for layer in layers]"
   ]
  },
  {
   "cell_type": "code",
   "execution_count": 14,
   "metadata": {
    "ExecuteTime": {
     "end_time": "2019-12-08T05:04:59.290020Z",
     "start_time": "2019-12-08T05:04:59.286021Z"
    }
   },
   "outputs": [],
   "source": [
    "layer_0_counts = [sum([1 for char in layer if char == 0]) for layer in layers_digits]"
   ]
  },
  {
   "cell_type": "code",
   "execution_count": 15,
   "metadata": {
    "ExecuteTime": {
     "end_time": "2019-12-08T05:05:01.585017Z",
     "start_time": "2019-12-08T05:05:01.582018Z"
    }
   },
   "outputs": [
    {
     "data": {
      "text/plain": [
       "[21,\n",
       " 11,\n",
       " 11,\n",
       " 13,\n",
       " 9,\n",
       " 8,\n",
       " 12,\n",
       " 13,\n",
       " 12,\n",
       " 14,\n",
       " 10,\n",
       " 12,\n",
       " 13,\n",
       " 18,\n",
       " 11,\n",
       " 10,\n",
       " 10,\n",
       " 13,\n",
       " 10,\n",
       " 13,\n",
       " 12,\n",
       " 16,\n",
       " 21,\n",
       " 13,\n",
       " 16,\n",
       " 17,\n",
       " 16,\n",
       " 19,\n",
       " 15,\n",
       " 15,\n",
       " 21,\n",
       " 16,\n",
       " 16,\n",
       " 13,\n",
       " 17,\n",
       " 25,\n",
       " 18,\n",
       " 17,\n",
       " 11,\n",
       " 17,\n",
       " 26,\n",
       " 23,\n",
       " 18,\n",
       " 15,\n",
       " 19,\n",
       " 21,\n",
       " 26,\n",
       " 31,\n",
       " 24,\n",
       " 30,\n",
       " 25,\n",
       " 29,\n",
       " 23,\n",
       " 26,\n",
       " 32,\n",
       " 28,\n",
       " 29,\n",
       " 28,\n",
       " 22,\n",
       " 27,\n",
       " 31,\n",
       " 34,\n",
       " 38,\n",
       " 30,\n",
       " 31,\n",
       " 20,\n",
       " 26,\n",
       " 33,\n",
       " 29,\n",
       " 31,\n",
       " 27,\n",
       " 30,\n",
       " 34,\n",
       " 32,\n",
       " 35,\n",
       " 27,\n",
       " 35,\n",
       " 30,\n",
       " 45,\n",
       " 39,\n",
       " 37,\n",
       " 24,\n",
       " 46,\n",
       " 38,\n",
       " 44,\n",
       " 30,\n",
       " 33,\n",
       " 35,\n",
       " 41,\n",
       " 33,\n",
       " 41,\n",
       " 34,\n",
       " 43,\n",
       " 34,\n",
       " 45,\n",
       " 38,\n",
       " 49,\n",
       " 45,\n",
       " 46,\n",
       " 64]"
      ]
     },
     "execution_count": 15,
     "metadata": {},
     "output_type": "execute_result"
    }
   ],
   "source": [
    "layer_0_counts"
   ]
  },
  {
   "cell_type": "code",
   "execution_count": 16,
   "metadata": {
    "ExecuteTime": {
     "end_time": "2019-12-08T05:05:18.187569Z",
     "start_time": "2019-12-08T05:05:18.183567Z"
    }
   },
   "outputs": [
    {
     "data": {
      "text/plain": [
       "8"
      ]
     },
     "execution_count": 16,
     "metadata": {},
     "output_type": "execute_result"
    }
   ],
   "source": [
    "layer_0_counts[5]"
   ]
  },
  {
   "cell_type": "code",
   "execution_count": 17,
   "metadata": {
    "ExecuteTime": {
     "end_time": "2019-12-08T05:05:57.515632Z",
     "start_time": "2019-12-08T05:05:57.510632Z"
    }
   },
   "outputs": [
    {
     "data": {
      "text/plain": [
       "1072"
      ]
     },
     "execution_count": 17,
     "metadata": {},
     "output_type": "execute_result"
    }
   ],
   "source": [
    "sum([1 for char in layers_digits[5] if char == 1]) * sum([1 for char in layers_digits[5] if char == 2])"
   ]
  },
  {
   "cell_type": "code",
   "execution_count": 19,
   "metadata": {
    "ExecuteTime": {
     "end_time": "2019-12-08T05:06:30.986113Z",
     "start_time": "2019-12-08T05:06:30.983112Z"
    }
   },
   "outputs": [],
   "source": [
    "## part 2"
   ]
  },
  {
   "cell_type": "code",
   "execution_count": 22,
   "metadata": {
    "ExecuteTime": {
     "end_time": "2019-12-08T05:08:36.331049Z",
     "start_time": "2019-12-08T05:08:36.328050Z"
    }
   },
   "outputs": [],
   "source": [
    "#layers_digits"
   ]
  },
  {
   "cell_type": "code",
   "execution_count": 121,
   "metadata": {
    "ExecuteTime": {
     "end_time": "2019-12-08T05:39:45.974609Z",
     "start_time": "2019-12-08T05:39:45.972606Z"
    }
   },
   "outputs": [],
   "source": [
    "def find_topmost_pixel(pixel_array):\n",
    "    for item in pixel_array:\n",
    "        if item == 0 or item == 1:\n",
    "            return item\n",
    "    return 7"
   ]
  },
  {
   "cell_type": "code",
   "execution_count": 122,
   "metadata": {
    "ExecuteTime": {
     "end_time": "2019-12-08T05:39:48.688605Z",
     "start_time": "2019-12-08T05:39:48.684604Z"
    }
   },
   "outputs": [],
   "source": [
    "layers_test = [[0,2,2,2], [1,1,2,2], [2,2,1,2], [0,0,0,0]]"
   ]
  },
  {
   "cell_type": "code",
   "execution_count": 123,
   "metadata": {
    "ExecuteTime": {
     "end_time": "2019-12-08T05:39:48.954605Z",
     "start_time": "2019-12-08T05:39:48.949608Z"
    }
   },
   "outputs": [
    {
     "data": {
      "text/plain": [
       "'0110'"
      ]
     },
     "execution_count": 123,
     "metadata": {},
     "output_type": "execute_result"
    }
   ],
   "source": [
    "pixel_by_pixel_array = [position_array for position_array in zip(*layers_test)]\n",
    "image = [find_topmost_pixel(pixel_arr) for pixel_arr in pixel_by_pixel_array]\n",
    "\"\".join([str(item) for i, item in enumerate(image)])"
   ]
  },
  {
   "cell_type": "code",
   "execution_count": 124,
   "metadata": {
    "ExecuteTime": {
     "end_time": "2019-12-08T05:39:49.327604Z",
     "start_time": "2019-12-08T05:39:49.325605Z"
    }
   },
   "outputs": [
    {
     "name": "stdout",
     "output_type": "stream",
     "text": [
      "01\n",
      "10\n"
     ]
    }
   ],
   "source": [
    "result = \"\"\n",
    "for i, item in enumerate(image):\n",
    "    if i > 0 and i % 2 == 0:\n",
    "        result += \"\\n\"\n",
    "    result += f\"{str(item)}\"\n",
    "print(result)"
   ]
  },
  {
   "cell_type": "code",
   "execution_count": 125,
   "metadata": {
    "ExecuteTime": {
     "end_time": "2019-12-08T05:39:49.819620Z",
     "start_time": "2019-12-08T05:39:49.813619Z"
    }
   },
   "outputs": [
    {
     "data": {
      "text/plain": [
       "'100011000011110111000011010001100001000010010000100101010000111001001000010001001000010000111000001000100100001000010000100100010011110100001000001100'"
      ]
     },
     "execution_count": 125,
     "metadata": {},
     "output_type": "execute_result"
    }
   ],
   "source": [
    "pixel_by_pixel_array = [position_array for position_array in zip(*layers_digits)]\n",
    "image = [find_topmost_pixel(pixel_arr) for pixel_arr in pixel_by_pixel_array]\n",
    "\"\".join([str(item) for i, item in enumerate(image)])"
   ]
  },
  {
   "cell_type": "code",
   "execution_count": 126,
   "metadata": {
    "ExecuteTime": {
     "end_time": "2019-12-08T05:39:52.064619Z",
     "start_time": "2019-12-08T05:39:52.061619Z"
    }
   },
   "outputs": [
    {
     "name": "stdout",
     "output_type": "stream",
     "text": [
      "1000110000111101110000110\n",
      "1000110000100001001000010\n",
      "0101010000111001001000010\n",
      "0010010000100001110000010\n",
      "0010010000100001000010010\n",
      "0010011110100001000001100\n"
     ]
    }
   ],
   "source": [
    "result = \"\"\n",
    "for i, item in enumerate(image):\n",
    "    if i > 0 and i % (25) == 0:\n",
    "        result += \"\\n\"\n",
    "    result += f\"{str(item)}\"\n",
    "print(result)"
   ]
  },
  {
   "cell_type": "code",
   "execution_count": 129,
   "metadata": {
    "ExecuteTime": {
     "end_time": "2019-12-08T05:41:09.231915Z",
     "start_time": "2019-12-08T05:41:09.228916Z"
    }
   },
   "outputs": [],
   "source": [
    "def format_number(number):\n",
    "    if item == 0:\n",
    "        return \"█\"\n",
    "    elif item == 1:\n",
    "        return \"░\""
   ]
  },
  {
   "cell_type": "code",
   "execution_count": 130,
   "metadata": {
    "ExecuteTime": {
     "end_time": "2019-12-08T05:41:09.512917Z",
     "start_time": "2019-12-08T05:41:09.509913Z"
    }
   },
   "outputs": [
    {
     "name": "stdout",
     "output_type": "stream",
     "text": [
      "░███░░████░░░░█░░░████░░█\n",
      "░███░░████░████░██░████░█\n",
      "█░█░█░████░░░██░██░████░█\n",
      "██░██░████░████░░░█████░█\n",
      "██░██░████░████░████░██░█\n",
      "██░██░░░░█░████░█████░░██\n"
     ]
    }
   ],
   "source": [
    "result = \"\"\n",
    "for i, item in enumerate(image):\n",
    "    if i > 0 and i % (25) == 0:\n",
    "        result += \"\\n\"\n",
    "    result += f\"{format_numbers(int(item))}\"\n",
    "print(result)"
   ]
  }
 ],
 "metadata": {
  "kernelspec": {
   "display_name": "Python 3",
   "language": "python",
   "name": "python3"
  },
  "language_info": {
   "codemirror_mode": {
    "name": "ipython",
    "version": 3
   },
   "file_extension": ".py",
   "mimetype": "text/x-python",
   "name": "python",
   "nbconvert_exporter": "python",
   "pygments_lexer": "ipython3",
   "version": "3.7.0"
  },
  "toc": {
   "base_numbering": 1,
   "nav_menu": {},
   "number_sections": true,
   "sideBar": true,
   "skip_h1_title": true,
   "title_cell": "Table of Contents",
   "title_sidebar": "Contents",
   "toc_cell": false,
   "toc_position": {},
   "toc_section_display": true,
   "toc_window_display": false
  }
 },
 "nbformat": 4,
 "nbformat_minor": 2
}

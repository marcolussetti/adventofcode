{
 "cells": [
  {
   "cell_type": "code",
   "execution_count": 79,
   "metadata": {
    "ExecuteTime": {
     "end_time": "2019-12-04T05:26:47.387886Z",
     "start_time": "2019-12-04T05:26:47.384885Z"
    }
   },
   "outputs": [],
   "source": [
    "PUZZLE_INPUT = '124075-580769'"
   ]
  },
  {
   "cell_type": "markdown",
   "metadata": {},
   "source": [
    "## Part 1"
   ]
  },
  {
   "cell_type": "code",
   "execution_count": 80,
   "metadata": {
    "ExecuteTime": {
     "end_time": "2019-12-04T05:26:47.392888Z",
     "start_time": "2019-12-04T05:26:47.388886Z"
    }
   },
   "outputs": [],
   "source": [
    "start_range, end_range = [int(item) for item in PUZZLE_INPUT.split(\"-\")]"
   ]
  },
  {
   "cell_type": "code",
   "execution_count": 81,
   "metadata": {
    "ExecuteTime": {
     "end_time": "2019-12-04T05:26:47.485885Z",
     "start_time": "2019-12-04T05:26:47.393889Z"
    }
   },
   "outputs": [],
   "source": [
    "possibilities = [str(num) for num in range(start_range, end_range + 1)]"
   ]
  },
  {
   "cell_type": "code",
   "execution_count": 82,
   "metadata": {
    "ExecuteTime": {
     "end_time": "2019-12-04T05:26:48.870885Z",
     "start_time": "2019-12-04T05:26:47.486884Z"
    }
   },
   "outputs": [],
   "source": [
    "# Filter for \"two adjacent digits\"\n",
    "adjacent_digits = [num for num in possibilities if len(\n",
    "    [True for selector in [str(i)*2 for i in range(0, 9+1)] if selector in num]) > 0]"
   ]
  },
  {
   "cell_type": "code",
   "execution_count": 83,
   "metadata": {
    "ExecuteTime": {
     "end_time": "2019-12-04T05:26:48.874892Z",
     "start_time": "2019-12-04T05:26:48.871883Z"
    }
   },
   "outputs": [],
   "source": [
    "# Filter for \"never decreasing digits\"\n",
    "def decrease_filter(str_num):\n",
    "    prior = int(str_num[0])\n",
    "    for n in str_num[1:]:\n",
    "        if int(n) < prior:\n",
    "            return False\n",
    "        prior = int(n)\n",
    "    return True"
   ]
  },
  {
   "cell_type": "code",
   "execution_count": 84,
   "metadata": {
    "ExecuteTime": {
     "end_time": "2019-12-04T05:26:49.056883Z",
     "start_time": "2019-12-04T05:26:48.875893Z"
    }
   },
   "outputs": [],
   "source": [
    "no_decreased = [num for num in adjacent_digits if decrease_filter(num)]"
   ]
  },
  {
   "cell_type": "code",
   "execution_count": 85,
   "metadata": {
    "ExecuteTime": {
     "end_time": "2019-12-04T05:26:49.062894Z",
     "start_time": "2019-12-04T05:26:49.057884Z"
    }
   },
   "outputs": [
    {
     "data": {
      "text/plain": [
       "2150"
      ]
     },
     "execution_count": 85,
     "metadata": {},
     "output_type": "execute_result"
    }
   ],
   "source": [
    "# Part 1 result\n",
    "len(no_decreased)"
   ]
  },
  {
   "cell_type": "markdown",
   "metadata": {},
   "source": [
    "## Part 2"
   ]
  },
  {
   "cell_type": "code",
   "execution_count": 86,
   "metadata": {
    "ExecuteTime": {
     "end_time": "2019-12-04T05:26:49.477886Z",
     "start_time": "2019-12-04T05:26:49.063892Z"
    }
   },
   "outputs": [],
   "source": [
    "no_decreased_2 = [num for num in possibilities if decrease_filter(num)]"
   ]
  },
  {
   "cell_type": "code",
   "execution_count": 87,
   "metadata": {
    "ExecuteTime": {
     "end_time": "2019-12-04T05:26:49.482887Z",
     "start_time": "2019-12-04T05:26:49.478886Z"
    }
   },
   "outputs": [],
   "source": [
    "def doubles_filter(str_num):\n",
    "    for i in range(0, 9+1):\n",
    "        if str(i) * 2 in str_num and str(i) * 3 not in str_num:\n",
    "            return True\n",
    "    return False"
   ]
  },
  {
   "cell_type": "code",
   "execution_count": 88,
   "metadata": {
    "ExecuteTime": {
     "end_time": "2019-12-04T05:26:49.494886Z",
     "start_time": "2019-12-04T05:26:49.484887Z"
    }
   },
   "outputs": [],
   "source": [
    "adjacent_digits_2 = [num for num in no_decreased_2 if doubles_filter(num)]"
   ]
  },
  {
   "cell_type": "code",
   "execution_count": 96,
   "metadata": {
    "ExecuteTime": {
     "end_time": "2019-12-04T05:26:58.213919Z",
     "start_time": "2019-12-04T05:26:58.209917Z"
    }
   },
   "outputs": [
    {
     "data": {
      "text/plain": [
       "1462"
      ]
     },
     "execution_count": 96,
     "metadata": {},
     "output_type": "execute_result"
    }
   ],
   "source": [
    "# Part 2 result\n",
    "len(adjacent_digits_2)"
   ]
  }
 ],
 "metadata": {
  "kernelspec": {
   "display_name": "Python 3",
   "language": "python",
   "name": "python3"
  },
  "language_info": {
   "codemirror_mode": {
    "name": "ipython",
    "version": 3
   },
   "file_extension": ".py",
   "mimetype": "text/x-python",
   "name": "python",
   "nbconvert_exporter": "python",
   "pygments_lexer": "ipython3",
   "version": "3.7.0"
  },
  "toc": {
   "base_numbering": 1,
   "nav_menu": {},
   "number_sections": true,
   "sideBar": true,
   "skip_h1_title": true,
   "title_cell": "Table of Contents",
   "title_sidebar": "Contents",
   "toc_cell": false,
   "toc_position": {},
   "toc_section_display": true,
   "toc_window_display": false
  }
 },
 "nbformat": 4,
 "nbformat_minor": 2
}

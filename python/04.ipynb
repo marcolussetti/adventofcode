{
 "cells": [
  {
   "cell_type": "code",
   "execution_count": 1,
   "metadata": {
    "ExecuteTime": {
     "end_time": "2019-12-04T05:27:55.962421Z",
     "start_time": "2019-12-04T05:27:55.960419Z"
    }
   },
   "outputs": [],
   "source": [
    "PUZZLE_INPUT = '124075-580769'"
   ]
  },
  {
   "cell_type": "markdown",
   "metadata": {},
   "source": [
    "## Part 1"
   ]
  },
  {
   "cell_type": "code",
   "execution_count": 2,
   "metadata": {
    "ExecuteTime": {
     "end_time": "2019-12-04T05:27:55.971422Z",
     "start_time": "2019-12-04T05:27:55.965420Z"
    }
   },
   "outputs": [],
   "source": [
    "start_range, end_range = [int(item) for item in PUZZLE_INPUT.split(\"-\")]"
   ]
  },
  {
   "cell_type": "code",
   "execution_count": 3,
   "metadata": {
    "ExecuteTime": {
     "end_time": "2019-12-04T05:27:56.072418Z",
     "start_time": "2019-12-04T05:27:55.972421Z"
    }
   },
   "outputs": [],
   "source": [
    "possibilities = [str(num) for num in range(start_range, end_range + 1)]"
   ]
  },
  {
   "cell_type": "code",
   "execution_count": 4,
   "metadata": {
    "ExecuteTime": {
     "end_time": "2019-12-04T05:27:57.474420Z",
     "start_time": "2019-12-04T05:27:56.073418Z"
    }
   },
   "outputs": [],
   "source": [
    "# Filter for \"two adjacent digits\"\n",
    "adjacent_digits = [num for num in possibilities if len(\n",
    "    [True for selector in [str(i)*2 for i in range(0, 9+1)] if selector in num]) > 0]"
   ]
  },
  {
   "cell_type": "code",
   "execution_count": 5,
   "metadata": {
    "ExecuteTime": {
     "end_time": "2019-12-04T05:27:57.478420Z",
     "start_time": "2019-12-04T05:27:57.475419Z"
    }
   },
   "outputs": [],
   "source": [
    "# Filter for \"never decreasing digits\"\n",
    "def decrease_filter(str_num):\n",
    "    prior = int(str_num[0])\n",
    "    for n in str_num[1:]:\n",
    "        if int(n) < prior:\n",
    "            return False\n",
    "        prior = int(n)\n",
    "    return True"
   ]
  },
  {
   "cell_type": "code",
   "execution_count": 6,
   "metadata": {
    "ExecuteTime": {
     "end_time": "2019-12-04T05:27:57.658420Z",
     "start_time": "2019-12-04T05:27:57.479419Z"
    }
   },
   "outputs": [],
   "source": [
    "no_decreased = [num for num in adjacent_digits if decrease_filter(num)]"
   ]
  },
  {
   "cell_type": "code",
   "execution_count": 7,
   "metadata": {
    "ExecuteTime": {
     "end_time": "2019-12-04T05:27:57.666419Z",
     "start_time": "2019-12-04T05:27:57.659423Z"
    }
   },
   "outputs": [
    {
     "data": {
      "text/plain": [
       "2150"
      ]
     },
     "execution_count": 7,
     "metadata": {},
     "output_type": "execute_result"
    }
   ],
   "source": [
    "# Part 1 result\n",
    "len(no_decreased)"
   ]
  },
  {
   "cell_type": "markdown",
   "metadata": {},
   "source": [
    "## Part 2"
   ]
  },
  {
   "cell_type": "code",
   "execution_count": 8,
   "metadata": {
    "ExecuteTime": {
     "end_time": "2019-12-04T05:27:58.070418Z",
     "start_time": "2019-12-04T05:27:57.667419Z"
    }
   },
   "outputs": [],
   "source": [
    "no_decreased_2 = [num for num in possibilities if decrease_filter(num)]"
   ]
  },
  {
   "cell_type": "code",
   "execution_count": 9,
   "metadata": {
    "ExecuteTime": {
     "end_time": "2019-12-04T05:27:58.075418Z",
     "start_time": "2019-12-04T05:27:58.071419Z"
    }
   },
   "outputs": [],
   "source": [
    "def doubles_filter(str_num):\n",
    "    for i in range(0, 9+1):\n",
    "        if str(i) * 2 in str_num and str(i) * 3 not in str_num:\n",
    "            return True\n",
    "    return False"
   ]
  },
  {
   "cell_type": "code",
   "execution_count": 10,
   "metadata": {
    "ExecuteTime": {
     "end_time": "2019-12-04T05:27:58.084419Z",
     "start_time": "2019-12-04T05:27:58.076421Z"
    }
   },
   "outputs": [],
   "source": [
    "adjacent_digits_2 = [num for num in no_decreased_2 if doubles_filter(num)]"
   ]
  },
  {
   "cell_type": "code",
   "execution_count": 11,
   "metadata": {
    "ExecuteTime": {
     "end_time": "2019-12-04T05:27:58.092419Z",
     "start_time": "2019-12-04T05:27:58.085420Z"
    }
   },
   "outputs": [
    {
     "data": {
      "text/plain": [
       "1462"
      ]
     },
     "execution_count": 11,
     "metadata": {},
     "output_type": "execute_result"
    }
   ],
   "source": [
    "# Part 2 result\n",
    "len(adjacent_digits_2)"
   ]
  }
 ],
 "metadata": {
  "kernelspec": {
   "display_name": "Python 3",
   "language": "python",
   "name": "python3"
  },
  "language_info": {
   "codemirror_mode": {
    "name": "ipython",
    "version": 3
   },
   "file_extension": ".py",
   "mimetype": "text/x-python",
   "name": "python",
   "nbconvert_exporter": "python",
   "pygments_lexer": "ipython3",
   "version": "3.7.0"
  },
  "toc": {
   "base_numbering": 1,
   "nav_menu": {},
   "number_sections": true,
   "sideBar": true,
   "skip_h1_title": true,
   "title_cell": "Table of Contents",
   "title_sidebar": "Contents",
   "toc_cell": false,
   "toc_position": {},
   "toc_section_display": true,
   "toc_window_display": false
  }
 },
 "nbformat": 4,
 "nbformat_minor": 2
}

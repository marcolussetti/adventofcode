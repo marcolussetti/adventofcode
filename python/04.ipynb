{
 "cells": [
  {
   "cell_type": "code",
   "execution_count": 1,
   "metadata": {
    "ExecuteTime": {
     "end_time": "2019-12-04T05:00:12.021829Z",
     "start_time": "2019-12-04T05:00:12.018827Z"
    }
   },
   "outputs": [],
   "source": [
    "input_puzzle = '124075-580769'"
   ]
  },
  {
   "cell_type": "code",
   "execution_count": 5,
   "metadata": {
    "ExecuteTime": {
     "end_time": "2019-12-04T05:02:40.915613Z",
     "start_time": "2019-12-04T05:02:40.912613Z"
    }
   },
   "outputs": [],
   "source": [
    "start_puzzle = 124075\n",
    "end_puzzle = 580769"
   ]
  },
  {
   "cell_type": "code",
   "execution_count": 19,
   "metadata": {
    "ExecuteTime": {
     "end_time": "2019-12-04T05:06:32.675962Z",
     "start_time": "2019-12-04T05:06:32.672957Z"
    }
   },
   "outputs": [
    {
     "ename": "SyntaxError",
     "evalue": "unexpected EOF while parsing (<ipython-input-19-92c5b8caff04>, line 4)",
     "output_type": "error",
     "traceback": [
      "\u001b[1;36m  File \u001b[1;32m\"<ipython-input-19-92c5b8caff04>\"\u001b[1;36m, line \u001b[1;32m4\u001b[0m\n\u001b[1;33m    \u001b[0m\n\u001b[1;37m    ^\u001b[0m\n\u001b[1;31mSyntaxError\u001b[0m\u001b[1;31m:\u001b[0m unexpected EOF while parsing\n"
     ]
    }
   ],
   "source": [
    "def generate_possibilities(start, end):\n",
    "    possibilities = list(range(start, end+))\n",
    "    for i in range(start, end):\n",
    "        "
   ]
  },
  {
   "cell_type": "code",
   "execution_count": 46,
   "metadata": {
    "ExecuteTime": {
     "end_time": "2019-12-04T05:08:56.710094Z",
     "start_time": "2019-12-04T05:08:56.614098Z"
    }
   },
   "outputs": [],
   "source": [
    "possibilities = list(range(start_puzzle, end_puzzle+1))\n",
    "possibilities_str = [str(num) for num in possibilities]"
   ]
  },
  {
   "cell_type": "code",
   "execution_count": 47,
   "metadata": {
    "ExecuteTime": {
     "end_time": "2019-12-04T05:08:57.069094Z",
     "start_time": "2019-12-04T05:08:56.957095Z"
    }
   },
   "outputs": [],
   "source": [
    "remainder = [num for num in possibilities_str if '11' in num or '22' in num or '33' in num or '44' in num or '55' in num or '66' in num or '77' in num or '88' in num or '99' in num or '00' in num]"
   ]
  },
  {
   "cell_type": "code",
   "execution_count": 59,
   "metadata": {
    "ExecuteTime": {
     "end_time": "2019-12-04T05:11:15.143511Z",
     "start_time": "2019-12-04T05:11:15.140513Z"
    }
   },
   "outputs": [],
   "source": [
    "def increasing_test(str_num):\n",
    "    prior  = int(str_num[0])\n",
    "    for i in str_num[1:]:\n",
    "        if int(i) < prior:\n",
    "            return False\n",
    "        prior = int(i)\n",
    "    return True"
   ]
  },
  {
   "cell_type": "code",
   "execution_count": 60,
   "metadata": {
    "ExecuteTime": {
     "end_time": "2019-12-04T05:11:15.639512Z",
     "start_time": "2019-12-04T05:11:15.460512Z"
    }
   },
   "outputs": [],
   "source": [
    "remainder_2 = [num for num in remainder if increasing_test(num)]"
   ]
  },
  {
   "cell_type": "code",
   "execution_count": 61,
   "metadata": {
    "ExecuteTime": {
     "end_time": "2019-12-04T05:11:16.007522Z",
     "start_time": "2019-12-04T05:11:16.003512Z"
    }
   },
   "outputs": [
    {
     "data": {
      "text/plain": [
       "2150"
      ]
     },
     "execution_count": 61,
     "metadata": {},
     "output_type": "execute_result"
    }
   ],
   "source": [
    "len(remainder_2)"
   ]
  },
  {
   "cell_type": "code",
   "execution_count": 63,
   "metadata": {
    "ExecuteTime": {
     "end_time": "2019-12-04T05:13:12.196111Z",
     "start_time": "2019-12-04T05:13:12.192109Z"
    }
   },
   "outputs": [],
   "source": [
    "def filter_groups(str_num):\n",
    "    for i in range(0, 9+1):\n",
    "        if str(i) * 2 in str_num and str(i) * 3 not in str_num:\n",
    "            return True\n",
    "    return False"
   ]
  },
  {
   "cell_type": "code",
   "execution_count": 62,
   "metadata": {
    "ExecuteTime": {
     "end_time": "2019-12-04T05:12:35.401851Z",
     "start_time": "2019-12-04T05:12:35.396851Z"
    }
   },
   "outputs": [
    {
     "data": {
      "text/plain": [
       "'999'"
      ]
     },
     "execution_count": 62,
     "metadata": {},
     "output_type": "execute_result"
    }
   ],
   "source": [
    "'9' * 3"
   ]
  },
  {
   "cell_type": "code",
   "execution_count": 64,
   "metadata": {
    "ExecuteTime": {
     "end_time": "2019-12-04T05:13:31.775117Z",
     "start_time": "2019-12-04T05:13:30.794117Z"
    }
   },
   "outputs": [],
   "source": [
    "remainder = [num for num in possibilities_str if filter_groups(num)]"
   ]
  },
  {
   "cell_type": "code",
   "execution_count": 65,
   "metadata": {
    "ExecuteTime": {
     "end_time": "2019-12-04T05:13:36.154133Z",
     "start_time": "2019-12-04T05:13:35.994137Z"
    }
   },
   "outputs": [],
   "source": [
    "remainder_2 = [num for num in remainder if increasing_test(num)]"
   ]
  },
  {
   "cell_type": "code",
   "execution_count": 66,
   "metadata": {
    "ExecuteTime": {
     "end_time": "2019-12-04T05:13:39.293154Z",
     "start_time": "2019-12-04T05:13:39.290152Z"
    }
   },
   "outputs": [
    {
     "data": {
      "text/plain": [
       "1462"
      ]
     },
     "execution_count": 66,
     "metadata": {},
     "output_type": "execute_result"
    }
   ],
   "source": [
    "len(remainder_2)"
   ]
  },
  {
   "cell_type": "code",
   "execution_count": null,
   "metadata": {},
   "outputs": [],
   "source": []
  }
 ],
 "metadata": {
  "kernelspec": {
   "display_name": "Python 3",
   "language": "python",
   "name": "python3"
  },
  "language_info": {
   "codemirror_mode": {
    "name": "ipython",
    "version": 3
   },
   "file_extension": ".py",
   "mimetype": "text/x-python",
   "name": "python",
   "nbconvert_exporter": "python",
   "pygments_lexer": "ipython3",
   "version": "3.7.0"
  },
  "toc": {
   "base_numbering": 1,
   "nav_menu": {},
   "number_sections": true,
   "sideBar": true,
   "skip_h1_title": true,
   "title_cell": "Table of Contents",
   "title_sidebar": "Contents",
   "toc_cell": false,
   "toc_position": {},
   "toc_section_display": true,
   "toc_window_display": false
  }
 },
 "nbformat": 4,
 "nbformat_minor": 2
}

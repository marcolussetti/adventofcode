{
 "cells": [
  {
   "cell_type": "code",
   "execution_count": 81,
   "metadata": {
    "ExecuteTime": {
     "end_time": "2019-12-19T02:44:50.796774Z",
     "start_time": "2019-12-19T02:44:50.793776Z"
    }
   },
   "outputs": [],
   "source": [
    "with open('../inputs/16', 'r') as f:\n",
    "    file_lines = f.readlines()\n",
    "input_lines = file_lines[0].strip()"
   ]
  },
  {
   "cell_type": "markdown",
   "metadata": {},
   "source": [
    "## Part 1"
   ]
  },
  {
   "cell_type": "code",
   "execution_count": 64,
   "metadata": {
    "ExecuteTime": {
     "end_time": "2019-12-19T02:40:38.754973Z",
     "start_time": "2019-12-19T02:40:38.751974Z"
    }
   },
   "outputs": [],
   "source": [
    "def str_to_char_list(char_list):\n",
    "    return [int(char) for char in char_list]"
   ]
  },
  {
   "cell_type": "code",
   "execution_count": 6,
   "metadata": {
    "ExecuteTime": {
     "end_time": "2019-12-19T02:12:18.982327Z",
     "start_time": "2019-12-19T02:12:18.979325Z"
    }
   },
   "outputs": [],
   "source": [
    "BASE_PATTERN = tuple([0, 1, 0, -1])"
   ]
  },
  {
   "cell_type": "code",
   "execution_count": 8,
   "metadata": {
    "ExecuteTime": {
     "end_time": "2019-12-19T02:13:59.521081Z",
     "start_time": "2019-12-19T02:13:59.518075Z"
    }
   },
   "outputs": [
    {
     "data": {
      "text/plain": [
       "[1, 2, 3, 4, 5, 6, 7, 8]"
      ]
     },
     "execution_count": 8,
     "metadata": {},
     "output_type": "execute_result"
    }
   ],
   "source": [
    "example_input = [int(char) for char in \"12345678\"]\n",
    "example_input"
   ]
  },
  {
   "cell_type": "code",
   "execution_count": 44,
   "metadata": {
    "ExecuteTime": {
     "end_time": "2019-12-19T02:35:54.710129Z",
     "start_time": "2019-12-19T02:35:54.707132Z"
    }
   },
   "outputs": [],
   "source": [
    "def pattern_generator(base_pattern, el_position):\n",
    "    new_pattern = [[el]* (el_position + 1) for el in base_pattern]\n",
    "    new_pattern = [item for sublist in new_pattern for item in sublist]\n",
    "    \n",
    "    i = 0\n",
    "    \n",
    "    while True:\n",
    "        yield new_pattern[i % len(new_pattern)]\n",
    "        i += 1"
   ]
  },
  {
   "cell_type": "code",
   "execution_count": 11,
   "metadata": {
    "ExecuteTime": {
     "end_time": "2019-12-19T02:18:21.451669Z",
     "start_time": "2019-12-19T02:18:21.448679Z"
    }
   },
   "outputs": [
    {
     "data": {
      "text/plain": [
       "[0, 0, 0, 1, 1, 1, 0, 0, 0, -1, -1, -1]"
      ]
     },
     "execution_count": 11,
     "metadata": {},
     "output_type": "execute_result"
    }
   ],
   "source": [
    "compute_pattern(BASE_PATTERN, 2)"
   ]
  },
  {
   "cell_type": "code",
   "execution_count": 60,
   "metadata": {
    "ExecuteTime": {
     "end_time": "2019-12-19T02:38:08.771444Z",
     "start_time": "2019-12-19T02:38:08.768443Z"
    }
   },
   "outputs": [],
   "source": [
    "def process_phase(input, base_pattern):\n",
    "    output = []\n",
    "    for i, _ in enumerate(input):\n",
    "        pattern = pattern_generator(base_pattern, i)\n",
    "        next(pattern)\n",
    "        result = []\n",
    "        for j, item in enumerate(input):\n",
    "            result.append(item * next(pattern))\n",
    "        output.append(int(str(sum(result))[-1]))\n",
    "    \n",
    "    return output"
   ]
  },
  {
   "cell_type": "code",
   "execution_count": 68,
   "metadata": {
    "ExecuteTime": {
     "end_time": "2019-12-19T02:41:14.582044Z",
     "start_time": "2019-12-19T02:41:14.579042Z"
    }
   },
   "outputs": [],
   "source": [
    "def process_phases(input, base_pattern, phases):\n",
    "    if type(input) == str:\n",
    "        input = str_to_char_list(input)\n",
    "    outputs = []\n",
    "    output = input\n",
    "    for i in range(phases):\n",
    "        output  = process_phase(output,base_pattern)\n",
    "        outputs.append(output)\n",
    "        \n",
    "    return outputs"
   ]
  },
  {
   "cell_type": "code",
   "execution_count": 69,
   "metadata": {
    "ExecuteTime": {
     "end_time": "2019-12-19T02:41:14.864060Z",
     "start_time": "2019-12-19T02:41:14.859061Z"
    }
   },
   "outputs": [
    {
     "data": {
      "text/plain": [
       "[4, 8, 2, 2, 6, 1, 5, 8]"
      ]
     },
     "execution_count": 69,
     "metadata": {},
     "output_type": "execute_result"
    }
   ],
   "source": [
    "process_phase([1,2,3,4,5,6,7,8], BASE_PATTERN)"
   ]
  },
  {
   "cell_type": "code",
   "execution_count": 71,
   "metadata": {
    "ExecuteTime": {
     "end_time": "2019-12-19T02:41:27.405964Z",
     "start_time": "2019-12-19T02:41:27.396964Z"
    }
   },
   "outputs": [
    {
     "data": {
      "text/plain": [
       "[0, 1, 0, 2, 9, 4, 9, 8]"
      ]
     },
     "execution_count": 71,
     "metadata": {},
     "output_type": "execute_result"
    }
   ],
   "source": [
    "a = process_phases([1,2,3,4,5,6,7,8], BASE_PATTERN, 100)\n",
    "a[3]"
   ]
  },
  {
   "cell_type": "code",
   "execution_count": 78,
   "metadata": {
    "ExecuteTime": {
     "end_time": "2019-12-19T02:42:47.599363Z",
     "start_time": "2019-12-19T02:42:47.549364Z"
    }
   },
   "outputs": [
    {
     "data": {
      "text/plain": [
       "'24176176'"
      ]
     },
     "execution_count": 78,
     "metadata": {},
     "output_type": "execute_result"
    }
   ],
   "source": [
    "a = process_phases('80871224585914546619083218645595', BASE_PATTERN, 100)\n",
    "\"\".join([str(it) for it in a[99]][:8])"
   ]
  },
  {
   "cell_type": "code",
   "execution_count": 79,
   "metadata": {
    "ExecuteTime": {
     "end_time": "2019-12-19T02:43:32.898034Z",
     "start_time": "2019-12-19T02:43:15.183284Z"
    }
   },
   "outputs": [
    {
     "data": {
      "text/plain": [
       "'12541048'"
      ]
     },
     "execution_count": 79,
     "metadata": {},
     "output_type": "execute_result"
    }
   ],
   "source": [
    "# Result 1\n",
    "res_1 = process_phases(input_lines, BASE_PATTERN, 100)\n",
    "\"\".join([str(it) for it in res_1[99]][:8])"
   ]
  },
  {
   "cell_type": "markdown",
   "metadata": {},
   "source": [
    "## Part 2"
   ]
  },
  {
   "cell_type": "code",
   "execution_count": null,
   "metadata": {
    "ExecuteTime": {
     "start_time": "2019-12-19T02:45:09.242Z"
    }
   },
   "outputs": [],
   "source": [
    "res_2 = process_phases(input_lines * 10000, BASE_PATTERN, 100)"
   ]
  },
  {
   "cell_type": "code",
   "execution_count": null,
   "metadata": {
    "ExecuteTime": {
     "start_time": "2019-12-19T02:52:53.546Z"
    }
   },
   "outputs": [],
   "source": [
    "res_2_str = \"\".join([str(it) for it in res_1[99]])"
   ]
  },
  {
   "cell_type": "code",
   "execution_count": null,
   "metadata": {
    "ExecuteTime": {
     "start_time": "2019-12-19T02:52:53.921Z"
    }
   },
   "outputs": [],
   "source": [
    "res_2_offset = int(res_2_str[:7])"
   ]
  },
  {
   "cell_type": "code",
   "execution_count": null,
   "metadata": {
    "ExecuteTime": {
     "start_time": "2019-12-19T02:54:11.193Z"
    }
   },
   "outputs": [],
   "source": [
    "res_2_result = res_2_str[res_2_offset:][:8]\n",
    "res_2_result"
   ]
  },
  {
   "cell_type": "code",
   "execution_count": null,
   "metadata": {},
   "outputs": [],
   "source": []
  }
 ],
 "metadata": {
  "kernelspec": {
   "display_name": "Python 3",
   "language": "python",
   "name": "python3"
  },
  "language_info": {
   "codemirror_mode": {
    "name": "ipython",
    "version": 3
   },
   "file_extension": ".py",
   "mimetype": "text/x-python",
   "name": "python",
   "nbconvert_exporter": "python",
   "pygments_lexer": "ipython3",
   "version": "3.7.0"
  },
  "toc": {
   "base_numbering": 1,
   "nav_menu": {},
   "number_sections": true,
   "sideBar": true,
   "skip_h1_title": true,
   "title_cell": "Table of Contents",
   "title_sidebar": "Contents",
   "toc_cell": false,
   "toc_position": {},
   "toc_section_display": true,
   "toc_window_display": false
  }
 },
 "nbformat": 4,
 "nbformat_minor": 2
}

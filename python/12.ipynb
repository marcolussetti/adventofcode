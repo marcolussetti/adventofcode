{
 "cells": [
  {
   "cell_type": "code",
   "execution_count": 1,
   "metadata": {
    "ExecuteTime": {
     "end_time": "2019-12-13T01:36:50.941729Z",
     "start_time": "2019-12-13T01:36:50.938731Z"
    }
   },
   "outputs": [],
   "source": [
    "from itertools import combinations\n",
    "import copy\n",
    "from collections import Counter"
   ]
  },
  {
   "cell_type": "code",
   "execution_count": 2,
   "metadata": {
    "ExecuteTime": {
     "end_time": "2019-12-13T01:36:51.190729Z",
     "start_time": "2019-12-13T01:36:51.187730Z"
    }
   },
   "outputs": [],
   "source": [
    "p1_moons = [\n",
    "    {\"id\": 0, \"pos\": [-10, -13, 7], \"vel\": [0,0,0]},\n",
    "    {\"id\": 1, \"pos\": [1, 2, 1], \"vel\": [0,0,0]},\n",
    "    {\"id\": 2, \"pos\": [-15, -3, 13], \"vel\": [0,0,0]},\n",
    "    {\"id\": 3, \"pos\": [3, 7, -4], \"vel\": [0,0,0]}]"
   ]
  },
  {
   "cell_type": "code",
   "execution_count": 3,
   "metadata": {
    "ExecuteTime": {
     "end_time": "2019-12-13T01:36:51.407729Z",
     "start_time": "2019-12-13T01:36:51.404730Z"
    }
   },
   "outputs": [],
   "source": [
    "example_moons = [\n",
    "    {\"id\": 0, \"pos\": [-1, 0, 2], \"vel\": [0,0,0]},\n",
    "    {\"id\": 1, \"pos\": [2, -10, -7], \"vel\": [0,0,0]},\n",
    "    {\"id\": 2, \"pos\": [4, -8, 8], \"vel\": [0,0,0]},\n",
    "    {\"id\": 3, \"pos\": [3, 5, -1], \"vel\": [0,0,0]}]"
   ]
  },
  {
   "cell_type": "code",
   "execution_count": 4,
   "metadata": {
    "ExecuteTime": {
     "end_time": "2019-12-13T01:36:51.622726Z",
     "start_time": "2019-12-13T01:36:51.619732Z"
    }
   },
   "outputs": [],
   "source": [
    "example_moons_2 = [\n",
    "    {\"id\": 0, \"pos\": [-8, -10, 0], \"vel\": [0,0,0]},\n",
    "    {\"id\": 1, \"pos\": [5, 5, 10], \"vel\": [0,0,0]},\n",
    "    {\"id\": 2, \"pos\": [2, -7, 3], \"vel\": [0,0,0]},\n",
    "    {\"id\": 3, \"pos\": [9, -8, -3], \"vel\": [0,0,0]}]"
   ]
  },
  {
   "cell_type": "code",
   "execution_count": 5,
   "metadata": {
    "ExecuteTime": {
     "end_time": "2019-12-13T01:36:51.998729Z",
     "start_time": "2019-12-13T01:36:51.994728Z"
    }
   },
   "outputs": [],
   "source": [
    "def time_slot(the_moons):\n",
    "    moons = copy.deepcopy(the_moons)\n",
    "    \n",
    "    # Apply gravity\n",
    "    combos = list(combinations(range(len(moons)), 2))\n",
    "    for a, b in combos:\n",
    "        for axis in range(len(moons[0][\"pos\"])):\n",
    "            if moons[a][\"pos\"][axis] > moons[b][\"pos\"][axis]:\n",
    "                moons[a][\"vel\"][axis] -= 1\n",
    "                moons[b][\"vel\"][axis] += 1\n",
    "            elif moons[a][\"pos\"][axis] < moons[b][\"pos\"][axis]:\n",
    "                moons[a][\"vel\"][axis] += 1\n",
    "                moons[b][\"vel\"][axis] -= 1\n",
    "                \n",
    "    # Apply velocity\n",
    "    for i in range(len(moons)):\n",
    "        moons[i][\"pos\"] = [a + b for a, b in zip(moons[i][\"pos\"], moons[i][\"vel\"])]\n",
    "        \n",
    "    # Kinetic energy\n",
    "    energies = [kinetic_energy(moon) for moon in moons]\n",
    "    energy = sum([moon_energy[-1] for moon_energy in energies])\n",
    "        \n",
    "    return (moons, energy)"
   ]
  },
  {
   "cell_type": "code",
   "execution_count": 22,
   "metadata": {
    "ExecuteTime": {
     "end_time": "2019-12-13T01:42:20.000478Z",
     "start_time": "2019-12-13T01:42:19.996480Z"
    }
   },
   "outputs": [],
   "source": [
    "def kinetic_energy(moon):\n",
    "    return [sum([abs(val) for val in moon[\"pos\"]]), \n",
    "            sum([abs(val) for val in moon[\"vel\"]]), \n",
    "            sum([abs(val) for val in moon[\"pos\"]])*sum([abs(val) for val in moon[\"vel\"]])]"
   ]
  },
  {
   "cell_type": "code",
   "execution_count": 19,
   "metadata": {
    "ExecuteTime": {
     "end_time": "2019-12-12T06:51:40.905993Z",
     "start_time": "2019-12-12T06:51:40.901994Z"
    }
   },
   "outputs": [],
   "source": [
    "def run_slots(input_moons, slots):\n",
    "    moons = copy.deepcopy(input_moons)\n",
    "    \n",
    "    i_energies = [kinetic_energy(moon) for moon in moons]\n",
    "    i_energy = sum([moon_energy[-1] for moon_energy in i_energies])\n",
    "    \n",
    "    time_slots = [\n",
    "        [copy.deepcopy(input_moons), i_energy]\n",
    "    ]\n",
    "    for i in range(slots):\n",
    "        moons, energy = time_slot(moons)\n",
    "        time_slots.append([copy.deepcopy(moons), energy])\n",
    "        \n",
    "    return time_slots"
   ]
  },
  {
   "cell_type": "code",
   "execution_count": 20,
   "metadata": {
    "ExecuteTime": {
     "end_time": "2019-12-12T06:51:42.683008Z",
     "start_time": "2019-12-12T06:51:42.678007Z"
    }
   },
   "outputs": [
    {
     "data": {
      "text/plain": [
       "[[{'id': 0, 'pos': [2, 1, -3], 'vel': [-3, -2, 1]},\n",
       "  {'id': 1, 'pos': [1, -8, 0], 'vel': [-1, 1, 3]},\n",
       "  {'id': 2, 'pos': [3, -6, 1], 'vel': [3, 2, -3]},\n",
       "  {'id': 3, 'pos': [2, 0, 4], 'vel': [1, -1, -1]}],\n",
       " 179]"
      ]
     },
     "execution_count": 20,
     "metadata": {},
     "output_type": "execute_result"
    }
   ],
   "source": [
    "out = run_slots(example_moons.copy(), 10)\n",
    "out[-1]"
   ]
  },
  {
   "cell_type": "code",
   "execution_count": 21,
   "metadata": {
    "ExecuteTime": {
     "end_time": "2019-12-12T06:51:43.056008Z",
     "start_time": "2019-12-12T06:51:43.040008Z"
    }
   },
   "outputs": [
    {
     "data": {
      "text/plain": [
       "[[{'id': 0, 'pos': [8, -12, -9], 'vel': [-7, 3, 0]},\n",
       "  {'id': 1, 'pos': [13, 16, -3], 'vel': [3, -11, -5]},\n",
       "  {'id': 2, 'pos': [-29, -11, -1], 'vel': [-3, 7, 4]},\n",
       "  {'id': 3, 'pos': [16, -13, 23], 'vel': [7, 1, 1]}],\n",
       " 1940]"
      ]
     },
     "execution_count": 21,
     "metadata": {},
     "output_type": "execute_result"
    }
   ],
   "source": [
    "out = run_slots(example_moons_2.copy(), 100)\n",
    "out[-1]"
   ]
  },
  {
   "cell_type": "code",
   "execution_count": 27,
   "metadata": {
    "ExecuteTime": {
     "end_time": "2019-12-12T06:53:30.580087Z",
     "start_time": "2019-12-12T06:53:30.465087Z"
    }
   },
   "outputs": [
    {
     "data": {
      "text/plain": [
       "[[{'id': 0, 'pos': [2, -44, 26], 'vel': [-8, 7, 9]},\n",
       "  {'id': 1, 'pos': [53, -4, -22], 'vel': [-6, 9, 4]},\n",
       "  {'id': 2, 'pos': [-19, -41, 17], 'vel': [20, -16, -4]},\n",
       "  {'id': 3, 'pos': [-57, 82, -4], 'vel': [-6, 0, -9]}],\n",
       " 8454]"
      ]
     },
     "execution_count": 27,
     "metadata": {},
     "output_type": "execute_result"
    }
   ],
   "source": [
    "out = run_slots(p1_moons.copy(), 1000)\n",
    "out[-1]"
   ]
  },
  {
   "cell_type": "code",
   "execution_count": 34,
   "metadata": {
    "ExecuteTime": {
     "end_time": "2019-12-12T05:56:54.844127Z",
     "start_time": "2019-12-12T05:56:54.842125Z"
    }
   },
   "outputs": [],
   "source": [
    "## p2"
   ]
  },
  {
   "cell_type": "code",
   "execution_count": 11,
   "metadata": {
    "ExecuteTime": {
     "end_time": "2019-12-13T01:37:10.776326Z",
     "start_time": "2019-12-13T01:37:10.772327Z"
    }
   },
   "outputs": [],
   "source": [
    "def run_slots_2(input_moons):\n",
    "    moons = copy.deepcopy(input_moons)\n",
    "    \n",
    "    time_slots = [\n",
    "        tuple([moon[\"pos\"][0] for moon in input_moons] + [moon[\"vel\"][0] for moon in input_moons])\n",
    "    ]\n",
    "    \n",
    "    entry = None\n",
    "    \n",
    "    while entry != time_slots[0]:\n",
    "        moons, energy = time_slot(moons)\n",
    "        entry = tuple([moon[\"pos\"][0] for moon in moons] + [moon[\"vel\"][0] for moon in moons])\n",
    "        \n",
    "        time_slots.append(entry)\n",
    "        \n",
    "    print(len(time_slots))\n",
    "    return time_slots"
   ]
  },
  {
   "cell_type": "code",
   "execution_count": 12,
   "metadata": {
    "ExecuteTime": {
     "end_time": "2019-12-13T01:37:11.065928Z",
     "start_time": "2019-12-13T01:37:11.060929Z"
    }
   },
   "outputs": [],
   "source": [
    "p2_moons = [\n",
    "    [{\"id\": moon[\"id\"], \"pos\": [moon[\"pos\"][0]], \"vel\": [moon[\"vel\"][0]]} for moon in p1_moons],\n",
    "    [{\"id\": moon[\"id\"], \"pos\": [moon[\"pos\"][1]], \"vel\": [moon[\"vel\"][1]]} for moon in p1_moons],\n",
    "    [{\"id\": moon[\"id\"], \"pos\": [moon[\"pos\"][2]], \"vel\": [moon[\"vel\"][2]]} for moon in p1_moons]\n",
    "]"
   ]
  },
  {
   "cell_type": "code",
   "execution_count": 13,
   "metadata": {
    "ExecuteTime": {
     "end_time": "2019-12-13T01:37:11.313932Z",
     "start_time": "2019-12-13T01:37:11.308927Z"
    }
   },
   "outputs": [
    {
     "data": {
      "text/plain": [
       "[[{'id': 0, 'pos': [-10], 'vel': [0]},\n",
       "  {'id': 1, 'pos': [1], 'vel': [0]},\n",
       "  {'id': 2, 'pos': [-15], 'vel': [0]},\n",
       "  {'id': 3, 'pos': [3], 'vel': [0]}],\n",
       " [{'id': 0, 'pos': [-13], 'vel': [0]},\n",
       "  {'id': 1, 'pos': [2], 'vel': [0]},\n",
       "  {'id': 2, 'pos': [-3], 'vel': [0]},\n",
       "  {'id': 3, 'pos': [7], 'vel': [0]}],\n",
       " [{'id': 0, 'pos': [7], 'vel': [0]},\n",
       "  {'id': 1, 'pos': [1], 'vel': [0]},\n",
       "  {'id': 2, 'pos': [13], 'vel': [0]},\n",
       "  {'id': 3, 'pos': [-4], 'vel': [0]}]]"
      ]
     },
     "execution_count": 13,
     "metadata": {},
     "output_type": "execute_result"
    }
   ],
   "source": [
    "p2_moons"
   ]
  },
  {
   "cell_type": "code",
   "execution_count": 15,
   "metadata": {
    "ExecuteTime": {
     "end_time": "2019-12-13T01:38:20.217422Z",
     "start_time": "2019-12-13T01:37:51.346143Z"
    }
   },
   "outputs": [
    {
     "name": "stdout",
     "output_type": "stream",
     "text": [
      "186029\n",
      "161429\n",
      "193053\n"
     ]
    }
   ],
   "source": [
    "a = [run_slots_2(dim_moons) for dim_moons in p2_moons]"
   ]
  },
  {
   "cell_type": "code",
   "execution_count": 17,
   "metadata": {
    "ExecuteTime": {
     "end_time": "2019-12-13T01:39:56.911852Z",
     "start_time": "2019-12-13T01:39:56.908852Z"
    }
   },
   "outputs": [],
   "source": [
    "from math import gcd \n",
    "#from fractions import gcd # If python version is below 3.5\n",
    "from functools import reduce # Needed for Python3.x\n",
    "\n",
    "def lcm(denominators):\n",
    "    return reduce(lambda a,b: a*b // gcd(a,b), denominators)"
   ]
  },
  {
   "cell_type": "code",
   "execution_count": 20,
   "metadata": {
    "ExecuteTime": {
     "end_time": "2019-12-13T01:40:36.068258Z",
     "start_time": "2019-12-13T01:40:36.065258Z"
    }
   },
   "outputs": [
    {
     "data": {
      "text/plain": [
       "362336016722948"
      ]
     },
     "execution_count": 20,
     "metadata": {},
     "output_type": "execute_result"
    }
   ],
   "source": [
    "lcm([186029-1,161429-1,193053-1])"
   ]
  },
  {
   "cell_type": "code",
   "execution_count": 21,
   "metadata": {
    "ExecuteTime": {
     "end_time": "2019-12-13T01:41:02.742635Z",
     "start_time": "2019-12-13T01:41:02.739631Z"
    }
   },
   "outputs": [
    {
     "data": {
      "text/plain": [
       "[186029, 161429, 193053]"
      ]
     },
     "execution_count": 21,
     "metadata": {},
     "output_type": "execute_result"
    }
   ],
   "source": [
    "[len(b) for b in a]"
   ]
  },
  {
   "cell_type": "code",
   "execution_count": null,
   "metadata": {},
   "outputs": [],
   "source": []
  }
 ],
 "metadata": {
  "kernelspec": {
   "display_name": "Python 3",
   "language": "python",
   "name": "python3"
  },
  "language_info": {
   "codemirror_mode": {
    "name": "ipython",
    "version": 3
   },
   "file_extension": ".py",
   "mimetype": "text/x-python",
   "name": "python",
   "nbconvert_exporter": "python",
   "pygments_lexer": "ipython3",
   "version": "3.7.0"
  },
  "toc": {
   "base_numbering": 1,
   "nav_menu": {},
   "number_sections": true,
   "sideBar": true,
   "skip_h1_title": true,
   "title_cell": "Table of Contents",
   "title_sidebar": "Contents",
   "toc_cell": false,
   "toc_position": {},
   "toc_section_display": true,
   "toc_window_display": false
  }
 },
 "nbformat": 4,
 "nbformat_minor": 2
}
